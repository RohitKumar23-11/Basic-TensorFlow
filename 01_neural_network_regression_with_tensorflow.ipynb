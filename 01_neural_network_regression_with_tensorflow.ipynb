{
  "nbformat": 4,
  "nbformat_minor": 0,
  "metadata": {
    "colab": {
      "provenance": [],
      "mount_file_id": "1In3MEXK_1q02kXPZsPvtROyKESgKP6Ac",
      "authorship_tag": "ABX9TyMk/DWksTIo3B7/qMCdDkw0",
      "include_colab_link": true
    },
    "kernelspec": {
      "name": "python3",
      "display_name": "Python 3"
    },
    "language_info": {
      "name": "python"
    }
  },
  "cells": [
    {
      "cell_type": "markdown",
      "metadata": {
        "id": "view-in-github",
        "colab_type": "text"
      },
      "source": [
        "<a href=\"https://colab.research.google.com/github/RohitKumar23-11/Basic-TensorFlow/blob/main/01_neural_network_regression_with_tensorflow.ipynb\" target=\"_parent\"><img src=\"https://colab.research.google.com/assets/colab-badge.svg\" alt=\"Open In Colab\"/></a>"
      ]
    },
    {
      "cell_type": "markdown",
      "source": [
        "# Introduction to Regression with Neural Networks in TensorFlow\n",
        "\n",
        "There are many definitions for a regression problem but in our case, we're going to simplify it: predicting a numerical variable based on some other combination of variables, even shorter... predicting a number."
      ],
      "metadata": {
        "id": "_vjVnKH31Zh3"
      }
    },
    {
      "cell_type": "code",
      "source": [
        "# Import TensorFlow\n",
        "import tensorflow as tf\n",
        "print(tf.__version__)"
      ],
      "metadata": {
        "colab": {
          "base_uri": "https://localhost:8080/"
        },
        "id": "iqzypwF32IDs",
        "outputId": "38f54556-4b98-4711-92b8-525a300e0e5d"
      },
      "execution_count": null,
      "outputs": [
        {
          "output_type": "stream",
          "name": "stdout",
          "text": [
            "2.12.0\n"
          ]
        }
      ]
    },
    {
      "cell_type": "markdown",
      "source": [
        "### Creating data to view and fit"
      ],
      "metadata": {
        "id": "ysoo7hxQ2bbE"
      }
    },
    {
      "cell_type": "code",
      "source": [
        "import numpy as np\n",
        "import matplotlib.pyplot as plt\n",
        "\n",
        "# Create features\n",
        "X = np.array([-7.0, -4.0, -1.0, 2.0, 5.0, 8.0, 11.0, 14.0])\n",
        "\n",
        "# Create labels\n",
        "y = np.array([3.0, 6.0, 9.0, 12.0, 15.0, 18.0, 21.0, 24.0])\n",
        "\n",
        "# Visualize it\n",
        "plt.scatter(X, y)"
      ],
      "metadata": {
        "colab": {
          "base_uri": "https://localhost:8080/",
          "height": 452
        },
        "id": "ZAidjb_AD0cu",
        "outputId": "f248ee1d-3e41-4d65-b95f-195d536c566c"
      },
      "execution_count": null,
      "outputs": [
        {
          "output_type": "execute_result",
          "data": {
            "text/plain": [
              "<matplotlib.collections.PathCollection at 0x7fdbaf4fe2f0>"
            ]
          },
          "metadata": {},
          "execution_count": 2
        },
        {
          "output_type": "display_data",
          "data": {
            "text/plain": [
              "<Figure size 640x480 with 1 Axes>"
            ],
            "image/png": "[encoded data removed]"
          },
          "metadata": {}
        }
      ]
    },
    {
      "cell_type": "code",
      "source": [
        "X + 10"
      ],
      "metadata": {
        "colab": {
          "base_uri": "https://localhost:8080/"
        },
        "id": "CRZKc4xRENto",
        "outputId": "5076648e-d9f5-4944-de3d-ce573f9f628d"
      },
      "execution_count": null,
      "outputs": [
        {
          "output_type": "execute_result",
          "data": {
            "text/plain": [
              "array([ 3.,  6.,  9., 12., 15., 18., 21., 24.])"
            ]
          },
          "metadata": {},
          "execution_count": 3
        }
      ]
    },
    {
      "cell_type": "code",
      "source": [
        "y == X + 10"
      ],
      "metadata": {
        "colab": {
          "base_uri": "https://localhost:8080/"
        },
        "id": "yYCevxikEaeT",
        "outputId": "876d7b7f-494e-4619-afce-2b3e430bd5fe"
      },
      "execution_count": null,
      "outputs": [
        {
          "output_type": "execute_result",
          "data": {
            "text/plain": [
              "array([ True,  True,  True,  True,  True,  True,  True,  True])"
            ]
          },
          "metadata": {},
          "execution_count": 4
        }
      ]
    },
    {
      "cell_type": "markdown",
      "source": [
        "## Input and Output shapes"
      ],
      "metadata": {
        "id": "QX-869FGEc1n"
      }
    },
    {
      "cell_type": "code",
      "source": [
        "# Create a demo tensor for our housing price prediction problem\n",
        "house_info = tf.constant([\"bedroom\",\"bathroom\",\"garage\"])\n",
        "house_price = tf.constant([939700])\n",
        "house_info, house_price"
      ],
      "metadata": {
        "colab": {
          "base_uri": "https://localhost:8080/"
        },
        "id": "mkfuQo0uEkwv",
        "outputId": "fc9c7119-55e2-4bc1-b74d-aef7da5c1a6e"
      },
      "execution_count": null,
      "outputs": [
        {
          "output_type": "execute_result",
          "data": {
            "text/plain": [
              "(<tf.Tensor: shape=(3,), dtype=string, numpy=array([b'bedroom', b'bathroom', b'garage'], dtype=object)>,\n",
              " <tf.Tensor: shape=(1,), dtype=int32, numpy=array([939700], dtype=int32)>)"
            ]
          },
          "metadata": {},
          "execution_count": 5
        }
      ]
    },
    {
      "cell_type": "code",
      "source": [
        "X[0], y[0]"
      ],
      "metadata": {
        "colab": {
          "base_uri": "https://localhost:8080/"
        },
        "id": "XU2Ulz7qFUNi",
        "outputId": "0d54f5ad-4472-480d-bfdc-dcc1aa8c087a"
      },
      "execution_count": null,
      "outputs": [
        {
          "output_type": "execute_result",
          "data": {
            "text/plain": [
              "(-7.0, 3.0)"
            ]
          },
          "metadata": {},
          "execution_count": 6
        }
      ]
    },
    {
      "cell_type": "code",
      "source": [
        "X[1], y[1]"
      ],
      "metadata": {
        "colab": {
          "base_uri": "https://localhost:8080/"
        },
        "id": "iwWxctsLFWce",
        "outputId": "d3551f9c-9880-4a6d-ce1f-0659a50c2ad5"
      },
      "execution_count": null,
      "outputs": [
        {
          "output_type": "execute_result",
          "data": {
            "text/plain": [
              "(-4.0, 6.0)"
            ]
          },
          "metadata": {},
          "execution_count": 7
        }
      ]
    },
    {
      "cell_type": "code",
      "source": [
        "input_shape = X[0].shape\n",
        "output_shape = y[0].shape\n",
        "input_shape, output_shape"
      ],
      "metadata": {
        "colab": {
          "base_uri": "https://localhost:8080/"
        },
        "id": "yXz0U1hYFJVf",
        "outputId": "5e994a2f-8b59-4643-e79f-8d26b58f92d1"
      },
      "execution_count": null,
      "outputs": [
        {
          "output_type": "execute_result",
          "data": {
            "text/plain": [
              "((), ())"
            ]
          },
          "metadata": {},
          "execution_count": 8
        }
      ]
    },
    {
      "cell_type": "code",
      "source": [
        "X[0].ndim"
      ],
      "metadata": {
        "colab": {
          "base_uri": "https://localhost:8080/"
        },
        "id": "QP4IPAUWFSgW",
        "outputId": "31b786df-3646-4ea0-858a-a3f73cb9a09d"
      },
      "execution_count": null,
      "outputs": [
        {
          "output_type": "execute_result",
          "data": {
            "text/plain": [
              "0"
            ]
          },
          "metadata": {},
          "execution_count": 9
        }
      ]
    },
    {
      "cell_type": "code",
      "source": [
        "X[0], y[0]"
      ],
      "metadata": {
        "colab": {
          "base_uri": "https://localhost:8080/"
        },
        "id": "4rqEdMc_Fn2D",
        "outputId": "ed284062-88e3-49b3-ab9e-99b3a6b10e8f"
      },
      "execution_count": null,
      "outputs": [
        {
          "output_type": "execute_result",
          "data": {
            "text/plain": [
              "(-7.0, 3.0)"
            ]
          },
          "metadata": {},
          "execution_count": 10
        }
      ]
    },
    {
      "cell_type": "code",
      "source": [
        "# Turn our NumPy arrays into tensors\n",
        "X = tf.constant(X)\n",
        "y = tf.constant(y)\n",
        "X, y"
      ],
      "metadata": {
        "id": "qRXTnujjFqD6",
        "colab": {
          "base_uri": "https://localhost:8080/"
        },
        "outputId": "829b4121-e871-4b0f-e428-336fe88b589a"
      },
      "execution_count": null,
      "outputs": [
        {
          "output_type": "execute_result",
          "data": {
            "text/plain": [
              "(<tf.Tensor: shape=(8,), dtype=float64, numpy=array([-7., -4., -1.,  2.,  5.,  8., 11., 14.])>,\n",
              " <tf.Tensor: shape=(8,), dtype=float64, numpy=array([ 3.,  6.,  9., 12., 15., 18., 21., 24.])>)"
            ]
          },
          "metadata": {},
          "execution_count": 11
        }
      ]
    },
    {
      "cell_type": "code",
      "source": [
        "input_shape = X[0].shape\n",
        "output_shape = y[0].shape\n",
        "input_shape, output_shape"
      ],
      "metadata": {
        "colab": {
          "base_uri": "https://localhost:8080/"
        },
        "id": "x0LdOHsIoQYG",
        "outputId": "09ecc453-fa1a-4f9d-bb39-9dda6a1ddcd6"
      },
      "execution_count": null,
      "outputs": [
        {
          "output_type": "execute_result",
          "data": {
            "text/plain": [
              "(TensorShape([]), TensorShape([]))"
            ]
          },
          "metadata": {},
          "execution_count": 12
        }
      ]
    },
    {
      "cell_type": "code",
      "source": [
        "plt.scatter(X, y)"
      ],
      "metadata": {
        "colab": {
          "base_uri": "https://localhost:8080/",
          "height": 452
        },
        "id": "eF62qVFuoY_F",
        "outputId": "3c8e1bae-863d-4893-9af9-b9294a776587"
      },
      "execution_count": null,
      "outputs": [
        {
          "output_type": "execute_result",
          "data": {
            "text/plain": [
              "<matplotlib.collections.PathCollection at 0x7fdbad435570>"
            ]
          },
          "metadata": {},
          "execution_count": 13
        },
        {
          "output_type": "display_data",
          "data": {
            "text/plain": [
              "<Figure size 640x480 with 1 Axes>"
            ],
            "image/png": "[encoded data removed]"
          },
          "metadata": {}
        }
      ]
    },
    {
      "cell_type": "markdown",
      "source": [
        "## Steps in modelling with TensforFlow\n",
        "\n",
        "1. Creating a model - define the input and output layers, as well as the hidden layers of a deep learnining model.\n",
        "2. Compiling a model - define the loss function (in other words, the function which tell our model how wrong it is) and the optimizer (tells our model how to improve the patterns its learning) and evaluation metrics (what we can use to interpret the performance of our model).\n",
        "3. Fitting a model - letting the model try to find patterns between X & y (features and labels) ."
      ],
      "metadata": {
        "id": "UPZCAfjQob3d"
      }
    },
    {
      "cell_type": "code",
      "source": [
        "# Set random seed\n",
        "tf.random.set_seed(42)\n",
        "\n",
        "# 1. Create a model using the Sequential API\n",
        "model = tf.keras.Sequential([\n",
        "    tf.keras.layers.Dense(1)\n",
        "    #tf.keras.layers.Dense(1)\n",
        "])\n",
        "\n",
        "\"\"\"\n",
        "1. Create a model using the Sequential API other way\n",
        "model = tf.keras.Sequential()\n",
        "model.add(tf.keras.layers.Dense(1))\n",
        "model.add(tf.keras.layers.Dense(1))\n",
        "\"\"\"\n",
        "\n",
        "# 2. Compile the model\n",
        "model.compile(loss=tf.keras.losses.mae, # Mae is short for mean absolute error\n",
        "              optimizer=tf.keras.optimizers.SGD(), # sgd is short for Stochastic Gradient Descent\n",
        "              metrics=[\"mae\"]\n",
        "              )\n",
        "\n",
        "# 3. Fit the model\n",
        "model.fit(tf.expand_dims(X, axis=-1), y, epochs=5)"
      ],
      "metadata": {
        "colab": {
          "base_uri": "https://localhost:8080/"
        },
        "id": "_twMdnqeplZ1",
        "outputId": "427e0e8f-f29d-4aed-9362-c282beceb103"
      },
      "execution_count": null,
      "outputs": [
        {
          "output_type": "stream",
          "name": "stdout",
          "text": [
            "Epoch 1/5\n",
            "1/1 [==============================] - 1s 757ms/step - loss: 20.0491 - mae: 20.0491\n",
            "Epoch 2/5\n",
            "1/1 [==============================] - 0s 20ms/step - loss: 19.7678 - mae: 19.7678\n",
            "Epoch 3/5\n",
            "1/1 [==============================] - 0s 21ms/step - loss: 19.4866 - mae: 19.4866\n",
            "Epoch 4/5\n",
            "1/1 [==============================] - 0s 17ms/step - loss: 19.2053 - mae: 19.2053\n",
            "Epoch 5/5\n",
            "1/1 [==============================] - 0s 19ms/step - loss: 18.9241 - mae: 18.9241\n"
          ]
        },
        {
          "output_type": "execute_result",
          "data": {
            "text/plain": [
              "<keras.callbacks.History at 0x7fdbac3c2380>"
            ]
          },
          "metadata": {},
          "execution_count": 14
        }
      ]
    },
    {
      "cell_type": "code",
      "source": [
        "# Check out X and y\n",
        "X, y"
      ],
      "metadata": {
        "colab": {
          "base_uri": "https://localhost:8080/"
        },
        "id": "rKFB-Y01tEkq",
        "outputId": "1d6636d6-60a4-48ad-c648-918b2f4804de"
      },
      "execution_count": null,
      "outputs": [
        {
          "output_type": "execute_result",
          "data": {
            "text/plain": [
              "(<tf.Tensor: shape=(8,), dtype=float64, numpy=array([-7., -4., -1.,  2.,  5.,  8., 11., 14.])>,\n",
              " <tf.Tensor: shape=(8,), dtype=float64, numpy=array([ 3.,  6.,  9., 12., 15., 18., 21., 24.])>)"
            ]
          },
          "metadata": {},
          "execution_count": 15
        }
      ]
    },
    {
      "cell_type": "code",
      "source": [
        "# Try and make a prediction using our model\n",
        "y_pred = model.predict([17.0])"
      ],
      "metadata": {
        "colab": {
          "base_uri": "https://localhost:8080/"
        },
        "id": "d7Qsid7_txuG",
        "outputId": "3da26552-cb0d-423f-d85c-45299dbc6805"
      },
      "execution_count": null,
      "outputs": [
        {
          "output_type": "stream",
          "name": "stdout",
          "text": [
            "1/1 [==============================] - 0s 176ms/step\n"
          ]
        }
      ]
    },
    {
      "cell_type": "code",
      "source": [
        "y_pred"
      ],
      "metadata": {
        "colab": {
          "base_uri": "https://localhost:8080/"
        },
        "id": "x7nJeLnut899",
        "outputId": "cf3faec7-80a7-4c7f-dd5b-ce19b5f5e140"
      },
      "execution_count": null,
      "outputs": [
        {
          "output_type": "execute_result",
          "data": {
            "text/plain": [
              "array([[-19.135035]], dtype=float32)"
            ]
          },
          "metadata": {},
          "execution_count": 17
        }
      ]
    },
    {
      "cell_type": "markdown",
      "source": [
        "## Improving our model\n",
        "\n",
        "We can improve our model, by altering the steps we took to create a model.\n",
        "\n",
        "1. **Creating a model** - here we might add more layers, increase the number of hidden units (all called neurons) within each of the hidden layers, change the activation function of each layer.\n",
        "\n",
        "2. **Compiling a model** - here we might change the optimization function or perhaps the **learning rate** of the optimization function.\n",
        "\n",
        "3. **Fitting a model** - here we might fit a model for more **epochs** (leave it training for longer) or on more data (give the model more examples to learn from)."
      ],
      "metadata": {
        "id": "WFNIE06zuKNZ"
      }
    },
    {
      "cell_type": "code",
      "source": [
        "#Let's rebuild our model\n",
        "\n",
        "# Set random seed\n",
        "tf.random.set_seed(42)\n",
        "\n",
        "# 1. Create a model using the Sequential API\n",
        "model = tf.keras.Sequential([\n",
        "    tf.keras.layers.Dense(1)\n",
        "])\n",
        "\n",
        "# 2. Compile the model\n",
        "model.compile(loss=tf.keras.losses.mae,\n",
        "              optimizer=tf.keras.optimizers.SGD(),\n",
        "              metrics=[\"mae\"]\n",
        "              )\n",
        "\n",
        "# 3. Fit the model (this time we'll train for longer)\n",
        "model.fit(tf.expand_dims(X, axis=-1), y, epochs=100)"
      ],
      "metadata": {
        "colab": {
          "base_uri": "https://localhost:8080/"
        },
        "id": "I5B3nreKyaIA",
        "outputId": "ae7704dc-9373-4915-aa8d-7ea7ac3d04ec"
      },
      "execution_count": null,
      "outputs": [
        {
          "output_type": "stream",
          "name": "stdout",
          "text": [
            "Epoch 1/100\n",
            "1/1 [==============================] - 1s 716ms/step - loss: 18.0914 - mae: 18.0914\n",
            "Epoch 2/100\n",
            "1/1 [==============================] - 0s 14ms/step - loss: 17.8101 - mae: 17.8101\n",
            "Epoch 3/100\n",
            "1/1 [==============================] - 0s 14ms/step - loss: 17.5289 - mae: 17.5289\n",
            "Epoch 4/100\n",
            "1/1 [==============================] - 0s 16ms/step - loss: 17.2476 - mae: 17.2476\n",
            "Epoch 5/100\n",
            "1/1 [==============================] - 0s 17ms/step - loss: 16.9664 - mae: 16.9664\n",
            "Epoch 6/100\n",
            "1/1 [==============================] - 0s 15ms/step - loss: 16.6851 - mae: 16.6851\n",
            "Epoch 7/100\n",
            "1/1 [==============================] - 0s 15ms/step - loss: 16.4039 - mae: 16.4039\n",
            "Epoch 8/100\n",
            "1/1 [==============================] - 0s 20ms/step - loss: 16.1226 - mae: 16.1226\n",
            "Epoch 9/100\n",
            "1/1 [==============================] - 0s 23ms/step - loss: 15.8414 - mae: 15.8414\n",
            "Epoch 10/100\n",
            "1/1 [==============================] - 0s 13ms/step - loss: 15.5601 - mae: 15.5601\n",
            "Epoch 11/100\n",
            "1/1 [==============================] - 0s 12ms/step - loss: 15.2789 - mae: 15.2789\n",
            "Epoch 12/100\n",
            "1/1 [==============================] - 0s 20ms/step - loss: 14.9976 - mae: 14.9976\n",
            "Epoch 13/100\n",
            "1/1 [==============================] - 0s 13ms/step - loss: 14.7659 - mae: 14.7659\n",
            "Epoch 14/100\n",
            "1/1 [==============================] - 0s 20ms/step - loss: 14.6334 - mae: 14.6334\n",
            "Epoch 15/100\n",
            "1/1 [==============================] - 0s 20ms/step - loss: 14.5009 - mae: 14.5009\n",
            "Epoch 16/100\n",
            "1/1 [==============================] - 0s 25ms/step - loss: 14.3684 - mae: 14.3684\n",
            "Epoch 17/100\n",
            "1/1 [==============================] - 0s 24ms/step - loss: 14.2359 - mae: 14.2359\n",
            "Epoch 18/100\n",
            "1/1 [==============================] - 0s 24ms/step - loss: 14.1034 - mae: 14.1034\n",
            "Epoch 19/100\n",
            "1/1 [==============================] - 0s 12ms/step - loss: 13.9709 - mae: 13.9709\n",
            "Epoch 20/100\n",
            "1/1 [==============================] - 0s 12ms/step - loss: 13.8384 - mae: 13.8384\n",
            "Epoch 21/100\n",
            "1/1 [==============================] - 0s 19ms/step - loss: 13.7059 - mae: 13.7059\n",
            "Epoch 22/100\n",
            "1/1 [==============================] - 0s 15ms/step - loss: 13.5734 - mae: 13.5734\n",
            "Epoch 23/100\n",
            "1/1 [==============================] - 0s 25ms/step - loss: 13.4409 - mae: 13.4409\n",
            "Epoch 24/100\n",
            "1/1 [==============================] - 0s 12ms/step - loss: 13.3084 - mae: 13.3084\n",
            "Epoch 25/100\n",
            "1/1 [==============================] - 0s 13ms/step - loss: 13.1759 - mae: 13.1759\n",
            "Epoch 26/100\n",
            "1/1 [==============================] - 0s 47ms/step - loss: 13.0434 - mae: 13.0434\n",
            "Epoch 27/100\n",
            "1/1 [==============================] - 0s 23ms/step - loss: 12.9109 - mae: 12.9109\n",
            "Epoch 28/100\n",
            "1/1 [==============================] - 0s 20ms/step - loss: 12.7784 - mae: 12.7784\n",
            "Epoch 29/100\n",
            "1/1 [==============================] - 0s 21ms/step - loss: 12.6459 - mae: 12.6459\n",
            "Epoch 30/100\n",
            "1/1 [==============================] - 0s 17ms/step - loss: 12.5134 - mae: 12.5134\n",
            "Epoch 31/100\n",
            "1/1 [==============================] - 0s 17ms/step - loss: 12.3809 - mae: 12.3809\n",
            "Epoch 32/100\n",
            "1/1 [==============================] - 0s 19ms/step - loss: 12.2484 - mae: 12.2484\n",
            "Epoch 33/100\n",
            "1/1 [==============================] - 0s 16ms/step - loss: 12.1159 - mae: 12.1159\n",
            "Epoch 34/100\n",
            "1/1 [==============================] - 0s 15ms/step - loss: 11.9834 - mae: 11.9834\n",
            "Epoch 35/100\n",
            "1/1 [==============================] - 0s 17ms/step - loss: 11.8509 - mae: 11.8509\n",
            "Epoch 36/100\n",
            "1/1 [==============================] - 0s 14ms/step - loss: 11.7184 - mae: 11.7184\n",
            "Epoch 37/100\n",
            "1/1 [==============================] - 0s 14ms/step - loss: 11.5859 - mae: 11.5859\n",
            "Epoch 38/100\n",
            "1/1 [==============================] - 0s 14ms/step - loss: 11.4534 - mae: 11.4534\n",
            "Epoch 39/100\n",
            "1/1 [==============================] - 0s 13ms/step - loss: 11.3209 - mae: 11.3209\n",
            "Epoch 40/100\n",
            "1/1 [==============================] - 0s 31ms/step - loss: 11.1884 - mae: 11.1884\n",
            "Epoch 41/100\n",
            "1/1 [==============================] - 0s 19ms/step - loss: 11.0559 - mae: 11.0559\n",
            "Epoch 42/100\n",
            "1/1 [==============================] - 0s 17ms/step - loss: 10.9234 - mae: 10.9234\n",
            "Epoch 43/100\n",
            "1/1 [==============================] - 0s 27ms/step - loss: 10.7909 - mae: 10.7909\n",
            "Epoch 44/100\n",
            "1/1 [==============================] - 0s 23ms/step - loss: 10.6584 - mae: 10.6584\n",
            "Epoch 45/100\n",
            "1/1 [==============================] - 0s 20ms/step - loss: 10.5259 - mae: 10.5259\n",
            "Epoch 46/100\n",
            "1/1 [==============================] - 0s 13ms/step - loss: 10.3934 - mae: 10.3934\n",
            "Epoch 47/100\n",
            "1/1 [==============================] - 0s 14ms/step - loss: 10.2609 - mae: 10.2609\n",
            "Epoch 48/100\n",
            "1/1 [==============================] - 0s 17ms/step - loss: 10.1284 - mae: 10.1284\n",
            "Epoch 49/100\n",
            "1/1 [==============================] - 0s 17ms/step - loss: 9.9959 - mae: 9.9959\n",
            "Epoch 50/100\n",
            "1/1 [==============================] - 0s 16ms/step - loss: 9.8634 - mae: 9.8634\n",
            "Epoch 51/100\n",
            "1/1 [==============================] - 0s 15ms/step - loss: 9.7309 - mae: 9.7309\n",
            "Epoch 52/100\n",
            "1/1 [==============================] - 0s 32ms/step - loss: 9.5984 - mae: 9.5984\n",
            "Epoch 53/100\n",
            "1/1 [==============================] - 0s 16ms/step - loss: 9.4659 - mae: 9.4659\n",
            "Epoch 54/100\n",
            "1/1 [==============================] - 0s 21ms/step - loss: 9.3334 - mae: 9.3334\n",
            "Epoch 55/100\n",
            "1/1 [==============================] - 0s 15ms/step - loss: 9.2009 - mae: 9.2009\n",
            "Epoch 56/100\n",
            "1/1 [==============================] - 0s 15ms/step - loss: 9.0684 - mae: 9.0684\n",
            "Epoch 57/100\n",
            "1/1 [==============================] - 0s 26ms/step - loss: 8.9359 - mae: 8.9359\n",
            "Epoch 58/100\n",
            "1/1 [==============================] - 0s 16ms/step - loss: 8.8034 - mae: 8.8034\n",
            "Epoch 59/100\n",
            "1/1 [==============================] - 0s 23ms/step - loss: 8.6709 - mae: 8.6709\n",
            "Epoch 60/100\n",
            "1/1 [==============================] - 0s 27ms/step - loss: 8.5384 - mae: 8.5384\n",
            "Epoch 61/100\n",
            "1/1 [==============================] - 0s 15ms/step - loss: 8.4059 - mae: 8.4059\n",
            "Epoch 62/100\n",
            "1/1 [==============================] - 0s 15ms/step - loss: 8.2734 - mae: 8.2734\n",
            "Epoch 63/100\n",
            "1/1 [==============================] - 0s 14ms/step - loss: 8.1409 - mae: 8.1409\n",
            "Epoch 64/100\n",
            "1/1 [==============================] - 0s 12ms/step - loss: 8.0084 - mae: 8.0084\n",
            "Epoch 65/100\n",
            "1/1 [==============================] - 0s 10ms/step - loss: 7.8759 - mae: 7.8759\n",
            "Epoch 66/100\n",
            "1/1 [==============================] - 0s 12ms/step - loss: 7.7434 - mae: 7.7434\n",
            "Epoch 67/100\n",
            "1/1 [==============================] - 0s 10ms/step - loss: 7.6109 - mae: 7.6109\n",
            "Epoch 68/100\n",
            "1/1 [==============================] - 0s 11ms/step - loss: 7.4784 - mae: 7.4784\n",
            "Epoch 69/100\n",
            "1/1 [==============================] - 0s 11ms/step - loss: 7.3459 - mae: 7.3459\n",
            "Epoch 70/100\n",
            "1/1 [==============================] - 0s 13ms/step - loss: 7.2134 - mae: 7.2134\n",
            "Epoch 71/100\n",
            "1/1 [==============================] - 0s 10ms/step - loss: 7.0809 - mae: 7.0809\n",
            "Epoch 72/100\n",
            "1/1 [==============================] - 0s 11ms/step - loss: 6.9900 - mae: 6.9900\n",
            "Epoch 73/100\n",
            "1/1 [==============================] - 0s 11ms/step - loss: 6.9844 - mae: 6.9844\n",
            "Epoch 74/100\n",
            "1/1 [==============================] - 0s 32ms/step - loss: 6.9788 - mae: 6.9788\n",
            "Epoch 75/100\n",
            "1/1 [==============================] - 0s 12ms/step - loss: 6.9731 - mae: 6.9731\n",
            "Epoch 76/100\n",
            "1/1 [==============================] - 0s 11ms/step - loss: 6.9675 - mae: 6.9675\n",
            "Epoch 77/100\n",
            "1/1 [==============================] - 0s 13ms/step - loss: 6.9619 - mae: 6.9619\n",
            "Epoch 78/100\n",
            "1/1 [==============================] - 0s 23ms/step - loss: 6.9563 - mae: 6.9563\n",
            "Epoch 79/100\n",
            "1/1 [==============================] - 0s 28ms/step - loss: 6.9506 - mae: 6.9506\n",
            "Epoch 80/100\n",
            "1/1 [==============================] - 0s 19ms/step - loss: 6.9450 - mae: 6.9450\n",
            "Epoch 81/100\n",
            "1/1 [==============================] - 0s 10ms/step - loss: 6.9394 - mae: 6.9394\n",
            "Epoch 82/100\n",
            "1/1 [==============================] - 0s 10ms/step - loss: 6.9338 - mae: 6.9338\n",
            "Epoch 83/100\n",
            "1/1 [==============================] - 0s 26ms/step - loss: 6.9281 - mae: 6.9281\n",
            "Epoch 84/100\n",
            "1/1 [==============================] - 0s 23ms/step - loss: 6.9225 - mae: 6.9225\n",
            "Epoch 85/100\n",
            "1/1 [==============================] - 0s 11ms/step - loss: 6.9169 - mae: 6.9169\n",
            "Epoch 86/100\n",
            "1/1 [==============================] - 0s 10ms/step - loss: 6.9113 - mae: 6.9113\n",
            "Epoch 87/100\n",
            "1/1 [==============================] - 0s 14ms/step - loss: 6.9056 - mae: 6.9056\n",
            "Epoch 88/100\n",
            "1/1 [==============================] - 0s 11ms/step - loss: 6.9000 - mae: 6.9000\n",
            "Epoch 89/100\n",
            "1/1 [==============================] - 0s 10ms/step - loss: 6.8944 - mae: 6.8944\n",
            "Epoch 90/100\n",
            "1/1 [==============================] - 0s 11ms/step - loss: 6.8888 - mae: 6.8888\n",
            "Epoch 91/100\n",
            "1/1 [==============================] - 0s 10ms/step - loss: 6.8831 - mae: 6.8831\n",
            "Epoch 92/100\n",
            "1/1 [==============================] - 0s 9ms/step - loss: 6.8775 - mae: 6.8775\n",
            "Epoch 93/100\n",
            "1/1 [==============================] - 0s 20ms/step - loss: 6.8719 - mae: 6.8719\n",
            "Epoch 94/100\n",
            "1/1 [==============================] - 0s 10ms/step - loss: 6.8663 - mae: 6.8663\n",
            "Epoch 95/100\n",
            "1/1 [==============================] - 0s 16ms/step - loss: 6.8606 - mae: 6.8606\n",
            "Epoch 96/100\n",
            "1/1 [==============================] - 0s 18ms/step - loss: 6.8550 - mae: 6.8550\n",
            "Epoch 97/100\n",
            "1/1 [==============================] - 0s 17ms/step - loss: 6.8494 - mae: 6.8494\n",
            "Epoch 98/100\n",
            "1/1 [==============================] - 0s 11ms/step - loss: 6.8438 - mae: 6.8438\n",
            "Epoch 99/100\n",
            "1/1 [==============================] - 0s 13ms/step - loss: 6.8381 - mae: 6.8381\n",
            "Epoch 100/100\n",
            "1/1 [==============================] - 0s 9ms/step - loss: 6.8325 - mae: 6.8325\n"
          ]
        },
        {
          "output_type": "execute_result",
          "data": {
            "text/plain": [
              "<keras.callbacks.History at 0x7fdba6729ae0>"
            ]
          },
          "metadata": {},
          "execution_count": 18
        }
      ]
    },
    {
      "cell_type": "code",
      "source": [
        "# Remind ourselves of the data\n",
        "X, y"
      ],
      "metadata": {
        "colab": {
          "base_uri": "https://localhost:8080/"
        },
        "id": "kHNR3M47zPDP",
        "outputId": "9f02d3c0-b381-44e3-f670-1367b07ca821"
      },
      "execution_count": null,
      "outputs": [
        {
          "output_type": "execute_result",
          "data": {
            "text/plain": [
              "(<tf.Tensor: shape=(8,), dtype=float64, numpy=array([-7., -4., -1.,  2.,  5.,  8., 11., 14.])>,\n",
              " <tf.Tensor: shape=(8,), dtype=float64, numpy=array([ 3.,  6.,  9., 12., 15., 18., 21., 24.])>)"
            ]
          },
          "metadata": {},
          "execution_count": 19
        }
      ]
    },
    {
      "cell_type": "code",
      "source": [
        "# Try and make a prediction using our model\n",
        "\n",
        "y_pred = model.predict([17.0, 19.0])\n",
        "y_pred"
      ],
      "metadata": {
        "colab": {
          "base_uri": "https://localhost:8080/"
        },
        "id": "IkNx7DEAys0a",
        "outputId": "5185ef9d-973e-471a-efb6-d61a364568c4"
      },
      "execution_count": null,
      "outputs": [
        {
          "output_type": "stream",
          "name": "stdout",
          "text": [
            "1/1 [==============================] - 0s 125ms/step\n"
          ]
        },
        {
          "output_type": "execute_result",
          "data": {
            "text/plain": [
              "array([[29.416613],\n",
              "       [32.771805]], dtype=float32)"
            ]
          },
          "metadata": {},
          "execution_count": 20
        }
      ]
    },
    {
      "cell_type": "code",
      "source": [
        "#Let's rebuild our model\n",
        "# Set random seed\n",
        "tf.random.set_seed(42)\n",
        "\n",
        "# 1. Create a model (specified to your problem)\n",
        "model = tf.keras.Sequential([\n",
        "    tf.keras.layers.Dense(100, activation=\"relu\"),\n",
        "    tf.keras.layers.Dense(100, activation=\"relu\"),\n",
        "    tf.keras.layers.Dense(100, activation=\"relu\"),\n",
        "    tf.keras.layers.Dense(1)\n",
        "])\n",
        "\n",
        "# 2. Compile the model\n",
        "model.compile(loss=tf.keras.losses.mae,\n",
        "              optimizer=tf.keras.optimizers.Adam(lr=0.0001),\n",
        "              metrics=[\"mae\"])\n",
        "\n",
        "# 3. Fit the model\n",
        "model.fit(tf.expand_dims(X, axis=-1), y, epochs=100)"
      ],
      "metadata": {
        "colab": {
          "base_uri": "https://localhost:8080/"
        },
        "id": "ypQ4-LxZuSYb",
        "outputId": "756440c7-b531-4c97-f0c2-8dfdeec07ecd"
      },
      "execution_count": null,
      "outputs": [
        {
          "output_type": "stream",
          "name": "stderr",
          "text": [
            "WARNING:absl:`lr` is deprecated in Keras optimizer, please use `learning_rate` or use the legacy optimizer, e.g.,tf.keras.optimizers.legacy.Adam.\n"
          ]
        },
        {
          "output_type": "stream",
          "name": "stdout",
          "text": [
            "Epoch 1/100\n",
            "1/1 [==============================] - 3s 3s/step - loss: 14.8846 - mae: 14.8846\n",
            "Epoch 2/100\n",
            "1/1 [==============================] - 0s 15ms/step - loss: 14.4973 - mae: 14.4973\n",
            "Epoch 3/100\n",
            "1/1 [==============================] - 0s 16ms/step - loss: 14.1233 - mae: 14.1233\n",
            "Epoch 4/100\n",
            "1/1 [==============================] - 0s 22ms/step - loss: 13.7724 - mae: 13.7724\n",
            "Epoch 5/100\n",
            "1/1 [==============================] - 0s 18ms/step - loss: 13.4401 - mae: 13.4401\n",
            "Epoch 6/100\n",
            "1/1 [==============================] - 0s 34ms/step - loss: 13.1392 - mae: 13.1392\n",
            "Epoch 7/100\n",
            "1/1 [==============================] - 0s 25ms/step - loss: 12.8524 - mae: 12.8524\n",
            "Epoch 8/100\n",
            "1/1 [==============================] - 0s 16ms/step - loss: 12.5799 - mae: 12.5799\n",
            "Epoch 9/100\n",
            "1/1 [==============================] - 0s 26ms/step - loss: 12.3239 - mae: 12.3239\n",
            "Epoch 10/100\n",
            "1/1 [==============================] - 0s 21ms/step - loss: 12.0888 - mae: 12.0888\n",
            "Epoch 11/100\n",
            "1/1 [==============================] - 0s 16ms/step - loss: 11.8517 - mae: 11.8517\n",
            "Epoch 12/100\n",
            "1/1 [==============================] - 0s 16ms/step - loss: 11.6092 - mae: 11.6092\n",
            "Epoch 13/100\n",
            "1/1 [==============================] - 0s 15ms/step - loss: 11.3683 - mae: 11.3683\n",
            "Epoch 14/100\n",
            "1/1 [==============================] - 0s 16ms/step - loss: 11.1177 - mae: 11.1177\n",
            "Epoch 15/100\n",
            "1/1 [==============================] - 0s 41ms/step - loss: 10.8547 - mae: 10.8547\n",
            "Epoch 16/100\n",
            "1/1 [==============================] - 0s 25ms/step - loss: 10.6649 - mae: 10.6649\n",
            "Epoch 17/100\n",
            "1/1 [==============================] - 0s 16ms/step - loss: 10.4607 - mae: 10.4607\n",
            "Epoch 18/100\n",
            "1/1 [==============================] - 0s 30ms/step - loss: 10.2399 - mae: 10.2399\n",
            "Epoch 19/100\n",
            "1/1 [==============================] - 0s 16ms/step - loss: 10.0037 - mae: 10.0037\n",
            "Epoch 20/100\n",
            "1/1 [==============================] - 0s 15ms/step - loss: 9.7485 - mae: 9.7485\n",
            "Epoch 21/100\n",
            "1/1 [==============================] - 0s 41ms/step - loss: 9.4734 - mae: 9.4734\n",
            "Epoch 22/100\n",
            "1/1 [==============================] - 0s 18ms/step - loss: 9.1776 - mae: 9.1776\n",
            "Epoch 23/100\n",
            "1/1 [==============================] - 0s 15ms/step - loss: 8.8589 - mae: 8.8589\n",
            "Epoch 24/100\n",
            "1/1 [==============================] - 0s 14ms/step - loss: 8.5158 - mae: 8.5158\n",
            "Epoch 25/100\n",
            "1/1 [==============================] - 0s 15ms/step - loss: 8.1466 - mae: 8.1466\n",
            "Epoch 26/100\n",
            "1/1 [==============================] - 0s 26ms/step - loss: 7.7497 - mae: 7.7497\n",
            "Epoch 27/100\n",
            "1/1 [==============================] - 0s 29ms/step - loss: 7.3243 - mae: 7.3243\n",
            "Epoch 28/100\n",
            "1/1 [==============================] - 0s 24ms/step - loss: 6.8676 - mae: 6.8676\n",
            "Epoch 29/100\n",
            "1/1 [==============================] - 0s 28ms/step - loss: 6.3734 - mae: 6.3734\n",
            "Epoch 30/100\n",
            "1/1 [==============================] - 0s 18ms/step - loss: 5.8420 - mae: 5.8420\n",
            "Epoch 31/100\n",
            "1/1 [==============================] - 0s 18ms/step - loss: 5.2735 - mae: 5.2735\n",
            "Epoch 32/100\n",
            "1/1 [==============================] - 0s 17ms/step - loss: 4.6696 - mae: 4.6696\n",
            "Epoch 33/100\n",
            "1/1 [==============================] - 0s 18ms/step - loss: 4.1288 - mae: 4.1288\n",
            "Epoch 34/100\n",
            "1/1 [==============================] - 0s 19ms/step - loss: 3.9235 - mae: 3.9235\n",
            "Epoch 35/100\n",
            "1/1 [==============================] - 0s 19ms/step - loss: 3.9965 - mae: 3.9965\n",
            "Epoch 36/100\n",
            "1/1 [==============================] - 0s 23ms/step - loss: 4.1259 - mae: 4.1259\n",
            "Epoch 37/100\n",
            "1/1 [==============================] - 0s 37ms/step - loss: 4.2412 - mae: 4.2412\n",
            "Epoch 38/100\n",
            "1/1 [==============================] - 0s 29ms/step - loss: 4.4653 - mae: 4.4653\n",
            "Epoch 39/100\n",
            "1/1 [==============================] - 0s 20ms/step - loss: 4.6021 - mae: 4.6021\n",
            "Epoch 40/100\n",
            "1/1 [==============================] - 0s 15ms/step - loss: 4.6599 - mae: 4.6599\n",
            "Epoch 41/100\n",
            "1/1 [==============================] - 0s 11ms/step - loss: 4.6483 - mae: 4.6483\n",
            "Epoch 42/100\n",
            "1/1 [==============================] - 0s 20ms/step - loss: 4.5772 - mae: 4.5772\n",
            "Epoch 43/100\n",
            "1/1 [==============================] - 0s 20ms/step - loss: 4.4533 - mae: 4.4533\n",
            "Epoch 44/100\n",
            "1/1 [==============================] - 0s 16ms/step - loss: 4.2899 - mae: 4.2899\n",
            "Epoch 45/100\n",
            "1/1 [==============================] - 0s 13ms/step - loss: 4.1280 - mae: 4.1280\n",
            "Epoch 46/100\n",
            "1/1 [==============================] - 0s 27ms/step - loss: 4.0497 - mae: 4.0497\n",
            "Epoch 47/100\n",
            "1/1 [==============================] - 0s 17ms/step - loss: 3.9718 - mae: 3.9718\n",
            "Epoch 48/100\n",
            "1/1 [==============================] - 0s 12ms/step - loss: 3.8955 - mae: 3.8955\n",
            "Epoch 49/100\n",
            "1/1 [==============================] - 0s 12ms/step - loss: 3.8213 - mae: 3.8213\n",
            "Epoch 50/100\n",
            "1/1 [==============================] - 0s 31ms/step - loss: 3.7472 - mae: 3.7472\n",
            "Epoch 51/100\n",
            "1/1 [==============================] - 0s 24ms/step - loss: 3.7796 - mae: 3.7796\n",
            "Epoch 52/100\n",
            "1/1 [==============================] - 0s 19ms/step - loss: 3.8338 - mae: 3.8338\n",
            "Epoch 53/100\n",
            "1/1 [==============================] - 0s 23ms/step - loss: 3.8707 - mae: 3.8707\n",
            "Epoch 54/100\n",
            "1/1 [==============================] - 0s 23ms/step - loss: 3.8924 - mae: 3.8924\n",
            "Epoch 55/100\n",
            "1/1 [==============================] - 0s 19ms/step - loss: 3.9001 - mae: 3.9001\n",
            "Epoch 56/100\n",
            "1/1 [==============================] - 0s 18ms/step - loss: 3.8958 - mae: 3.8958\n",
            "Epoch 57/100\n",
            "1/1 [==============================] - 0s 17ms/step - loss: 3.8792 - mae: 3.8792\n",
            "Epoch 58/100\n",
            "1/1 [==============================] - 0s 16ms/step - loss: 3.8520 - mae: 3.8520\n",
            "Epoch 59/100\n",
            "1/1 [==============================] - 0s 16ms/step - loss: 3.8159 - mae: 3.8159\n",
            "Epoch 60/100\n",
            "1/1 [==============================] - 0s 16ms/step - loss: 3.7840 - mae: 3.7840\n",
            "Epoch 61/100\n",
            "1/1 [==============================] - 0s 20ms/step - loss: 3.7203 - mae: 3.7203\n",
            "Epoch 62/100\n",
            "1/1 [==============================] - 0s 16ms/step - loss: 3.6597 - mae: 3.6597\n",
            "Epoch 63/100\n",
            "1/1 [==============================] - 0s 16ms/step - loss: 3.6143 - mae: 3.6143\n",
            "Epoch 64/100\n",
            "1/1 [==============================] - 0s 16ms/step - loss: 3.6391 - mae: 3.6391\n",
            "Epoch 65/100\n",
            "1/1 [==============================] - 0s 16ms/step - loss: 3.6538 - mae: 3.6538\n",
            "Epoch 66/100\n",
            "1/1 [==============================] - 0s 15ms/step - loss: 3.6584 - mae: 3.6584\n",
            "Epoch 67/100\n",
            "1/1 [==============================] - 0s 17ms/step - loss: 3.6540 - mae: 3.6540\n",
            "Epoch 68/100\n",
            "1/1 [==============================] - 0s 19ms/step - loss: 3.6414 - mae: 3.6414\n",
            "Epoch 69/100\n",
            "1/1 [==============================] - 0s 19ms/step - loss: 3.6311 - mae: 3.6311\n",
            "Epoch 70/100\n",
            "1/1 [==============================] - 0s 18ms/step - loss: 3.6007 - mae: 3.6007\n",
            "Epoch 71/100\n",
            "1/1 [==============================] - 0s 19ms/step - loss: 3.5734 - mae: 3.5734\n",
            "Epoch 72/100\n",
            "1/1 [==============================] - 0s 16ms/step - loss: 3.5407 - mae: 3.5407\n",
            "Epoch 73/100\n",
            "1/1 [==============================] - 0s 19ms/step - loss: 3.5217 - mae: 3.5217\n",
            "Epoch 74/100\n",
            "1/1 [==============================] - 0s 28ms/step - loss: 3.5317 - mae: 3.5317\n",
            "Epoch 75/100\n",
            "1/1 [==============================] - 0s 28ms/step - loss: 3.5248 - mae: 3.5248\n",
            "Epoch 76/100\n",
            "1/1 [==============================] - 0s 19ms/step - loss: 3.5024 - mae: 3.5024\n",
            "Epoch 77/100\n",
            "1/1 [==============================] - 0s 23ms/step - loss: 3.4650 - mae: 3.4650\n",
            "Epoch 78/100\n",
            "1/1 [==============================] - 0s 22ms/step - loss: 3.4823 - mae: 3.4823\n",
            "Epoch 79/100\n",
            "1/1 [==============================] - 0s 17ms/step - loss: 3.4776 - mae: 3.4776\n",
            "Epoch 80/100\n",
            "1/1 [==============================] - 0s 18ms/step - loss: 3.4744 - mae: 3.4744\n",
            "Epoch 81/100\n",
            "1/1 [==============================] - 0s 16ms/step - loss: 3.4653 - mae: 3.4653\n",
            "Epoch 82/100\n",
            "1/1 [==============================] - 0s 15ms/step - loss: 3.4480 - mae: 3.4480\n",
            "Epoch 83/100\n",
            "1/1 [==============================] - 0s 22ms/step - loss: 3.4216 - mae: 3.4216\n",
            "Epoch 84/100\n",
            "1/1 [==============================] - 0s 20ms/step - loss: 3.3882 - mae: 3.3882\n",
            "Epoch 85/100\n",
            "1/1 [==============================] - 0s 34ms/step - loss: 3.3807 - mae: 3.3807\n",
            "Epoch 86/100\n",
            "1/1 [==============================] - 0s 20ms/step - loss: 3.3790 - mae: 3.3790\n",
            "Epoch 87/100\n",
            "1/1 [==============================] - 0s 19ms/step - loss: 3.3571 - mae: 3.3571\n",
            "Epoch 88/100\n",
            "1/1 [==============================] - 0s 22ms/step - loss: 3.3201 - mae: 3.3201\n",
            "Epoch 89/100\n",
            "1/1 [==============================] - 0s 19ms/step - loss: 3.3223 - mae: 3.3223\n",
            "Epoch 90/100\n",
            "1/1 [==============================] - 0s 18ms/step - loss: 3.3165 - mae: 3.3165\n",
            "Epoch 91/100\n",
            "1/1 [==============================] - 0s 29ms/step - loss: 3.3099 - mae: 3.3099\n",
            "Epoch 92/100\n",
            "1/1 [==============================] - 0s 22ms/step - loss: 3.2918 - mae: 3.2918\n",
            "Epoch 93/100\n",
            "1/1 [==============================] - 0s 35ms/step - loss: 3.2612 - mae: 3.2612\n",
            "Epoch 94/100\n",
            "1/1 [==============================] - 0s 20ms/step - loss: 3.2225 - mae: 3.2225\n",
            "Epoch 95/100\n",
            "1/1 [==============================] - 0s 30ms/step - loss: 3.1791 - mae: 3.1791\n",
            "Epoch 96/100\n",
            "1/1 [==============================] - 0s 19ms/step - loss: 3.1659 - mae: 3.1659\n",
            "Epoch 97/100\n",
            "1/1 [==============================] - 0s 14ms/step - loss: 3.1330 - mae: 3.1330\n",
            "Epoch 98/100\n",
            "1/1 [==============================] - 0s 28ms/step - loss: 3.1298 - mae: 3.1298\n",
            "Epoch 99/100\n",
            "1/1 [==============================] - 0s 14ms/step - loss: 3.0901 - mae: 3.0901\n",
            "Epoch 100/100\n",
            "1/1 [==============================] - 0s 30ms/step - loss: 3.0626 - mae: 3.0626\n"
          ]
        },
        {
          "output_type": "execute_result",
          "data": {
            "text/plain": [
              "<keras.callbacks.History at 0x7fdba67e73d0>"
            ]
          },
          "metadata": {},
          "execution_count": 21
        }
      ]
    },
    {
      "cell_type": "code",
      "source": [
        "# Try and make a prediction using our model\n",
        "y_pred = model.predict([17.0, 19.0])\n",
        "y_pred"
      ],
      "metadata": {
        "colab": {
          "base_uri": "https://localhost:8080/"
        },
        "id": "Nv6-Jkn7zIg7",
        "outputId": "417c4225-f6b4-4433-f46b-a9be5ee57bf3"
      },
      "execution_count": null,
      "outputs": [
        {
          "output_type": "stream",
          "name": "stdout",
          "text": [
            "1/1 [==============================] - 0s 144ms/step\n"
          ]
        },
        {
          "output_type": "execute_result",
          "data": {
            "text/plain": [
              "array([[31.298256],\n",
              "       [34.728863]], dtype=float32)"
            ]
          },
          "metadata": {},
          "execution_count": 22
        }
      ]
    },
    {
      "cell_type": "code",
      "source": [
        "# Final model\n",
        "# Set Random Seed\n",
        "tf.random.set_seed(42)\n",
        "\n",
        "# 1. Create a model (this time with an extra hidden layer with 100 hidden units)\n",
        "\n",
        "model = tf.keras.Sequential([\n",
        "    tf.keras.layers.Dense(100, activation=\"relu\"),\n",
        "    tf.keras.layers.Dense(1)\n",
        "])\n",
        "\n",
        "# 2. Compile the model\n",
        "model.compile(loss=\"mae\",\n",
        "              optimizer=tf.keras.optimizers.SGD(),\n",
        "              metrics=[\"mae\"])\n",
        "\n",
        "# 3. Fit the model\n",
        "model.fit(tf.expand_dims(X, axis=1), y, epochs=100)"
      ],
      "metadata": {
        "colab": {
          "base_uri": "https://localhost:8080/"
        },
        "id": "5tKQOV1Nzd9r",
        "outputId": "20d2443f-527f-4717-df3d-bf3577ab1e3c"
      },
      "execution_count": null,
      "outputs": [
        {
          "output_type": "stream",
          "name": "stdout",
          "text": [
            "Epoch 1/100\n",
            "1/1 [==============================] - 1s 852ms/step - loss: 14.4159 - mae: 14.4159\n",
            "Epoch 2/100\n",
            "1/1 [==============================] - 0s 12ms/step - loss: 13.8587 - mae: 13.8587\n",
            "Epoch 3/100\n",
            "1/1 [==============================] - 0s 10ms/step - loss: 13.3098 - mae: 13.3098\n",
            "Epoch 4/100\n",
            "1/1 [==============================] - 0s 24ms/step - loss: 12.7611 - mae: 12.7611\n",
            "Epoch 5/100\n",
            "1/1 [==============================] - 0s 12ms/step - loss: 12.2133 - mae: 12.2133\n",
            "Epoch 6/100\n",
            "1/1 [==============================] - 0s 15ms/step - loss: 11.6621 - mae: 11.6621\n",
            "Epoch 7/100\n",
            "1/1 [==============================] - 0s 25ms/step - loss: 11.0959 - mae: 11.0959\n",
            "Epoch 8/100\n",
            "1/1 [==============================] - 0s 13ms/step - loss: 10.5129 - mae: 10.5129\n",
            "Epoch 9/100\n",
            "1/1 [==============================] - 0s 14ms/step - loss: 9.9300 - mae: 9.9300\n",
            "Epoch 10/100\n",
            "1/1 [==============================] - 0s 20ms/step - loss: 9.3242 - mae: 9.3242\n",
            "Epoch 11/100\n",
            "1/1 [==============================] - 0s 27ms/step - loss: 8.6836 - mae: 8.6836\n",
            "Epoch 12/100\n",
            "1/1 [==============================] - 0s 52ms/step - loss: 8.0037 - mae: 8.0037\n",
            "Epoch 13/100\n",
            "1/1 [==============================] - 0s 39ms/step - loss: 7.2838 - mae: 7.2838\n",
            "Epoch 14/100\n",
            "1/1 [==============================] - 0s 20ms/step - loss: 6.5115 - mae: 6.5115\n",
            "Epoch 15/100\n",
            "1/1 [==============================] - 0s 26ms/step - loss: 5.7188 - mae: 5.7188\n",
            "Epoch 16/100\n",
            "1/1 [==============================] - 0s 20ms/step - loss: 4.8807 - mae: 4.8807\n",
            "Epoch 17/100\n",
            "1/1 [==============================] - 0s 20ms/step - loss: 4.1147 - mae: 4.1147\n",
            "Epoch 18/100\n",
            "1/1 [==============================] - 0s 19ms/step - loss: 4.0202 - mae: 4.0202\n",
            "Epoch 19/100\n",
            "1/1 [==============================] - 0s 21ms/step - loss: 3.9232 - mae: 3.9232\n",
            "Epoch 20/100\n",
            "1/1 [==============================] - 0s 25ms/step - loss: 3.9263 - mae: 3.9263\n",
            "Epoch 21/100\n",
            "1/1 [==============================] - 0s 20ms/step - loss: 3.9064 - mae: 3.9064\n",
            "Epoch 22/100\n",
            "1/1 [==============================] - 0s 17ms/step - loss: 3.9365 - mae: 3.9365\n",
            "Epoch 23/100\n",
            "1/1 [==============================] - 0s 16ms/step - loss: 3.8802 - mae: 3.8802\n",
            "Epoch 24/100\n",
            "1/1 [==============================] - 0s 13ms/step - loss: 3.9428 - mae: 3.9428\n",
            "Epoch 25/100\n",
            "1/1 [==============================] - 0s 19ms/step - loss: 3.8756 - mae: 3.8756\n",
            "Epoch 26/100\n",
            "1/1 [==============================] - 0s 13ms/step - loss: 3.9265 - mae: 3.9265\n",
            "Epoch 27/100\n",
            "1/1 [==============================] - 0s 18ms/step - loss: 3.8818 - mae: 3.8818\n",
            "Epoch 28/100\n",
            "1/1 [==============================] - 0s 13ms/step - loss: 3.9059 - mae: 3.9059\n",
            "Epoch 29/100\n",
            "1/1 [==============================] - 0s 11ms/step - loss: 3.8981 - mae: 3.8981\n",
            "Epoch 30/100\n",
            "1/1 [==============================] - 0s 12ms/step - loss: 3.8834 - mae: 3.8834\n",
            "Epoch 31/100\n",
            "1/1 [==============================] - 0s 14ms/step - loss: 3.9045 - mae: 3.9045\n",
            "Epoch 32/100\n",
            "1/1 [==============================] - 0s 17ms/step - loss: 3.8570 - mae: 3.8570\n",
            "Epoch 33/100\n",
            "1/1 [==============================] - 0s 10ms/step - loss: 3.9109 - mae: 3.9109\n",
            "Epoch 34/100\n",
            "1/1 [==============================] - 0s 10ms/step - loss: 3.8441 - mae: 3.8441\n",
            "Epoch 35/100\n",
            "1/1 [==============================] - 0s 27ms/step - loss: 3.9028 - mae: 3.9028\n",
            "Epoch 36/100\n",
            "1/1 [==============================] - 0s 17ms/step - loss: 3.8549 - mae: 3.8549\n",
            "Epoch 37/100\n",
            "1/1 [==============================] - 0s 21ms/step - loss: 3.8857 - mae: 3.8857\n",
            "Epoch 38/100\n",
            "1/1 [==============================] - 0s 13ms/step - loss: 3.8670 - mae: 3.8670\n",
            "Epoch 39/100\n",
            "1/1 [==============================] - 0s 10ms/step - loss: 3.8591 - mae: 3.8591\n",
            "Epoch 40/100\n",
            "1/1 [==============================] - 0s 18ms/step - loss: 3.8736 - mae: 3.8736\n",
            "Epoch 41/100\n",
            "1/1 [==============================] - 0s 17ms/step - loss: 3.8324 - mae: 3.8324\n",
            "Epoch 42/100\n",
            "1/1 [==============================] - 0s 20ms/step - loss: 3.8803 - mae: 3.8803\n",
            "Epoch 43/100\n",
            "1/1 [==============================] - 0s 17ms/step - loss: 3.8138 - mae: 3.8138\n",
            "Epoch 44/100\n",
            "1/1 [==============================] - 0s 34ms/step - loss: 3.8815 - mae: 3.8815\n",
            "Epoch 45/100\n",
            "1/1 [==============================] - 0s 18ms/step - loss: 3.8303 - mae: 3.8303\n",
            "Epoch 46/100\n",
            "1/1 [==============================] - 0s 14ms/step - loss: 3.8604 - mae: 3.8604\n",
            "Epoch 47/100\n",
            "1/1 [==============================] - 0s 12ms/step - loss: 3.8370 - mae: 3.8370\n",
            "Epoch 48/100\n",
            "1/1 [==============================] - 0s 11ms/step - loss: 3.8335 - mae: 3.8335\n",
            "Epoch 49/100\n",
            "1/1 [==============================] - 0s 16ms/step - loss: 3.8438 - mae: 3.8438\n",
            "Epoch 50/100\n",
            "1/1 [==============================] - 0s 14ms/step - loss: 3.8066 - mae: 3.8066\n",
            "Epoch 51/100\n",
            "1/1 [==============================] - 0s 20ms/step - loss: 3.8507 - mae: 3.8507\n",
            "Epoch 52/100\n",
            "1/1 [==============================] - 0s 26ms/step - loss: 3.7869 - mae: 3.7869\n",
            "Epoch 53/100\n",
            "1/1 [==============================] - 0s 20ms/step - loss: 3.8609 - mae: 3.8609\n",
            "Epoch 54/100\n",
            "1/1 [==============================] - 0s 31ms/step - loss: 3.8012 - mae: 3.8012\n",
            "Epoch 55/100\n",
            "1/1 [==============================] - 0s 27ms/step - loss: 3.8338 - mae: 3.8338\n",
            "Epoch 56/100\n",
            "1/1 [==============================] - 0s 17ms/step - loss: 3.8081 - mae: 3.8081\n",
            "Epoch 57/100\n",
            "1/1 [==============================] - 0s 20ms/step - loss: 3.8068 - mae: 3.8068\n",
            "Epoch 58/100\n",
            "1/1 [==============================] - 0s 19ms/step - loss: 3.8151 - mae: 3.8151\n",
            "Epoch 59/100\n",
            "1/1 [==============================] - 0s 26ms/step - loss: 3.7795 - mae: 3.7795\n",
            "Epoch 60/100\n",
            "1/1 [==============================] - 0s 16ms/step - loss: 3.8230 - mae: 3.8230\n",
            "Epoch 61/100\n",
            "1/1 [==============================] - 0s 15ms/step - loss: 3.7661 - mae: 3.7661\n",
            "Epoch 62/100\n",
            "1/1 [==============================] - 0s 14ms/step - loss: 3.8335 - mae: 3.8335\n",
            "Epoch 63/100\n",
            "1/1 [==============================] - 0s 19ms/step - loss: 3.7731 - mae: 3.7731\n",
            "Epoch 64/100\n",
            "1/1 [==============================] - 0s 35ms/step - loss: 3.8061 - mae: 3.8061\n",
            "Epoch 65/100\n",
            "1/1 [==============================] - 0s 22ms/step - loss: 3.7802 - mae: 3.7802\n",
            "Epoch 66/100\n",
            "1/1 [==============================] - 0s 15ms/step - loss: 3.7787 - mae: 3.7787\n",
            "Epoch 67/100\n",
            "1/1 [==============================] - 0s 19ms/step - loss: 3.7874 - mae: 3.7874\n",
            "Epoch 68/100\n",
            "1/1 [==============================] - 0s 18ms/step - loss: 3.7513 - mae: 3.7513\n",
            "Epoch 69/100\n",
            "1/1 [==============================] - 0s 13ms/step - loss: 3.8038 - mae: 3.8038\n",
            "Epoch 70/100\n",
            "1/1 [==============================] - 0s 17ms/step - loss: 3.7389 - mae: 3.7389\n",
            "Epoch 71/100\n",
            "1/1 [==============================] - 0s 24ms/step - loss: 3.8048 - mae: 3.8048\n",
            "Epoch 72/100\n",
            "1/1 [==============================] - 0s 20ms/step - loss: 3.7460 - mae: 3.7460\n",
            "Epoch 73/100\n",
            "1/1 [==============================] - 0s 21ms/step - loss: 3.7772 - mae: 3.7772\n",
            "Epoch 74/100\n",
            "1/1 [==============================] - 0s 28ms/step - loss: 3.7532 - mae: 3.7532\n",
            "Epoch 75/100\n",
            "1/1 [==============================] - 0s 19ms/step - loss: 3.7494 - mae: 3.7494\n",
            "Epoch 76/100\n",
            "1/1 [==============================] - 0s 14ms/step - loss: 3.7606 - mae: 3.7606\n",
            "Epoch 77/100\n",
            "1/1 [==============================] - 0s 17ms/step - loss: 3.7302 - mae: 3.7302\n",
            "Epoch 78/100\n",
            "1/1 [==============================] - 0s 14ms/step - loss: 3.7780 - mae: 3.7780\n",
            "Epoch 79/100\n",
            "1/1 [==============================] - 0s 20ms/step - loss: 3.7125 - mae: 3.7125\n",
            "Epoch 80/100\n",
            "1/1 [==============================] - 0s 16ms/step - loss: 3.7749 - mae: 3.7749\n",
            "Epoch 81/100\n",
            "1/1 [==============================] - 0s 17ms/step - loss: 3.7198 - mae: 3.7198\n",
            "Epoch 82/100\n",
            "1/1 [==============================] - 0s 17ms/step - loss: 3.7469 - mae: 3.7469\n",
            "Epoch 83/100\n",
            "1/1 [==============================] - 0s 14ms/step - loss: 3.7273 - mae: 3.7273\n",
            "Epoch 84/100\n",
            "1/1 [==============================] - 0s 21ms/step - loss: 3.7190 - mae: 3.7190\n",
            "Epoch 85/100\n",
            "1/1 [==============================] - 0s 23ms/step - loss: 3.7420 - mae: 3.7420\n",
            "Epoch 86/100\n",
            "1/1 [==============================] - 0s 20ms/step - loss: 3.7003 - mae: 3.7003\n",
            "Epoch 87/100\n",
            "1/1 [==============================] - 0s 25ms/step - loss: 3.7522 - mae: 3.7522\n",
            "Epoch 88/100\n",
            "1/1 [==============================] - 0s 16ms/step - loss: 3.6870 - mae: 3.6870\n",
            "Epoch 89/100\n",
            "1/1 [==============================] - 0s 11ms/step - loss: 3.7437 - mae: 3.7437\n",
            "Epoch 90/100\n",
            "1/1 [==============================] - 0s 18ms/step - loss: 3.6945 - mae: 3.6945\n",
            "Epoch 91/100\n",
            "1/1 [==============================] - 0s 16ms/step - loss: 3.7154 - mae: 3.7154\n",
            "Epoch 92/100\n",
            "1/1 [==============================] - 0s 18ms/step - loss: 3.7022 - mae: 3.7022\n",
            "Epoch 93/100\n",
            "1/1 [==============================] - 0s 19ms/step - loss: 3.6939 - mae: 3.6939\n",
            "Epoch 94/100\n",
            "1/1 [==============================] - 0s 16ms/step - loss: 3.7199 - mae: 3.7199\n",
            "Epoch 95/100\n",
            "1/1 [==============================] - 0s 17ms/step - loss: 3.6680 - mae: 3.6680\n",
            "Epoch 96/100\n",
            "1/1 [==============================] - 0s 31ms/step - loss: 3.7275 - mae: 3.7275\n",
            "Epoch 97/100\n",
            "1/1 [==============================] - 0s 12ms/step - loss: 3.6624 - mae: 3.6624\n",
            "Epoch 98/100\n",
            "1/1 [==============================] - 0s 9ms/step - loss: 3.7111 - mae: 3.7111\n",
            "Epoch 99/100\n",
            "1/1 [==============================] - 0s 15ms/step - loss: 3.6702 - mae: 3.6702\n",
            "Epoch 100/100\n",
            "1/1 [==============================] - 0s 24ms/step - loss: 3.6825 - mae: 3.6825\n"
          ]
        },
        {
          "output_type": "execute_result",
          "data": {
            "text/plain": [
              "<keras.callbacks.History at 0x7fdba5583f70>"
            ]
          },
          "metadata": {},
          "execution_count": 23
        }
      ]
    },
    {
      "cell_type": "code",
      "source": [
        "# Let's remind ourselves of the data\n",
        "X, y"
      ],
      "metadata": {
        "colab": {
          "base_uri": "https://localhost:8080/"
        },
        "id": "NOf_LSy_1zn_",
        "outputId": "d37accef-d4e6-4acd-eaad-9e8f70b2e327"
      },
      "execution_count": null,
      "outputs": [
        {
          "output_type": "execute_result",
          "data": {
            "text/plain": [
              "(<tf.Tensor: shape=(8,), dtype=float64, numpy=array([-7., -4., -1.,  2.,  5.,  8., 11., 14.])>,\n",
              " <tf.Tensor: shape=(8,), dtype=float64, numpy=array([ 3.,  6.,  9., 12., 15., 18., 21., 24.])>)"
            ]
          },
          "metadata": {},
          "execution_count": 24
        }
      ]
    },
    {
      "cell_type": "code",
      "source": [
        "y_preds = model.predict([17.0])\n",
        "y_preds"
      ],
      "metadata": {
        "colab": {
          "base_uri": "https://localhost:8080/"
        },
        "id": "Xgpa-dNz1GAg",
        "outputId": "ea2a307c-cd63-4102-d518-eb9cf90db58e"
      },
      "execution_count": null,
      "outputs": [
        {
          "output_type": "stream",
          "name": "stdout",
          "text": [
            "1/1 [==============================] - 0s 137ms/step\n"
          ]
        },
        {
          "output_type": "execute_result",
          "data": {
            "text/plain": [
              "array([[32.493084]], dtype=float32)"
            ]
          },
          "metadata": {},
          "execution_count": 25
        }
      ]
    },
    {
      "cell_type": "code",
      "source": [
        "# another model with none activation\n",
        "# Set Random Seed\n",
        "tf.random.set_seed(42)\n",
        "\n",
        "# 1. Create a model (this time with an extra hidden layer with 100 hidden units)\n",
        "\n",
        "model = tf.keras.Sequential([\n",
        "    tf.keras.layers.Dense(50, activation=None),\n",
        "    tf.keras.layers.Dense(1)\n",
        "])\n",
        "\n",
        "# 2. Compile the model\n",
        "model.compile(loss=\"mae\",\n",
        "              optimizer=tf.keras.optimizers.SGD(),\n",
        "              metrics=[\"mae\"])\n",
        "\n",
        "# 3. Fit the model\n",
        "model.fit(tf.expand_dims(X, axis=1), y, epochs=100)"
      ],
      "metadata": {
        "colab": {
          "base_uri": "https://localhost:8080/"
        },
        "id": "LjxHrn531R1E",
        "outputId": "72c1abf2-013f-4510-c3d0-ee07786e998c"
      },
      "execution_count": null,
      "outputs": [
        {
          "output_type": "stream",
          "name": "stdout",
          "text": [
            "Epoch 1/100\n",
            "1/1 [==============================] - 2s 2s/step - loss: 15.0581 - mae: 15.0581\n",
            "Epoch 2/100\n",
            "1/1 [==============================] - 0s 16ms/step - loss: 14.4031 - mae: 14.4031\n",
            "Epoch 3/100\n",
            "1/1 [==============================] - 0s 23ms/step - loss: 13.9741 - mae: 13.9741\n",
            "Epoch 4/100\n",
            "1/1 [==============================] - 0s 21ms/step - loss: 13.5489 - mae: 13.5489\n",
            "Epoch 5/100\n",
            "1/1 [==============================] - 0s 26ms/step - loss: 13.1251 - mae: 13.1251\n",
            "Epoch 6/100\n",
            "1/1 [==============================] - 0s 17ms/step - loss: 12.7007 - mae: 12.7007\n",
            "Epoch 7/100\n",
            "1/1 [==============================] - 0s 21ms/step - loss: 12.2734 - mae: 12.2734\n",
            "Epoch 8/100\n",
            "1/1 [==============================] - 0s 16ms/step - loss: 11.8410 - mae: 11.8410\n",
            "Epoch 9/100\n",
            "1/1 [==============================] - 0s 14ms/step - loss: 11.4012 - mae: 11.4012\n",
            "Epoch 10/100\n",
            "1/1 [==============================] - 0s 26ms/step - loss: 10.9520 - mae: 10.9520\n",
            "Epoch 11/100\n",
            "1/1 [==============================] - 0s 15ms/step - loss: 10.4908 - mae: 10.4908\n",
            "Epoch 12/100\n",
            "1/1 [==============================] - 0s 17ms/step - loss: 10.0154 - mae: 10.0154\n",
            "Epoch 13/100\n",
            "1/1 [==============================] - 0s 18ms/step - loss: 9.5233 - mae: 9.5233\n",
            "Epoch 14/100\n",
            "1/1 [==============================] - 0s 15ms/step - loss: 9.0121 - mae: 9.0121\n",
            "Epoch 15/100\n",
            "1/1 [==============================] - 0s 23ms/step - loss: 8.4791 - mae: 8.4791\n",
            "Epoch 16/100\n",
            "1/1 [==============================] - 0s 30ms/step - loss: 7.9216 - mae: 7.9216\n",
            "Epoch 17/100\n",
            "1/1 [==============================] - 0s 20ms/step - loss: 7.3368 - mae: 7.3368\n",
            "Epoch 18/100\n",
            "1/1 [==============================] - 0s 20ms/step - loss: 7.1018 - mae: 7.1018\n",
            "Epoch 19/100\n",
            "1/1 [==============================] - 0s 20ms/step - loss: 7.0813 - mae: 7.0813\n",
            "Epoch 20/100\n",
            "1/1 [==============================] - 0s 19ms/step - loss: 7.0607 - mae: 7.0607\n",
            "Epoch 21/100\n",
            "1/1 [==============================] - 0s 18ms/step - loss: 7.0401 - mae: 7.0401\n",
            "Epoch 22/100\n",
            "1/1 [==============================] - 0s 20ms/step - loss: 7.0194 - mae: 7.0194\n",
            "Epoch 23/100\n",
            "1/1 [==============================] - 0s 21ms/step - loss: 6.9987 - mae: 6.9987\n",
            "Epoch 24/100\n",
            "1/1 [==============================] - 0s 13ms/step - loss: 6.9778 - mae: 6.9778\n",
            "Epoch 25/100\n",
            "1/1 [==============================] - 0s 13ms/step - loss: 6.9569 - mae: 6.9569\n",
            "Epoch 26/100\n",
            "1/1 [==============================] - 0s 16ms/step - loss: 6.9359 - mae: 6.9359\n",
            "Epoch 27/100\n",
            "1/1 [==============================] - 0s 14ms/step - loss: 6.9148 - mae: 6.9148\n",
            "Epoch 28/100\n",
            "1/1 [==============================] - 0s 14ms/step - loss: 6.8936 - mae: 6.8936\n",
            "Epoch 29/100\n",
            "1/1 [==============================] - 0s 15ms/step - loss: 6.8723 - mae: 6.8723\n",
            "Epoch 30/100\n",
            "1/1 [==============================] - 0s 13ms/step - loss: 6.8510 - mae: 6.8510\n",
            "Epoch 31/100\n",
            "1/1 [==============================] - 0s 15ms/step - loss: 6.8295 - mae: 6.8295\n",
            "Epoch 32/100\n",
            "1/1 [==============================] - 0s 20ms/step - loss: 6.8079 - mae: 6.8079\n",
            "Epoch 33/100\n",
            "1/1 [==============================] - 0s 22ms/step - loss: 6.7862 - mae: 6.7862\n",
            "Epoch 34/100\n",
            "1/1 [==============================] - 0s 15ms/step - loss: 6.7668 - mae: 6.7668\n",
            "Epoch 35/100\n",
            "1/1 [==============================] - 0s 15ms/step - loss: 6.7586 - mae: 6.7586\n",
            "Epoch 36/100\n",
            "1/1 [==============================] - 0s 13ms/step - loss: 6.7371 - mae: 6.7371\n",
            "Epoch 37/100\n",
            "1/1 [==============================] - 0s 14ms/step - loss: 6.7156 - mae: 6.7156\n",
            "Epoch 38/100\n",
            "1/1 [==============================] - 0s 16ms/step - loss: 6.6939 - mae: 6.6939\n",
            "Epoch 39/100\n",
            "1/1 [==============================] - 0s 14ms/step - loss: 6.6721 - mae: 6.6721\n",
            "Epoch 40/100\n",
            "1/1 [==============================] - 0s 24ms/step - loss: 6.6502 - mae: 6.6502\n",
            "Epoch 41/100\n",
            "1/1 [==============================] - 0s 21ms/step - loss: 6.6281 - mae: 6.6281\n",
            "Epoch 42/100\n",
            "1/1 [==============================] - 0s 17ms/step - loss: 6.6059 - mae: 6.6059\n",
            "Epoch 43/100\n",
            "1/1 [==============================] - 0s 12ms/step - loss: 6.5835 - mae: 6.5835\n",
            "Epoch 44/100\n",
            "1/1 [==============================] - 0s 29ms/step - loss: 6.5610 - mae: 6.5610\n",
            "Epoch 45/100\n",
            "1/1 [==============================] - 0s 14ms/step - loss: 6.5384 - mae: 6.5384\n",
            "Epoch 46/100\n",
            "1/1 [==============================] - 0s 17ms/step - loss: 6.5156 - mae: 6.5156\n",
            "Epoch 47/100\n",
            "1/1 [==============================] - 0s 17ms/step - loss: 6.4927 - mae: 6.4927\n",
            "Epoch 48/100\n",
            "1/1 [==============================] - 0s 13ms/step - loss: 6.4696 - mae: 6.4696\n",
            "Epoch 49/100\n",
            "1/1 [==============================] - 0s 12ms/step - loss: 6.4463 - mae: 6.4463\n",
            "Epoch 50/100\n",
            "1/1 [==============================] - 0s 17ms/step - loss: 6.4228 - mae: 6.4228\n",
            "Epoch 51/100\n",
            "1/1 [==============================] - 0s 21ms/step - loss: 6.3992 - mae: 6.3992\n",
            "Epoch 52/100\n",
            "1/1 [==============================] - 0s 12ms/step - loss: 6.3754 - mae: 6.3754\n",
            "Epoch 53/100\n",
            "1/1 [==============================] - 0s 21ms/step - loss: 6.3515 - mae: 6.3515\n",
            "Epoch 54/100\n",
            "1/1 [==============================] - 0s 11ms/step - loss: 6.3273 - mae: 6.3273\n",
            "Epoch 55/100\n",
            "1/1 [==============================] - 0s 11ms/step - loss: 6.3116 - mae: 6.3116\n",
            "Epoch 56/100\n",
            "1/1 [==============================] - 0s 11ms/step - loss: 6.3005 - mae: 6.3005\n",
            "Epoch 57/100\n",
            "1/1 [==============================] - 0s 24ms/step - loss: 6.2763 - mae: 6.2763\n",
            "Epoch 58/100\n",
            "1/1 [==============================] - 0s 22ms/step - loss: 6.2520 - mae: 6.2520\n",
            "Epoch 59/100\n",
            "1/1 [==============================] - 0s 12ms/step - loss: 6.2275 - mae: 6.2275\n",
            "Epoch 60/100\n",
            "1/1 [==============================] - 0s 28ms/step - loss: 6.2028 - mae: 6.2028\n",
            "Epoch 61/100\n",
            "1/1 [==============================] - 0s 14ms/step - loss: 6.1778 - mae: 6.1778\n",
            "Epoch 62/100\n",
            "1/1 [==============================] - 0s 15ms/step - loss: 6.1527 - mae: 6.1527\n",
            "Epoch 63/100\n",
            "1/1 [==============================] - 0s 16ms/step - loss: 6.1273 - mae: 6.1273\n",
            "Epoch 64/100\n",
            "1/1 [==============================] - 0s 17ms/step - loss: 6.1017 - mae: 6.1017\n",
            "Epoch 65/100\n",
            "1/1 [==============================] - 0s 15ms/step - loss: 6.0759 - mae: 6.0759\n",
            "Epoch 66/100\n",
            "1/1 [==============================] - 0s 14ms/step - loss: 6.0499 - mae: 6.0499\n",
            "Epoch 67/100\n",
            "1/1 [==============================] - 0s 15ms/step - loss: 6.0236 - mae: 6.0236\n",
            "Epoch 68/100\n",
            "1/1 [==============================] - 0s 13ms/step - loss: 5.9971 - mae: 5.9971\n",
            "Epoch 69/100\n",
            "1/1 [==============================] - 0s 14ms/step - loss: 5.9703 - mae: 5.9703\n",
            "Epoch 70/100\n",
            "1/1 [==============================] - 0s 17ms/step - loss: 5.9433 - mae: 5.9433\n",
            "Epoch 71/100\n",
            "1/1 [==============================] - 0s 20ms/step - loss: 5.9160 - mae: 5.9160\n",
            "Epoch 72/100\n",
            "1/1 [==============================] - 0s 12ms/step - loss: 5.9094 - mae: 5.9094\n",
            "Epoch 73/100\n",
            "1/1 [==============================] - 0s 15ms/step - loss: 5.8874 - mae: 5.8874\n",
            "Epoch 74/100\n",
            "1/1 [==============================] - 0s 22ms/step - loss: 5.8600 - mae: 5.8600\n",
            "Epoch 75/100\n",
            "1/1 [==============================] - 0s 16ms/step - loss: 5.8323 - mae: 5.8323\n",
            "Epoch 76/100\n",
            "1/1 [==============================] - 0s 17ms/step - loss: 5.8043 - mae: 5.8043\n",
            "Epoch 77/100\n",
            "1/1 [==============================] - 0s 19ms/step - loss: 5.7760 - mae: 5.7760\n",
            "Epoch 78/100\n",
            "1/1 [==============================] - 0s 17ms/step - loss: 5.7474 - mae: 5.7474\n",
            "Epoch 79/100\n",
            "1/1 [==============================] - 0s 16ms/step - loss: 5.7186 - mae: 5.7186\n",
            "Epoch 80/100\n",
            "1/1 [==============================] - 0s 16ms/step - loss: 5.6895 - mae: 5.6895\n",
            "Epoch 81/100\n",
            "1/1 [==============================] - 0s 13ms/step - loss: 5.6600 - mae: 5.6600\n",
            "Epoch 82/100\n",
            "1/1 [==============================] - 0s 13ms/step - loss: 5.6303 - mae: 5.6303\n",
            "Epoch 83/100\n",
            "1/1 [==============================] - 0s 16ms/step - loss: 5.6002 - mae: 5.6002\n",
            "Epoch 84/100\n",
            "1/1 [==============================] - 0s 25ms/step - loss: 5.5699 - mae: 5.5699\n",
            "Epoch 85/100\n",
            "1/1 [==============================] - 0s 29ms/step - loss: 5.5392 - mae: 5.5392\n",
            "Epoch 86/100\n",
            "1/1 [==============================] - 0s 24ms/step - loss: 5.5148 - mae: 5.5148\n",
            "Epoch 87/100\n",
            "1/1 [==============================] - 0s 36ms/step - loss: 5.5073 - mae: 5.5073\n",
            "Epoch 88/100\n",
            "1/1 [==============================] - 0s 20ms/step - loss: 5.4762 - mae: 5.4762\n",
            "Epoch 89/100\n",
            "1/1 [==============================] - 0s 43ms/step - loss: 5.4448 - mae: 5.4448\n",
            "Epoch 90/100\n",
            "1/1 [==============================] - 0s 25ms/step - loss: 5.4131 - mae: 5.4131\n",
            "Epoch 91/100\n",
            "1/1 [==============================] - 0s 15ms/step - loss: 5.3810 - mae: 5.3810\n",
            "Epoch 92/100\n",
            "1/1 [==============================] - 0s 14ms/step - loss: 5.3485 - mae: 5.3485\n",
            "Epoch 93/100\n",
            "1/1 [==============================] - 0s 17ms/step - loss: 5.3157 - mae: 5.3157\n",
            "Epoch 94/100\n",
            "1/1 [==============================] - 0s 17ms/step - loss: 5.2826 - mae: 5.2826\n",
            "Epoch 95/100\n",
            "1/1 [==============================] - 0s 17ms/step - loss: 5.2490 - mae: 5.2490\n",
            "Epoch 96/100\n",
            "1/1 [==============================] - 0s 29ms/step - loss: 5.2151 - mae: 5.2151\n",
            "Epoch 97/100\n",
            "1/1 [==============================] - 0s 18ms/step - loss: 5.1808 - mae: 5.1808\n",
            "Epoch 98/100\n",
            "1/1 [==============================] - 0s 16ms/step - loss: 5.1461 - mae: 5.1461\n",
            "Epoch 99/100\n",
            "1/1 [==============================] - 0s 11ms/step - loss: 5.1110 - mae: 5.1110\n",
            "Epoch 100/100\n",
            "1/1 [==============================] - 0s 18ms/step - loss: 5.1028 - mae: 5.1028\n"
          ]
        },
        {
          "output_type": "execute_result",
          "data": {
            "text/plain": [
              "<keras.callbacks.History at 0x7fdba662a140>"
            ]
          },
          "metadata": {},
          "execution_count": 26
        }
      ]
    },
    {
      "cell_type": "code",
      "source": [
        "X, y"
      ],
      "metadata": {
        "colab": {
          "base_uri": "https://localhost:8080/"
        },
        "id": "9wZOIFko39FT",
        "outputId": "58655481-17c6-4c1a-e31f-f4265bf36230"
      },
      "execution_count": null,
      "outputs": [
        {
          "output_type": "execute_result",
          "data": {
            "text/plain": [
              "(<tf.Tensor: shape=(8,), dtype=float64, numpy=array([-7., -4., -1.,  2.,  5.,  8., 11., 14.])>,\n",
              " <tf.Tensor: shape=(8,), dtype=float64, numpy=array([ 3.,  6.,  9., 12., 15., 18., 21., 24.])>)"
            ]
          },
          "metadata": {},
          "execution_count": 27
        }
      ]
    },
    {
      "cell_type": "code",
      "source": [
        "y_pred = model.predict([17.0])\n",
        "y_pred"
      ],
      "metadata": {
        "colab": {
          "base_uri": "https://localhost:8080/"
        },
        "id": "2FbbbMu9390r",
        "outputId": "e22f2f64-0f11-4a80-85bb-90bbeb0db7fc"
      },
      "execution_count": null,
      "outputs": [
        {
          "output_type": "stream",
          "name": "stderr",
          "text": [
            "WARNING:tensorflow:5 out of the last 5 calls to <function Model.make_predict_function.<locals>.predict_function at 0x7fdbac27a830> triggered tf.function retracing. Tracing is expensive and the excessive number of tracings could be due to (1) creating @tf.function repeatedly in a loop, (2) passing tensors with different shapes, (3) passing Python objects instead of tensors. For (1), please define your @tf.function outside of the loop. For (2), @tf.function has reduce_retracing=True option that can avoid unnecessary retracing. For (3), please refer to https://www.tensorflow.org/guide/function#controlling_retracing and https://www.tensorflow.org/api_docs/python/tf/function for  more details.\n"
          ]
        },
        {
          "output_type": "stream",
          "name": "stdout",
          "text": [
            "1/1 [==============================] - 0s 180ms/step\n"
          ]
        },
        {
          "output_type": "execute_result",
          "data": {
            "text/plain": [
              "array([[28.346888]], dtype=float32)"
            ]
          },
          "metadata": {},
          "execution_count": 28
        }
      ]
    },
    {
      "cell_type": "code",
      "source": [
        "# Another model\n",
        "# Set Random Seed\n",
        "tf.random.set_seed(42)\n",
        "\n",
        "# 1. Create a model (this time with an extra hidden layer with 100 hidden units)\n",
        "\n",
        "model = tf.keras.Sequential([\n",
        "    tf.keras.layers.Dense(50, activation=None),\n",
        "    tf.keras.layers.Dense(1)\n",
        "])\n",
        "\n",
        "# 2. Compile the model\n",
        "model.compile(loss=\"mae\",\n",
        "              optimizer=tf.keras.optimizers.Adam(lr=0.01),\n",
        "              metrics=[\"mae\"])\n",
        "\n",
        "# 3. Fit the model\n",
        "model.fit(tf.expand_dims(X, axis=1), y, epochs=100)"
      ],
      "metadata": {
        "colab": {
          "base_uri": "https://localhost:8080/"
        },
        "id": "mNHQ0xPD4B2D",
        "outputId": "bb8a4903-b46c-4a3c-8bdc-d803fda4501c"
      },
      "execution_count": null,
      "outputs": [
        {
          "output_type": "stream",
          "name": "stderr",
          "text": [
            "WARNING:absl:`lr` is deprecated in Keras optimizer, please use `learning_rate` or use the legacy optimizer, e.g.,tf.keras.optimizers.legacy.Adam.\n"
          ]
        },
        {
          "output_type": "stream",
          "name": "stdout",
          "text": [
            "Epoch 1/100\n",
            "1/1 [==============================] - 1s 616ms/step - loss: 13.3885 - mae: 13.3885\n",
            "Epoch 2/100\n",
            "1/1 [==============================] - 0s 10ms/step - loss: 13.3192 - mae: 13.3192\n",
            "Epoch 3/100\n",
            "1/1 [==============================] - 0s 11ms/step - loss: 13.2500 - mae: 13.2500\n",
            "Epoch 4/100\n",
            "1/1 [==============================] - 0s 17ms/step - loss: 13.1807 - mae: 13.1807\n",
            "Epoch 5/100\n",
            "1/1 [==============================] - 0s 15ms/step - loss: 13.1114 - mae: 13.1114\n",
            "Epoch 6/100\n",
            "1/1 [==============================] - 0s 12ms/step - loss: 13.0420 - mae: 13.0420\n",
            "Epoch 7/100\n",
            "1/1 [==============================] - 0s 13ms/step - loss: 12.9726 - mae: 12.9726\n",
            "Epoch 8/100\n",
            "1/1 [==============================] - 0s 14ms/step - loss: 12.9032 - mae: 12.9032\n",
            "Epoch 9/100\n",
            "1/1 [==============================] - 0s 11ms/step - loss: 12.8337 - mae: 12.8337\n",
            "Epoch 10/100\n",
            "1/1 [==============================] - 0s 12ms/step - loss: 12.7642 - mae: 12.7642\n",
            "Epoch 11/100\n",
            "1/1 [==============================] - 0s 15ms/step - loss: 12.6947 - mae: 12.6947\n",
            "Epoch 12/100\n",
            "1/1 [==============================] - 0s 16ms/step - loss: 12.6251 - mae: 12.6251\n",
            "Epoch 13/100\n",
            "1/1 [==============================] - 0s 9ms/step - loss: 12.5554 - mae: 12.5554\n",
            "Epoch 14/100\n",
            "1/1 [==============================] - 0s 9ms/step - loss: 12.4857 - mae: 12.4857\n",
            "Epoch 15/100\n",
            "1/1 [==============================] - 0s 14ms/step - loss: 12.4159 - mae: 12.4159\n",
            "Epoch 16/100\n",
            "1/1 [==============================] - 0s 10ms/step - loss: 12.3460 - mae: 12.3460\n",
            "Epoch 17/100\n",
            "1/1 [==============================] - 0s 8ms/step - loss: 12.2761 - mae: 12.2761\n",
            "Epoch 18/100\n",
            "1/1 [==============================] - 0s 16ms/step - loss: 12.2061 - mae: 12.2061\n",
            "Epoch 19/100\n",
            "1/1 [==============================] - 0s 10ms/step - loss: 12.1360 - mae: 12.1360\n",
            "Epoch 20/100\n",
            "1/1 [==============================] - 0s 10ms/step - loss: 12.0659 - mae: 12.0659\n",
            "Epoch 21/100\n",
            "1/1 [==============================] - 0s 11ms/step - loss: 11.9956 - mae: 11.9956\n",
            "Epoch 22/100\n",
            "1/1 [==============================] - 0s 10ms/step - loss: 11.9252 - mae: 11.9252\n",
            "Epoch 23/100\n",
            "1/1 [==============================] - 0s 10ms/step - loss: 11.8547 - mae: 11.8547\n",
            "Epoch 24/100\n",
            "1/1 [==============================] - 0s 10ms/step - loss: 11.7841 - mae: 11.7841\n",
            "Epoch 25/100\n",
            "1/1 [==============================] - 0s 10ms/step - loss: 11.7134 - mae: 11.7134\n",
            "Epoch 26/100\n",
            "1/1 [==============================] - 0s 10ms/step - loss: 11.6425 - mae: 11.6425\n",
            "Epoch 27/100\n",
            "1/1 [==============================] - 0s 10ms/step - loss: 11.5715 - mae: 11.5715\n",
            "Epoch 28/100\n",
            "1/1 [==============================] - 0s 10ms/step - loss: 11.5004 - mae: 11.5004\n",
            "Epoch 29/100\n",
            "1/1 [==============================] - 0s 10ms/step - loss: 11.4291 - mae: 11.4291\n",
            "Epoch 30/100\n",
            "1/1 [==============================] - 0s 10ms/step - loss: 11.3577 - mae: 11.3577\n",
            "Epoch 31/100\n",
            "1/1 [==============================] - 0s 11ms/step - loss: 11.2860 - mae: 11.2860\n",
            "Epoch 32/100\n",
            "1/1 [==============================] - 0s 11ms/step - loss: 11.2143 - mae: 11.2143\n",
            "Epoch 33/100\n",
            "1/1 [==============================] - 0s 11ms/step - loss: 11.1423 - mae: 11.1423\n",
            "Epoch 34/100\n",
            "1/1 [==============================] - 0s 10ms/step - loss: 11.0701 - mae: 11.0701\n",
            "Epoch 35/100\n",
            "1/1 [==============================] - 0s 10ms/step - loss: 10.9978 - mae: 10.9978\n",
            "Epoch 36/100\n",
            "1/1 [==============================] - 0s 11ms/step - loss: 10.9252 - mae: 10.9252\n",
            "Epoch 37/100\n",
            "1/1 [==============================] - 0s 11ms/step - loss: 10.8525 - mae: 10.8525\n",
            "Epoch 38/100\n",
            "1/1 [==============================] - 0s 12ms/step - loss: 10.7795 - mae: 10.7795\n",
            "Epoch 39/100\n",
            "1/1 [==============================] - 0s 11ms/step - loss: 10.7063 - mae: 10.7063\n",
            "Epoch 40/100\n",
            "1/1 [==============================] - 0s 14ms/step - loss: 10.6328 - mae: 10.6328\n",
            "Epoch 41/100\n",
            "1/1 [==============================] - 0s 12ms/step - loss: 10.5591 - mae: 10.5591\n",
            "Epoch 42/100\n",
            "1/1 [==============================] - 0s 13ms/step - loss: 10.4852 - mae: 10.4852\n",
            "Epoch 43/100\n",
            "1/1 [==============================] - 0s 12ms/step - loss: 10.4110 - mae: 10.4110\n",
            "Epoch 44/100\n",
            "1/1 [==============================] - 0s 11ms/step - loss: 10.3365 - mae: 10.3365\n",
            "Epoch 45/100\n",
            "1/1 [==============================] - 0s 10ms/step - loss: 10.2618 - mae: 10.2618\n",
            "Epoch 46/100\n",
            "1/1 [==============================] - 0s 12ms/step - loss: 10.1868 - mae: 10.1868\n",
            "Epoch 47/100\n",
            "1/1 [==============================] - 0s 10ms/step - loss: 10.1115 - mae: 10.1115\n",
            "Epoch 48/100\n",
            "1/1 [==============================] - 0s 13ms/step - loss: 10.0359 - mae: 10.0359\n",
            "Epoch 49/100\n",
            "1/1 [==============================] - 0s 15ms/step - loss: 9.9600 - mae: 9.9600\n",
            "Epoch 50/100\n",
            "1/1 [==============================] - 0s 12ms/step - loss: 9.8838 - mae: 9.8838\n",
            "Epoch 51/100\n",
            "1/1 [==============================] - 0s 11ms/step - loss: 9.8073 - mae: 9.8073\n",
            "Epoch 52/100\n",
            "1/1 [==============================] - 0s 9ms/step - loss: 9.7304 - mae: 9.7304\n",
            "Epoch 53/100\n",
            "1/1 [==============================] - 0s 10ms/step - loss: 9.6532 - mae: 9.6532\n",
            "Epoch 54/100\n",
            "1/1 [==============================] - 0s 10ms/step - loss: 9.5757 - mae: 9.5757\n",
            "Epoch 55/100\n",
            "1/1 [==============================] - 0s 9ms/step - loss: 9.4978 - mae: 9.4978\n",
            "Epoch 56/100\n",
            "1/1 [==============================] - 0s 10ms/step - loss: 9.4196 - mae: 9.4196\n",
            "Epoch 57/100\n",
            "1/1 [==============================] - 0s 10ms/step - loss: 9.3410 - mae: 9.3410\n",
            "Epoch 58/100\n",
            "1/1 [==============================] - 0s 10ms/step - loss: 9.2620 - mae: 9.2620\n",
            "Epoch 59/100\n",
            "1/1 [==============================] - 0s 9ms/step - loss: 9.1827 - mae: 9.1827\n",
            "Epoch 60/100\n",
            "1/1 [==============================] - 0s 9ms/step - loss: 9.1029 - mae: 9.1029\n",
            "Epoch 61/100\n",
            "1/1 [==============================] - 0s 9ms/step - loss: 9.0228 - mae: 9.0228\n",
            "Epoch 62/100\n",
            "1/1 [==============================] - 0s 10ms/step - loss: 8.9422 - mae: 8.9422\n",
            "Epoch 63/100\n",
            "1/1 [==============================] - 0s 10ms/step - loss: 8.8613 - mae: 8.8613\n",
            "Epoch 64/100\n",
            "1/1 [==============================] - 0s 10ms/step - loss: 8.7799 - mae: 8.7799\n",
            "Epoch 65/100\n",
            "1/1 [==============================] - 0s 11ms/step - loss: 8.6981 - mae: 8.6981\n",
            "Epoch 66/100\n",
            "1/1 [==============================] - 0s 11ms/step - loss: 8.6159 - mae: 8.6159\n",
            "Epoch 67/100\n",
            "1/1 [==============================] - 0s 11ms/step - loss: 8.5332 - mae: 8.5332\n",
            "Epoch 68/100\n",
            "1/1 [==============================] - 0s 11ms/step - loss: 8.4501 - mae: 8.4501\n",
            "Epoch 69/100\n",
            "1/1 [==============================] - 0s 11ms/step - loss: 8.3665 - mae: 8.3665\n",
            "Epoch 70/100\n",
            "1/1 [==============================] - 0s 12ms/step - loss: 8.2825 - mae: 8.2825\n",
            "Epoch 71/100\n",
            "1/1 [==============================] - 0s 12ms/step - loss: 8.1980 - mae: 8.1980\n",
            "Epoch 72/100\n",
            "1/1 [==============================] - 0s 13ms/step - loss: 8.1130 - mae: 8.1130\n",
            "Epoch 73/100\n",
            "1/1 [==============================] - 0s 11ms/step - loss: 8.0276 - mae: 8.0276\n",
            "Epoch 74/100\n",
            "1/1 [==============================] - 0s 11ms/step - loss: 7.9417 - mae: 7.9417\n",
            "Epoch 75/100\n",
            "1/1 [==============================] - 0s 13ms/step - loss: 7.8552 - mae: 7.8552\n",
            "Epoch 76/100\n",
            "1/1 [==============================] - 0s 11ms/step - loss: 7.7683 - mae: 7.7683\n",
            "Epoch 77/100\n",
            "1/1 [==============================] - 0s 11ms/step - loss: 7.6809 - mae: 7.6809\n",
            "Epoch 78/100\n",
            "1/1 [==============================] - 0s 10ms/step - loss: 7.5930 - mae: 7.5930\n",
            "Epoch 79/100\n",
            "1/1 [==============================] - 0s 11ms/step - loss: 7.5045 - mae: 7.5045\n",
            "Epoch 80/100\n",
            "1/1 [==============================] - 0s 11ms/step - loss: 7.4156 - mae: 7.4156\n",
            "Epoch 81/100\n",
            "1/1 [==============================] - 0s 10ms/step - loss: 7.3261 - mae: 7.3261\n",
            "Epoch 82/100\n",
            "1/1 [==============================] - 0s 11ms/step - loss: 7.2360 - mae: 7.2360\n",
            "Epoch 83/100\n",
            "1/1 [==============================] - 0s 11ms/step - loss: 7.1455 - mae: 7.1455\n",
            "Epoch 84/100\n",
            "1/1 [==============================] - 0s 10ms/step - loss: 7.0543 - mae: 7.0543\n",
            "Epoch 85/100\n",
            "1/1 [==============================] - 0s 10ms/step - loss: 6.9627 - mae: 6.9627\n",
            "Epoch 86/100\n",
            "1/1 [==============================] - 0s 10ms/step - loss: 6.8705 - mae: 6.8705\n",
            "Epoch 87/100\n",
            "1/1 [==============================] - 0s 10ms/step - loss: 6.7777 - mae: 6.7777\n",
            "Epoch 88/100\n",
            "1/1 [==============================] - 0s 10ms/step - loss: 6.7461 - mae: 6.7461\n",
            "Epoch 89/100\n",
            "1/1 [==============================] - 0s 10ms/step - loss: 6.7348 - mae: 6.7348\n",
            "Epoch 90/100\n",
            "1/1 [==============================] - 0s 10ms/step - loss: 6.7238 - mae: 6.7238\n",
            "Epoch 91/100\n",
            "1/1 [==============================] - 0s 11ms/step - loss: 6.7130 - mae: 6.7130\n",
            "Epoch 92/100\n",
            "1/1 [==============================] - 0s 10ms/step - loss: 6.7024 - mae: 6.7024\n",
            "Epoch 93/100\n",
            "1/1 [==============================] - 0s 10ms/step - loss: 6.6921 - mae: 6.6921\n",
            "Epoch 94/100\n",
            "1/1 [==============================] - 0s 10ms/step - loss: 6.6819 - mae: 6.6819\n",
            "Epoch 95/100\n",
            "1/1 [==============================] - 0s 11ms/step - loss: 6.6718 - mae: 6.6718\n",
            "Epoch 96/100\n",
            "1/1 [==============================] - 0s 10ms/step - loss: 6.6619 - mae: 6.6619\n",
            "Epoch 97/100\n",
            "1/1 [==============================] - 0s 10ms/step - loss: 6.6522 - mae: 6.6522\n",
            "Epoch 98/100\n",
            "1/1 [==============================] - 0s 10ms/step - loss: 6.6425 - mae: 6.6425\n",
            "Epoch 99/100\n",
            "1/1 [==============================] - 0s 10ms/step - loss: 6.6415 - mae: 6.6415\n",
            "Epoch 100/100\n",
            "1/1 [==============================] - 0s 10ms/step - loss: 6.6504 - mae: 6.6504\n"
          ]
        },
        {
          "output_type": "execute_result",
          "data": {
            "text/plain": [
              "<keras.callbacks.History at 0x7fdba6690dc0>"
            ]
          },
          "metadata": {},
          "execution_count": 29
        }
      ]
    },
    {
      "cell_type": "code",
      "source": [
        "X, y"
      ],
      "metadata": {
        "colab": {
          "base_uri": "https://localhost:8080/"
        },
        "id": "mqZb0Bug4Mld",
        "outputId": "f64f7f5f-e14f-4c69-bef2-82902a489ef5"
      },
      "execution_count": null,
      "outputs": [
        {
          "output_type": "execute_result",
          "data": {
            "text/plain": [
              "(<tf.Tensor: shape=(8,), dtype=float64, numpy=array([-7., -4., -1.,  2.,  5.,  8., 11., 14.])>,\n",
              " <tf.Tensor: shape=(8,), dtype=float64, numpy=array([ 3.,  6.,  9., 12., 15., 18., 21., 24.])>)"
            ]
          },
          "metadata": {},
          "execution_count": 30
        }
      ]
    },
    {
      "cell_type": "code",
      "source": [
        "y_pred = model.predict([17.0])\n",
        "y_pred"
      ],
      "metadata": {
        "colab": {
          "base_uri": "https://localhost:8080/"
        },
        "id": "VT59HnAP4Naw",
        "outputId": "b78565d4-bc7c-4c20-e0e8-19ae0b4b8ab1"
      },
      "execution_count": null,
      "outputs": [
        {
          "output_type": "stream",
          "name": "stderr",
          "text": [
            "WARNING:tensorflow:6 out of the last 6 calls to <function Model.make_predict_function.<locals>.predict_function at 0x7fdba670fb50> triggered tf.function retracing. Tracing is expensive and the excessive number of tracings could be due to (1) creating @tf.function repeatedly in a loop, (2) passing tensors with different shapes, (3) passing Python objects instead of tensors. For (1), please define your @tf.function outside of the loop. For (2), @tf.function has reduce_retracing=True option that can avoid unnecessary retracing. For (3), please refer to https://www.tensorflow.org/guide/function#controlling_retracing and https://www.tensorflow.org/api_docs/python/tf/function for  more details.\n"
          ]
        },
        {
          "output_type": "stream",
          "name": "stdout",
          "text": [
            "1/1 [==============================] - 0s 88ms/step\n"
          ]
        },
        {
          "output_type": "execute_result",
          "data": {
            "text/plain": [
              "array([[32.042545]], dtype=float32)"
            ]
          },
          "metadata": {},
          "execution_count": 31
        }
      ]
    },
    {
      "cell_type": "markdown",
      "source": [
        "🔑 The learning rate (lr) is one of the most important hyperparameter of many algorithms or models."
      ],
      "metadata": {
        "id": "1z-5_XMF4TCl"
      }
    },
    {
      "cell_type": "markdown",
      "source": [
        "### Evaluting a model\n",
        "\n",
        "In practice, a typical workflow you'll go through when building neural networks is:\n",
        "\n",
        "```\n",
        "Build a model -> fit it -> evaluate it -> tweak a model -> fit it -> evaluate it -> tweak a model -> fit it -> evaluate it...```"
      ],
      "metadata": {
        "id": "pHDSdpS25i6T"
      }
    },
    {
      "cell_type": "markdown",
      "source": [
        "When it comes to evaluation... there are 3 words you should memorize:\n",
        "\n",
        "> \"Visualize, visualize, visalize\"\n",
        "\n",
        "It's a good idea to visualize:\n",
        "* The data - what data are we working with? What does it look like?\n",
        "* The model itself - what does our model look like?\n",
        "* The training of a model - how does a model perform while learns?\n",
        "* The predictions of the model - how do the predictions of a model line up against the ground truth (the original labels)?"
      ],
      "metadata": {
        "id": "CmXPzYXT5z8k"
      }
    },
    {
      "cell_type": "code",
      "source": [
        "# Make a bigger dataset\n",
        "\n",
        "X = tf.range(-100, 100, 4)\n",
        "X"
      ],
      "metadata": {
        "colab": {
          "base_uri": "https://localhost:8080/"
        },
        "id": "7itOSkuZ3is8",
        "outputId": "5c309944-c8dc-4bbb-8abb-567ed8bb6ce5"
      },
      "execution_count": null,
      "outputs": [
        {
          "output_type": "execute_result",
          "data": {
            "text/plain": [
              "<tf.Tensor: shape=(50,), dtype=int32, numpy=\n",
              "array([-100,  -96,  -92,  -88,  -84,  -80,  -76,  -72,  -68,  -64,  -60,\n",
              "        -56,  -52,  -48,  -44,  -40,  -36,  -32,  -28,  -24,  -20,  -16,\n",
              "        -12,   -8,   -4,    0,    4,    8,   12,   16,   20,   24,   28,\n",
              "         32,   36,   40,   44,   48,   52,   56,   60,   64,   68,   72,\n",
              "         76,   80,   84,   88,   92,   96], dtype=int32)>"
            ]
          },
          "metadata": {},
          "execution_count": 32
        }
      ]
    },
    {
      "cell_type": "code",
      "source": [
        "# Make labels for dataset\n",
        "y = X + 10\n",
        "y"
      ],
      "metadata": {
        "colab": {
          "base_uri": "https://localhost:8080/"
        },
        "id": "pYPSy0xJ3sBU",
        "outputId": "6bfec410-6ad0-4ede-8e96-5c34a1f61153"
      },
      "execution_count": null,
      "outputs": [
        {
          "output_type": "execute_result",
          "data": {
            "text/plain": [
              "<tf.Tensor: shape=(50,), dtype=int32, numpy=\n",
              "array([-90, -86, -82, -78, -74, -70, -66, -62, -58, -54, -50, -46, -42,\n",
              "       -38, -34, -30, -26, -22, -18, -14, -10,  -6,  -2,   2,   6,  10,\n",
              "        14,  18,  22,  26,  30,  34,  38,  42,  46,  50,  54,  58,  62,\n",
              "        66,  70,  74,  78,  82,  86,  90,  94,  98, 102, 106], dtype=int32)>"
            ]
          },
          "metadata": {},
          "execution_count": 33
        }
      ]
    },
    {
      "cell_type": "code",
      "source": [
        "# Visualize the data\n",
        "import matplotlib.pyplot as plt\n",
        "\n",
        "plt.scatter(X, y)"
      ],
      "metadata": {
        "colab": {
          "base_uri": "https://localhost:8080/",
          "height": 447
        },
        "id": "MBSvNdri3zT_",
        "outputId": "d9f87f28-a5a3-4157-96c1-9c6964091c96"
      },
      "execution_count": null,
      "outputs": [
        {
          "output_type": "execute_result",
          "data": {
            "text/plain": [
              "<matplotlib.collections.PathCollection at 0x7fdba6663a60>"
            ]
          },
          "metadata": {},
          "execution_count": 34
        },
        {
          "output_type": "display_data",
          "data": {
            "text/plain": [
              "<Figure size 640x480 with 1 Axes>"
            ],
            "image/png": "[encoded data removed]"
          },
          "metadata": {}
        }
      ]
    },
    {
      "cell_type": "markdown",
      "source": [
        "### The 3 sets...\n",
        "\n",
        "* Training set - the model learns from this data, which is typically 70-80 % of the total data you have available.\n",
        "* Validation set - the model gets tuned on this data, which is typically 10-15 % of tha data available.\n",
        "* Test set - the model gets evaluated on this data to test what is has learned , this set is typically 10-15 % of the total data available."
      ],
      "metadata": {
        "id": "KnwHOrE33_jc"
      }
    },
    {
      "cell_type": "code",
      "source": [
        "# Check the lenght of how many samples we have\n",
        "len(X)"
      ],
      "metadata": {
        "colab": {
          "base_uri": "https://localhost:8080/"
        },
        "id": "-bSMy1zD5U9V",
        "outputId": "f792286e-fdbb-4ce8-bb63-5dc33b87d017"
      },
      "execution_count": null,
      "outputs": [
        {
          "output_type": "execute_result",
          "data": {
            "text/plain": [
              "50"
            ]
          },
          "metadata": {},
          "execution_count": 35
        }
      ]
    },
    {
      "cell_type": "code",
      "source": [
        "# Split the data into train and test sets\n",
        "X_train = X[:40] # First 40 are training samples (80% of the data)\n",
        "y_train = y[:40]\n",
        "\n",
        "X_test =  X[40:] # last 10 are training samples (20% of the data)\n",
        "y_test = y[40:]\n",
        "\n",
        "len(X_train), len(X_test), len(y_train), len(y_test)"
      ],
      "metadata": {
        "colab": {
          "base_uri": "https://localhost:8080/"
        },
        "id": "0KiN_0bA5uz6",
        "outputId": "d9797db1-1055-4987-e6cb-4fb00c5cdcf0"
      },
      "execution_count": null,
      "outputs": [
        {
          "output_type": "execute_result",
          "data": {
            "text/plain": [
              "(40, 10, 40, 10)"
            ]
          },
          "metadata": {},
          "execution_count": 36
        }
      ]
    },
    {
      "cell_type": "markdown",
      "source": [
        "### Visualizing the data\n",
        "\n",
        "Now we've got our data in training and test sets... let's visualize it again!"
      ],
      "metadata": {
        "id": "2YMvD2gw6bCQ"
      }
    },
    {
      "cell_type": "code",
      "source": [
        "plt.figure(figsize=(10, 7))\n",
        "# Plot training data in blue\n",
        "plt.scatter(X_train, y_train, c=\"b\", label=\"Training data\")\n",
        "# Plot test data in green\n",
        "plt.scatter(X_test, y_test, c = \"g\", label=\"Testing data\")\n",
        "# Show legend\n",
        "plt.legend()"
      ],
      "metadata": {
        "colab": {
          "base_uri": "https://localhost:8080/",
          "height": 616
        },
        "id": "EjJoj1ok6oFp",
        "outputId": "f49021b7-9861-4c74-be37-7448da291fab"
      },
      "execution_count": null,
      "outputs": [
        {
          "output_type": "execute_result",
          "data": {
            "text/plain": [
              "<matplotlib.legend.Legend at 0x7fdba650fac0>"
            ]
          },
          "metadata": {},
          "execution_count": 37
        },
        {
          "output_type": "display_data",
          "data": {
            "text/plain": [
              "<Figure size 1000x700 with 1 Axes>"
            ],
            "image/png": "[encoded data removed]"
          },
          "metadata": {}
        }
      ]
    },
    {
      "cell_type": "code",
      "source": [
        "# Let's have a look at how to build a neural network for our data\n",
        "\n",
        "# Set random seed\n",
        "tf.random.set_seed(42)\n",
        "\n",
        "# 1. Create a model\n",
        "mode = tf.keras.Sequential([\n",
        "    tf.keras.layers.Dense(1)\n",
        "])\n",
        "\n",
        "# 2. Compile a model\n",
        "model.compile(loss=tf.keras.losses.mae,\n",
        "              optimizer=tf.keras.optimizers.SGD(),\n",
        "              metrics=['mae'])\n",
        "\n",
        "#3.  Fit the model\n",
        "#model.fit(X_train, y_train, epochs=100)"
      ],
      "metadata": {
        "id": "YQafXADZ694E"
      },
      "execution_count": null,
      "outputs": []
    },
    {
      "cell_type": "markdown",
      "source": [
        "### Visualizing the model"
      ],
      "metadata": {
        "id": "AW57V2rt-bj_"
      }
    },
    {
      "cell_type": "code",
      "source": [
        "model.summary()"
      ],
      "metadata": {
        "colab": {
          "base_uri": "https://localhost:8080/"
        },
        "id": "TG4b1LV1-fGi",
        "outputId": "9edd1155-9821-4a9a-be57-ea5fcb49cdd1"
      },
      "execution_count": null,
      "outputs": [
        {
          "output_type": "stream",
          "name": "stdout",
          "text": [
            "Model: \"sequential_5\"\n",
            "_________________________________________________________________\n",
            " Layer (type)                Output Shape              Param #   \n",
            "=================================================================\n",
            " dense_10 (Dense)            (None, 50)                100       \n",
            "                                                                 \n",
            " dense_11 (Dense)            (None, 1)                 51        \n",
            "                                                                 \n",
            "=================================================================\n",
            "Total params: 151\n",
            "Trainable params: 151\n",
            "Non-trainable params: 0\n",
            "_________________________________________________________________\n"
          ]
        }
      ]
    },
    {
      "cell_type": "code",
      "source": [
        "# Let's create a model which build s automatically by defining the input_shape argument\n",
        "\n",
        "tf.random.set_seed(42)\n",
        "\n",
        "# Create a model (same as above)\n",
        "model = tf.keras.Sequential([\n",
        "    tf.keras.layers.Dense(10, input_shape=[1], name=\"input_layer\"),\n",
        "    tf.keras.layers.Dense(1, name=\"output_layer\")\n",
        "],name=\"model_1\")\n",
        "\n",
        "# 2. Compile the model\n",
        "model.compile(loss=tf.keras.losses.mae,\n",
        "              optimizer=tf.keras.optimizers.SGD(),\n",
        "              metrics=['mae'])"
      ],
      "metadata": {
        "id": "N27_uq9K-m3L"
      },
      "execution_count": null,
      "outputs": []
    },
    {
      "cell_type": "code",
      "source": [
        "model.summary()"
      ],
      "metadata": {
        "colab": {
          "base_uri": "https://localhost:8080/"
        },
        "id": "lgHv5Rxe_bNV",
        "outputId": "74c934e4-4141-414e-8b59-c92bccea2ae4"
      },
      "execution_count": null,
      "outputs": [
        {
          "output_type": "stream",
          "name": "stdout",
          "text": [
            "Model: \"model_1\"\n",
            "_________________________________________________________________\n",
            " Layer (type)                Output Shape              Param #   \n",
            "=================================================================\n",
            " input_layer (Dense)         (None, 10)                20        \n",
            "                                                                 \n",
            " output_layer (Dense)        (None, 1)                 11        \n",
            "                                                                 \n",
            "=================================================================\n",
            "Total params: 31\n",
            "Trainable params: 31\n",
            "Non-trainable params: 0\n",
            "_________________________________________________________________\n"
          ]
        }
      ]
    },
    {
      "cell_type": "markdown",
      "source": [
        "* Total params - total number of parameters in the model.\n",
        "* Trainable parameters - these are the parameters (patterns) the model can update as it trains.\n",
        "* Non-trainable params - these parameters aren't updated during training (this is typical when you bring in already learn patterns or parameters from other models during **transfer learning**).\n",
        "\n",
        "📖**Resource:** For a more in-depth overview of the trainable parameters within a layer, check out MIT's introduction to deep learning video.\n",
        "\n",
        "⚒ **Exercise:** Try playing around with the number of hidden units in the dense layer, see how that effects the number of parameters (total and trainable) by calling `model.summary()`."
      ],
      "metadata": {
        "id": "UBYN8_2q_mqD"
      }
    },
    {
      "cell_type": "code",
      "source": [
        "# Let's fit our model to the training data\n",
        "model.fit(X_train, y_train, epochs=100, verbose=1)"
      ],
      "metadata": {
        "colab": {
          "base_uri": "https://localhost:8080/"
        },
        "id": "rjOFd640_cor",
        "outputId": "b01c33b3-dd3c-444f-ada6-150544f4b4ea"
      },
      "execution_count": null,
      "outputs": [
        {
          "output_type": "stream",
          "name": "stdout",
          "text": [
            "Epoch 1/100\n",
            "2/2 [==============================] - 0s 12ms/step - loss: 53.5031 - mae: 53.5031\n",
            "Epoch 2/100\n",
            "2/2 [==============================] - 0s 9ms/step - loss: 28.9762 - mae: 28.9762\n",
            "Epoch 3/100\n",
            "2/2 [==============================] - 0s 7ms/step - loss: 33.1681 - mae: 33.1681\n",
            "Epoch 4/100\n",
            "2/2 [==============================] - 0s 7ms/step - loss: 21.5170 - mae: 21.5170\n",
            "Epoch 5/100\n",
            "2/2 [==============================] - 0s 7ms/step - loss: 14.3988 - mae: 14.3988\n",
            "Epoch 6/100\n",
            "2/2 [==============================] - 0s 8ms/step - loss: 11.5356 - mae: 11.5356\n",
            "Epoch 7/100\n",
            "2/2 [==============================] - 0s 7ms/step - loss: 12.6156 - mae: 12.6156\n",
            "Epoch 8/100\n",
            "2/2 [==============================] - 0s 8ms/step - loss: 11.0569 - mae: 11.0569\n",
            "Epoch 9/100\n",
            "2/2 [==============================] - 0s 7ms/step - loss: 39.8837 - mae: 39.8837\n",
            "Epoch 10/100\n",
            "2/2 [==============================] - 0s 7ms/step - loss: 27.3563 - mae: 27.3563\n",
            "Epoch 11/100\n",
            "2/2 [==============================] - 0s 10ms/step - loss: 11.0224 - mae: 11.0224\n",
            "Epoch 12/100\n",
            "2/2 [==============================] - 0s 9ms/step - loss: 24.3991 - mae: 24.3991\n",
            "Epoch 13/100\n",
            "2/2 [==============================] - 0s 10ms/step - loss: 19.4057 - mae: 19.4057\n",
            "Epoch 14/100\n",
            "2/2 [==============================] - 0s 10ms/step - loss: 23.6885 - mae: 23.6885\n",
            "Epoch 15/100\n",
            "2/2 [==============================] - 0s 7ms/step - loss: 15.7566 - mae: 15.7566\n",
            "Epoch 16/100\n",
            "2/2 [==============================] - 0s 8ms/step - loss: 10.4266 - mae: 10.4266\n",
            "Epoch 17/100\n",
            "2/2 [==============================] - 0s 8ms/step - loss: 19.6829 - mae: 19.6829\n",
            "Epoch 18/100\n",
            "2/2 [==============================] - 0s 10ms/step - loss: 13.3164 - mae: 13.3164\n",
            "Epoch 19/100\n",
            "2/2 [==============================] - 0s 8ms/step - loss: 16.3081 - mae: 16.3081\n",
            "Epoch 20/100\n",
            "2/2 [==============================] - 0s 8ms/step - loss: 8.2469 - mae: 8.2469\n",
            "Epoch 21/100\n",
            "2/2 [==============================] - 0s 8ms/step - loss: 14.4774 - mae: 14.4774\n",
            "Epoch 22/100\n",
            "2/2 [==============================] - 0s 9ms/step - loss: 12.8997 - mae: 12.8997\n",
            "Epoch 23/100\n",
            "2/2 [==============================] - 0s 11ms/step - loss: 15.5260 - mae: 15.5260\n",
            "Epoch 24/100\n",
            "2/2 [==============================] - 0s 10ms/step - loss: 15.3179 - mae: 15.3179\n",
            "Epoch 25/100\n",
            "2/2 [==============================] - 0s 7ms/step - loss: 14.3693 - mae: 14.3693\n",
            "Epoch 26/100\n",
            "2/2 [==============================] - 0s 13ms/step - loss: 19.4063 - mae: 19.4063\n",
            "Epoch 27/100\n",
            "2/2 [==============================] - 0s 10ms/step - loss: 11.4110 - mae: 11.4110\n",
            "Epoch 28/100\n",
            "2/2 [==============================] - 0s 12ms/step - loss: 28.8974 - mae: 28.8974\n",
            "Epoch 29/100\n",
            "2/2 [==============================] - 0s 11ms/step - loss: 9.2415 - mae: 9.2415\n",
            "Epoch 30/100\n",
            "2/2 [==============================] - 0s 10ms/step - loss: 29.6801 - mae: 29.6801\n",
            "Epoch 31/100\n",
            "2/2 [==============================] - 0s 7ms/step - loss: 53.8320 - mae: 53.8320\n",
            "Epoch 32/100\n",
            "2/2 [==============================] - 0s 9ms/step - loss: 9.5248 - mae: 9.5248\n",
            "Epoch 33/100\n",
            "2/2 [==============================] - 0s 11ms/step - loss: 12.1112 - mae: 12.1112\n",
            "Epoch 34/100\n",
            "2/2 [==============================] - 0s 12ms/step - loss: 23.7255 - mae: 23.7255\n",
            "Epoch 35/100\n",
            "2/2 [==============================] - 0s 11ms/step - loss: 12.6413 - mae: 12.6413\n",
            "Epoch 36/100\n",
            "2/2 [==============================] - 0s 7ms/step - loss: 21.5894 - mae: 21.5894\n",
            "Epoch 37/100\n",
            "2/2 [==============================] - 0s 9ms/step - loss: 11.3195 - mae: 11.3195\n",
            "Epoch 38/100\n",
            "2/2 [==============================] - 0s 7ms/step - loss: 13.3731 - mae: 13.3731\n",
            "Epoch 39/100\n",
            "2/2 [==============================] - 0s 7ms/step - loss: 10.7406 - mae: 10.7406\n",
            "Epoch 40/100\n",
            "2/2 [==============================] - 0s 9ms/step - loss: 16.4766 - mae: 16.4766\n",
            "Epoch 41/100\n",
            "2/2 [==============================] - 0s 7ms/step - loss: 10.9067 - mae: 10.9067\n",
            "Epoch 42/100\n",
            "2/2 [==============================] - 0s 7ms/step - loss: 9.2503 - mae: 9.2503\n",
            "Epoch 43/100\n",
            "2/2 [==============================] - 0s 9ms/step - loss: 9.5725 - mae: 9.5725\n",
            "Epoch 44/100\n",
            "2/2 [==============================] - 0s 8ms/step - loss: 27.8353 - mae: 27.8353\n",
            "Epoch 45/100\n",
            "2/2 [==============================] - 0s 13ms/step - loss: 11.2343 - mae: 11.2343\n",
            "Epoch 46/100\n",
            "2/2 [==============================] - 0s 11ms/step - loss: 13.8101 - mae: 13.8101\n",
            "Epoch 47/100\n",
            "2/2 [==============================] - 0s 7ms/step - loss: 11.9317 - mae: 11.9317\n",
            "Epoch 48/100\n",
            "2/2 [==============================] - 0s 7ms/step - loss: 16.9741 - mae: 16.9741\n",
            "Epoch 49/100\n",
            "2/2 [==============================] - 0s 7ms/step - loss: 9.7525 - mae: 9.7525\n",
            "Epoch 50/100\n",
            "2/2 [==============================] - 0s 7ms/step - loss: 14.1348 - mae: 14.1348\n",
            "Epoch 51/100\n",
            "2/2 [==============================] - 0s 7ms/step - loss: 11.7195 - mae: 11.7195\n",
            "Epoch 52/100\n",
            "2/2 [==============================] - 0s 7ms/step - loss: 31.3371 - mae: 31.3371\n",
            "Epoch 53/100\n",
            "2/2 [==============================] - 0s 10ms/step - loss: 14.6991 - mae: 14.6991\n",
            "Epoch 54/100\n",
            "2/2 [==============================] - 0s 9ms/step - loss: 24.5756 - mae: 24.5756\n",
            "Epoch 55/100\n",
            "2/2 [==============================] - 0s 8ms/step - loss: 23.8538 - mae: 23.8538\n",
            "Epoch 56/100\n",
            "2/2 [==============================] - 0s 7ms/step - loss: 11.0999 - mae: 11.0999\n",
            "Epoch 57/100\n",
            "2/2 [==============================] - 0s 8ms/step - loss: 13.0363 - mae: 13.0363\n",
            "Epoch 58/100\n",
            "2/2 [==============================] - 0s 8ms/step - loss: 9.7653 - mae: 9.7653\n",
            "Epoch 59/100\n",
            "2/2 [==============================] - 0s 8ms/step - loss: 13.2201 - mae: 13.2201\n",
            "Epoch 60/100\n",
            "2/2 [==============================] - 0s 7ms/step - loss: 10.8190 - mae: 10.8190\n",
            "Epoch 61/100\n",
            "2/2 [==============================] - 0s 7ms/step - loss: 13.4021 - mae: 13.4021\n",
            "Epoch 62/100\n",
            "2/2 [==============================] - 0s 7ms/step - loss: 17.3755 - mae: 17.3755\n",
            "Epoch 63/100\n",
            "2/2 [==============================] - 0s 7ms/step - loss: 9.1278 - mae: 9.1278\n",
            "Epoch 64/100\n",
            "2/2 [==============================] - 0s 7ms/step - loss: 18.2526 - mae: 18.2526\n",
            "Epoch 65/100\n",
            "2/2 [==============================] - 0s 7ms/step - loss: 10.0835 - mae: 10.0835\n",
            "Epoch 66/100\n",
            "2/2 [==============================] - 0s 7ms/step - loss: 24.0917 - mae: 24.0917\n",
            "Epoch 67/100\n",
            "2/2 [==============================] - 0s 7ms/step - loss: 10.8345 - mae: 10.8345\n",
            "Epoch 68/100\n",
            "2/2 [==============================] - 0s 7ms/step - loss: 10.7304 - mae: 10.7304\n",
            "Epoch 69/100\n",
            "2/2 [==============================] - 0s 7ms/step - loss: 23.0745 - mae: 23.0745\n",
            "Epoch 70/100\n",
            "2/2 [==============================] - 0s 8ms/step - loss: 8.8415 - mae: 8.8415\n",
            "Epoch 71/100\n",
            "2/2 [==============================] - 0s 7ms/step - loss: 16.0727 - mae: 16.0727\n",
            "Epoch 72/100\n",
            "2/2 [==============================] - 0s 8ms/step - loss: 7.7532 - mae: 7.7532\n",
            "Epoch 73/100\n",
            "2/2 [==============================] - 0s 8ms/step - loss: 10.1588 - mae: 10.1588\n",
            "Epoch 74/100\n",
            "2/2 [==============================] - 0s 7ms/step - loss: 28.3437 - mae: 28.3437\n",
            "Epoch 75/100\n",
            "2/2 [==============================] - 0s 7ms/step - loss: 9.9922 - mae: 9.9922\n",
            "Epoch 76/100\n",
            "2/2 [==============================] - 0s 7ms/step - loss: 12.9065 - mae: 12.9065\n",
            "Epoch 77/100\n",
            "2/2 [==============================] - 0s 7ms/step - loss: 17.8616 - mae: 17.8616\n",
            "Epoch 78/100\n",
            "2/2 [==============================] - 0s 7ms/step - loss: 8.9552 - mae: 8.9552\n",
            "Epoch 79/100\n",
            "2/2 [==============================] - 0s 7ms/step - loss: 28.6876 - mae: 28.6876\n",
            "Epoch 80/100\n",
            "2/2 [==============================] - 0s 7ms/step - loss: 31.0197 - mae: 31.0197\n",
            "Epoch 81/100\n",
            "2/2 [==============================] - 0s 7ms/step - loss: 13.3924 - mae: 13.3924\n",
            "Epoch 82/100\n",
            "2/2 [==============================] - 0s 7ms/step - loss: 14.5196 - mae: 14.5196\n",
            "Epoch 83/100\n",
            "2/2 [==============================] - 0s 7ms/step - loss: 18.5384 - mae: 18.5384\n",
            "Epoch 84/100\n",
            "2/2 [==============================] - 0s 9ms/step - loss: 8.8109 - mae: 8.8109\n",
            "Epoch 85/100\n",
            "2/2 [==============================] - 0s 10ms/step - loss: 18.4112 - mae: 18.4112\n",
            "Epoch 86/100\n",
            "2/2 [==============================] - 0s 8ms/step - loss: 22.5625 - mae: 22.5625\n",
            "Epoch 87/100\n",
            "2/2 [==============================] - 0s 7ms/step - loss: 11.3660 - mae: 11.3660\n",
            "Epoch 88/100\n",
            "2/2 [==============================] - 0s 6ms/step - loss: 26.5917 - mae: 26.5917\n",
            "Epoch 89/100\n",
            "2/2 [==============================] - 0s 8ms/step - loss: 9.6529 - mae: 9.6529\n",
            "Epoch 90/100\n",
            "2/2 [==============================] - 0s 6ms/step - loss: 18.7439 - mae: 18.7439\n",
            "Epoch 91/100\n",
            "2/2 [==============================] - 0s 7ms/step - loss: 10.4890 - mae: 10.4890\n",
            "Epoch 92/100\n",
            "2/2 [==============================] - 0s 7ms/step - loss: 17.9745 - mae: 17.9745\n",
            "Epoch 93/100\n",
            "2/2 [==============================] - 0s 8ms/step - loss: 6.5829 - mae: 6.5829\n",
            "Epoch 94/100\n",
            "2/2 [==============================] - 0s 7ms/step - loss: 11.1388 - mae: 11.1388\n",
            "Epoch 95/100\n",
            "2/2 [==============================] - 0s 7ms/step - loss: 24.3280 - mae: 24.3280\n",
            "Epoch 96/100\n",
            "2/2 [==============================] - 0s 7ms/step - loss: 10.7442 - mae: 10.7442\n",
            "Epoch 97/100\n",
            "2/2 [==============================] - 0s 7ms/step - loss: 15.3360 - mae: 15.3360\n",
            "Epoch 98/100\n",
            "2/2 [==============================] - 0s 7ms/step - loss: 8.2608 - mae: 8.2608\n",
            "Epoch 99/100\n",
            "2/2 [==============================] - 0s 8ms/step - loss: 16.4984 - mae: 16.4984\n",
            "Epoch 100/100\n",
            "2/2 [==============================] - 0s 7ms/step - loss: 14.2906 - mae: 14.2906\n"
          ]
        },
        {
          "output_type": "execute_result",
          "data": {
            "text/plain": [
              "<keras.callbacks.History at 0x7fdba6481d20>"
            ]
          },
          "metadata": {},
          "execution_count": 42
        }
      ]
    },
    {
      "cell_type": "code",
      "source": [
        "# Get a summary of our model\n",
        "model.summary()"
      ],
      "metadata": {
        "colab": {
          "base_uri": "https://localhost:8080/"
        },
        "id": "DY7W5SzpCROa",
        "outputId": "5496b5c2-57a8-4e68-f404-b0271219ac8c"
      },
      "execution_count": null,
      "outputs": [
        {
          "output_type": "stream",
          "name": "stdout",
          "text": [
            "Model: \"model_1\"\n",
            "_________________________________________________________________\n",
            " Layer (type)                Output Shape              Param #   \n",
            "=================================================================\n",
            " input_layer (Dense)         (None, 10)                20        \n",
            "                                                                 \n",
            " output_layer (Dense)        (None, 1)                 11        \n",
            "                                                                 \n",
            "=================================================================\n",
            "Total params: 31\n",
            "Trainable params: 31\n",
            "Non-trainable params: 0\n",
            "_________________________________________________________________\n"
          ]
        }
      ]
    },
    {
      "cell_type": "code",
      "source": [
        "from tensorflow.keras.utils import plot_model\n",
        "\n",
        "plot_model(model=model, show_shapes=True)"
      ],
      "metadata": {
        "colab": {
          "base_uri": "https://localhost:8080/",
          "height": 312
        },
        "id": "7S_fpJU9Hj9h",
        "outputId": "ec1405c4-8b75-438f-d13f-1545198bab4d"
      },
      "execution_count": null,
      "outputs": [
        {
          "output_type": "execute_result",
          "data": {
            "image/png": "[encoded data removed]",
            "text/plain": [
              "<IPython.core.display.Image object>"
            ]
          },
          "metadata": {},
          "execution_count": 44
        }
      ]
    },
    {
      "cell_type": "markdown",
      "source": [
        "### Visualizing our model's predictions\n",
        "\n",
        "To visualize predictions, it's a good idea to plot them against the ground truth labels.\n",
        "\n",
        "Often you'll see this the form of `y_test` or `y_true` versus `y_pred` (ground truth versus your model's predictions)."
      ],
      "metadata": {
        "id": "Inq5ExyXIBk2"
      }
    },
    {
      "cell_type": "code",
      "source": [
        "# Make some predictions\n",
        "y_pred = model.predict(X_test)\n",
        "y_pred"
      ],
      "metadata": {
        "colab": {
          "base_uri": "https://localhost:8080/"
        },
        "id": "UpDhSOq-JjHS",
        "outputId": "a9d5a51b-3306-4db3-c82d-8f742eff977a"
      },
      "execution_count": null,
      "outputs": [
        {
          "output_type": "stream",
          "name": "stdout",
          "text": [
            "1/1 [==============================] - 0s 81ms/step\n"
          ]
        },
        {
          "output_type": "execute_result",
          "data": {
            "text/plain": [
              "array([[ 76.25216 ],\n",
              "       [ 81.22227 ],\n",
              "       [ 86.19237 ],\n",
              "       [ 91.162476],\n",
              "       [ 96.13257 ],\n",
              "       [101.10268 ],\n",
              "       [106.072784],\n",
              "       [111.042885],\n",
              "       [116.01299 ],\n",
              "       [120.98308 ]], dtype=float32)"
            ]
          },
          "metadata": {},
          "execution_count": 45
        }
      ]
    },
    {
      "cell_type": "code",
      "source": [
        "y_test"
      ],
      "metadata": {
        "colab": {
          "base_uri": "https://localhost:8080/"
        },
        "id": "R6jcfmkQPZLu",
        "outputId": "4c5f760a-e659-41ce-db4d-673cfe287ea6"
      },
      "execution_count": null,
      "outputs": [
        {
          "output_type": "execute_result",
          "data": {
            "text/plain": [
              "<tf.Tensor: shape=(10,), dtype=int32, numpy=array([ 70,  74,  78,  82,  86,  90,  94,  98, 102, 106], dtype=int32)>"
            ]
          },
          "metadata": {},
          "execution_count": 46
        }
      ]
    },
    {
      "cell_type": "markdown",
      "source": [
        "🔑 **Note:** If you feel like you're going to reuse some kind of functionality in the future, it's a good idea to turn it into a function."
      ],
      "metadata": {
        "id": "w7QTCmSkPwJ0"
      }
    },
    {
      "cell_type": "code",
      "source": [
        "# Let's create a plotting function\n",
        "def plot_predictions(train_data=X_train,\n",
        "                     train_labels=y_train,\n",
        "                     test_data=X_test,\n",
        "                     test_labels=y_test,\n",
        "                     predictions=y_pred):\n",
        "  \"\"\"\n",
        "  Plots training data, test data and compares predictions to ground truth labels.\n",
        "  \"\"\"\n",
        "\n",
        "  plt.figure(figsize=(10, 7))\n",
        "  # Plot training data in blue\n",
        "  plt.scatter(train_data, train_labels, c=\"b\", label=\"Training data\")\n",
        "  # Plot testing data in green\n",
        "  plt.scatter(test_data, test_labels, c=\"g\", label=\"Testing data\")\n",
        "  # Plot model's prediction\n",
        "  plt.scatter(test_data, predictions, c=\"r\", label=\"Predictions\")\n",
        "  # Show the legend\n",
        "  plt.legend();\n"
      ],
      "metadata": {
        "id": "SSN56UAFPb4c"
      },
      "execution_count": null,
      "outputs": []
    },
    {
      "cell_type": "code",
      "source": [
        "plot_predictions(train_data = X_train,\n",
        "                 train_labels=y_train,\n",
        "                 test_data = X_test,\n",
        "                 test_labels=y_test,\n",
        "                 predictions=y_pred)"
      ],
      "metadata": {
        "colab": {
          "base_uri": "https://localhost:8080/",
          "height": 599
        },
        "id": "fZqNqsJTQ75O",
        "outputId": "cd3c4f4a-3f57-4a66-d2fe-bc6d502cad97"
      },
      "execution_count": null,
      "outputs": [
        {
          "output_type": "display_data",
          "data": {
            "text/plain": [
              "<Figure size 1000x700 with 1 Axes>"
            ],
            "image/png": "[encoded data removed]"
          },
          "metadata": {}
        }
      ]
    },
    {
      "cell_type": "markdown",
      "source": [
        "### Evaluting our model's predictions with regression evaluation metrics\n",
        "\n",
        "Depending on the problem you're working on, there will be different metrics to evaluate your model's performance.\n",
        "\n",
        "Since we're working on a regression, two of the main metrics:\n",
        "* MAE - mean absolute error - \"on average, how wrong is each of my model's predictions\". `(As a great starter metric for any regression problem.)`\n",
        "* MSE - mean square error - \"square the average errors\" `(When larger errors are more significant than smaller errors.)`"
      ],
      "metadata": {
        "id": "hDtO_6vAQ-50"
      }
    },
    {
      "cell_type": "code",
      "source": [
        "# Evaluate the model on the test\n",
        "model.evaluate(X_test, y_test)"
      ],
      "metadata": {
        "colab": {
          "base_uri": "https://localhost:8080/"
        },
        "id": "BXdsq0oBRlFP",
        "outputId": "02e087e9-5868-4bc5-afbd-cc4cb327ec0d"
      },
      "execution_count": null,
      "outputs": [
        {
          "output_type": "stream",
          "name": "stdout",
          "text": [
            "1/1 [==============================] - 0s 152ms/step - loss: 10.6176 - mae: 10.6176\n"
          ]
        },
        {
          "output_type": "execute_result",
          "data": {
            "text/plain": [
              "[10.61762809753418, 10.61762809753418]"
            ]
          },
          "metadata": {},
          "execution_count": 49
        }
      ]
    },
    {
      "cell_type": "code",
      "source": [
        "# Calculate the mean absolute error\n",
        "mae = tf.metrics.mean_absolute_error(y_true = y_test,\n",
        "                                     y_pred = tf.constant(y_pred))\n",
        "\n",
        "mae"
      ],
      "metadata": {
        "colab": {
          "base_uri": "https://localhost:8080/"
        },
        "id": "YwU8hHlhVk9_",
        "outputId": "6ccccdfd-e0f6-457e-c247-d857197d07f1"
      },
      "execution_count": null,
      "outputs": [
        {
          "output_type": "execute_result",
          "data": {
            "text/plain": [
              "<tf.Tensor: shape=(10,), dtype=float32, numpy=\n",
              "array([13.448705 , 11.1110935, 10.       , 10.232495 , 11.653028 ,\n",
              "       14.261606 , 18.072784 , 23.042885 , 28.012995 , 32.983078 ],\n",
              "      dtype=float32)>"
            ]
          },
          "metadata": {},
          "execution_count": 50
        }
      ]
    },
    {
      "cell_type": "code",
      "source": [
        "tf.constant(y_pred)"
      ],
      "metadata": {
        "colab": {
          "base_uri": "https://localhost:8080/"
        },
        "id": "4w46xPQ7VVs5",
        "outputId": "92fdfc1e-d72e-4ad5-e12a-d464df4b0156"
      },
      "execution_count": null,
      "outputs": [
        {
          "output_type": "execute_result",
          "data": {
            "text/plain": [
              "<tf.Tensor: shape=(10, 1), dtype=float32, numpy=\n",
              "array([[ 76.25216 ],\n",
              "       [ 81.22227 ],\n",
              "       [ 86.19237 ],\n",
              "       [ 91.162476],\n",
              "       [ 96.13257 ],\n",
              "       [101.10268 ],\n",
              "       [106.072784],\n",
              "       [111.042885],\n",
              "       [116.01299 ],\n",
              "       [120.98308 ]], dtype=float32)>"
            ]
          },
          "metadata": {},
          "execution_count": 51
        }
      ]
    },
    {
      "cell_type": "code",
      "source": [
        "y_test\n"
      ],
      "metadata": {
        "colab": {
          "base_uri": "https://localhost:8080/"
        },
        "id": "x8APFYcNVjBF",
        "outputId": "27e7230d-9e1f-4489-9a19-07bf52413eb7"
      },
      "execution_count": null,
      "outputs": [
        {
          "output_type": "execute_result",
          "data": {
            "text/plain": [
              "<tf.Tensor: shape=(10,), dtype=int32, numpy=array([ 70,  74,  78,  82,  86,  90,  94,  98, 102, 106], dtype=int32)>"
            ]
          },
          "metadata": {},
          "execution_count": 52
        }
      ]
    },
    {
      "cell_type": "code",
      "source": [
        "tf.squeeze(y_pred)"
      ],
      "metadata": {
        "colab": {
          "base_uri": "https://localhost:8080/"
        },
        "id": "nPZyyWV5WbMU",
        "outputId": "1daee99c-ce5d-4f99-e01b-78193b7b84c0"
      },
      "execution_count": null,
      "outputs": [
        {
          "output_type": "execute_result",
          "data": {
            "text/plain": [
              "<tf.Tensor: shape=(10,), dtype=float32, numpy=\n",
              "array([ 76.25216 ,  81.22227 ,  86.19237 ,  91.162476,  96.13257 ,\n",
              "       101.10268 , 106.072784, 111.042885, 116.01299 , 120.98308 ],\n",
              "      dtype=float32)>"
            ]
          },
          "metadata": {},
          "execution_count": 53
        }
      ]
    },
    {
      "cell_type": "code",
      "source": [
        "# Calculate the mean absolute error\n",
        "mae = tf.metrics.mean_absolute_error(y_true=y_test,\n",
        "                                     y_pred=tf.squeeze(y_pred))\n",
        "\n",
        "mae"
      ],
      "metadata": {
        "colab": {
          "base_uri": "https://localhost:8080/"
        },
        "id": "KQ8lZaBxW8rp",
        "outputId": "88b24396-ef10-4a40-cb98-10ea24d5183c"
      },
      "execution_count": null,
      "outputs": [
        {
          "output_type": "execute_result",
          "data": {
            "text/plain": [
              "<tf.Tensor: shape=(), dtype=float32, numpy=10.617625>"
            ]
          },
          "metadata": {},
          "execution_count": 54
        }
      ]
    },
    {
      "cell_type": "code",
      "source": [
        "# calculate the mean square error\n",
        "mse = tf.metrics.mean_squared_error(y_true=y_test,\n",
        "                                    y_pred=tf.squeeze(y_pred))\n",
        "mse"
      ],
      "metadata": {
        "colab": {
          "base_uri": "https://localhost:8080/"
        },
        "id": "IR8OSzaGXNUY",
        "outputId": "8ba5bd34-ab30-4d05-bfed-98f764a3e6f0"
      },
      "execution_count": null,
      "outputs": [
        {
          "output_type": "execute_result",
          "data": {
            "text/plain": [
              "<tf.Tensor: shape=(), dtype=float32, numpy=120.49803>"
            ]
          },
          "metadata": {},
          "execution_count": 55
        }
      ]
    },
    {
      "cell_type": "code",
      "source": [
        "huber = tf.metrics.Huber(y_true=y_test,\n",
        "                         y_pred=tf.squeeze(y_pred))\n",
        "huber"
      ],
      "metadata": {
        "colab": {
          "base_uri": "https://localhost:8080/",
          "height": 200
        },
        "id": "WufUIXK_YCyZ",
        "outputId": "ec767b92-5465-488c-dc09-186542317f44"
      },
      "execution_count": null,
      "outputs": [
        {
          "output_type": "error",
          "ename": "AttributeError",
          "evalue": "ignored",
          "traceback": [
            "\u001b[0;31m---------------------------------------------------------------------------\u001b[0m",
            "\u001b[0;31mAttributeError\u001b[0m                            Traceback (most recent call last)",
            "\u001b[0;32m<ipython-input-56-ed252cbebbd6>\u001b[0m in \u001b[0;36m<cell line: 1>\u001b[0;34m()\u001b[0m\n\u001b[0;32m----> 1\u001b[0;31m huber = tf.metrics.Huber(y_true=y_test,\n\u001b[0m\u001b[1;32m      2\u001b[0m                          y_pred=tf.squeeze(y_pred))\n\u001b[1;32m      3\u001b[0m \u001b[0mhuber\u001b[0m\u001b[0;34m\u001b[0m\u001b[0;34m\u001b[0m\u001b[0m\n",
            "\u001b[0;31mAttributeError\u001b[0m: module 'keras.api._v2.keras.metrics' has no attribute 'Huber'"
          ]
        }
      ]
    },
    {
      "cell_type": "code",
      "source": [
        "def mae(y_true, y_pred):\n",
        "  return tf.metrics.mean_absolute_error(y_true = y_true,#y_test\n",
        "                                        y_pred= tf.squeeze(y_pred))\n",
        "\n",
        "def mse(y_true, y_pred):\n",
        "  return tf.metrics.mean_squared_error(y_true = y_true, #y_test\n",
        "                                       y_pred = tf.squeeze(y_pred))"
      ],
      "metadata": {
        "id": "slz-sZtDYwKu"
      },
      "execution_count": null,
      "outputs": []
    },
    {
      "cell_type": "markdown",
      "source": [
        "## Running experiments to improve our model\n",
        "\n",
        "```\n",
        "Build a model -> Fit it -> Evaluate it -> Tweak it -> Fit it -> Evaluate it -> Tweak it -> Fit it -> Evaluate it ...\n",
        "```\n",
        "1. Get more data - get more example for your model to train on (more opportunities to learn patterns or relationships between features and labels).\n",
        "2. Make your model larger (using a more complex model) - this might come in the form of more layers or more hidden units in each layer.\n",
        "3. Train for layer - give your model more of a chance to find patterns in the data.\n",
        "\n",
        "\n",
        "The Machine Leaning explorer's motto \"Visualize, visualize, visualize\"\n",
        "\n",
        "The Machine Learning practitioner's motto\n",
        "\"Experiment, experiment, experiment\"\n",
        "\n",
        "Let's do 3 modelling experiments:\n",
        "1. `model_1` - same as the original model, 1 layer, train for 100 epochs.\n",
        "2. `model_2` - 2 layers, trained for 100 epochs.\n",
        "3. `model_3` - 2 layers, trained for 500 epochs.\n",
        "\n",
        "**Build `model_1`**\n"
      ],
      "metadata": {
        "id": "xpK4xijyZW-9"
      }
    },
    {
      "cell_type": "code",
      "source": [
        "# Set random seed\n",
        "tf.random.set_seed(42)\n",
        "\n",
        "# 1. Create the model\n",
        "model_1 = tf.keras.Sequential([\n",
        "    tf.keras.layers.Dense(1)\n",
        "])\n",
        "\n",
        "# 2. Compile the model\n",
        "model_1.compile(loss=tf.keras.losses.mae,\n",
        "                optimizer=tf.keras.optimizers.SGD(),\n",
        "                metrics=[\"mae\"]\n",
        "                )\n",
        "\n",
        "# 3. Fit the model\n",
        "#model_1.fit(X_train, y_train, epochs=100, verbose=1)\n",
        "\n",
        "model_1.fit(tf.expand_dims(X_train,axis=1),y_train,epochs=100, verbose=1)"
      ],
      "metadata": {
        "colab": {
          "base_uri": "https://localhost:8080/"
        },
        "id": "mQnRgTm0H9vX",
        "outputId": "27a2d0e9-889f-47e5-ac54-b85ce077b49c"
      },
      "execution_count": null,
      "outputs": [
        {
          "output_type": "stream",
          "name": "stdout",
          "text": [
            "Epoch 1/100\n",
            "2/2 [==============================] - 0s 11ms/step - loss: 46.0048 - mae: 46.0048\n",
            "Epoch 2/100\n",
            "2/2 [==============================] - 0s 10ms/step - loss: 15.1193 - mae: 15.1193\n",
            "Epoch 3/100\n",
            "2/2 [==============================] - 0s 7ms/step - loss: 14.3232 - mae: 14.3232\n",
            "Epoch 4/100\n",
            "2/2 [==============================] - 0s 9ms/step - loss: 7.6887 - mae: 7.6887\n",
            "Epoch 5/100\n",
            "2/2 [==============================] - 0s 8ms/step - loss: 9.1125 - mae: 9.1125\n",
            "Epoch 6/100\n",
            "2/2 [==============================] - 0s 8ms/step - loss: 8.5928 - mae: 8.5928\n",
            "Epoch 7/100\n",
            "2/2 [==============================] - 0s 9ms/step - loss: 9.0196 - mae: 9.0196\n",
            "Epoch 8/100\n",
            "2/2 [==============================] - 0s 8ms/step - loss: 9.0920 - mae: 9.0920\n",
            "Epoch 9/100\n",
            "2/2 [==============================] - 0s 7ms/step - loss: 19.8568 - mae: 19.8568\n",
            "Epoch 10/100\n",
            "2/2 [==============================] - 0s 7ms/step - loss: 10.7364 - mae: 10.7364\n",
            "Epoch 11/100\n",
            "2/2 [==============================] - 0s 7ms/step - loss: 8.6522 - mae: 8.6522\n",
            "Epoch 12/100\n",
            "2/2 [==============================] - 0s 8ms/step - loss: 9.6395 - mae: 9.6395\n",
            "Epoch 13/100\n",
            "2/2 [==============================] - 0s 7ms/step - loss: 12.9490 - mae: 12.9490\n",
            "Epoch 14/100\n",
            "2/2 [==============================] - 0s 7ms/step - loss: 14.2438 - mae: 14.2438\n",
            "Epoch 15/100\n",
            "2/2 [==============================] - 0s 7ms/step - loss: 11.6501 - mae: 11.6501\n",
            "Epoch 16/100\n",
            "2/2 [==============================] - 0s 7ms/step - loss: 8.4807 - mae: 8.4807\n",
            "Epoch 17/100\n",
            "2/2 [==============================] - 0s 8ms/step - loss: 13.4863 - mae: 13.4863\n",
            "Epoch 18/100\n",
            "2/2 [==============================] - 0s 8ms/step - loss: 11.2743 - mae: 11.2743\n",
            "Epoch 19/100\n",
            "2/2 [==============================] - 0s 6ms/step - loss: 18.2602 - mae: 18.2602\n",
            "Epoch 20/100\n",
            "2/2 [==============================] - 0s 7ms/step - loss: 14.9686 - mae: 14.9686\n",
            "Epoch 21/100\n",
            "2/2 [==============================] - 0s 8ms/step - loss: 10.8523 - mae: 10.8523\n",
            "Epoch 22/100\n",
            "2/2 [==============================] - 0s 8ms/step - loss: 8.6032 - mae: 8.6032\n",
            "Epoch 23/100\n",
            "2/2 [==============================] - 0s 8ms/step - loss: 9.7241 - mae: 9.7241\n",
            "Epoch 24/100\n",
            "2/2 [==============================] - 0s 7ms/step - loss: 10.9635 - mae: 10.9635\n",
            "Epoch 25/100\n",
            "2/2 [==============================] - 0s 7ms/step - loss: 9.1705 - mae: 9.1705\n",
            "Epoch 26/100\n",
            "2/2 [==============================] - 0s 7ms/step - loss: 13.2009 - mae: 13.2009\n",
            "Epoch 27/100\n",
            "2/2 [==============================] - 0s 6ms/step - loss: 10.6741 - mae: 10.6741\n",
            "Epoch 28/100\n",
            "2/2 [==============================] - 0s 7ms/step - loss: 12.8935 - mae: 12.8935\n",
            "Epoch 29/100\n",
            "2/2 [==============================] - 0s 7ms/step - loss: 9.5200 - mae: 9.5200\n",
            "Epoch 30/100\n",
            "2/2 [==============================] - 0s 9ms/step - loss: 16.4147 - mae: 16.4147\n",
            "Epoch 31/100\n",
            "2/2 [==============================] - 0s 8ms/step - loss: 23.5841 - mae: 23.5841\n",
            "Epoch 32/100\n",
            "2/2 [==============================] - 0s 7ms/step - loss: 7.6208 - mae: 7.6208\n",
            "Epoch 33/100\n",
            "2/2 [==============================] - 0s 8ms/step - loss: 9.3178 - mae: 9.3178\n",
            "Epoch 34/100\n",
            "2/2 [==============================] - 0s 7ms/step - loss: 13.6927 - mae: 13.6927\n",
            "Epoch 35/100\n",
            "2/2 [==============================] - 0s 7ms/step - loss: 11.1633 - mae: 11.1633\n",
            "Epoch 36/100\n",
            "2/2 [==============================] - 0s 9ms/step - loss: 13.3820 - mae: 13.3820\n",
            "Epoch 37/100\n",
            "2/2 [==============================] - 0s 9ms/step - loss: 9.4646 - mae: 9.4646\n",
            "Epoch 38/100\n",
            "2/2 [==============================] - 0s 9ms/step - loss: 10.1179 - mae: 10.1179\n",
            "Epoch 39/100\n",
            "2/2 [==============================] - 0s 8ms/step - loss: 10.2153 - mae: 10.2153\n",
            "Epoch 40/100\n",
            "2/2 [==============================] - 0s 8ms/step - loss: 10.9584 - mae: 10.9584\n",
            "Epoch 41/100\n",
            "2/2 [==============================] - 0s 8ms/step - loss: 7.9353 - mae: 7.9353\n",
            "Epoch 42/100\n",
            "2/2 [==============================] - 0s 7ms/step - loss: 10.5958 - mae: 10.5958\n",
            "Epoch 43/100\n",
            "2/2 [==============================] - 0s 7ms/step - loss: 7.2214 - mae: 7.2214\n",
            "Epoch 44/100\n",
            "2/2 [==============================] - 0s 7ms/step - loss: 8.0080 - mae: 8.0080\n",
            "Epoch 45/100\n",
            "2/2 [==============================] - 0s 12ms/step - loss: 9.8021 - mae: 9.8021\n",
            "Epoch 46/100\n",
            "2/2 [==============================] - 0s 7ms/step - loss: 8.8780 - mae: 8.8780\n",
            "Epoch 47/100\n",
            "2/2 [==============================] - 0s 7ms/step - loss: 7.5836 - mae: 7.5836\n",
            "Epoch 48/100\n",
            "2/2 [==============================] - 0s 7ms/step - loss: 8.5823 - mae: 8.5823\n",
            "Epoch 49/100\n",
            "2/2 [==============================] - 0s 5ms/step - loss: 10.0077 - mae: 10.0077\n",
            "Epoch 50/100\n",
            "2/2 [==============================] - 0s 9ms/step - loss: 9.0337 - mae: 9.0337\n",
            "Epoch 51/100\n",
            "2/2 [==============================] - 0s 7ms/step - loss: 10.6776 - mae: 10.6776\n",
            "Epoch 52/100\n",
            "2/2 [==============================] - 0s 9ms/step - loss: 15.3053 - mae: 15.3053\n",
            "Epoch 53/100\n",
            "2/2 [==============================] - 0s 6ms/step - loss: 14.3253 - mae: 14.3253\n",
            "Epoch 54/100\n",
            "2/2 [==============================] - 0s 9ms/step - loss: 21.6186 - mae: 21.6186\n",
            "Epoch 55/100\n",
            "2/2 [==============================] - 0s 8ms/step - loss: 15.9955 - mae: 15.9955\n",
            "Epoch 56/100\n",
            "2/2 [==============================] - 0s 8ms/step - loss: 10.2967 - mae: 10.2967\n",
            "Epoch 57/100\n",
            "2/2 [==============================] - 0s 7ms/step - loss: 9.7770 - mae: 9.7770\n",
            "Epoch 58/100\n",
            "2/2 [==============================] - 0s 11ms/step - loss: 9.0632 - mae: 9.0632\n",
            "Epoch 59/100\n",
            "2/2 [==============================] - 0s 7ms/step - loss: 8.2665 - mae: 8.2665\n",
            "Epoch 60/100\n",
            "2/2 [==============================] - 0s 7ms/step - loss: 9.3648 - mae: 9.3648\n",
            "Epoch 61/100\n",
            "2/2 [==============================] - 0s 9ms/step - loss: 11.1737 - mae: 11.1737\n",
            "Epoch 62/100\n",
            "2/2 [==============================] - 0s 8ms/step - loss: 12.0856 - mae: 12.0856\n",
            "Epoch 63/100\n",
            "2/2 [==============================] - 0s 8ms/step - loss: 7.2785 - mae: 7.2785\n",
            "Epoch 64/100\n",
            "2/2 [==============================] - 0s 7ms/step - loss: 12.4365 - mae: 12.4365\n",
            "Epoch 65/100\n",
            "2/2 [==============================] - 0s 8ms/step - loss: 10.5096 - mae: 10.5096\n",
            "Epoch 66/100\n",
            "2/2 [==============================] - 0s 7ms/step - loss: 15.6178 - mae: 15.6178\n",
            "Epoch 67/100\n",
            "2/2 [==============================] - 0s 7ms/step - loss: 10.0207 - mae: 10.0207\n",
            "Epoch 68/100\n",
            "2/2 [==============================] - 0s 8ms/step - loss: 8.7315 - mae: 8.7315\n",
            "Epoch 69/100\n",
            "2/2 [==============================] - 0s 8ms/step - loss: 13.4954 - mae: 13.4954\n",
            "Epoch 70/100\n",
            "2/2 [==============================] - 0s 8ms/step - loss: 7.4791 - mae: 7.4791\n",
            "Epoch 71/100\n",
            "2/2 [==============================] - 0s 7ms/step - loss: 12.2365 - mae: 12.2365\n",
            "Epoch 72/100\n",
            "2/2 [==============================] - 0s 6ms/step - loss: 8.5421 - mae: 8.5421\n",
            "Epoch 73/100\n",
            "2/2 [==============================] - 0s 7ms/step - loss: 7.0491 - mae: 7.0491\n",
            "Epoch 74/100\n",
            "2/2 [==============================] - 0s 6ms/step - loss: 9.9390 - mae: 9.9390\n",
            "Epoch 75/100\n",
            "2/2 [==============================] - 0s 7ms/step - loss: 9.9465 - mae: 9.9465\n",
            "Epoch 76/100\n",
            "2/2 [==============================] - 0s 9ms/step - loss: 10.1130 - mae: 10.1130\n",
            "Epoch 77/100\n",
            "2/2 [==============================] - 0s 11ms/step - loss: 12.9599 - mae: 12.9599\n",
            "Epoch 78/100\n",
            "2/2 [==============================] - 0s 9ms/step - loss: 11.1569 - mae: 11.1569\n",
            "Epoch 79/100\n",
            "2/2 [==============================] - 0s 7ms/step - loss: 14.7079 - mae: 14.7079\n",
            "Epoch 80/100\n",
            "2/2 [==============================] - 0s 9ms/step - loss: 8.9344 - mae: 8.9344\n",
            "Epoch 81/100\n",
            "2/2 [==============================] - 0s 9ms/step - loss: 10.7781 - mae: 10.7781\n",
            "Epoch 82/100\n",
            "2/2 [==============================] - 0s 8ms/step - loss: 8.3978 - mae: 8.3978\n",
            "Epoch 83/100\n",
            "2/2 [==============================] - 0s 8ms/step - loss: 9.2339 - mae: 9.2339\n",
            "Epoch 84/100\n",
            "2/2 [==============================] - 0s 6ms/step - loss: 8.9520 - mae: 8.9520\n",
            "Epoch 85/100\n",
            "2/2 [==============================] - 0s 7ms/step - loss: 13.2032 - mae: 13.2032\n",
            "Epoch 86/100\n",
            "2/2 [==============================] - 0s 7ms/step - loss: 13.7104 - mae: 13.7104\n",
            "Epoch 87/100\n",
            "2/2 [==============================] - 0s 7ms/step - loss: 13.1948 - mae: 13.1948\n",
            "Epoch 88/100\n",
            "2/2 [==============================] - 0s 7ms/step - loss: 11.5216 - mae: 11.5216\n",
            "Epoch 89/100\n",
            "2/2 [==============================] - 0s 7ms/step - loss: 7.8129 - mae: 7.8129\n",
            "Epoch 90/100\n",
            "2/2 [==============================] - 0s 7ms/step - loss: 10.9373 - mae: 10.9373\n",
            "Epoch 91/100\n",
            "2/2 [==============================] - 0s 7ms/step - loss: 6.7594 - mae: 6.7594\n",
            "Epoch 92/100\n",
            "2/2 [==============================] - 0s 8ms/step - loss: 10.1299 - mae: 10.1299\n",
            "Epoch 93/100\n",
            "2/2 [==============================] - 0s 7ms/step - loss: 7.6167 - mae: 7.6167\n",
            "Epoch 94/100\n",
            "2/2 [==============================] - 0s 10ms/step - loss: 9.2496 - mae: 9.2496\n",
            "Epoch 95/100\n",
            "2/2 [==============================] - 0s 11ms/step - loss: 10.8396 - mae: 10.8396\n",
            "Epoch 96/100\n",
            "2/2 [==============================] - 0s 7ms/step - loss: 10.3015 - mae: 10.3015\n",
            "Epoch 97/100\n",
            "2/2 [==============================] - 0s 7ms/step - loss: 7.6887 - mae: 7.6887\n",
            "Epoch 98/100\n",
            "2/2 [==============================] - 0s 8ms/step - loss: 8.6243 - mae: 8.6243\n",
            "Epoch 99/100\n",
            "2/2 [==============================] - 0s 6ms/step - loss: 9.4032 - mae: 9.4032\n",
            "Epoch 100/100\n",
            "2/2 [==============================] - 0s 7ms/step - loss: 8.8484 - mae: 8.8484\n"
          ]
        },
        {
          "output_type": "execute_result",
          "data": {
            "text/plain": [
              "<keras.callbacks.History at 0x7fdb9fe32dd0>"
            ]
          },
          "metadata": {},
          "execution_count": 70
        }
      ]
    },
    {
      "cell_type": "code",
      "source": [
        "# Make and plot predictions for model_1\n",
        "y_preds_1 = model_1.predict(X_test)\n",
        "plot_predictions(predictions=y_preds_1)"
      ],
      "metadata": {
        "colab": {
          "base_uri": "https://localhost:8080/",
          "height": 616
        },
        "id": "iJ_rH-BDHNxk",
        "outputId": "f670da8d-b449-40a1-ae97-2013ef9810c6"
      },
      "execution_count": null,
      "outputs": [
        {
          "output_type": "stream",
          "name": "stdout",
          "text": [
            "1/1 [==============================] - 0s 51ms/step\n"
          ]
        },
        {
          "output_type": "display_data",
          "data": {
            "text/plain": [
              "<Figure size 1000x700 with 1 Axes>"
            ],
            "image/png": "[encoded data removed]"
          },
          "metadata": {}
        }
      ]
    },
    {
      "cell_type": "code",
      "source": [
        "# Calculate model_1 evaluation metrics\n",
        "mae_1 = mae(y_test, y_preds_1)\n",
        "mse_1 = mse(y_test, y_preds_1)\n",
        "mae_1, mse_1"
      ],
      "metadata": {
        "colab": {
          "base_uri": "https://localhost:8080/"
        },
        "id": "AfTxmvEqJ0gE",
        "outputId": "20468296-e0bd-4c2a-82ce-988b5ccc8590"
      },
      "execution_count": null,
      "outputs": [
        {
          "output_type": "execute_result",
          "data": {
            "text/plain": [
              "(<tf.Tensor: shape=(), dtype=float32, numpy=8.603948>,\n",
              " <tf.Tensor: shape=(), dtype=float32, numpy=80.533264>)"
            ]
          },
          "metadata": {},
          "execution_count": 74
        }
      ]
    },
    {
      "cell_type": "markdown",
      "source": [
        "**Build `model_2`**\n",
        "\n",
        "* 2 Dense layers, trained for 100 epochs"
      ],
      "metadata": {
        "id": "64qT3sSHLF-f"
      }
    },
    {
      "cell_type": "code",
      "source": [
        "# Set the random seed\n",
        "tf.random.set_seed(42)\n",
        "\n",
        "# 1. Create the model\n",
        "\n",
        "model_2 = tf.keras.Sequential([\n",
        "    tf.keras.layers.Dense(10),\n",
        "    tf.keras.layers.Dense(1)\n",
        "])\n",
        "\n",
        "# 2. Compile the mdoel\n",
        "model_2.compile(loss=tf.keras.losses.mae,\n",
        "                optimizer = tf.keras.optimizers.SGD(),\n",
        "                metrics=['mse'])\n",
        "\n",
        "# 3. Fit the model\n",
        "model_2.fit(tf.expand_dims(X_train, axis=1), y_train, epochs=100, verbose=1)"
      ],
      "metadata": {
        "colab": {
          "base_uri": "https://localhost:8080/"
        },
        "id": "XLXVYwL0KGIK",
        "outputId": "f416dcff-b2e6-4f3d-8295-50cfdf9ef0b1"
      },
      "execution_count": null,
      "outputs": [
        {
          "output_type": "stream",
          "name": "stdout",
          "text": [
            "Epoch 1/100\n",
            "2/2 [==============================] - 0s 12ms/step - loss: 37.6116 - mse: 2007.9280\n",
            "Epoch 2/100\n",
            "2/2 [==============================] - 0s 7ms/step - loss: 29.9183 - mse: 1259.6158\n",
            "Epoch 3/100\n",
            "2/2 [==============================] - 0s 8ms/step - loss: 28.1196 - mse: 1186.7571\n",
            "Epoch 4/100\n",
            "2/2 [==============================] - 0s 8ms/step - loss: 16.1397 - mse: 369.3286\n",
            "Epoch 5/100\n",
            "2/2 [==============================] - 0s 7ms/step - loss: 18.7183 - mse: 502.3905\n",
            "Epoch 6/100\n",
            "2/2 [==============================] - 0s 8ms/step - loss: 14.2125 - mse: 286.5031\n",
            "Epoch 7/100\n",
            "2/2 [==============================] - 0s 7ms/step - loss: 11.4990 - mse: 161.0247\n",
            "Epoch 8/100\n",
            "2/2 [==============================] - 0s 9ms/step - loss: 11.2343 - mse: 176.1488\n",
            "Epoch 9/100\n",
            "2/2 [==============================] - 0s 11ms/step - loss: 41.9861 - mse: 2812.4302\n",
            "Epoch 10/100\n",
            "2/2 [==============================] - 0s 7ms/step - loss: 29.1840 - mse: 1204.5190\n",
            "Epoch 11/100\n",
            "2/2 [==============================] - 0s 7ms/step - loss: 8.5709 - mse: 96.4655\n",
            "Epoch 12/100\n",
            "2/2 [==============================] - 0s 7ms/step - loss: 27.3940 - mse: 1031.9821\n",
            "Epoch 13/100\n",
            "2/2 [==============================] - 0s 9ms/step - loss: 12.1659 - mse: 177.8699\n",
            "Epoch 14/100\n",
            "2/2 [==============================] - 0s 7ms/step - loss: 35.1260 - mse: 2032.3307\n",
            "Epoch 15/100\n",
            "2/2 [==============================] - 0s 7ms/step - loss: 22.8949 - mse: 745.9888\n",
            "Epoch 16/100\n",
            "2/2 [==============================] - 0s 7ms/step - loss: 9.9999 - mse: 124.7884\n",
            "Epoch 17/100\n",
            "2/2 [==============================] - 0s 6ms/step - loss: 18.4489 - mse: 454.2512\n",
            "Epoch 18/100\n",
            "2/2 [==============================] - 0s 7ms/step - loss: 11.3205 - mse: 196.6146\n",
            "Epoch 19/100\n",
            "2/2 [==============================] - 0s 7ms/step - loss: 13.8725 - mse: 299.1523\n",
            "Epoch 20/100\n",
            "2/2 [==============================] - 0s 7ms/step - loss: 11.1697 - mse: 146.0962\n",
            "Epoch 21/100\n",
            "2/2 [==============================] - 0s 7ms/step - loss: 17.1846 - mse: 417.3800\n",
            "Epoch 22/100\n",
            "2/2 [==============================] - 0s 7ms/step - loss: 15.4222 - mse: 327.2392\n",
            "Epoch 23/100\n",
            "2/2 [==============================] - 0s 7ms/step - loss: 9.2466 - mse: 118.6063\n",
            "Epoch 24/100\n",
            "2/2 [==============================] - 0s 9ms/step - loss: 17.3029 - mse: 410.7843\n",
            "Epoch 25/100\n",
            "2/2 [==============================] - 0s 8ms/step - loss: 15.9658 - mse: 335.2234\n",
            "Epoch 26/100\n",
            "2/2 [==============================] - 0s 7ms/step - loss: 20.9948 - mse: 652.4354\n",
            "Epoch 27/100\n",
            "2/2 [==============================] - 0s 8ms/step - loss: 25.8207 - mse: 1038.8533\n",
            "Epoch 28/100\n",
            "2/2 [==============================] - 0s 8ms/step - loss: 18.3373 - mse: 531.9452\n",
            "Epoch 29/100\n",
            "2/2 [==============================] - 0s 8ms/step - loss: 9.2393 - mse: 98.3329\n",
            "Epoch 30/100\n",
            "2/2 [==============================] - 0s 8ms/step - loss: 28.9429 - mse: 1492.6547\n",
            "Epoch 31/100\n",
            "2/2 [==============================] - 0s 7ms/step - loss: 52.4051 - mse: 4908.2524\n",
            "Epoch 32/100\n",
            "2/2 [==============================] - 0s 7ms/step - loss: 11.8700 - mse: 203.2813\n",
            "Epoch 33/100\n",
            "2/2 [==============================] - 0s 7ms/step - loss: 15.4243 - mse: 327.5019\n",
            "Epoch 34/100\n",
            "2/2 [==============================] - 0s 8ms/step - loss: 12.5452 - mse: 206.3081\n",
            "Epoch 35/100\n",
            "2/2 [==============================] - 0s 7ms/step - loss: 9.1731 - mse: 90.8905\n",
            "Epoch 36/100\n",
            "2/2 [==============================] - 0s 8ms/step - loss: 16.3855 - mse: 389.8109\n",
            "Epoch 37/100\n",
            "2/2 [==============================] - 0s 11ms/step - loss: 11.1098 - mse: 192.1544\n",
            "Epoch 38/100\n",
            "2/2 [==============================] - 0s 10ms/step - loss: 18.2419 - mse: 439.0712\n",
            "Epoch 39/100\n",
            "2/2 [==============================] - 0s 7ms/step - loss: 19.1710 - mse: 536.2463\n",
            "Epoch 40/100\n",
            "2/2 [==============================] - 0s 6ms/step - loss: 20.5597 - mse: 617.2816\n",
            "Epoch 41/100\n",
            "2/2 [==============================] - 0s 7ms/step - loss: 14.7483 - mse: 271.3504\n",
            "Epoch 42/100\n",
            "2/2 [==============================] - 0s 8ms/step - loss: 12.1582 - mse: 179.6338\n",
            "Epoch 43/100\n",
            "2/2 [==============================] - 0s 7ms/step - loss: 10.6757 - mse: 160.8704\n",
            "Epoch 44/100\n",
            "2/2 [==============================] - 0s 8ms/step - loss: 32.1199 - mse: 1695.2711\n",
            "Epoch 45/100\n",
            "2/2 [==============================] - 0s 7ms/step - loss: 12.4265 - mse: 199.1774\n",
            "Epoch 46/100\n",
            "2/2 [==============================] - 0s 9ms/step - loss: 17.4001 - mse: 453.4449\n",
            "Epoch 47/100\n",
            "2/2 [==============================] - 0s 6ms/step - loss: 15.7982 - mse: 340.8940\n",
            "Epoch 48/100\n",
            "2/2 [==============================] - 0s 7ms/step - loss: 8.4004 - mse: 112.8967\n",
            "Epoch 49/100\n",
            "2/2 [==============================] - 0s 7ms/step - loss: 14.2548 - mse: 284.3656\n",
            "Epoch 50/100\n",
            "2/2 [==============================] - 0s 7ms/step - loss: 15.1862 - mse: 309.6796\n",
            "Epoch 51/100\n",
            "2/2 [==============================] - 0s 7ms/step - loss: 13.6980 - mse: 257.1726\n",
            "Epoch 52/100\n",
            "2/2 [==============================] - 0s 7ms/step - loss: 18.1118 - mse: 463.0894\n",
            "Epoch 53/100\n",
            "2/2 [==============================] - 0s 6ms/step - loss: 22.7807 - mse: 749.7536\n",
            "Epoch 54/100\n",
            "2/2 [==============================] - 0s 8ms/step - loss: 26.7782 - mse: 1103.8281\n",
            "Epoch 55/100\n",
            "2/2 [==============================] - 0s 8ms/step - loss: 26.4087 - mse: 1060.1921\n",
            "Epoch 56/100\n",
            "2/2 [==============================] - 0s 7ms/step - loss: 11.3494 - mse: 171.8933\n",
            "Epoch 57/100\n",
            "2/2 [==============================] - 0s 7ms/step - loss: 13.3689 - mse: 225.6253\n",
            "Epoch 58/100\n",
            "2/2 [==============================] - 0s 7ms/step - loss: 9.9532 - mse: 109.6021\n",
            "Epoch 59/100\n",
            "2/2 [==============================] - 0s 6ms/step - loss: 13.9204 - mse: 275.8594\n",
            "Epoch 60/100\n",
            "2/2 [==============================] - 0s 7ms/step - loss: 9.9945 - mse: 118.8618\n",
            "Epoch 61/100\n",
            "2/2 [==============================] - 0s 7ms/step - loss: 14.9739 - mse: 308.2125\n",
            "Epoch 62/100\n",
            "2/2 [==============================] - 0s 7ms/step - loss: 11.9280 - mse: 196.6144\n",
            "Epoch 63/100\n",
            "2/2 [==============================] - 0s 7ms/step - loss: 10.2892 - mse: 134.8990\n",
            "Epoch 64/100\n",
            "2/2 [==============================] - 0s 7ms/step - loss: 23.8821 - mse: 838.2234\n",
            "Epoch 65/100\n",
            "2/2 [==============================] - 0s 7ms/step - loss: 10.4651 - mse: 130.1681\n",
            "Epoch 66/100\n",
            "2/2 [==============================] - 0s 7ms/step - loss: 20.9263 - mse: 643.9848\n",
            "Epoch 67/100\n",
            "2/2 [==============================] - 0s 7ms/step - loss: 10.4416 - mse: 126.2641\n",
            "Epoch 68/100\n",
            "2/2 [==============================] - 0s 7ms/step - loss: 14.1702 - mse: 302.2751\n",
            "Epoch 69/100\n",
            "2/2 [==============================] - 0s 8ms/step - loss: 10.5107 - mse: 125.8799\n",
            "Epoch 70/100\n",
            "2/2 [==============================] - 0s 7ms/step - loss: 12.5808 - mse: 200.7242\n",
            "Epoch 71/100\n",
            "2/2 [==============================] - 0s 7ms/step - loss: 13.0094 - mse: 225.6742\n",
            "Epoch 72/100\n",
            "2/2 [==============================] - 0s 8ms/step - loss: 19.3429 - mse: 530.8530\n",
            "Epoch 73/100\n",
            "2/2 [==============================] - 0s 8ms/step - loss: 11.1258 - mse: 193.4791\n",
            "Epoch 74/100\n",
            "2/2 [==============================] - 0s 7ms/step - loss: 21.4239 - mse: 716.2744\n",
            "Epoch 75/100\n",
            "2/2 [==============================] - 0s 9ms/step - loss: 9.4544 - mse: 151.7051\n",
            "Epoch 76/100\n",
            "2/2 [==============================] - 0s 8ms/step - loss: 12.2759 - mse: 182.7180\n",
            "Epoch 77/100\n",
            "2/2 [==============================] - 0s 8ms/step - loss: 16.3016 - mse: 409.1722\n",
            "Epoch 78/100\n",
            "2/2 [==============================] - 0s 9ms/step - loss: 9.0074 - mse: 91.8638\n",
            "Epoch 79/100\n",
            "2/2 [==============================] - 0s 7ms/step - loss: 23.5421 - mse: 829.7621\n",
            "Epoch 80/100\n",
            "2/2 [==============================] - 0s 7ms/step - loss: 26.2327 - mse: 1058.2441\n",
            "Epoch 81/100\n",
            "2/2 [==============================] - 0s 7ms/step - loss: 11.4276 - mse: 160.3527\n",
            "Epoch 82/100\n",
            "2/2 [==============================] - 0s 7ms/step - loss: 12.4523 - mse: 226.7735\n",
            "Epoch 83/100\n",
            "2/2 [==============================] - 0s 7ms/step - loss: 17.1222 - mse: 381.4250\n",
            "Epoch 84/100\n",
            "2/2 [==============================] - 0s 7ms/step - loss: 6.5576 - mse: 63.6131\n",
            "Epoch 85/100\n",
            "2/2 [==============================] - 0s 16ms/step - loss: 20.4123 - mse: 583.0187\n",
            "Epoch 86/100\n",
            "2/2 [==============================] - 0s 11ms/step - loss: 10.1714 - mse: 116.7556\n",
            "Epoch 87/100\n",
            "2/2 [==============================] - 0s 9ms/step - loss: 24.4745 - mse: 838.6603\n",
            "Epoch 88/100\n",
            "2/2 [==============================] - 0s 10ms/step - loss: 19.1346 - mse: 519.5948\n",
            "Epoch 89/100\n",
            "2/2 [==============================] - 0s 11ms/step - loss: 7.1468 - mse: 69.5723\n",
            "Epoch 90/100\n",
            "2/2 [==============================] - 0s 10ms/step - loss: 18.2053 - mse: 491.2343\n",
            "Epoch 91/100\n",
            "2/2 [==============================] - 0s 11ms/step - loss: 13.2536 - mse: 254.2463\n",
            "Epoch 92/100\n",
            "2/2 [==============================] - 0s 22ms/step - loss: 14.7864 - mse: 308.4590\n",
            "Epoch 93/100\n",
            "2/2 [==============================] - 0s 9ms/step - loss: 11.0838 - mse: 216.5493\n",
            "Epoch 94/100\n",
            "2/2 [==============================] - 0s 7ms/step - loss: 16.6733 - mse: 401.0341\n",
            "Epoch 95/100\n",
            "2/2 [==============================] - 0s 7ms/step - loss: 16.0414 - mse: 348.5736\n",
            "Epoch 96/100\n",
            "2/2 [==============================] - 0s 6ms/step - loss: 10.5627 - mse: 194.3694\n",
            "Epoch 97/100\n",
            "2/2 [==============================] - 0s 7ms/step - loss: 21.2101 - mse: 642.7182\n",
            "Epoch 98/100\n",
            "2/2 [==============================] - 0s 7ms/step - loss: 10.4373 - mse: 138.8641\n",
            "Epoch 99/100\n",
            "2/2 [==============================] - 0s 7ms/step - loss: 14.5222 - mse: 293.0475\n",
            "Epoch 100/100\n",
            "2/2 [==============================] - 0s 7ms/step - loss: 17.6821 - mse: 463.8699\n"
          ]
        },
        {
          "output_type": "execute_result",
          "data": {
            "text/plain": [
              "<keras.callbacks.History at 0x7fdb9fe73250>"
            ]
          },
          "metadata": {},
          "execution_count": 76
        }
      ]
    },
    {
      "cell_type": "code",
      "source": [
        "# Make a plot predictions of model_2\n",
        "y_preds_2 =  model_2.predict(X_test)\n",
        "plot_predictions(predictions=y_preds_2)"
      ],
      "metadata": {
        "colab": {
          "base_uri": "https://localhost:8080/",
          "height": 616
        },
        "id": "qy5S3_wbMVGy",
        "outputId": "33bc517b-8505-4865-fe5b-8af75f82af31"
      },
      "execution_count": null,
      "outputs": [
        {
          "output_type": "stream",
          "name": "stdout",
          "text": [
            "1/1 [==============================] - 0s 87ms/step\n"
          ]
        },
        {
          "output_type": "display_data",
          "data": {
            "text/plain": [
              "<Figure size 1000x700 with 1 Axes>"
            ],
            "image/png": "[encoded data removed]"
          },
          "metadata": {}
        }
      ]
    },
    {
      "cell_type": "code",
      "source": [
        "# Calculate model_2 evaluation metrics\n",
        "mae_2 = mae(y_test, y_preds_2)\n",
        "mse_2 = mse(y_test, y_preds_2)\n",
        "mae_2, mse_2"
      ],
      "metadata": {
        "colab": {
          "base_uri": "https://localhost:8080/"
        },
        "id": "4Ya7ttopMqHd",
        "outputId": "c96686ee-b131-4b6d-a400-e4c51634385b"
      },
      "execution_count": null,
      "outputs": [
        {
          "output_type": "execute_result",
          "data": {
            "text/plain": [
              "(<tf.Tensor: shape=(), dtype=float32, numpy=1.9348831>,\n",
              " <tf.Tensor: shape=(), dtype=float32, numpy=5.5834856>)"
            ]
          },
          "metadata": {},
          "execution_count": 78
        }
      ]
    },
    {
      "cell_type": "markdown",
      "source": [
        "**Build `model_3`**\n",
        "\n",
        "* 2 layers, trained for 500 epochs"
      ],
      "metadata": {
        "id": "ZVEXnouJM-qR"
      }
    },
    {
      "cell_type": "code",
      "source": [
        "# Set the random seed\n",
        "tf.random.set_seed(42)\n",
        "\n",
        "# 1. Create a model\n",
        "model_3 = tf.keras.Sequential([\n",
        "    tf.keras.layers.Dense(10),\n",
        "    tf.keras.layers.Dense(1)\n",
        "])\n",
        "\n",
        "# 2. Compile the model\n",
        "model_3.compile(loss=tf.keras.losses.mae,\n",
        "                optimizer=tf.keras.optimizers.SGD(),\n",
        "                metrics=[\"mae\"])\n",
        "\n",
        "# 3. Fit the model\n",
        "model_3.fit(tf.expand_dims(X_train, axis=1), y_train, epochs=500, verbose=1)"
      ],
      "metadata": {
        "colab": {
          "base_uri": "https://localhost:8080/"
        },
        "id": "3TrxeDhoNLzU",
        "outputId": "4c2be089-d193-48f5-fcbe-cdf7fbbb0ede"
      },
      "execution_count": null,
      "outputs": [
        {
          "output_type": "stream",
          "name": "stdout",
          "text": [
            "Epoch 1/500\n",
            "2/2 [==============================] - 0s 12ms/step - loss: 82.0374 - mae: 82.0374\n",
            "Epoch 2/500\n",
            "2/2 [==============================] - 0s 9ms/step - loss: 29.3787 - mae: 29.3787\n",
            "Epoch 3/500\n",
            "2/2 [==============================] - 0s 7ms/step - loss: 20.2974 - mae: 20.2974\n",
            "Epoch 4/500\n",
            "2/2 [==============================] - 0s 9ms/step - loss: 13.1636 - mae: 13.1636\n",
            "Epoch 5/500\n",
            "2/2 [==============================] - 0s 10ms/step - loss: 16.7664 - mae: 16.7664\n",
            "Epoch 6/500\n",
            "2/2 [==============================] - 0s 8ms/step - loss: 11.3684 - mae: 11.3684\n",
            "Epoch 7/500\n",
            "2/2 [==============================] - 0s 7ms/step - loss: 12.4146 - mae: 12.4146\n",
            "Epoch 8/500\n",
            "2/2 [==============================] - 0s 7ms/step - loss: 11.0053 - mae: 11.0053\n",
            "Epoch 9/500\n",
            "2/2 [==============================] - 0s 12ms/step - loss: 38.9259 - mae: 38.9259\n",
            "Epoch 10/500\n",
            "2/2 [==============================] - 0s 8ms/step - loss: 26.5146 - mae: 26.5146\n",
            "Epoch 11/500\n",
            "2/2 [==============================] - 0s 7ms/step - loss: 11.8276 - mae: 11.8276\n",
            "Epoch 12/500\n",
            "2/2 [==============================] - 0s 8ms/step - loss: 23.6318 - mae: 23.6318\n",
            "Epoch 13/500\n",
            "2/2 [==============================] - 0s 7ms/step - loss: 21.1338 - mae: 21.1338\n",
            "Epoch 14/500\n",
            "2/2 [==============================] - 0s 8ms/step - loss: 23.5781 - mae: 23.5781\n",
            "Epoch 15/500\n",
            "2/2 [==============================] - 0s 8ms/step - loss: 15.6945 - mae: 15.6945\n",
            "Epoch 16/500\n",
            "2/2 [==============================] - 0s 8ms/step - loss: 10.4213 - mae: 10.4213\n",
            "Epoch 17/500\n",
            "2/2 [==============================] - 0s 7ms/step - loss: 19.6014 - mae: 19.6014\n",
            "Epoch 18/500\n",
            "2/2 [==============================] - 0s 9ms/step - loss: 13.2464 - mae: 13.2464\n",
            "Epoch 19/500\n",
            "2/2 [==============================] - 0s 7ms/step - loss: 15.9878 - mae: 15.9878\n",
            "Epoch 20/500\n",
            "2/2 [==============================] - 0s 7ms/step - loss: 10.1951 - mae: 10.1951\n",
            "Epoch 21/500\n",
            "2/2 [==============================] - 0s 8ms/step - loss: 13.7225 - mae: 13.7225\n",
            "Epoch 22/500\n",
            "2/2 [==============================] - 0s 8ms/step - loss: 21.8636 - mae: 21.8636\n",
            "Epoch 23/500\n",
            "2/2 [==============================] - 0s 7ms/step - loss: 10.4882 - mae: 10.4882\n",
            "Epoch 24/500\n",
            "2/2 [==============================] - 0s 7ms/step - loss: 15.7886 - mae: 15.7886\n",
            "Epoch 25/500\n",
            "2/2 [==============================] - 0s 8ms/step - loss: 14.9351 - mae: 14.9351\n",
            "Epoch 26/500\n",
            "2/2 [==============================] - 0s 8ms/step - loss: 19.5858 - mae: 19.5858\n",
            "Epoch 27/500\n",
            "2/2 [==============================] - 0s 7ms/step - loss: 20.4207 - mae: 20.4207\n",
            "Epoch 28/500\n",
            "2/2 [==============================] - 0s 13ms/step - loss: 14.5584 - mae: 14.5584\n",
            "Epoch 29/500\n",
            "2/2 [==============================] - 0s 8ms/step - loss: 9.3554 - mae: 9.3554\n",
            "Epoch 30/500\n",
            "2/2 [==============================] - 0s 8ms/step - loss: 27.4215 - mae: 27.4215\n",
            "Epoch 31/500\n",
            "2/2 [==============================] - 0s 8ms/step - loss: 49.4836 - mae: 49.4836\n",
            "Epoch 32/500\n",
            "2/2 [==============================] - 0s 8ms/step - loss: 11.0228 - mae: 11.0228\n",
            "Epoch 33/500\n",
            "2/2 [==============================] - 0s 7ms/step - loss: 17.6602 - mae: 17.6602\n",
            "Epoch 34/500\n",
            "2/2 [==============================] - 0s 8ms/step - loss: 10.8247 - mae: 10.8247\n",
            "Epoch 35/500\n",
            "2/2 [==============================] - 0s 7ms/step - loss: 9.1565 - mae: 9.1565\n",
            "Epoch 36/500\n",
            "2/2 [==============================] - 0s 7ms/step - loss: 16.2514 - mae: 16.2514\n",
            "Epoch 37/500\n",
            "2/2 [==============================] - 0s 11ms/step - loss: 11.1612 - mae: 11.1612\n",
            "Epoch 38/500\n",
            "2/2 [==============================] - 0s 8ms/step - loss: 18.2964 - mae: 18.2964\n",
            "Epoch 39/500\n",
            "2/2 [==============================] - 0s 7ms/step - loss: 19.2216 - mae: 19.2216\n",
            "Epoch 40/500\n",
            "2/2 [==============================] - 0s 8ms/step - loss: 20.6476 - mae: 20.6476\n",
            "Epoch 41/500\n",
            "2/2 [==============================] - 0s 7ms/step - loss: 14.6627 - mae: 14.6627\n",
            "Epoch 42/500\n",
            "2/2 [==============================] - 0s 7ms/step - loss: 12.0944 - mae: 12.0944\n",
            "Epoch 43/500\n",
            "2/2 [==============================] - 0s 6ms/step - loss: 10.6595 - mae: 10.6595\n",
            "Epoch 44/500\n",
            "2/2 [==============================] - 0s 7ms/step - loss: 31.8064 - mae: 31.8064\n",
            "Epoch 45/500\n",
            "2/2 [==============================] - 0s 7ms/step - loss: 12.3601 - mae: 12.3601\n",
            "Epoch 46/500\n",
            "2/2 [==============================] - 0s 7ms/step - loss: 17.1551 - mae: 17.1551\n",
            "Epoch 47/500\n",
            "2/2 [==============================] - 0s 7ms/step - loss: 15.9000 - mae: 15.9000\n",
            "Epoch 48/500\n",
            "2/2 [==============================] - 0s 7ms/step - loss: 8.8588 - mae: 8.8588\n",
            "Epoch 49/500\n",
            "2/2 [==============================] - 0s 8ms/step - loss: 13.0832 - mae: 13.0832\n",
            "Epoch 50/500\n",
            "2/2 [==============================] - 0s 7ms/step - loss: 12.6671 - mae: 12.6671\n",
            "Epoch 51/500\n",
            "2/2 [==============================] - 0s 7ms/step - loss: 14.7221 - mae: 14.7221\n",
            "Epoch 52/500\n",
            "2/2 [==============================] - 0s 7ms/step - loss: 18.6345 - mae: 18.6345\n",
            "Epoch 53/500\n",
            "2/2 [==============================] - 0s 7ms/step - loss: 23.9569 - mae: 23.9569\n",
            "Epoch 54/500\n",
            "2/2 [==============================] - 0s 7ms/step - loss: 23.6831 - mae: 23.6831\n",
            "Epoch 55/500\n",
            "2/2 [==============================] - 0s 7ms/step - loss: 24.6209 - mae: 24.6209\n",
            "Epoch 56/500\n",
            "2/2 [==============================] - 0s 8ms/step - loss: 11.3672 - mae: 11.3672\n",
            "Epoch 57/500\n",
            "2/2 [==============================] - 0s 8ms/step - loss: 13.3841 - mae: 13.3841\n",
            "Epoch 58/500\n",
            "2/2 [==============================] - 0s 7ms/step - loss: 9.9662 - mae: 9.9662\n",
            "Epoch 59/500\n",
            "2/2 [==============================] - 0s 7ms/step - loss: 13.9214 - mae: 13.9214\n",
            "Epoch 60/500\n",
            "2/2 [==============================] - 0s 7ms/step - loss: 10.0045 - mae: 10.0045\n",
            "Epoch 61/500\n",
            "2/2 [==============================] - 0s 8ms/step - loss: 14.9669 - mae: 14.9669\n",
            "Epoch 62/500\n",
            "2/2 [==============================] - 0s 8ms/step - loss: 11.9313 - mae: 11.9313\n",
            "Epoch 63/500\n",
            "2/2 [==============================] - 0s 7ms/step - loss: 10.2963 - mae: 10.2963\n",
            "Epoch 64/500\n",
            "2/2 [==============================] - 0s 7ms/step - loss: 23.8368 - mae: 23.8368\n",
            "Epoch 65/500\n",
            "2/2 [==============================] - 0s 7ms/step - loss: 10.4707 - mae: 10.4707\n",
            "Epoch 66/500\n",
            "2/2 [==============================] - 0s 7ms/step - loss: 20.8815 - mae: 20.8815\n",
            "Epoch 67/500\n",
            "2/2 [==============================] - 0s 7ms/step - loss: 10.4407 - mae: 10.4407\n",
            "Epoch 68/500\n",
            "2/2 [==============================] - 0s 7ms/step - loss: 14.1362 - mae: 14.1362\n",
            "Epoch 69/500\n",
            "2/2 [==============================] - 0s 9ms/step - loss: 10.5021 - mae: 10.5021\n",
            "Epoch 70/500\n",
            "2/2 [==============================] - 0s 10ms/step - loss: 12.5685 - mae: 12.5685\n",
            "Epoch 71/500\n",
            "2/2 [==============================] - 0s 8ms/step - loss: 12.9928 - mae: 12.9928\n",
            "Epoch 72/500\n",
            "2/2 [==============================] - 0s 7ms/step - loss: 19.2698 - mae: 19.2698\n",
            "Epoch 73/500\n",
            "2/2 [==============================] - 0s 8ms/step - loss: 11.1200 - mae: 11.1200\n",
            "Epoch 74/500\n",
            "2/2 [==============================] - 0s 8ms/step - loss: 21.3269 - mae: 21.3269\n",
            "Epoch 75/500\n",
            "2/2 [==============================] - 0s 7ms/step - loss: 9.4387 - mae: 9.4387\n",
            "Epoch 76/500\n",
            "2/2 [==============================] - 0s 8ms/step - loss: 12.2535 - mae: 12.2535\n",
            "Epoch 77/500\n",
            "2/2 [==============================] - 0s 7ms/step - loss: 16.2204 - mae: 16.2204\n",
            "Epoch 78/500\n",
            "2/2 [==============================] - 0s 7ms/step - loss: 9.0090 - mae: 9.0090\n",
            "Epoch 79/500\n",
            "2/2 [==============================] - 0s 7ms/step - loss: 23.4287 - mae: 23.4287\n",
            "Epoch 80/500\n",
            "2/2 [==============================] - 0s 7ms/step - loss: 26.0966 - mae: 26.0966\n",
            "Epoch 81/500\n",
            "2/2 [==============================] - 0s 7ms/step - loss: 11.3765 - mae: 11.3765\n",
            "Epoch 82/500\n",
            "2/2 [==============================] - 0s 7ms/step - loss: 12.4977 - mae: 12.4977\n",
            "Epoch 83/500\n",
            "2/2 [==============================] - 0s 7ms/step - loss: 17.1857 - mae: 17.1857\n",
            "Epoch 84/500\n",
            "2/2 [==============================] - 0s 7ms/step - loss: 6.5900 - mae: 6.5900\n",
            "Epoch 85/500\n",
            "2/2 [==============================] - 0s 7ms/step - loss: 20.2815 - mae: 20.2815\n",
            "Epoch 86/500\n",
            "2/2 [==============================] - 0s 8ms/step - loss: 10.1597 - mae: 10.1597\n",
            "Epoch 87/500\n",
            "2/2 [==============================] - 0s 8ms/step - loss: 24.3245 - mae: 24.3245\n",
            "Epoch 88/500\n",
            "2/2 [==============================] - 0s 8ms/step - loss: 18.9890 - mae: 18.9890\n",
            "Epoch 89/500\n",
            "2/2 [==============================] - 0s 7ms/step - loss: 7.1578 - mae: 7.1578\n",
            "Epoch 90/500\n",
            "2/2 [==============================] - 0s 7ms/step - loss: 18.2603 - mae: 18.2603\n",
            "Epoch 91/500\n",
            "2/2 [==============================] - 0s 7ms/step - loss: 13.3099 - mae: 13.3099\n",
            "Epoch 92/500\n",
            "2/2 [==============================] - 0s 7ms/step - loss: 14.8608 - mae: 14.8608\n",
            "Epoch 93/500\n",
            "2/2 [==============================] - 0s 7ms/step - loss: 11.6510 - mae: 11.6510\n",
            "Epoch 94/500\n",
            "2/2 [==============================] - 0s 7ms/step - loss: 16.2090 - mae: 16.2090\n",
            "Epoch 95/500\n",
            "2/2 [==============================] - 0s 7ms/step - loss: 15.5513 - mae: 15.5513\n",
            "Epoch 96/500\n",
            "2/2 [==============================] - 0s 7ms/step - loss: 15.0876 - mae: 15.0876\n",
            "Epoch 97/500\n",
            "2/2 [==============================] - 0s 7ms/step - loss: 10.9147 - mae: 10.9147\n",
            "Epoch 98/500\n",
            "2/2 [==============================] - 0s 7ms/step - loss: 14.3766 - mae: 14.3766\n",
            "Epoch 99/500\n",
            "2/2 [==============================] - 0s 7ms/step - loss: 13.3895 - mae: 13.3895\n",
            "Epoch 100/500\n",
            "2/2 [==============================] - 0s 7ms/step - loss: 20.0208 - mae: 20.0208\n",
            "Epoch 101/500\n",
            "2/2 [==============================] - 0s 7ms/step - loss: 22.4646 - mae: 22.4646\n",
            "Epoch 102/500\n",
            "2/2 [==============================] - 0s 7ms/step - loss: 11.2513 - mae: 11.2513\n",
            "Epoch 103/500\n",
            "2/2 [==============================] - 0s 7ms/step - loss: 9.3484 - mae: 9.3484\n",
            "Epoch 104/500\n",
            "2/2 [==============================] - 0s 6ms/step - loss: 25.0879 - mae: 25.0879\n",
            "Epoch 105/500\n",
            "2/2 [==============================] - 0s 7ms/step - loss: 12.0467 - mae: 12.0467\n",
            "Epoch 106/500\n",
            "2/2 [==============================] - 0s 6ms/step - loss: 10.1151 - mae: 10.1151\n",
            "Epoch 107/500\n",
            "2/2 [==============================] - 0s 7ms/step - loss: 22.6403 - mae: 22.6403\n",
            "Epoch 108/500\n",
            "2/2 [==============================] - 0s 8ms/step - loss: 8.1572 - mae: 8.1572\n",
            "Epoch 109/500\n",
            "2/2 [==============================] - 0s 7ms/step - loss: 13.4118 - mae: 13.4118\n",
            "Epoch 110/500\n",
            "2/2 [==============================] - 0s 7ms/step - loss: 7.9752 - mae: 7.9752\n",
            "Epoch 111/500\n",
            "2/2 [==============================] - 0s 7ms/step - loss: 15.7193 - mae: 15.7193\n",
            "Epoch 112/500\n",
            "2/2 [==============================] - 0s 7ms/step - loss: 8.7718 - mae: 8.7718\n",
            "Epoch 113/500\n",
            "2/2 [==============================] - 0s 8ms/step - loss: 22.7618 - mae: 22.7618\n",
            "Epoch 114/500\n",
            "2/2 [==============================] - 0s 7ms/step - loss: 19.1060 - mae: 19.1060\n",
            "Epoch 115/500\n",
            "2/2 [==============================] - 0s 7ms/step - loss: 11.1229 - mae: 11.1229\n",
            "Epoch 116/500\n",
            "2/2 [==============================] - 0s 7ms/step - loss: 23.2126 - mae: 23.2126\n",
            "Epoch 117/500\n",
            "2/2 [==============================] - 0s 8ms/step - loss: 9.6074 - mae: 9.6074\n",
            "Epoch 118/500\n",
            "2/2 [==============================] - 0s 8ms/step - loss: 10.6721 - mae: 10.6721\n",
            "Epoch 119/500\n",
            "2/2 [==============================] - 0s 8ms/step - loss: 8.0566 - mae: 8.0566\n",
            "Epoch 120/500\n",
            "2/2 [==============================] - 0s 8ms/step - loss: 29.5087 - mae: 29.5087\n",
            "Epoch 121/500\n",
            "2/2 [==============================] - 0s 7ms/step - loss: 8.0914 - mae: 8.0914\n",
            "Epoch 122/500\n",
            "2/2 [==============================] - 0s 9ms/step - loss: 28.1500 - mae: 28.1500\n",
            "Epoch 123/500\n",
            "2/2 [==============================] - 0s 10ms/step - loss: 32.7031 - mae: 32.7031\n",
            "Epoch 124/500\n",
            "2/2 [==============================] - 0s 9ms/step - loss: 19.4863 - mae: 19.4863\n",
            "Epoch 125/500\n",
            "2/2 [==============================] - 0s 9ms/step - loss: 6.4064 - mae: 6.4064\n",
            "Epoch 126/500\n",
            "2/2 [==============================] - 0s 7ms/step - loss: 26.7596 - mae: 26.7596\n",
            "Epoch 127/500\n",
            "2/2 [==============================] - 0s 9ms/step - loss: 8.5839 - mae: 8.5839\n",
            "Epoch 128/500\n",
            "2/2 [==============================] - 0s 10ms/step - loss: 13.8104 - mae: 13.8104\n",
            "Epoch 129/500\n",
            "2/2 [==============================] - 0s 7ms/step - loss: 11.2825 - mae: 11.2825\n",
            "Epoch 130/500\n",
            "2/2 [==============================] - 0s 8ms/step - loss: 11.5115 - mae: 11.5115\n",
            "Epoch 131/500\n",
            "2/2 [==============================] - 0s 12ms/step - loss: 20.6011 - mae: 20.6011\n",
            "Epoch 132/500\n",
            "2/2 [==============================] - 0s 8ms/step - loss: 8.0116 - mae: 8.0116\n",
            "Epoch 133/500\n",
            "2/2 [==============================] - 0s 7ms/step - loss: 8.8289 - mae: 8.8289\n",
            "Epoch 134/500\n",
            "2/2 [==============================] - 0s 7ms/step - loss: 21.4431 - mae: 21.4431\n",
            "Epoch 135/500\n",
            "2/2 [==============================] - 0s 6ms/step - loss: 10.8870 - mae: 10.8870\n",
            "Epoch 136/500\n",
            "2/2 [==============================] - 0s 7ms/step - loss: 19.0696 - mae: 19.0696\n",
            "Epoch 137/500\n",
            "2/2 [==============================] - 0s 7ms/step - loss: 24.2843 - mae: 24.2843\n",
            "Epoch 138/500\n",
            "2/2 [==============================] - 0s 9ms/step - loss: 9.5832 - mae: 9.5832\n",
            "Epoch 139/500\n",
            "2/2 [==============================] - 0s 7ms/step - loss: 9.2017 - mae: 9.2017\n",
            "Epoch 140/500\n",
            "2/2 [==============================] - 0s 7ms/step - loss: 17.5545 - mae: 17.5545\n",
            "Epoch 141/500\n",
            "2/2 [==============================] - 0s 6ms/step - loss: 8.3599 - mae: 8.3599\n",
            "Epoch 142/500\n",
            "2/2 [==============================] - 0s 7ms/step - loss: 34.9986 - mae: 34.9986\n",
            "Epoch 143/500\n",
            "2/2 [==============================] - 0s 8ms/step - loss: 23.9843 - mae: 23.9843\n",
            "Epoch 144/500\n",
            "2/2 [==============================] - 0s 8ms/step - loss: 11.4260 - mae: 11.4260\n",
            "Epoch 145/500\n",
            "2/2 [==============================] - 0s 9ms/step - loss: 25.3221 - mae: 25.3221\n",
            "Epoch 146/500\n",
            "2/2 [==============================] - 0s 8ms/step - loss: 10.7121 - mae: 10.7121\n",
            "Epoch 147/500\n",
            "2/2 [==============================] - 0s 8ms/step - loss: 14.3113 - mae: 14.3113\n",
            "Epoch 148/500\n",
            "2/2 [==============================] - 0s 7ms/step - loss: 17.2558 - mae: 17.2558\n",
            "Epoch 149/500\n",
            "2/2 [==============================] - 0s 7ms/step - loss: 8.9599 - mae: 8.9599\n",
            "Epoch 150/500\n",
            "2/2 [==============================] - 0s 9ms/step - loss: 7.8115 - mae: 7.8115\n",
            "Epoch 151/500\n",
            "2/2 [==============================] - 0s 11ms/step - loss: 20.3725 - mae: 20.3725\n",
            "Epoch 152/500\n",
            "2/2 [==============================] - 0s 8ms/step - loss: 10.3634 - mae: 10.3634\n",
            "Epoch 153/500\n",
            "2/2 [==============================] - 0s 7ms/step - loss: 29.9388 - mae: 29.9388\n",
            "Epoch 154/500\n",
            "2/2 [==============================] - 0s 7ms/step - loss: 10.5137 - mae: 10.5137\n",
            "Epoch 155/500\n",
            "2/2 [==============================] - 0s 8ms/step - loss: 15.4144 - mae: 15.4144\n",
            "Epoch 156/500\n",
            "2/2 [==============================] - 0s 8ms/step - loss: 16.9203 - mae: 16.9203\n",
            "Epoch 157/500\n",
            "2/2 [==============================] - 0s 7ms/step - loss: 33.0866 - mae: 33.0866\n",
            "Epoch 158/500\n",
            "2/2 [==============================] - 0s 7ms/step - loss: 10.8078 - mae: 10.8078\n",
            "Epoch 159/500\n",
            "2/2 [==============================] - 0s 7ms/step - loss: 8.9620 - mae: 8.9620\n",
            "Epoch 160/500\n",
            "2/2 [==============================] - 0s 8ms/step - loss: 22.3058 - mae: 22.3058\n",
            "Epoch 161/500\n",
            "2/2 [==============================] - 0s 7ms/step - loss: 11.7948 - mae: 11.7948\n",
            "Epoch 162/500\n",
            "2/2 [==============================] - 0s 7ms/step - loss: 21.7247 - mae: 21.7247\n",
            "Epoch 163/500\n",
            "2/2 [==============================] - 0s 7ms/step - loss: 19.3950 - mae: 19.3950\n",
            "Epoch 164/500\n",
            "2/2 [==============================] - 0s 8ms/step - loss: 11.1213 - mae: 11.1213\n",
            "Epoch 165/500\n",
            "2/2 [==============================] - 0s 8ms/step - loss: 9.6045 - mae: 9.6045\n",
            "Epoch 166/500\n",
            "2/2 [==============================] - 0s 7ms/step - loss: 21.5287 - mae: 21.5287\n",
            "Epoch 167/500\n",
            "2/2 [==============================] - 0s 8ms/step - loss: 26.4501 - mae: 26.4501\n",
            "Epoch 168/500\n",
            "2/2 [==============================] - 0s 8ms/step - loss: 9.9055 - mae: 9.9055\n",
            "Epoch 169/500\n",
            "2/2 [==============================] - 0s 7ms/step - loss: 22.7103 - mae: 22.7103\n",
            "Epoch 170/500\n",
            "2/2 [==============================] - 0s 8ms/step - loss: 10.1374 - mae: 10.1374\n",
            "Epoch 171/500\n",
            "2/2 [==============================] - 0s 7ms/step - loss: 17.9900 - mae: 17.9900\n",
            "Epoch 172/500\n",
            "2/2 [==============================] - 0s 8ms/step - loss: 28.9766 - mae: 28.9766\n",
            "Epoch 173/500\n",
            "2/2 [==============================] - 0s 8ms/step - loss: 16.6445 - mae: 16.6445\n",
            "Epoch 174/500\n",
            "2/2 [==============================] - 0s 8ms/step - loss: 11.2093 - mae: 11.2093\n",
            "Epoch 175/500\n",
            "2/2 [==============================] - 0s 8ms/step - loss: 27.5506 - mae: 27.5506\n",
            "Epoch 176/500\n",
            "2/2 [==============================] - 0s 8ms/step - loss: 8.3248 - mae: 8.3248\n",
            "Epoch 177/500\n",
            "2/2 [==============================] - 0s 8ms/step - loss: 9.3064 - mae: 9.3064\n",
            "Epoch 178/500\n",
            "2/2 [==============================] - 0s 10ms/step - loss: 18.2457 - mae: 18.2457\n",
            "Epoch 179/500\n",
            "2/2 [==============================] - 0s 8ms/step - loss: 10.5602 - mae: 10.5602\n",
            "Epoch 180/500\n",
            "2/2 [==============================] - 0s 8ms/step - loss: 7.9352 - mae: 7.9352\n",
            "Epoch 181/500\n",
            "2/2 [==============================] - 0s 8ms/step - loss: 17.4764 - mae: 17.4764\n",
            "Epoch 182/500\n",
            "2/2 [==============================] - 0s 8ms/step - loss: 11.0614 - mae: 11.0614\n",
            "Epoch 183/500\n",
            "2/2 [==============================] - 0s 8ms/step - loss: 11.7411 - mae: 11.7411\n",
            "Epoch 184/500\n",
            "2/2 [==============================] - 0s 8ms/step - loss: 30.4980 - mae: 30.4980\n",
            "Epoch 185/500\n",
            "2/2 [==============================] - 0s 8ms/step - loss: 7.5671 - mae: 7.5671\n",
            "Epoch 186/500\n",
            "2/2 [==============================] - 0s 7ms/step - loss: 15.9743 - mae: 15.9743\n",
            "Epoch 187/500\n",
            "2/2 [==============================] - 0s 8ms/step - loss: 8.5850 - mae: 8.5850\n",
            "Epoch 188/500\n",
            "2/2 [==============================] - 0s 7ms/step - loss: 28.7919 - mae: 28.7919\n",
            "Epoch 189/500\n",
            "2/2 [==============================] - 0s 8ms/step - loss: 13.1652 - mae: 13.1652\n",
            "Epoch 190/500\n",
            "2/2 [==============================] - 0s 8ms/step - loss: 18.3070 - mae: 18.3070\n",
            "Epoch 191/500\n",
            "2/2 [==============================] - 0s 8ms/step - loss: 13.7344 - mae: 13.7344\n",
            "Epoch 192/500\n",
            "2/2 [==============================] - 0s 12ms/step - loss: 13.7166 - mae: 13.7166\n",
            "Epoch 193/500\n",
            "2/2 [==============================] - 0s 10ms/step - loss: 28.5806 - mae: 28.5806\n",
            "Epoch 194/500\n",
            "2/2 [==============================] - 0s 8ms/step - loss: 7.0924 - mae: 7.0924\n",
            "Epoch 195/500\n",
            "2/2 [==============================] - 0s 8ms/step - loss: 7.0715 - mae: 7.0715\n",
            "Epoch 196/500\n",
            "2/2 [==============================] - 0s 7ms/step - loss: 22.0119 - mae: 22.0119\n",
            "Epoch 197/500\n",
            "2/2 [==============================] - 0s 8ms/step - loss: 20.8375 - mae: 20.8375\n",
            "Epoch 198/500\n",
            "2/2 [==============================] - 0s 7ms/step - loss: 12.4730 - mae: 12.4730\n",
            "Epoch 199/500\n",
            "2/2 [==============================] - 0s 8ms/step - loss: 17.9022 - mae: 17.9022\n",
            "Epoch 200/500\n",
            "2/2 [==============================] - 0s 7ms/step - loss: 13.7431 - mae: 13.7431\n",
            "Epoch 201/500\n",
            "2/2 [==============================] - 0s 7ms/step - loss: 5.4893 - mae: 5.4893\n",
            "Epoch 202/500\n",
            "2/2 [==============================] - 0s 7ms/step - loss: 13.6906 - mae: 13.6906\n",
            "Epoch 203/500\n",
            "2/2 [==============================] - 0s 7ms/step - loss: 9.4258 - mae: 9.4258\n",
            "Epoch 204/500\n",
            "2/2 [==============================] - 0s 7ms/step - loss: 20.9375 - mae: 20.9375\n",
            "Epoch 205/500\n",
            "2/2 [==============================] - 0s 7ms/step - loss: 9.5502 - mae: 9.5502\n",
            "Epoch 206/500\n",
            "2/2 [==============================] - 0s 7ms/step - loss: 11.7154 - mae: 11.7154\n",
            "Epoch 207/500\n",
            "2/2 [==============================] - 0s 7ms/step - loss: 14.3391 - mae: 14.3391\n",
            "Epoch 208/500\n",
            "2/2 [==============================] - 0s 8ms/step - loss: 14.8302 - mae: 14.8302\n",
            "Epoch 209/500\n",
            "2/2 [==============================] - 0s 8ms/step - loss: 14.6199 - mae: 14.6199\n",
            "Epoch 210/500\n",
            "2/2 [==============================] - 0s 8ms/step - loss: 17.8627 - mae: 17.8627\n",
            "Epoch 211/500\n",
            "2/2 [==============================] - 0s 8ms/step - loss: 9.8341 - mae: 9.8341\n",
            "Epoch 212/500\n",
            "2/2 [==============================] - 0s 7ms/step - loss: 18.2797 - mae: 18.2797\n",
            "Epoch 213/500\n",
            "2/2 [==============================] - 0s 9ms/step - loss: 15.0626 - mae: 15.0626\n",
            "Epoch 214/500\n",
            "2/2 [==============================] - 0s 7ms/step - loss: 14.6051 - mae: 14.6051\n",
            "Epoch 215/500\n",
            "2/2 [==============================] - 0s 7ms/step - loss: 23.3312 - mae: 23.3312\n",
            "Epoch 216/500\n",
            "2/2 [==============================] - 0s 7ms/step - loss: 13.3205 - mae: 13.3205\n",
            "Epoch 217/500\n",
            "2/2 [==============================] - 0s 9ms/step - loss: 9.8299 - mae: 9.8299\n",
            "Epoch 218/500\n",
            "2/2 [==============================] - 0s 8ms/step - loss: 12.5846 - mae: 12.5846\n",
            "Epoch 219/500\n",
            "2/2 [==============================] - 0s 8ms/step - loss: 4.9599 - mae: 4.9599\n",
            "Epoch 220/500\n",
            "2/2 [==============================] - 0s 7ms/step - loss: 7.1311 - mae: 7.1311\n",
            "Epoch 221/500\n",
            "2/2 [==============================] - 0s 9ms/step - loss: 35.3451 - mae: 35.3451\n",
            "Epoch 222/500\n",
            "2/2 [==============================] - 0s 10ms/step - loss: 34.7243 - mae: 34.7243\n",
            "Epoch 223/500\n",
            "2/2 [==============================] - 0s 11ms/step - loss: 8.0081 - mae: 8.0081\n",
            "Epoch 224/500\n",
            "2/2 [==============================] - 0s 10ms/step - loss: 14.7291 - mae: 14.7291\n",
            "Epoch 225/500\n",
            "2/2 [==============================] - 0s 9ms/step - loss: 16.7539 - mae: 16.7539\n",
            "Epoch 226/500\n",
            "2/2 [==============================] - 0s 7ms/step - loss: 15.9652 - mae: 15.9652\n",
            "Epoch 227/500\n",
            "2/2 [==============================] - 0s 7ms/step - loss: 16.2069 - mae: 16.2069\n",
            "Epoch 228/500\n",
            "2/2 [==============================] - 0s 8ms/step - loss: 9.3506 - mae: 9.3506\n",
            "Epoch 229/500\n",
            "2/2 [==============================] - 0s 10ms/step - loss: 18.0230 - mae: 18.0230\n",
            "Epoch 230/500\n",
            "2/2 [==============================] - 0s 7ms/step - loss: 15.5943 - mae: 15.5943\n",
            "Epoch 231/500\n",
            "2/2 [==============================] - 0s 10ms/step - loss: 21.1604 - mae: 21.1604\n",
            "Epoch 232/500\n",
            "2/2 [==============================] - 0s 9ms/step - loss: 25.3874 - mae: 25.3874\n",
            "Epoch 233/500\n",
            "2/2 [==============================] - 0s 8ms/step - loss: 16.4079 - mae: 16.4079\n",
            "Epoch 234/500\n",
            "2/2 [==============================] - 0s 8ms/step - loss: 7.3054 - mae: 7.3054\n",
            "Epoch 235/500\n",
            "2/2 [==============================] - 0s 8ms/step - loss: 17.0552 - mae: 17.0552\n",
            "Epoch 236/500\n",
            "2/2 [==============================] - 0s 7ms/step - loss: 7.1616 - mae: 7.1616\n",
            "Epoch 237/500\n",
            "2/2 [==============================] - 0s 7ms/step - loss: 9.2539 - mae: 9.2539\n",
            "Epoch 238/500\n",
            "2/2 [==============================] - 0s 8ms/step - loss: 8.1269 - mae: 8.1269\n",
            "Epoch 239/500\n",
            "2/2 [==============================] - 0s 8ms/step - loss: 17.1199 - mae: 17.1199\n",
            "Epoch 240/500\n",
            "2/2 [==============================] - 0s 8ms/step - loss: 8.8993 - mae: 8.8993\n",
            "Epoch 241/500\n",
            "2/2 [==============================] - 0s 7ms/step - loss: 13.2205 - mae: 13.2205\n",
            "Epoch 242/500\n",
            "2/2 [==============================] - 0s 7ms/step - loss: 8.8171 - mae: 8.8171\n",
            "Epoch 243/500\n",
            "2/2 [==============================] - 0s 7ms/step - loss: 18.8773 - mae: 18.8773\n",
            "Epoch 244/500\n",
            "2/2 [==============================] - 0s 7ms/step - loss: 14.0415 - mae: 14.0415\n",
            "Epoch 245/500\n",
            "2/2 [==============================] - 0s 7ms/step - loss: 14.6726 - mae: 14.6726\n",
            "Epoch 246/500\n",
            "2/2 [==============================] - 0s 10ms/step - loss: 15.7979 - mae: 15.7979\n",
            "Epoch 247/500\n",
            "2/2 [==============================] - 0s 7ms/step - loss: 17.6725 - mae: 17.6725\n",
            "Epoch 248/500\n",
            "2/2 [==============================] - 0s 7ms/step - loss: 13.2294 - mae: 13.2294\n",
            "Epoch 249/500\n",
            "2/2 [==============================] - 0s 7ms/step - loss: 14.5052 - mae: 14.5052\n",
            "Epoch 250/500\n",
            "2/2 [==============================] - 0s 9ms/step - loss: 23.2247 - mae: 23.2247\n",
            "Epoch 251/500\n",
            "2/2 [==============================] - 0s 10ms/step - loss: 9.3158 - mae: 9.3158\n",
            "Epoch 252/500\n",
            "2/2 [==============================] - 0s 7ms/step - loss: 36.6838 - mae: 36.6838\n",
            "Epoch 253/500\n",
            "2/2 [==============================] - 0s 10ms/step - loss: 21.8439 - mae: 21.8439\n",
            "Epoch 254/500\n",
            "2/2 [==============================] - 0s 7ms/step - loss: 7.2927 - mae: 7.2927\n",
            "Epoch 255/500\n",
            "2/2 [==============================] - 0s 8ms/step - loss: 24.7281 - mae: 24.7281\n",
            "Epoch 256/500\n",
            "2/2 [==============================] - 0s 9ms/step - loss: 12.4376 - mae: 12.4376\n",
            "Epoch 257/500\n",
            "2/2 [==============================] - 0s 7ms/step - loss: 10.5950 - mae: 10.5950\n",
            "Epoch 258/500\n",
            "2/2 [==============================] - 0s 8ms/step - loss: 14.4915 - mae: 14.4915\n",
            "Epoch 259/500\n",
            "2/2 [==============================] - 0s 8ms/step - loss: 8.6253 - mae: 8.6253\n",
            "Epoch 260/500\n",
            "2/2 [==============================] - 0s 6ms/step - loss: 43.0425 - mae: 43.0425\n",
            "Epoch 261/500\n",
            "2/2 [==============================] - 0s 7ms/step - loss: 18.4602 - mae: 18.4602\n",
            "Epoch 262/500\n",
            "2/2 [==============================] - 0s 7ms/step - loss: 6.8900 - mae: 6.8900\n",
            "Epoch 263/500\n",
            "2/2 [==============================] - 0s 8ms/step - loss: 13.7262 - mae: 13.7262\n",
            "Epoch 264/500\n",
            "2/2 [==============================] - 0s 8ms/step - loss: 21.0243 - mae: 21.0243\n",
            "Epoch 265/500\n",
            "2/2 [==============================] - 0s 8ms/step - loss: 19.3580 - mae: 19.3580\n",
            "Epoch 266/500\n",
            "2/2 [==============================] - 0s 8ms/step - loss: 11.4861 - mae: 11.4861\n",
            "Epoch 267/500\n",
            "2/2 [==============================] - 0s 8ms/step - loss: 7.5395 - mae: 7.5395\n",
            "Epoch 268/500\n",
            "2/2 [==============================] - 0s 8ms/step - loss: 21.6576 - mae: 21.6576\n",
            "Epoch 269/500\n",
            "2/2 [==============================] - 0s 7ms/step - loss: 33.1405 - mae: 33.1405\n",
            "Epoch 270/500\n",
            "2/2 [==============================] - 0s 8ms/step - loss: 9.8214 - mae: 9.8214\n",
            "Epoch 271/500\n",
            "2/2 [==============================] - 0s 9ms/step - loss: 7.7188 - mae: 7.7188\n",
            "Epoch 272/500\n",
            "2/2 [==============================] - 0s 10ms/step - loss: 28.4708 - mae: 28.4708\n",
            "Epoch 273/500\n",
            "2/2 [==============================] - 0s 9ms/step - loss: 7.4367 - mae: 7.4367\n",
            "Epoch 274/500\n",
            "2/2 [==============================] - 0s 10ms/step - loss: 6.3384 - mae: 6.3384\n",
            "Epoch 275/500\n",
            "2/2 [==============================] - 0s 8ms/step - loss: 31.8531 - mae: 31.8531\n",
            "Epoch 276/500\n",
            "2/2 [==============================] - 0s 9ms/step - loss: 4.6753 - mae: 4.6753\n",
            "Epoch 277/500\n",
            "2/2 [==============================] - 0s 10ms/step - loss: 19.7841 - mae: 19.7841\n",
            "Epoch 278/500\n",
            "2/2 [==============================] - 0s 7ms/step - loss: 6.4971 - mae: 6.4971\n",
            "Epoch 279/500\n",
            "2/2 [==============================] - 0s 7ms/step - loss: 18.7142 - mae: 18.7142\n",
            "Epoch 280/500\n",
            "2/2 [==============================] - 0s 7ms/step - loss: 29.3649 - mae: 29.3649\n",
            "Epoch 281/500\n",
            "2/2 [==============================] - 0s 6ms/step - loss: 7.4201 - mae: 7.4201\n",
            "Epoch 282/500\n",
            "2/2 [==============================] - 0s 7ms/step - loss: 14.3275 - mae: 14.3275\n",
            "Epoch 283/500\n",
            "2/2 [==============================] - 0s 7ms/step - loss: 10.4296 - mae: 10.4296\n",
            "Epoch 284/500\n",
            "2/2 [==============================] - 0s 8ms/step - loss: 25.2593 - mae: 25.2593\n",
            "Epoch 285/500\n",
            "2/2 [==============================] - 0s 7ms/step - loss: 16.1190 - mae: 16.1190\n",
            "Epoch 286/500\n",
            "2/2 [==============================] - 0s 9ms/step - loss: 5.2481 - mae: 5.2481\n",
            "Epoch 287/500\n",
            "2/2 [==============================] - 0s 8ms/step - loss: 20.7796 - mae: 20.7796\n",
            "Epoch 288/500\n",
            "2/2 [==============================] - 0s 7ms/step - loss: 27.7677 - mae: 27.7677\n",
            "Epoch 289/500\n",
            "2/2 [==============================] - 0s 9ms/step - loss: 10.9839 - mae: 10.9839\n",
            "Epoch 290/500\n",
            "2/2 [==============================] - 0s 8ms/step - loss: 16.1773 - mae: 16.1773\n",
            "Epoch 291/500\n",
            "2/2 [==============================] - 0s 7ms/step - loss: 16.3425 - mae: 16.3425\n",
            "Epoch 292/500\n",
            "2/2 [==============================] - 0s 7ms/step - loss: 14.6074 - mae: 14.6074\n",
            "Epoch 293/500\n",
            "2/2 [==============================] - 0s 7ms/step - loss: 15.9272 - mae: 15.9272\n",
            "Epoch 294/500\n",
            "2/2 [==============================] - 0s 6ms/step - loss: 24.0577 - mae: 24.0577\n",
            "Epoch 295/500\n",
            "2/2 [==============================] - 0s 6ms/step - loss: 14.7669 - mae: 14.7669\n",
            "Epoch 296/500\n",
            "2/2 [==============================] - 0s 7ms/step - loss: 4.3549 - mae: 4.3549\n",
            "Epoch 297/500\n",
            "2/2 [==============================] - 0s 7ms/step - loss: 11.8647 - mae: 11.8647\n",
            "Epoch 298/500\n",
            "2/2 [==============================] - 0s 6ms/step - loss: 23.7635 - mae: 23.7635\n",
            "Epoch 299/500\n",
            "2/2 [==============================] - 0s 6ms/step - loss: 19.0111 - mae: 19.0111\n",
            "Epoch 300/500\n",
            "2/2 [==============================] - 0s 6ms/step - loss: 8.8082 - mae: 8.8082\n",
            "Epoch 301/500\n",
            "2/2 [==============================] - 0s 7ms/step - loss: 15.8735 - mae: 15.8735\n",
            "Epoch 302/500\n",
            "2/2 [==============================] - 0s 6ms/step - loss: 5.7389 - mae: 5.7389\n",
            "Epoch 303/500\n",
            "2/2 [==============================] - 0s 7ms/step - loss: 22.9886 - mae: 22.9886\n",
            "Epoch 304/500\n",
            "2/2 [==============================] - 0s 6ms/step - loss: 26.0419 - mae: 26.0419\n",
            "Epoch 305/500\n",
            "2/2 [==============================] - 0s 6ms/step - loss: 9.5799 - mae: 9.5799\n",
            "Epoch 306/500\n",
            "2/2 [==============================] - 0s 7ms/step - loss: 17.8053 - mae: 17.8053\n",
            "Epoch 307/500\n",
            "2/2 [==============================] - 0s 6ms/step - loss: 9.7946 - mae: 9.7946\n",
            "Epoch 308/500\n",
            "2/2 [==============================] - 0s 7ms/step - loss: 20.5474 - mae: 20.5474\n",
            "Epoch 309/500\n",
            "2/2 [==============================] - 0s 7ms/step - loss: 13.6615 - mae: 13.6615\n",
            "Epoch 310/500\n",
            "2/2 [==============================] - 0s 7ms/step - loss: 6.6460 - mae: 6.6460\n",
            "Epoch 311/500\n",
            "2/2 [==============================] - 0s 11ms/step - loss: 13.3850 - mae: 13.3850\n",
            "Epoch 312/500\n",
            "2/2 [==============================] - 0s 11ms/step - loss: 30.1879 - mae: 30.1879\n",
            "Epoch 313/500\n",
            "2/2 [==============================] - 0s 10ms/step - loss: 7.2558 - mae: 7.2558\n",
            "Epoch 314/500\n",
            "2/2 [==============================] - 0s 9ms/step - loss: 10.5485 - mae: 10.5485\n",
            "Epoch 315/500\n",
            "2/2 [==============================] - 0s 6ms/step - loss: 23.5540 - mae: 23.5540\n",
            "Epoch 316/500\n",
            "2/2 [==============================] - 0s 7ms/step - loss: 14.4473 - mae: 14.4473\n",
            "Epoch 317/500\n",
            "2/2 [==============================] - 0s 6ms/step - loss: 20.0024 - mae: 20.0024\n",
            "Epoch 318/500\n",
            "2/2 [==============================] - 0s 6ms/step - loss: 8.0056 - mae: 8.0056\n",
            "Epoch 319/500\n",
            "2/2 [==============================] - 0s 7ms/step - loss: 18.1343 - mae: 18.1343\n",
            "Epoch 320/500\n",
            "2/2 [==============================] - 0s 6ms/step - loss: 10.6564 - mae: 10.6564\n",
            "Epoch 321/500\n",
            "2/2 [==============================] - 0s 6ms/step - loss: 7.0342 - mae: 7.0342\n",
            "Epoch 322/500\n",
            "2/2 [==============================] - 0s 7ms/step - loss: 8.6678 - mae: 8.6678\n",
            "Epoch 323/500\n",
            "2/2 [==============================] - 0s 7ms/step - loss: 18.3298 - mae: 18.3298\n",
            "Epoch 324/500\n",
            "2/2 [==============================] - 0s 7ms/step - loss: 6.3099 - mae: 6.3099\n",
            "Epoch 325/500\n",
            "2/2 [==============================] - 0s 7ms/step - loss: 14.6276 - mae: 14.6276\n",
            "Epoch 326/500\n",
            "2/2 [==============================] - 0s 7ms/step - loss: 6.9920 - mae: 6.9920\n",
            "Epoch 327/500\n",
            "2/2 [==============================] - 0s 7ms/step - loss: 17.6443 - mae: 17.6443\n",
            "Epoch 328/500\n",
            "2/2 [==============================] - 0s 7ms/step - loss: 14.3693 - mae: 14.3693\n",
            "Epoch 329/500\n",
            "2/2 [==============================] - 0s 7ms/step - loss: 17.6790 - mae: 17.6790\n",
            "Epoch 330/500\n",
            "2/2 [==============================] - 0s 7ms/step - loss: 6.7819 - mae: 6.7819\n",
            "Epoch 331/500\n",
            "2/2 [==============================] - 0s 7ms/step - loss: 19.7579 - mae: 19.7579\n",
            "Epoch 332/500\n",
            "2/2 [==============================] - 0s 7ms/step - loss: 10.5552 - mae: 10.5552\n",
            "Epoch 333/500\n",
            "2/2 [==============================] - 0s 7ms/step - loss: 16.3540 - mae: 16.3540\n",
            "Epoch 334/500\n",
            "2/2 [==============================] - 0s 7ms/step - loss: 9.7124 - mae: 9.7124\n",
            "Epoch 335/500\n",
            "2/2 [==============================] - 0s 7ms/step - loss: 13.0540 - mae: 13.0540\n",
            "Epoch 336/500\n",
            "2/2 [==============================] - 0s 7ms/step - loss: 32.4910 - mae: 32.4910\n",
            "Epoch 337/500\n",
            "2/2 [==============================] - 0s 7ms/step - loss: 11.0349 - mae: 11.0349\n",
            "Epoch 338/500\n",
            "2/2 [==============================] - 0s 7ms/step - loss: 19.9448 - mae: 19.9448\n",
            "Epoch 339/500\n",
            "2/2 [==============================] - 0s 7ms/step - loss: 34.3419 - mae: 34.3419\n",
            "Epoch 340/500\n",
            "2/2 [==============================] - 0s 7ms/step - loss: 9.2827 - mae: 9.2827\n",
            "Epoch 341/500\n",
            "2/2 [==============================] - 0s 6ms/step - loss: 17.3043 - mae: 17.3043\n",
            "Epoch 342/500\n",
            "2/2 [==============================] - 0s 7ms/step - loss: 14.9110 - mae: 14.9110\n",
            "Epoch 343/500\n",
            "2/2 [==============================] - 0s 7ms/step - loss: 10.3156 - mae: 10.3156\n",
            "Epoch 344/500\n",
            "2/2 [==============================] - 0s 7ms/step - loss: 9.9341 - mae: 9.9341\n",
            "Epoch 345/500\n",
            "2/2 [==============================] - 0s 7ms/step - loss: 30.9000 - mae: 30.9000\n",
            "Epoch 346/500\n",
            "2/2 [==============================] - 0s 7ms/step - loss: 10.6256 - mae: 10.6256\n",
            "Epoch 347/500\n",
            "2/2 [==============================] - 0s 8ms/step - loss: 25.5370 - mae: 25.5370\n",
            "Epoch 348/500\n",
            "2/2 [==============================] - 0s 7ms/step - loss: 13.3517 - mae: 13.3517\n",
            "Epoch 349/500\n",
            "2/2 [==============================] - 0s 10ms/step - loss: 13.0082 - mae: 13.0082\n",
            "Epoch 350/500\n",
            "2/2 [==============================] - 0s 8ms/step - loss: 15.3893 - mae: 15.3893\n",
            "Epoch 351/500\n",
            "2/2 [==============================] - 0s 7ms/step - loss: 32.8615 - mae: 32.8615\n",
            "Epoch 352/500\n",
            "2/2 [==============================] - 0s 8ms/step - loss: 14.0615 - mae: 14.0615\n",
            "Epoch 353/500\n",
            "2/2 [==============================] - 0s 8ms/step - loss: 17.7498 - mae: 17.7498\n",
            "Epoch 354/500\n",
            "2/2 [==============================] - 0s 8ms/step - loss: 11.3297 - mae: 11.3297\n",
            "Epoch 355/500\n",
            "2/2 [==============================] - 0s 7ms/step - loss: 26.7432 - mae: 26.7432\n",
            "Epoch 356/500\n",
            "2/2 [==============================] - 0s 8ms/step - loss: 10.1882 - mae: 10.1882\n",
            "Epoch 357/500\n",
            "2/2 [==============================] - 0s 8ms/step - loss: 14.7697 - mae: 14.7697\n",
            "Epoch 358/500\n",
            "2/2 [==============================] - 0s 7ms/step - loss: 14.6543 - mae: 14.6543\n",
            "Epoch 359/500\n",
            "2/2 [==============================] - 0s 7ms/step - loss: 12.3273 - mae: 12.3273\n",
            "Epoch 360/500\n",
            "2/2 [==============================] - 0s 7ms/step - loss: 20.3299 - mae: 20.3299\n",
            "Epoch 361/500\n",
            "2/2 [==============================] - 0s 7ms/step - loss: 10.9268 - mae: 10.9268\n",
            "Epoch 362/500\n",
            "2/2 [==============================] - 0s 7ms/step - loss: 6.8177 - mae: 6.8177\n",
            "Epoch 363/500\n",
            "2/2 [==============================] - 0s 7ms/step - loss: 23.8591 - mae: 23.8591\n",
            "Epoch 364/500\n",
            "2/2 [==============================] - 0s 7ms/step - loss: 29.5752 - mae: 29.5752\n",
            "Epoch 365/500\n",
            "2/2 [==============================] - 0s 7ms/step - loss: 8.2997 - mae: 8.2997\n",
            "Epoch 366/500\n",
            "2/2 [==============================] - 0s 7ms/step - loss: 6.1025 - mae: 6.1025\n",
            "Epoch 367/500\n",
            "2/2 [==============================] - 0s 7ms/step - loss: 34.6761 - mae: 34.6761\n",
            "Epoch 368/500\n",
            "2/2 [==============================] - 0s 7ms/step - loss: 7.3680 - mae: 7.3680\n",
            "Epoch 369/500\n",
            "2/2 [==============================] - 0s 7ms/step - loss: 8.7215 - mae: 8.7215\n",
            "Epoch 370/500\n",
            "2/2 [==============================] - 0s 7ms/step - loss: 14.4964 - mae: 14.4964\n",
            "Epoch 371/500\n",
            "2/2 [==============================] - 0s 8ms/step - loss: 6.1756 - mae: 6.1756\n",
            "Epoch 372/500\n",
            "2/2 [==============================] - 0s 7ms/step - loss: 6.0325 - mae: 6.0325\n",
            "Epoch 373/500\n",
            "2/2 [==============================] - 0s 7ms/step - loss: 26.7706 - mae: 26.7706\n",
            "Epoch 374/500\n",
            "2/2 [==============================] - 0s 7ms/step - loss: 8.2722 - mae: 8.2722\n",
            "Epoch 375/500\n",
            "2/2 [==============================] - 0s 7ms/step - loss: 9.1930 - mae: 9.1930\n",
            "Epoch 376/500\n",
            "2/2 [==============================] - 0s 7ms/step - loss: 6.2015 - mae: 6.2015\n",
            "Epoch 377/500\n",
            "2/2 [==============================] - 0s 7ms/step - loss: 10.1719 - mae: 10.1719\n",
            "Epoch 378/500\n",
            "2/2 [==============================] - 0s 12ms/step - loss: 15.0413 - mae: 15.0413\n",
            "Epoch 379/500\n",
            "2/2 [==============================] - 0s 7ms/step - loss: 26.6450 - mae: 26.6450\n",
            "Epoch 380/500\n",
            "2/2 [==============================] - 0s 8ms/step - loss: 17.0061 - mae: 17.0061\n",
            "Epoch 381/500\n",
            "2/2 [==============================] - 0s 9ms/step - loss: 11.0509 - mae: 11.0509\n",
            "Epoch 382/500\n",
            "2/2 [==============================] - 0s 6ms/step - loss: 16.0241 - mae: 16.0241\n",
            "Epoch 383/500\n",
            "2/2 [==============================] - 0s 7ms/step - loss: 21.6129 - mae: 21.6129\n",
            "Epoch 384/500\n",
            "2/2 [==============================] - 0s 7ms/step - loss: 6.3367 - mae: 6.3367\n",
            "Epoch 385/500\n",
            "2/2 [==============================] - 0s 7ms/step - loss: 10.0165 - mae: 10.0165\n",
            "Epoch 386/500\n",
            "2/2 [==============================] - 0s 8ms/step - loss: 19.5070 - mae: 19.5070\n",
            "Epoch 387/500\n",
            "2/2 [==============================] - 0s 7ms/step - loss: 25.4555 - mae: 25.4555\n",
            "Epoch 388/500\n",
            "2/2 [==============================] - 0s 7ms/step - loss: 9.3059 - mae: 9.3059\n",
            "Epoch 389/500\n",
            "2/2 [==============================] - 0s 11ms/step - loss: 5.4531 - mae: 5.4531\n",
            "Epoch 390/500\n",
            "2/2 [==============================] - 0s 10ms/step - loss: 21.0405 - mae: 21.0405\n",
            "Epoch 391/500\n",
            "2/2 [==============================] - 0s 9ms/step - loss: 6.2533 - mae: 6.2533\n",
            "Epoch 392/500\n",
            "2/2 [==============================] - 0s 7ms/step - loss: 15.5332 - mae: 15.5332\n",
            "Epoch 393/500\n",
            "2/2 [==============================] - 0s 7ms/step - loss: 6.3686 - mae: 6.3686\n",
            "Epoch 394/500\n",
            "2/2 [==============================] - 0s 7ms/step - loss: 14.5841 - mae: 14.5841\n",
            "Epoch 395/500\n",
            "2/2 [==============================] - 0s 8ms/step - loss: 24.6477 - mae: 24.6477\n",
            "Epoch 396/500\n",
            "2/2 [==============================] - 0s 7ms/step - loss: 20.2020 - mae: 20.2020\n",
            "Epoch 397/500\n",
            "2/2 [==============================] - 0s 7ms/step - loss: 10.9834 - mae: 10.9834\n",
            "Epoch 398/500\n",
            "2/2 [==============================] - 0s 8ms/step - loss: 19.2504 - mae: 19.2504\n",
            "Epoch 399/500\n",
            "2/2 [==============================] - 0s 9ms/step - loss: 25.9148 - mae: 25.9148\n",
            "Epoch 400/500\n",
            "2/2 [==============================] - 0s 7ms/step - loss: 15.5698 - mae: 15.5698\n",
            "Epoch 401/500\n",
            "2/2 [==============================] - 0s 8ms/step - loss: 14.8138 - mae: 14.8138\n",
            "Epoch 402/500\n",
            "2/2 [==============================] - 0s 8ms/step - loss: 24.0650 - mae: 24.0650\n",
            "Epoch 403/500\n",
            "2/2 [==============================] - 0s 7ms/step - loss: 16.8855 - mae: 16.8855\n",
            "Epoch 404/500\n",
            "2/2 [==============================] - 0s 7ms/step - loss: 9.7199 - mae: 9.7199\n",
            "Epoch 405/500\n",
            "2/2 [==============================] - 0s 7ms/step - loss: 6.8462 - mae: 6.8462\n",
            "Epoch 406/500\n",
            "2/2 [==============================] - 0s 10ms/step - loss: 20.1952 - mae: 20.1952\n",
            "Epoch 407/500\n",
            "2/2 [==============================] - 0s 8ms/step - loss: 9.6399 - mae: 9.6399\n",
            "Epoch 408/500\n",
            "2/2 [==============================] - 0s 7ms/step - loss: 21.2161 - mae: 21.2161\n",
            "Epoch 409/500\n",
            "2/2 [==============================] - 0s 7ms/step - loss: 29.9129 - mae: 29.9129\n",
            "Epoch 410/500\n",
            "2/2 [==============================] - 0s 7ms/step - loss: 9.9073 - mae: 9.9073\n",
            "Epoch 411/500\n",
            "2/2 [==============================] - 0s 7ms/step - loss: 14.7652 - mae: 14.7652\n",
            "Epoch 412/500\n",
            "2/2 [==============================] - 0s 7ms/step - loss: 21.5646 - mae: 21.5646\n",
            "Epoch 413/500\n",
            "2/2 [==============================] - 0s 7ms/step - loss: 13.0970 - mae: 13.0970\n",
            "Epoch 414/500\n",
            "2/2 [==============================] - 0s 7ms/step - loss: 8.2756 - mae: 8.2756\n",
            "Epoch 415/500\n",
            "2/2 [==============================] - 0s 8ms/step - loss: 11.6956 - mae: 11.6956\n",
            "Epoch 416/500\n",
            "2/2 [==============================] - 0s 7ms/step - loss: 25.6269 - mae: 25.6269\n",
            "Epoch 417/500\n",
            "2/2 [==============================] - 0s 7ms/step - loss: 15.7256 - mae: 15.7256\n",
            "Epoch 418/500\n",
            "2/2 [==============================] - 0s 7ms/step - loss: 12.5813 - mae: 12.5813\n",
            "Epoch 419/500\n",
            "2/2 [==============================] - 0s 10ms/step - loss: 15.7225 - mae: 15.7225\n",
            "Epoch 420/500\n",
            "2/2 [==============================] - 0s 8ms/step - loss: 24.4328 - mae: 24.4328\n",
            "Epoch 421/500\n",
            "2/2 [==============================] - 0s 7ms/step - loss: 18.2604 - mae: 18.2604\n",
            "Epoch 422/500\n",
            "2/2 [==============================] - 0s 8ms/step - loss: 8.6330 - mae: 8.6330\n",
            "Epoch 423/500\n",
            "2/2 [==============================] - 0s 7ms/step - loss: 24.6367 - mae: 24.6367\n",
            "Epoch 424/500\n",
            "2/2 [==============================] - 0s 7ms/step - loss: 16.8803 - mae: 16.8803\n",
            "Epoch 425/500\n",
            "2/2 [==============================] - 0s 7ms/step - loss: 7.3177 - mae: 7.3177\n",
            "Epoch 426/500\n",
            "2/2 [==============================] - 0s 7ms/step - loss: 21.0687 - mae: 21.0687\n",
            "Epoch 427/500\n",
            "2/2 [==============================] - 0s 7ms/step - loss: 6.5003 - mae: 6.5003\n",
            "Epoch 428/500\n",
            "2/2 [==============================] - 0s 7ms/step - loss: 13.5053 - mae: 13.5053\n",
            "Epoch 429/500\n",
            "2/2 [==============================] - 0s 7ms/step - loss: 11.4838 - mae: 11.4838\n",
            "Epoch 430/500\n",
            "2/2 [==============================] - 0s 7ms/step - loss: 10.2571 - mae: 10.2571\n",
            "Epoch 431/500\n",
            "2/2 [==============================] - 0s 7ms/step - loss: 11.5288 - mae: 11.5288\n",
            "Epoch 432/500\n",
            "2/2 [==============================] - 0s 8ms/step - loss: 9.9596 - mae: 9.9596\n",
            "Epoch 433/500\n",
            "2/2 [==============================] - 0s 7ms/step - loss: 3.8450 - mae: 3.8450\n",
            "Epoch 434/500\n",
            "2/2 [==============================] - 0s 7ms/step - loss: 28.3242 - mae: 28.3242\n",
            "Epoch 435/500\n",
            "2/2 [==============================] - 0s 8ms/step - loss: 5.3640 - mae: 5.3640\n",
            "Epoch 436/500\n",
            "2/2 [==============================] - 0s 7ms/step - loss: 41.4068 - mae: 41.4068\n",
            "Epoch 437/500\n",
            "2/2 [==============================] - 0s 7ms/step - loss: 5.1680 - mae: 5.1680\n",
            "Epoch 438/500\n",
            "2/2 [==============================] - 0s 7ms/step - loss: 13.8743 - mae: 13.8743\n",
            "Epoch 439/500\n",
            "2/2 [==============================] - 0s 9ms/step - loss: 31.8721 - mae: 31.8721\n",
            "Epoch 440/500\n",
            "2/2 [==============================] - 0s 11ms/step - loss: 12.2613 - mae: 12.2613\n",
            "Epoch 441/500\n",
            "2/2 [==============================] - 0s 8ms/step - loss: 15.6338 - mae: 15.6338\n",
            "Epoch 442/500\n",
            "2/2 [==============================] - 0s 10ms/step - loss: 23.4192 - mae: 23.4192\n",
            "Epoch 443/500\n",
            "2/2 [==============================] - 0s 8ms/step - loss: 20.9052 - mae: 20.9052\n",
            "Epoch 444/500\n",
            "2/2 [==============================] - 0s 11ms/step - loss: 8.6693 - mae: 8.6693\n",
            "Epoch 445/500\n",
            "2/2 [==============================] - 0s 7ms/step - loss: 14.0654 - mae: 14.0654\n",
            "Epoch 446/500\n",
            "2/2 [==============================] - 0s 7ms/step - loss: 16.7627 - mae: 16.7627\n",
            "Epoch 447/500\n",
            "2/2 [==============================] - 0s 8ms/step - loss: 6.7047 - mae: 6.7047\n",
            "Epoch 448/500\n",
            "2/2 [==============================] - 0s 8ms/step - loss: 6.7075 - mae: 6.7075\n",
            "Epoch 449/500\n",
            "2/2 [==============================] - 0s 8ms/step - loss: 15.6014 - mae: 15.6014\n",
            "Epoch 450/500\n",
            "2/2 [==============================] - 0s 7ms/step - loss: 16.5541 - mae: 16.5541\n",
            "Epoch 451/500\n",
            "2/2 [==============================] - 0s 8ms/step - loss: 14.1890 - mae: 14.1890\n",
            "Epoch 452/500\n",
            "2/2 [==============================] - 0s 8ms/step - loss: 30.4494 - mae: 30.4494\n",
            "Epoch 453/500\n",
            "2/2 [==============================] - 0s 7ms/step - loss: 5.1320 - mae: 5.1320\n",
            "Epoch 454/500\n",
            "2/2 [==============================] - 0s 7ms/step - loss: 30.0451 - mae: 30.0451\n",
            "Epoch 455/500\n",
            "2/2 [==============================] - 0s 7ms/step - loss: 4.3066 - mae: 4.3066\n",
            "Epoch 456/500\n",
            "2/2 [==============================] - 0s 7ms/step - loss: 14.6064 - mae: 14.6064\n",
            "Epoch 457/500\n",
            "2/2 [==============================] - 0s 7ms/step - loss: 17.7741 - mae: 17.7741\n",
            "Epoch 458/500\n",
            "2/2 [==============================] - 0s 7ms/step - loss: 14.0311 - mae: 14.0311\n",
            "Epoch 459/500\n",
            "2/2 [==============================] - 0s 8ms/step - loss: 25.9860 - mae: 25.9860\n",
            "Epoch 460/500\n",
            "2/2 [==============================] - 0s 7ms/step - loss: 14.8919 - mae: 14.8919\n",
            "Epoch 461/500\n",
            "2/2 [==============================] - 0s 7ms/step - loss: 12.1354 - mae: 12.1354\n",
            "Epoch 462/500\n",
            "2/2 [==============================] - 0s 7ms/step - loss: 13.1906 - mae: 13.1906\n",
            "Epoch 463/500\n",
            "2/2 [==============================] - 0s 7ms/step - loss: 29.3057 - mae: 29.3057\n",
            "Epoch 464/500\n",
            "2/2 [==============================] - 0s 7ms/step - loss: 6.9806 - mae: 6.9806\n",
            "Epoch 465/500\n",
            "2/2 [==============================] - 0s 7ms/step - loss: 14.3419 - mae: 14.3419\n",
            "Epoch 466/500\n",
            "2/2 [==============================] - 0s 7ms/step - loss: 10.1400 - mae: 10.1400\n",
            "Epoch 467/500\n",
            "2/2 [==============================] - 0s 7ms/step - loss: 21.5527 - mae: 21.5527\n",
            "Epoch 468/500\n",
            "2/2 [==============================] - 0s 8ms/step - loss: 23.7748 - mae: 23.7748\n",
            "Epoch 469/500\n",
            "2/2 [==============================] - 0s 8ms/step - loss: 21.2015 - mae: 21.2015\n",
            "Epoch 470/500\n",
            "2/2 [==============================] - 0s 10ms/step - loss: 9.6106 - mae: 9.6106\n",
            "Epoch 471/500\n",
            "2/2 [==============================] - 0s 8ms/step - loss: 15.9697 - mae: 15.9697\n",
            "Epoch 472/500\n",
            "2/2 [==============================] - 0s 9ms/step - loss: 14.9256 - mae: 14.9256\n",
            "Epoch 473/500\n",
            "2/2 [==============================] - 0s 10ms/step - loss: 18.2854 - mae: 18.2854\n",
            "Epoch 474/500\n",
            "2/2 [==============================] - 0s 7ms/step - loss: 41.9942 - mae: 41.9942\n",
            "Epoch 475/500\n",
            "2/2 [==============================] - 0s 7ms/step - loss: 17.8426 - mae: 17.8426\n",
            "Epoch 476/500\n",
            "2/2 [==============================] - 0s 7ms/step - loss: 13.2056 - mae: 13.2056\n",
            "Epoch 477/500\n",
            "2/2 [==============================] - 0s 7ms/step - loss: 29.2916 - mae: 29.2916\n",
            "Epoch 478/500\n",
            "2/2 [==============================] - 0s 7ms/step - loss: 5.7050 - mae: 5.7050\n",
            "Epoch 479/500\n",
            "2/2 [==============================] - 0s 8ms/step - loss: 7.0802 - mae: 7.0802\n",
            "Epoch 480/500\n",
            "2/2 [==============================] - 0s 8ms/step - loss: 19.0878 - mae: 19.0878\n",
            "Epoch 481/500\n",
            "2/2 [==============================] - 0s 8ms/step - loss: 13.4557 - mae: 13.4557\n",
            "Epoch 482/500\n",
            "2/2 [==============================] - 0s 7ms/step - loss: 6.3565 - mae: 6.3565\n",
            "Epoch 483/500\n",
            "2/2 [==============================] - 0s 8ms/step - loss: 12.3873 - mae: 12.3873\n",
            "Epoch 484/500\n",
            "2/2 [==============================] - 0s 8ms/step - loss: 13.0999 - mae: 13.0999\n",
            "Epoch 485/500\n",
            "2/2 [==============================] - 0s 8ms/step - loss: 10.4018 - mae: 10.4018\n",
            "Epoch 486/500\n",
            "2/2 [==============================] - 0s 8ms/step - loss: 17.8728 - mae: 17.8728\n",
            "Epoch 487/500\n",
            "2/2 [==============================] - 0s 8ms/step - loss: 10.8332 - mae: 10.8332\n",
            "Epoch 488/500\n",
            "2/2 [==============================] - 0s 8ms/step - loss: 26.9599 - mae: 26.9599\n",
            "Epoch 489/500\n",
            "2/2 [==============================] - 0s 9ms/step - loss: 5.3718 - mae: 5.3718\n",
            "Epoch 490/500\n",
            "2/2 [==============================] - 0s 8ms/step - loss: 6.0790 - mae: 6.0790\n",
            "Epoch 491/500\n",
            "2/2 [==============================] - 0s 10ms/step - loss: 19.3573 - mae: 19.3573\n",
            "Epoch 492/500\n",
            "2/2 [==============================] - 0s 8ms/step - loss: 6.7544 - mae: 6.7544\n",
            "Epoch 493/500\n",
            "2/2 [==============================] - 0s 9ms/step - loss: 18.6687 - mae: 18.6687\n",
            "Epoch 494/500\n",
            "2/2 [==============================] - 0s 8ms/step - loss: 19.1006 - mae: 19.1006\n",
            "Epoch 495/500\n",
            "2/2 [==============================] - 0s 8ms/step - loss: 5.6999 - mae: 5.6999\n",
            "Epoch 496/500\n",
            "2/2 [==============================] - 0s 12ms/step - loss: 5.9312 - mae: 5.9312\n",
            "Epoch 497/500\n",
            "2/2 [==============================] - 0s 11ms/step - loss: 12.6223 - mae: 12.6223\n",
            "Epoch 498/500\n",
            "2/2 [==============================] - 0s 10ms/step - loss: 6.3337 - mae: 6.3337\n",
            "Epoch 499/500\n",
            "2/2 [==============================] - 0s 13ms/step - loss: 16.0175 - mae: 16.0175\n",
            "Epoch 500/500\n",
            "2/2 [==============================] - 0s 9ms/step - loss: 14.3020 - mae: 14.3020\n"
          ]
        },
        {
          "output_type": "execute_result",
          "data": {
            "text/plain": [
              "<keras.callbacks.History at 0x7fdb9ea1f9d0>"
            ]
          },
          "metadata": {},
          "execution_count": 80
        }
      ]
    },
    {
      "cell_type": "code",
      "source": [
        "# Make and plot some predictions\n",
        "y_preds_3 = model.predict(X_test)\n",
        "plot_predictions(predictions=y_preds_3)"
      ],
      "metadata": {
        "colab": {
          "base_uri": "https://localhost:8080/",
          "height": 616
        },
        "id": "MnwzP5BLN5jU",
        "outputId": "f4397025-483e-4d45-b97b-bb327553ce8d"
      },
      "execution_count": null,
      "outputs": [
        {
          "output_type": "stream",
          "name": "stdout",
          "text": [
            "1/1 [==============================] - 0s 109ms/step\n"
          ]
        },
        {
          "output_type": "display_data",
          "data": {
            "text/plain": [
              "<Figure size 1000x700 with 1 Axes>"
            ],
            "image/png": "[encoded data removed]"
          },
          "metadata": {}
        }
      ]
    },
    {
      "cell_type": "code",
      "source": [
        "# Calculate model_3 evaluation metrics\n",
        "mae_3 = mae(y_test, y_preds_3)\n",
        "mse_3 = mse(y_test, y_preds_3)\n",
        "mae_3, mse_3"
      ],
      "metadata": {
        "colab": {
          "base_uri": "https://localhost:8080/"
        },
        "id": "VK1Gt_idOKsi",
        "outputId": "6edde410-8b3f-4f4e-f7d7-bd7c0faa7428"
      },
      "execution_count": null,
      "outputs": [
        {
          "output_type": "execute_result",
          "data": {
            "text/plain": [
              "(<tf.Tensor: shape=(), dtype=float32, numpy=10.617625>,\n",
              " <tf.Tensor: shape=(), dtype=float32, numpy=120.49803>)"
            ]
          },
          "metadata": {},
          "execution_count": 82
        }
      ]
    },
    {
      "cell_type": "markdown",
      "source": [
        "🔑 **Note:** You want to start with small experiments (small models) and make sure they work and then increase their scale when necessary."
      ],
      "metadata": {
        "id": "uEwuElSZPD2C"
      }
    },
    {
      "cell_type": "markdown",
      "source": [
        "### Comparing the results of our experiments\n",
        "\n",
        "we've run a few experiments, let's compare the results."
      ],
      "metadata": {
        "id": "IMEf08ljOlQm"
      }
    },
    {
      "cell_type": "code",
      "source": [
        "# Let's compare our model's results using a pandas DataFrame\n",
        "import pandas as pd\n",
        "\n",
        "model_results = [[\"model_1\", mae_1.numpy(), mse_1.numpy()],\n",
        "                 [\"model_2\", mae_2.numpy(), mse_2.numpy()],\n",
        "                 [\"model_3\", mae_3.numpy(), mse_3.numpy()]]\n",
        "\n",
        "all_results = pd.DataFrame(model_results, columns=[\"model\", \"mae\",\"mse\"])\n",
        "all_results"
      ],
      "metadata": {
        "colab": {
          "base_uri": "https://localhost:8080/",
          "height": 143
        },
        "id": "iOtxf8YqOxur",
        "outputId": "097de0ea-7464-4aa4-e1d2-5e52edacd29b"
      },
      "execution_count": null,
      "outputs": [
        {
          "output_type": "execute_result",
          "data": {
            "text/plain": [
              "     model        mae         mse\n",
              "0  model_1   8.603948   80.533264\n",
              "1  model_2   1.934883    5.583486\n",
              "2  model_3  10.617625  120.498032"
            ],
            "text/html": [
              "\n",
              "  <div id=\"df-6bdd6b75-6778-43d5-994d-e5b56b58f6b6\">\n",
              "    <div class=\"colab-df-container\">\n",
              "      <div>\n",
              "<style scoped>\n",
              "    .dataframe tbody tr th:only-of-type {\n",
              "        vertical-align: middle;\n",
              "    }\n",
              "\n",
              "    .dataframe tbody tr th {\n",
              "        vertical-align: top;\n",
              "    }\n",
              "\n",
              "    .dataframe thead th {\n",
              "        text-align: right;\n",
              "    }\n",
              "</style>\n",
              "<table border=\"1\" class=\"dataframe\">\n",
              "  <thead>\n",
              "    <tr style=\"text-align: right;\">\n",
              "      <th></th>\n",
              "      <th>model</th>\n",
              "      <th>mae</th>\n",
              "      <th>mse</th>\n",
              "    </tr>\n",
              "  </thead>\n",
              "  <tbody>\n",
              "    <tr>\n",
              "      <th>0</th>\n",
              "      <td>model_1</td>\n",
              "      <td>8.603948</td>\n",
              "      <td>80.533264</td>\n",
              "    </tr>\n",
              "    <tr>\n",
              "      <th>1</th>\n",
              "      <td>model_2</td>\n",
              "      <td>1.934883</td>\n",
              "      <td>5.583486</td>\n",
              "    </tr>\n",
              "    <tr>\n",
              "      <th>2</th>\n",
              "      <td>model_3</td>\n",
              "      <td>10.617625</td>\n",
              "      <td>120.498032</td>\n",
              "    </tr>\n",
              "  </tbody>\n",
              "</table>\n",
              "</div>\n",
              "      <button class=\"colab-df-convert\" onclick=\"convertToInteractive('df-6bdd6b75-6778-43d5-994d-e5b56b58f6b6')\"\n",
              "              title=\"Convert this dataframe to an interactive table.\"\n",
              "              style=\"display:none;\">\n",
              "        \n",
              "  <svg xmlns=\"http://www.w3.org/2000/svg\" height=\"24px\"viewBox=\"0 0 24 24\"\n",
              "       width=\"24px\">\n",
              "    <path d=\"M0 0h24v24H0V0z\" fill=\"none\"/>\n",
              "    <path d=\"M18.56 5.44l.94 2.06.94-2.06 2.06-.94-2.06-.94-.94-2.06-.94 2.06-2.06.94zm-11 1L8.5 8.5l.94-2.06 2.06-.94-2.06-.94L8.5 2.5l-.94 2.06-2.06.94zm10 10l.94 2.06.94-2.06 2.06-.94-2.06-.94-.94-2.06-.94 2.06-2.06.94z\"/><path d=\"M17.41 7.96l-1.37-1.37c-.4-.4-.92-.59-1.43-.59-.52 0-1.04.2-1.43.59L10.3 9.45l-7.72 7.72c-.78.78-.78 2.05 0 2.83L4 21.41c.39.39.9.59 1.41.59.51 0 1.02-.2 1.41-.59l7.78-7.78 2.81-2.81c.8-.78.8-2.07 0-2.86zM5.41 20L4 18.59l7.72-7.72 1.47 1.35L5.41 20z\"/>\n",
              "  </svg>\n",
              "      </button>\n",
              "      \n",
              "  <style>\n",
              "    .colab-df-container {\n",
              "      display:flex;\n",
              "      flex-wrap:wrap;\n",
              "      gap: 12px;\n",
              "    }\n",
              "\n",
              "    .colab-df-convert {\n",
              "      background-color: #E8F0FE;\n",
              "      border: none;\n",
              "      border-radius: 50%;\n",
              "      cursor: pointer;\n",
              "      display: none;\n",
              "      fill: #1967D2;\n",
              "      height: 32px;\n",
              "      padding: 0 0 0 0;\n",
              "      width: 32px;\n",
              "    }\n",
              "\n",
              "    .colab-df-convert:hover {\n",
              "      background-color: #E2EBFA;\n",
              "      box-shadow: 0px 1px 2px rgba(60, 64, 67, 0.3), 0px 1px 3px 1px rgba(60, 64, 67, 0.15);\n",
              "      fill: #174EA6;\n",
              "    }\n",
              "\n",
              "    [theme=dark] .colab-df-convert {\n",
              "      background-color: #3B4455;\n",
              "      fill: #D2E3FC;\n",
              "    }\n",
              "\n",
              "    [theme=dark] .colab-df-convert:hover {\n",
              "      background-color: #434B5C;\n",
              "      box-shadow: 0px 1px 3px 1px rgba(0, 0, 0, 0.15);\n",
              "      filter: drop-shadow(0px 1px 2px rgba(0, 0, 0, 0.3));\n",
              "      fill: #FFFFFF;\n",
              "    }\n",
              "  </style>\n",
              "\n",
              "      <script>\n",
              "        const buttonEl =\n",
              "          document.querySelector('#df-6bdd6b75-6778-43d5-994d-e5b56b58f6b6 button.colab-df-convert');\n",
              "        buttonEl.style.display =\n",
              "          google.colab.kernel.accessAllowed ? 'block' : 'none';\n",
              "\n",
              "        async function convertToInteractive(key) {\n",
              "          const element = document.querySelector('#df-6bdd6b75-6778-43d5-994d-e5b56b58f6b6');\n",
              "          const dataTable =\n",
              "            await google.colab.kernel.invokeFunction('convertToInteractive',\n",
              "                                                     [key], {});\n",
              "          if (!dataTable) return;\n",
              "\n",
              "          const docLinkHtml = 'Like what you see? Visit the ' +\n",
              "            '<a target=\"_blank\" href=https://colab.research.google.com/notebooks/data_table.ipynb>data table notebook</a>'\n",
              "            + ' to learn more about interactive tables.';\n",
              "          element.innerHTML = '';\n",
              "          dataTable['output_type'] = 'display_data';\n",
              "          await google.colab.output.renderOutput(dataTable, element);\n",
              "          const docLink = document.createElement('div');\n",
              "          docLink.innerHTML = docLinkHtml;\n",
              "          element.appendChild(docLink);\n",
              "        }\n",
              "      </script>\n",
              "    </div>\n",
              "  </div>\n",
              "  "
            ]
          },
          "metadata": {},
          "execution_count": 87
        }
      ]
    },
    {
      "cell_type": "markdown",
      "source": [
        "Looks like `model_2` perfomed the best..."
      ],
      "metadata": {
        "id": "hqzWYFwMQZVS"
      }
    },
    {
      "cell_type": "code",
      "source": [
        "model_2.summary()"
      ],
      "metadata": {
        "colab": {
          "base_uri": "https://localhost:8080/"
        },
        "id": "iUD0WDhcP_AA",
        "outputId": "4e60d760-03eb-4b90-90a7-a2da7a6f05fe"
      },
      "execution_count": null,
      "outputs": [
        {
          "output_type": "stream",
          "name": "stdout",
          "text": [
            "Model: \"sequential_13\"\n",
            "_________________________________________________________________\n",
            " Layer (type)                Output Shape              Param #   \n",
            "=================================================================\n",
            " dense_20 (Dense)            (None, 10)                20        \n",
            "                                                                 \n",
            " dense_21 (Dense)            (None, 1)                 11        \n",
            "                                                                 \n",
            "=================================================================\n",
            "Total params: 31\n",
            "Trainable params: 31\n",
            "Non-trainable params: 0\n",
            "_________________________________________________________________\n"
          ]
        }
      ]
    },
    {
      "cell_type": "markdown",
      "source": [
        "> 🔑 **Note:** One of your main goals should be to minimize the time between your experiments. The more experiments you do, the more things you'll figure out which don't work and in turn, get closer to figure out what does work. Remember the machine learning practioner's motto: \"experiment, experiment, experiment\"."
      ],
      "metadata": {
        "id": "oj0pXyS5Qfz5"
      }
    },
    {
      "cell_type": "markdown",
      "source": [
        "## Tracking your experiments\n",
        "\n",
        "One really good habit in machine learning modelling is to track the results of your experiments.\n",
        "\n",
        "And when doing so, it can be tedious if you're running lots of experiments.\n",
        "\n",
        "Luckily, there are tools to help us!!\n",
        "\n",
        "📖**Resource:** As you build more models, you'll want to look into using:\n",
        "\n",
        "* TensorBoard - a component of TensorFlow library to help track modelling experiments (we'll see this one later).\n",
        "* Weights & Biases - a tool for tracking all of kinds of machine learning experiments (plugs straight into TensorBoard)."
      ],
      "metadata": {
        "id": "1C32lqWlQNV6"
      }
    },
    {
      "cell_type": "markdown",
      "source": [
        "## Saving our models\n",
        "\n",
        "Saving our models allows us to use them outside of Google Colab (or wherever they were trained) such as in a web application or a mobile app.\n",
        "\n",
        "\n",
        "There are two main formats we can save our model's too:\n",
        "\n",
        "1. The SavedModel format\n",
        "2. The HDF5 format"
      ],
      "metadata": {
        "id": "9s8sLA8RRrAh"
      }
    },
    {
      "cell_type": "code",
      "source": [
        "# Save model\n",
        "model_2.save(\"best_model_SavedModel_format\")"
      ],
      "metadata": {
        "colab": {
          "base_uri": "https://localhost:8080/"
        },
        "id": "ZKTAYqF3V5c4",
        "outputId": "ace4870b-357c-4f92-f41f-4fa849f90bd3"
      },
      "execution_count": null,
      "outputs": [
        {
          "output_type": "stream",
          "name": "stderr",
          "text": [
            "WARNING:absl:Found untraced functions such as _update_step_xla while saving (showing 1 of 1). These functions will not be directly callable after loading.\n"
          ]
        }
      ]
    },
    {
      "cell_type": "code",
      "source": [
        "# Save model using HDF5 format\n",
        "model_2.save(\"best_model_HDF5_format.h5\")"
      ],
      "metadata": {
        "id": "5G0sCL5bXob5"
      },
      "execution_count": null,
      "outputs": []
    },
    {
      "cell_type": "markdown",
      "source": [
        "## Loading in a saved model"
      ],
      "metadata": {
        "id": "qwjim1BrYQjv"
      }
    },
    {
      "cell_type": "code",
      "source": [
        "# Load in the SavedModel format model\n",
        "loaded_SaveModel_format = tf.keras.models.load_model(\"best_model_SavedModel_format\")\n",
        "loaded_SaveModel_format.summary()"
      ],
      "metadata": {
        "colab": {
          "base_uri": "https://localhost:8080/"
        },
        "id": "bNebI64Uabga",
        "outputId": "a57042c0-bd7d-4cac-ec65-d5183a3eb81f"
      },
      "execution_count": null,
      "outputs": [
        {
          "output_type": "stream",
          "name": "stdout",
          "text": [
            "Model: \"sequential_13\"\n",
            "_________________________________________________________________\n",
            " Layer (type)                Output Shape              Param #   \n",
            "=================================================================\n",
            " dense_20 (Dense)            (None, 10)                20        \n",
            "                                                                 \n",
            " dense_21 (Dense)            (None, 1)                 11        \n",
            "                                                                 \n",
            "=================================================================\n",
            "Total params: 31\n",
            "Trainable params: 31\n",
            "Non-trainable params: 0\n",
            "_________________________________________________________________\n"
          ]
        }
      ]
    },
    {
      "cell_type": "code",
      "source": [
        "model_2.summary()"
      ],
      "metadata": {
        "colab": {
          "base_uri": "https://localhost:8080/"
        },
        "id": "uMMzVqUpa9UL",
        "outputId": "4d658bfe-69a3-43ab-b33c-48b4d2bc2b05"
      },
      "execution_count": null,
      "outputs": [
        {
          "output_type": "stream",
          "name": "stdout",
          "text": [
            "Model: \"sequential_13\"\n",
            "_________________________________________________________________\n",
            " Layer (type)                Output Shape              Param #   \n",
            "=================================================================\n",
            " dense_20 (Dense)            (None, 10)                20        \n",
            "                                                                 \n",
            " dense_21 (Dense)            (None, 1)                 11        \n",
            "                                                                 \n",
            "=================================================================\n",
            "Total params: 31\n",
            "Trainable params: 31\n",
            "Non-trainable params: 0\n",
            "_________________________________________________________________\n"
          ]
        }
      ]
    },
    {
      "cell_type": "code",
      "source": [
        "# Compare model_2 predictions with SavedModel format model predictions\n",
        "model_2_preds = model_2.predict(X_test)\n",
        "loaded_SavedModel_format_preds = loaded_SaveModel_format.predict(X_test)\n",
        "model_2_preds == loaded_SavedModel_format_preds"
      ],
      "metadata": {
        "colab": {
          "base_uri": "https://localhost:8080/"
        },
        "id": "YoJPXA5GbAa8",
        "outputId": "12889c16-dc4a-4001-a989-2ada2575bad6"
      },
      "execution_count": null,
      "outputs": [
        {
          "output_type": "stream",
          "name": "stdout",
          "text": [
            "1/1 [==============================] - 0s 95ms/step\n",
            "1/1 [==============================] - 0s 183ms/step\n"
          ]
        },
        {
          "output_type": "execute_result",
          "data": {
            "text/plain": [
              "array([[ True],\n",
              "       [ True],\n",
              "       [ True],\n",
              "       [ True],\n",
              "       [ True],\n",
              "       [ True],\n",
              "       [ True],\n",
              "       [ True],\n",
              "       [ True],\n",
              "       [ True]])"
            ]
          },
          "metadata": {},
          "execution_count": 94
        }
      ]
    },
    {
      "cell_type": "code",
      "source": [
        "# Compare the MAE of model_2 preds and loaded_SavedModel_preds\n",
        "mae(y_true=y_test, y_pred=model_2_preds) == mae(y_true=y_test, y_pred=loaded_SavedModel_format_preds)"
      ],
      "metadata": {
        "colab": {
          "base_uri": "https://localhost:8080/"
        },
        "id": "3za-0ZXfbiH-",
        "outputId": "60f5fa1a-716a-49b1-d050-50343adc1b00"
      },
      "execution_count": null,
      "outputs": [
        {
          "output_type": "execute_result",
          "data": {
            "text/plain": [
              "<tf.Tensor: shape=(), dtype=bool, numpy=True>"
            ]
          },
          "metadata": {},
          "execution_count": 96
        }
      ]
    },
    {
      "cell_type": "code",
      "source": [
        "# Load in a model using the .h5 format\n",
        "loaded_h5_model = tf.keras.models.load_model(\"best_model_HDF5_format.h5\")\n",
        "loaded_h5_model.summary()"
      ],
      "metadata": {
        "colab": {
          "base_uri": "https://localhost:8080/"
        },
        "id": "OLHdLBeucjbF",
        "outputId": "a8d6a6b0-33a8-4ba4-dfcd-088174041338"
      },
      "execution_count": null,
      "outputs": [
        {
          "output_type": "stream",
          "name": "stdout",
          "text": [
            "Model: \"sequential_13\"\n",
            "_________________________________________________________________\n",
            " Layer (type)                Output Shape              Param #   \n",
            "=================================================================\n",
            " dense_20 (Dense)            (None, 10)                20        \n",
            "                                                                 \n",
            " dense_21 (Dense)            (None, 1)                 11        \n",
            "                                                                 \n",
            "=================================================================\n",
            "Total params: 31\n",
            "Trainable params: 31\n",
            "Non-trainable params: 0\n",
            "_________________________________________________________________\n"
          ]
        }
      ]
    },
    {
      "cell_type": "code",
      "source": [
        "model_2.summary()"
      ],
      "metadata": {
        "colab": {
          "base_uri": "https://localhost:8080/"
        },
        "id": "p3VHuv6ocHfA",
        "outputId": "198a73db-e350-47c3-d3a4-dde520716cfd"
      },
      "execution_count": null,
      "outputs": [
        {
          "output_type": "stream",
          "name": "stdout",
          "text": [
            "Model: \"sequential_13\"\n",
            "_________________________________________________________________\n",
            " Layer (type)                Output Shape              Param #   \n",
            "=================================================================\n",
            " dense_20 (Dense)            (None, 10)                20        \n",
            "                                                                 \n",
            " dense_21 (Dense)            (None, 1)                 11        \n",
            "                                                                 \n",
            "=================================================================\n",
            "Total params: 31\n",
            "Trainable params: 31\n",
            "Non-trainable params: 0\n",
            "_________________________________________________________________\n"
          ]
        }
      ]
    },
    {
      "cell_type": "code",
      "source": [
        "# Check to see if loaded .h5 model predictions match model_2\n",
        "model_2_preds = model_2.predict(X_test)\n",
        "loaded_h5_model_preds = loaded_h5_model.predict(X_test)\n",
        "model_2_preds == loaded_h5_model_preds"
      ],
      "metadata": {
        "colab": {
          "base_uri": "https://localhost:8080/"
        },
        "id": "PkVyF51Pc9FN",
        "outputId": "0a8e9502-d755-4c71-c263-cf36b9421f5d"
      },
      "execution_count": null,
      "outputs": [
        {
          "output_type": "stream",
          "name": "stdout",
          "text": [
            "1/1 [==============================] - 0s 48ms/step\n",
            "1/1 [==============================] - 0s 55ms/step\n"
          ]
        },
        {
          "output_type": "execute_result",
          "data": {
            "text/plain": [
              "array([[ True],\n",
              "       [ True],\n",
              "       [ True],\n",
              "       [ True],\n",
              "       [ True],\n",
              "       [ True],\n",
              "       [ True],\n",
              "       [ True],\n",
              "       [ True],\n",
              "       [ True]])"
            ]
          },
          "metadata": {},
          "execution_count": 99
        }
      ]
    },
    {
      "cell_type": "markdown",
      "source": [
        "## Download a model (or any other file) from Google Colab\n",
        "\n",
        "If you want to download your files from Google Colab:\n",
        "\n",
        "1. You can go to the \"files\" tab and right click on the file you're after and click \"download\".\n",
        "\n",
        "2. Use code (see the cell below).\n",
        "\n",
        "3. Save it to Google Drive by connecting Google Drive and copying it there (see 2nd code cell below)."
      ],
      "metadata": {
        "id": "Xx-PJgJAdQAa"
      }
    },
    {
      "cell_type": "code",
      "source": [
        "# Download a file from Google Colab\n",
        "from google.colab import files\n",
        "files.download('/content/best_model_HDF5_format.h5')"
      ],
      "metadata": {
        "colab": {
          "base_uri": "https://localhost:8080/",
          "height": 17
        },
        "id": "ApScjFOFfIyR",
        "outputId": "273d8bb4-e171-4f94-8b5d-e26435bd1701"
      },
      "execution_count": null,
      "outputs": [
        {
          "output_type": "display_data",
          "data": {
            "text/plain": [
              "<IPython.core.display.Javascript object>"
            ],
            "application/javascript": [
              "\n",
              "    async function download(id, filename, size) {\n",
              "      if (!google.colab.kernel.accessAllowed) {\n",
              "        return;\n",
              "      }\n",
              "      const div = document.createElement('div');\n",
              "      const label = document.createElement('label');\n",
              "      label.textContent = `Downloading \"${filename}\": `;\n",
              "      div.appendChild(label);\n",
              "      const progress = document.createElement('progress');\n",
              "      progress.max = size;\n",
              "      div.appendChild(progress);\n",
              "      document.body.appendChild(div);\n",
              "\n",
              "      const buffers = [];\n",
              "      let downloaded = 0;\n",
              "\n",
              "      const channel = await google.colab.kernel.comms.open(id);\n",
              "      // Send a message to notify the kernel that we're ready.\n",
              "      channel.send({})\n",
              "\n",
              "      for await (const message of channel.messages) {\n",
              "        // Send a message to notify the kernel that we're ready.\n",
              "        channel.send({})\n",
              "        if (message.buffers) {\n",
              "          for (const buffer of message.buffers) {\n",
              "            buffers.push(buffer);\n",
              "            downloaded += buffer.byteLength;\n",
              "            progress.value = downloaded;\n",
              "          }\n",
              "        }\n",
              "      }\n",
              "      const blob = new Blob(buffers, {type: 'application/binary'});\n",
              "      const a = document.createElement('a');\n",
              "      a.href = window.URL.createObjectURL(blob);\n",
              "      a.download = filename;\n",
              "      div.appendChild(a);\n",
              "      a.click();\n",
              "      div.remove();\n",
              "    }\n",
              "  "
            ]
          },
          "metadata": {}
        },
        {
          "output_type": "display_data",
          "data": {
            "text/plain": [
              "<IPython.core.display.Javascript object>"
            ],
            "application/javascript": [
              "download(\"download_6c2f7b67-184d-45c0-b292-597c736f340b\", \"best_model_HDF5_format.h5\", 21952)"
            ]
          },
          "metadata": {}
        }
      ]
    },
    {
      "cell_type": "code",
      "source": [
        "# Save a file from Google Colab to Google Drive (requires mounting Google Drive)\n",
        "!cp /content/best_model_HDF5_format.h5 /content/drive/MyDrive/TensorFlow"
      ],
      "metadata": {
        "id": "KaMGiRcLfpam"
      },
      "execution_count": null,
      "outputs": []
    },
    {
      "cell_type": "code",
      "source": [
        "!ls /content/drive/MyDrive/TensorFlow"
      ],
      "metadata": {
        "colab": {
          "base_uri": "https://localhost:8080/"
        },
        "id": "-9CA_lO6gMiu",
        "outputId": "6664edf7-1c6c-4b49-b113-8fa8dcb99205"
      },
      "execution_count": null,
      "outputs": [
        {
          "output_type": "stream",
          "name": "stdout",
          "text": [
            "best_model_HDF5_format.h5\n"
          ]
        }
      ]
    },
    {
      "cell_type": "markdown",
      "source": [
        "### A larger example"
      ],
      "metadata": {
        "id": "GdAz4SuVgQu0"
      }
    },
    {
      "cell_type": "code",
      "source": [
        "# Import required libraries\n",
        "import tensorflow as tf\n",
        "import pandas as pd\n",
        "import matplotlib.pyplot as plt"
      ],
      "metadata": {
        "id": "byJnVoRQgvOE"
      },
      "execution_count": null,
      "outputs": []
    },
    {
      "cell_type": "code",
      "source": [
        "# Read in the insurance dataset\n",
        "insurance = pd.read_csv(\"https://raw.githubusercontent.com/stedy/Machine-Learning-with-R-datasets/master/insurance.csv\")"
      ],
      "metadata": {
        "id": "YIVHnJAahc1y"
      },
      "execution_count": null,
      "outputs": []
    },
    {
      "cell_type": "code",
      "source": [
        "insurance"
      ],
      "metadata": {
        "colab": {
          "base_uri": "https://localhost:8080/",
          "height": 423
        },
        "id": "uBNRbPIGhmzK",
        "outputId": "6557a5a6-df96-41ea-8f55-3ffbe013db17"
      },
      "execution_count": null,
      "outputs": [
        {
          "output_type": "execute_result",
          "data": {
            "text/plain": [
              "      age     sex     bmi  children smoker     region      charges\n",
              "0      19  female  27.900         0    yes  southwest  16884.92400\n",
              "1      18    male  33.770         1     no  southeast   1725.55230\n",
              "2      28    male  33.000         3     no  southeast   4449.46200\n",
              "3      33    male  22.705         0     no  northwest  21984.47061\n",
              "4      32    male  28.880         0     no  northwest   3866.85520\n",
              "...   ...     ...     ...       ...    ...        ...          ...\n",
              "1333   50    male  30.970         3     no  northwest  10600.54830\n",
              "1334   18  female  31.920         0     no  northeast   2205.98080\n",
              "1335   18  female  36.850         0     no  southeast   1629.83350\n",
              "1336   21  female  25.800         0     no  southwest   2007.94500\n",
              "1337   61  female  29.070         0    yes  northwest  29141.36030\n",
              "\n",
              "[1338 rows x 7 columns]"
            ],
            "text/html": [
              "\n",
              "  <div id=\"df-deeaf550-254c-41af-8312-ef126da2b256\">\n",
              "    <div class=\"colab-df-container\">\n",
              "      <div>\n",
              "<style scoped>\n",
              "    .dataframe tbody tr th:only-of-type {\n",
              "        vertical-align: middle;\n",
              "    }\n",
              "\n",
              "    .dataframe tbody tr th {\n",
              "        vertical-align: top;\n",
              "    }\n",
              "\n",
              "    .dataframe thead th {\n",
              "        text-align: right;\n",
              "    }\n",
              "</style>\n",
              "<table border=\"1\" class=\"dataframe\">\n",
              "  <thead>\n",
              "    <tr style=\"text-align: right;\">\n",
              "      <th></th>\n",
              "      <th>age</th>\n",
              "      <th>sex</th>\n",
              "      <th>bmi</th>\n",
              "      <th>children</th>\n",
              "      <th>smoker</th>\n",
              "      <th>region</th>\n",
              "      <th>charges</th>\n",
              "    </tr>\n",
              "  </thead>\n",
              "  <tbody>\n",
              "    <tr>\n",
              "      <th>0</th>\n",
              "      <td>19</td>\n",
              "      <td>female</td>\n",
              "      <td>27.900</td>\n",
              "      <td>0</td>\n",
              "      <td>yes</td>\n",
              "      <td>southwest</td>\n",
              "      <td>16884.92400</td>\n",
              "    </tr>\n",
              "    <tr>\n",
              "      <th>1</th>\n",
              "      <td>18</td>\n",
              "      <td>male</td>\n",
              "      <td>33.770</td>\n",
              "      <td>1</td>\n",
              "      <td>no</td>\n",
              "      <td>southeast</td>\n",
              "      <td>1725.55230</td>\n",
              "    </tr>\n",
              "    <tr>\n",
              "      <th>2</th>\n",
              "      <td>28</td>\n",
              "      <td>male</td>\n",
              "      <td>33.000</td>\n",
              "      <td>3</td>\n",
              "      <td>no</td>\n",
              "      <td>southeast</td>\n",
              "      <td>4449.46200</td>\n",
              "    </tr>\n",
              "    <tr>\n",
              "      <th>3</th>\n",
              "      <td>33</td>\n",
              "      <td>male</td>\n",
              "      <td>22.705</td>\n",
              "      <td>0</td>\n",
              "      <td>no</td>\n",
              "      <td>northwest</td>\n",
              "      <td>21984.47061</td>\n",
              "    </tr>\n",
              "    <tr>\n",
              "      <th>4</th>\n",
              "      <td>32</td>\n",
              "      <td>male</td>\n",
              "      <td>28.880</td>\n",
              "      <td>0</td>\n",
              "      <td>no</td>\n",
              "      <td>northwest</td>\n",
              "      <td>3866.85520</td>\n",
              "    </tr>\n",
              "    <tr>\n",
              "      <th>...</th>\n",
              "      <td>...</td>\n",
              "      <td>...</td>\n",
              "      <td>...</td>\n",
              "      <td>...</td>\n",
              "      <td>...</td>\n",
              "      <td>...</td>\n",
              "      <td>...</td>\n",
              "    </tr>\n",
              "    <tr>\n",
              "      <th>1333</th>\n",
              "      <td>50</td>\n",
              "      <td>male</td>\n",
              "      <td>30.970</td>\n",
              "      <td>3</td>\n",
              "      <td>no</td>\n",
              "      <td>northwest</td>\n",
              "      <td>10600.54830</td>\n",
              "    </tr>\n",
              "    <tr>\n",
              "      <th>1334</th>\n",
              "      <td>18</td>\n",
              "      <td>female</td>\n",
              "      <td>31.920</td>\n",
              "      <td>0</td>\n",
              "      <td>no</td>\n",
              "      <td>northeast</td>\n",
              "      <td>2205.98080</td>\n",
              "    </tr>\n",
              "    <tr>\n",
              "      <th>1335</th>\n",
              "      <td>18</td>\n",
              "      <td>female</td>\n",
              "      <td>36.850</td>\n",
              "      <td>0</td>\n",
              "      <td>no</td>\n",
              "      <td>southeast</td>\n",
              "      <td>1629.83350</td>\n",
              "    </tr>\n",
              "    <tr>\n",
              "      <th>1336</th>\n",
              "      <td>21</td>\n",
              "      <td>female</td>\n",
              "      <td>25.800</td>\n",
              "      <td>0</td>\n",
              "      <td>no</td>\n",
              "      <td>southwest</td>\n",
              "      <td>2007.94500</td>\n",
              "    </tr>\n",
              "    <tr>\n",
              "      <th>1337</th>\n",
              "      <td>61</td>\n",
              "      <td>female</td>\n",
              "      <td>29.070</td>\n",
              "      <td>0</td>\n",
              "      <td>yes</td>\n",
              "      <td>northwest</td>\n",
              "      <td>29141.36030</td>\n",
              "    </tr>\n",
              "  </tbody>\n",
              "</table>\n",
              "<p>1338 rows × 7 columns</p>\n",
              "</div>\n",
              "      <button class=\"colab-df-convert\" onclick=\"convertToInteractive('df-deeaf550-254c-41af-8312-ef126da2b256')\"\n",
              "              title=\"Convert this dataframe to an interactive table.\"\n",
              "              style=\"display:none;\">\n",
              "        \n",
              "  <svg xmlns=\"http://www.w3.org/2000/svg\" height=\"24px\"viewBox=\"0 0 24 24\"\n",
              "       width=\"24px\">\n",
              "    <path d=\"M0 0h24v24H0V0z\" fill=\"none\"/>\n",
              "    <path d=\"M18.56 5.44l.94 2.06.94-2.06 2.06-.94-2.06-.94-.94-2.06-.94 2.06-2.06.94zm-11 1L8.5 8.5l.94-2.06 2.06-.94-2.06-.94L8.5 2.5l-.94 2.06-2.06.94zm10 10l.94 2.06.94-2.06 2.06-.94-2.06-.94-.94-2.06-.94 2.06-2.06.94z\"/><path d=\"M17.41 7.96l-1.37-1.37c-.4-.4-.92-.59-1.43-.59-.52 0-1.04.2-1.43.59L10.3 9.45l-7.72 7.72c-.78.78-.78 2.05 0 2.83L4 21.41c.39.39.9.59 1.41.59.51 0 1.02-.2 1.41-.59l7.78-7.78 2.81-2.81c.8-.78.8-2.07 0-2.86zM5.41 20L4 18.59l7.72-7.72 1.47 1.35L5.41 20z\"/>\n",
              "  </svg>\n",
              "      </button>\n",
              "      \n",
              "  <style>\n",
              "    .colab-df-container {\n",
              "      display:flex;\n",
              "      flex-wrap:wrap;\n",
              "      gap: 12px;\n",
              "    }\n",
              "\n",
              "    .colab-df-convert {\n",
              "      background-color: #E8F0FE;\n",
              "      border: none;\n",
              "      border-radius: 50%;\n",
              "      cursor: pointer;\n",
              "      display: none;\n",
              "      fill: #1967D2;\n",
              "      height: 32px;\n",
              "      padding: 0 0 0 0;\n",
              "      width: 32px;\n",
              "    }\n",
              "\n",
              "    .colab-df-convert:hover {\n",
              "      background-color: #E2EBFA;\n",
              "      box-shadow: 0px 1px 2px rgba(60, 64, 67, 0.3), 0px 1px 3px 1px rgba(60, 64, 67, 0.15);\n",
              "      fill: #174EA6;\n",
              "    }\n",
              "\n",
              "    [theme=dark] .colab-df-convert {\n",
              "      background-color: #3B4455;\n",
              "      fill: #D2E3FC;\n",
              "    }\n",
              "\n",
              "    [theme=dark] .colab-df-convert:hover {\n",
              "      background-color: #434B5C;\n",
              "      box-shadow: 0px 1px 3px 1px rgba(0, 0, 0, 0.15);\n",
              "      filter: drop-shadow(0px 1px 2px rgba(0, 0, 0, 0.3));\n",
              "      fill: #FFFFFF;\n",
              "    }\n",
              "  </style>\n",
              "\n",
              "      <script>\n",
              "        const buttonEl =\n",
              "          document.querySelector('#df-deeaf550-254c-41af-8312-ef126da2b256 button.colab-df-convert');\n",
              "        buttonEl.style.display =\n",
              "          google.colab.kernel.accessAllowed ? 'block' : 'none';\n",
              "\n",
              "        async function convertToInteractive(key) {\n",
              "          const element = document.querySelector('#df-deeaf550-254c-41af-8312-ef126da2b256');\n",
              "          const dataTable =\n",
              "            await google.colab.kernel.invokeFunction('convertToInteractive',\n",
              "                                                     [key], {});\n",
              "          if (!dataTable) return;\n",
              "\n",
              "          const docLinkHtml = 'Like what you see? Visit the ' +\n",
              "            '<a target=\"_blank\" href=https://colab.research.google.com/notebooks/data_table.ipynb>data table notebook</a>'\n",
              "            + ' to learn more about interactive tables.';\n",
              "          element.innerHTML = '';\n",
              "          dataTable['output_type'] = 'display_data';\n",
              "          await google.colab.output.renderOutput(dataTable, element);\n",
              "          const docLink = document.createElement('div');\n",
              "          docLink.innerHTML = docLinkHtml;\n",
              "          element.appendChild(docLink);\n",
              "        }\n",
              "      </script>\n",
              "    </div>\n",
              "  </div>\n",
              "  "
            ]
          },
          "metadata": {},
          "execution_count": 106
        }
      ]
    },
    {
      "cell_type": "code",
      "source": [
        "insurance[\"smoker\"], insurance[\"age\"]"
      ],
      "metadata": {
        "colab": {
          "base_uri": "https://localhost:8080/"
        },
        "id": "muB8Oa58hogQ",
        "outputId": "67dded86-f300-4450-e1d3-0c445ee62ee4"
      },
      "execution_count": null,
      "outputs": [
        {
          "output_type": "execute_result",
          "data": {
            "text/plain": [
              "(0       yes\n",
              " 1        no\n",
              " 2        no\n",
              " 3        no\n",
              " 4        no\n",
              "        ... \n",
              " 1333     no\n",
              " 1334     no\n",
              " 1335     no\n",
              " 1336     no\n",
              " 1337    yes\n",
              " Name: smoker, Length: 1338, dtype: object,\n",
              " 0       19\n",
              " 1       18\n",
              " 2       28\n",
              " 3       33\n",
              " 4       32\n",
              "         ..\n",
              " 1333    50\n",
              " 1334    18\n",
              " 1335    18\n",
              " 1336    21\n",
              " 1337    61\n",
              " Name: age, Length: 1338, dtype: int64)"
            ]
          },
          "metadata": {},
          "execution_count": 108
        }
      ]
    },
    {
      "cell_type": "code",
      "source": [
        "# Let's try one-hot encode our DataFrame so it's all numbers\n",
        "insurance_one_hot  = pd.get_dummies(insurance)\n",
        "insurance_one_hot.head()"
      ],
      "metadata": {
        "colab": {
          "base_uri": "https://localhost:8080/",
          "height": 206
        },
        "id": "QEodOit3iHJ8",
        "outputId": "0051ace6-6a5c-4524-f006-922ae575e1ee"
      },
      "execution_count": null,
      "outputs": [
        {
          "output_type": "execute_result",
          "data": {
            "text/plain": [
              "   age     bmi  children      charges  sex_female  sex_male  smoker_no  \\\n",
              "0   19  27.900         0  16884.92400           1         0          0   \n",
              "1   18  33.770         1   1725.55230           0         1          1   \n",
              "2   28  33.000         3   4449.46200           0         1          1   \n",
              "3   33  22.705         0  21984.47061           0         1          1   \n",
              "4   32  28.880         0   3866.85520           0         1          1   \n",
              "\n",
              "   smoker_yes  region_northeast  region_northwest  region_southeast  \\\n",
              "0           1                 0                 0                 0   \n",
              "1           0                 0                 0                 1   \n",
              "2           0                 0                 0                 1   \n",
              "3           0                 0                 1                 0   \n",
              "4           0                 0                 1                 0   \n",
              "\n",
              "   region_southwest  \n",
              "0                 1  \n",
              "1                 0  \n",
              "2                 0  \n",
              "3                 0  \n",
              "4                 0  "
            ],
            "text/html": [
              "\n",
              "  <div id=\"df-e3930ff7-e7d2-41f4-af34-cb612614e9e8\">\n",
              "    <div class=\"colab-df-container\">\n",
              "      <div>\n",
              "<style scoped>\n",
              "    .dataframe tbody tr th:only-of-type {\n",
              "        vertical-align: middle;\n",
              "    }\n",
              "\n",
              "    .dataframe tbody tr th {\n",
              "        vertical-align: top;\n",
              "    }\n",
              "\n",
              "    .dataframe thead th {\n",
              "        text-align: right;\n",
              "    }\n",
              "</style>\n",
              "<table border=\"1\" class=\"dataframe\">\n",
              "  <thead>\n",
              "    <tr style=\"text-align: right;\">\n",
              "      <th></th>\n",
              "      <th>age</th>\n",
              "      <th>bmi</th>\n",
              "      <th>children</th>\n",
              "      <th>charges</th>\n",
              "      <th>sex_female</th>\n",
              "      <th>sex_male</th>\n",
              "      <th>smoker_no</th>\n",
              "      <th>smoker_yes</th>\n",
              "      <th>region_northeast</th>\n",
              "      <th>region_northwest</th>\n",
              "      <th>region_southeast</th>\n",
              "      <th>region_southwest</th>\n",
              "    </tr>\n",
              "  </thead>\n",
              "  <tbody>\n",
              "    <tr>\n",
              "      <th>0</th>\n",
              "      <td>19</td>\n",
              "      <td>27.900</td>\n",
              "      <td>0</td>\n",
              "      <td>16884.92400</td>\n",
              "      <td>1</td>\n",
              "      <td>0</td>\n",
              "      <td>0</td>\n",
              "      <td>1</td>\n",
              "      <td>0</td>\n",
              "      <td>0</td>\n",
              "      <td>0</td>\n",
              "      <td>1</td>\n",
              "    </tr>\n",
              "    <tr>\n",
              "      <th>1</th>\n",
              "      <td>18</td>\n",
              "      <td>33.770</td>\n",
              "      <td>1</td>\n",
              "      <td>1725.55230</td>\n",
              "      <td>0</td>\n",
              "      <td>1</td>\n",
              "      <td>1</td>\n",
              "      <td>0</td>\n",
              "      <td>0</td>\n",
              "      <td>0</td>\n",
              "      <td>1</td>\n",
              "      <td>0</td>\n",
              "    </tr>\n",
              "    <tr>\n",
              "      <th>2</th>\n",
              "      <td>28</td>\n",
              "      <td>33.000</td>\n",
              "      <td>3</td>\n",
              "      <td>4449.46200</td>\n",
              "      <td>0</td>\n",
              "      <td>1</td>\n",
              "      <td>1</td>\n",
              "      <td>0</td>\n",
              "      <td>0</td>\n",
              "      <td>0</td>\n",
              "      <td>1</td>\n",
              "      <td>0</td>\n",
              "    </tr>\n",
              "    <tr>\n",
              "      <th>3</th>\n",
              "      <td>33</td>\n",
              "      <td>22.705</td>\n",
              "      <td>0</td>\n",
              "      <td>21984.47061</td>\n",
              "      <td>0</td>\n",
              "      <td>1</td>\n",
              "      <td>1</td>\n",
              "      <td>0</td>\n",
              "      <td>0</td>\n",
              "      <td>1</td>\n",
              "      <td>0</td>\n",
              "      <td>0</td>\n",
              "    </tr>\n",
              "    <tr>\n",
              "      <th>4</th>\n",
              "      <td>32</td>\n",
              "      <td>28.880</td>\n",
              "      <td>0</td>\n",
              "      <td>3866.85520</td>\n",
              "      <td>0</td>\n",
              "      <td>1</td>\n",
              "      <td>1</td>\n",
              "      <td>0</td>\n",
              "      <td>0</td>\n",
              "      <td>1</td>\n",
              "      <td>0</td>\n",
              "      <td>0</td>\n",
              "    </tr>\n",
              "  </tbody>\n",
              "</table>\n",
              "</div>\n",
              "      <button class=\"colab-df-convert\" onclick=\"convertToInteractive('df-e3930ff7-e7d2-41f4-af34-cb612614e9e8')\"\n",
              "              title=\"Convert this dataframe to an interactive table.\"\n",
              "              style=\"display:none;\">\n",
              "        \n",
              "  <svg xmlns=\"http://www.w3.org/2000/svg\" height=\"24px\"viewBox=\"0 0 24 24\"\n",
              "       width=\"24px\">\n",
              "    <path d=\"M0 0h24v24H0V0z\" fill=\"none\"/>\n",
              "    <path d=\"M18.56 5.44l.94 2.06.94-2.06 2.06-.94-2.06-.94-.94-2.06-.94 2.06-2.06.94zm-11 1L8.5 8.5l.94-2.06 2.06-.94-2.06-.94L8.5 2.5l-.94 2.06-2.06.94zm10 10l.94 2.06.94-2.06 2.06-.94-2.06-.94-.94-2.06-.94 2.06-2.06.94z\"/><path d=\"M17.41 7.96l-1.37-1.37c-.4-.4-.92-.59-1.43-.59-.52 0-1.04.2-1.43.59L10.3 9.45l-7.72 7.72c-.78.78-.78 2.05 0 2.83L4 21.41c.39.39.9.59 1.41.59.51 0 1.02-.2 1.41-.59l7.78-7.78 2.81-2.81c.8-.78.8-2.07 0-2.86zM5.41 20L4 18.59l7.72-7.72 1.47 1.35L5.41 20z\"/>\n",
              "  </svg>\n",
              "      </button>\n",
              "      \n",
              "  <style>\n",
              "    .colab-df-container {\n",
              "      display:flex;\n",
              "      flex-wrap:wrap;\n",
              "      gap: 12px;\n",
              "    }\n",
              "\n",
              "    .colab-df-convert {\n",
              "      background-color: #E8F0FE;\n",
              "      border: none;\n",
              "      border-radius: 50%;\n",
              "      cursor: pointer;\n",
              "      display: none;\n",
              "      fill: #1967D2;\n",
              "      height: 32px;\n",
              "      padding: 0 0 0 0;\n",
              "      width: 32px;\n",
              "    }\n",
              "\n",
              "    .colab-df-convert:hover {\n",
              "      background-color: #E2EBFA;\n",
              "      box-shadow: 0px 1px 2px rgba(60, 64, 67, 0.3), 0px 1px 3px 1px rgba(60, 64, 67, 0.15);\n",
              "      fill: #174EA6;\n",
              "    }\n",
              "\n",
              "    [theme=dark] .colab-df-convert {\n",
              "      background-color: #3B4455;\n",
              "      fill: #D2E3FC;\n",
              "    }\n",
              "\n",
              "    [theme=dark] .colab-df-convert:hover {\n",
              "      background-color: #434B5C;\n",
              "      box-shadow: 0px 1px 3px 1px rgba(0, 0, 0, 0.15);\n",
              "      filter: drop-shadow(0px 1px 2px rgba(0, 0, 0, 0.3));\n",
              "      fill: #FFFFFF;\n",
              "    }\n",
              "  </style>\n",
              "\n",
              "      <script>\n",
              "        const buttonEl =\n",
              "          document.querySelector('#df-e3930ff7-e7d2-41f4-af34-cb612614e9e8 button.colab-df-convert');\n",
              "        buttonEl.style.display =\n",
              "          google.colab.kernel.accessAllowed ? 'block' : 'none';\n",
              "\n",
              "        async function convertToInteractive(key) {\n",
              "          const element = document.querySelector('#df-e3930ff7-e7d2-41f4-af34-cb612614e9e8');\n",
              "          const dataTable =\n",
              "            await google.colab.kernel.invokeFunction('convertToInteractive',\n",
              "                                                     [key], {});\n",
              "          if (!dataTable) return;\n",
              "\n",
              "          const docLinkHtml = 'Like what you see? Visit the ' +\n",
              "            '<a target=\"_blank\" href=https://colab.research.google.com/notebooks/data_table.ipynb>data table notebook</a>'\n",
              "            + ' to learn more about interactive tables.';\n",
              "          element.innerHTML = '';\n",
              "          dataTable['output_type'] = 'display_data';\n",
              "          await google.colab.output.renderOutput(dataTable, element);\n",
              "          const docLink = document.createElement('div');\n",
              "          docLink.innerHTML = docLinkHtml;\n",
              "          element.appendChild(docLink);\n",
              "        }\n",
              "      </script>\n",
              "    </div>\n",
              "  </div>\n",
              "  "
            ]
          },
          "metadata": {},
          "execution_count": 112
        }
      ]
    },
    {
      "cell_type": "code",
      "source": [
        "# Create X and y values (features and labels)\n",
        "X = insurance_one_hot.drop(\"charges\", axis=1)\n",
        "y = insurance_one_hot['charges']"
      ],
      "metadata": {
        "id": "KpD9M_LrrLzO"
      },
      "execution_count": null,
      "outputs": []
    },
    {
      "cell_type": "code",
      "source": [
        "# View X\n",
        "X.head()"
      ],
      "metadata": {
        "colab": {
          "base_uri": "https://localhost:8080/",
          "height": 206
        },
        "id": "tiQCt7vJrd-z",
        "outputId": "9e3568e6-7740-4f6c-b916-1ba72ebc3ff8"
      },
      "execution_count": null,
      "outputs": [
        {
          "output_type": "execute_result",
          "data": {
            "text/plain": [
              "   age     bmi  children  sex_female  sex_male  smoker_no  smoker_yes  \\\n",
              "0   19  27.900         0           1         0          0           1   \n",
              "1   18  33.770         1           0         1          1           0   \n",
              "2   28  33.000         3           0         1          1           0   \n",
              "3   33  22.705         0           0         1          1           0   \n",
              "4   32  28.880         0           0         1          1           0   \n",
              "\n",
              "   region_northeast  region_northwest  region_southeast  region_southwest  \n",
              "0                 0                 0                 0                 1  \n",
              "1                 0                 0                 1                 0  \n",
              "2                 0                 0                 1                 0  \n",
              "3                 0                 1                 0                 0  \n",
              "4                 0                 1                 0                 0  "
            ],
            "text/html": [
              "\n",
              "  <div id=\"df-8f27d1f3-1b67-49fd-b4dc-8177a66c50f3\">\n",
              "    <div class=\"colab-df-container\">\n",
              "      <div>\n",
              "<style scoped>\n",
              "    .dataframe tbody tr th:only-of-type {\n",
              "        vertical-align: middle;\n",
              "    }\n",
              "\n",
              "    .dataframe tbody tr th {\n",
              "        vertical-align: top;\n",
              "    }\n",
              "\n",
              "    .dataframe thead th {\n",
              "        text-align: right;\n",
              "    }\n",
              "</style>\n",
              "<table border=\"1\" class=\"dataframe\">\n",
              "  <thead>\n",
              "    <tr style=\"text-align: right;\">\n",
              "      <th></th>\n",
              "      <th>age</th>\n",
              "      <th>bmi</th>\n",
              "      <th>children</th>\n",
              "      <th>sex_female</th>\n",
              "      <th>sex_male</th>\n",
              "      <th>smoker_no</th>\n",
              "      <th>smoker_yes</th>\n",
              "      <th>region_northeast</th>\n",
              "      <th>region_northwest</th>\n",
              "      <th>region_southeast</th>\n",
              "      <th>region_southwest</th>\n",
              "    </tr>\n",
              "  </thead>\n",
              "  <tbody>\n",
              "    <tr>\n",
              "      <th>0</th>\n",
              "      <td>19</td>\n",
              "      <td>27.900</td>\n",
              "      <td>0</td>\n",
              "      <td>1</td>\n",
              "      <td>0</td>\n",
              "      <td>0</td>\n",
              "      <td>1</td>\n",
              "      <td>0</td>\n",
              "      <td>0</td>\n",
              "      <td>0</td>\n",
              "      <td>1</td>\n",
              "    </tr>\n",
              "    <tr>\n",
              "      <th>1</th>\n",
              "      <td>18</td>\n",
              "      <td>33.770</td>\n",
              "      <td>1</td>\n",
              "      <td>0</td>\n",
              "      <td>1</td>\n",
              "      <td>1</td>\n",
              "      <td>0</td>\n",
              "      <td>0</td>\n",
              "      <td>0</td>\n",
              "      <td>1</td>\n",
              "      <td>0</td>\n",
              "    </tr>\n",
              "    <tr>\n",
              "      <th>2</th>\n",
              "      <td>28</td>\n",
              "      <td>33.000</td>\n",
              "      <td>3</td>\n",
              "      <td>0</td>\n",
              "      <td>1</td>\n",
              "      <td>1</td>\n",
              "      <td>0</td>\n",
              "      <td>0</td>\n",
              "      <td>0</td>\n",
              "      <td>1</td>\n",
              "      <td>0</td>\n",
              "    </tr>\n",
              "    <tr>\n",
              "      <th>3</th>\n",
              "      <td>33</td>\n",
              "      <td>22.705</td>\n",
              "      <td>0</td>\n",
              "      <td>0</td>\n",
              "      <td>1</td>\n",
              "      <td>1</td>\n",
              "      <td>0</td>\n",
              "      <td>0</td>\n",
              "      <td>1</td>\n",
              "      <td>0</td>\n",
              "      <td>0</td>\n",
              "    </tr>\n",
              "    <tr>\n",
              "      <th>4</th>\n",
              "      <td>32</td>\n",
              "      <td>28.880</td>\n",
              "      <td>0</td>\n",
              "      <td>0</td>\n",
              "      <td>1</td>\n",
              "      <td>1</td>\n",
              "      <td>0</td>\n",
              "      <td>0</td>\n",
              "      <td>1</td>\n",
              "      <td>0</td>\n",
              "      <td>0</td>\n",
              "    </tr>\n",
              "  </tbody>\n",
              "</table>\n",
              "</div>\n",
              "      <button class=\"colab-df-convert\" onclick=\"convertToInteractive('df-8f27d1f3-1b67-49fd-b4dc-8177a66c50f3')\"\n",
              "              title=\"Convert this dataframe to an interactive table.\"\n",
              "              style=\"display:none;\">\n",
              "        \n",
              "  <svg xmlns=\"http://www.w3.org/2000/svg\" height=\"24px\"viewBox=\"0 0 24 24\"\n",
              "       width=\"24px\">\n",
              "    <path d=\"M0 0h24v24H0V0z\" fill=\"none\"/>\n",
              "    <path d=\"M18.56 5.44l.94 2.06.94-2.06 2.06-.94-2.06-.94-.94-2.06-.94 2.06-2.06.94zm-11 1L8.5 8.5l.94-2.06 2.06-.94-2.06-.94L8.5 2.5l-.94 2.06-2.06.94zm10 10l.94 2.06.94-2.06 2.06-.94-2.06-.94-.94-2.06-.94 2.06-2.06.94z\"/><path d=\"M17.41 7.96l-1.37-1.37c-.4-.4-.92-.59-1.43-.59-.52 0-1.04.2-1.43.59L10.3 9.45l-7.72 7.72c-.78.78-.78 2.05 0 2.83L4 21.41c.39.39.9.59 1.41.59.51 0 1.02-.2 1.41-.59l7.78-7.78 2.81-2.81c.8-.78.8-2.07 0-2.86zM5.41 20L4 18.59l7.72-7.72 1.47 1.35L5.41 20z\"/>\n",
              "  </svg>\n",
              "      </button>\n",
              "      \n",
              "  <style>\n",
              "    .colab-df-container {\n",
              "      display:flex;\n",
              "      flex-wrap:wrap;\n",
              "      gap: 12px;\n",
              "    }\n",
              "\n",
              "    .colab-df-convert {\n",
              "      background-color: #E8F0FE;\n",
              "      border: none;\n",
              "      border-radius: 50%;\n",
              "      cursor: pointer;\n",
              "      display: none;\n",
              "      fill: #1967D2;\n",
              "      height: 32px;\n",
              "      padding: 0 0 0 0;\n",
              "      width: 32px;\n",
              "    }\n",
              "\n",
              "    .colab-df-convert:hover {\n",
              "      background-color: #E2EBFA;\n",
              "      box-shadow: 0px 1px 2px rgba(60, 64, 67, 0.3), 0px 1px 3px 1px rgba(60, 64, 67, 0.15);\n",
              "      fill: #174EA6;\n",
              "    }\n",
              "\n",
              "    [theme=dark] .colab-df-convert {\n",
              "      background-color: #3B4455;\n",
              "      fill: #D2E3FC;\n",
              "    }\n",
              "\n",
              "    [theme=dark] .colab-df-convert:hover {\n",
              "      background-color: #434B5C;\n",
              "      box-shadow: 0px 1px 3px 1px rgba(0, 0, 0, 0.15);\n",
              "      filter: drop-shadow(0px 1px 2px rgba(0, 0, 0, 0.3));\n",
              "      fill: #FFFFFF;\n",
              "    }\n",
              "  </style>\n",
              "\n",
              "      <script>\n",
              "        const buttonEl =\n",
              "          document.querySelector('#df-8f27d1f3-1b67-49fd-b4dc-8177a66c50f3 button.colab-df-convert');\n",
              "        buttonEl.style.display =\n",
              "          google.colab.kernel.accessAllowed ? 'block' : 'none';\n",
              "\n",
              "        async function convertToInteractive(key) {\n",
              "          const element = document.querySelector('#df-8f27d1f3-1b67-49fd-b4dc-8177a66c50f3');\n",
              "          const dataTable =\n",
              "            await google.colab.kernel.invokeFunction('convertToInteractive',\n",
              "                                                     [key], {});\n",
              "          if (!dataTable) return;\n",
              "\n",
              "          const docLinkHtml = 'Like what you see? Visit the ' +\n",
              "            '<a target=\"_blank\" href=https://colab.research.google.com/notebooks/data_table.ipynb>data table notebook</a>'\n",
              "            + ' to learn more about interactive tables.';\n",
              "          element.innerHTML = '';\n",
              "          dataTable['output_type'] = 'display_data';\n",
              "          await google.colab.output.renderOutput(dataTable, element);\n",
              "          const docLink = document.createElement('div');\n",
              "          docLink.innerHTML = docLinkHtml;\n",
              "          element.appendChild(docLink);\n",
              "        }\n",
              "      </script>\n",
              "    </div>\n",
              "  </div>\n",
              "  "
            ]
          },
          "metadata": {},
          "execution_count": 115
        }
      ]
    },
    {
      "cell_type": "code",
      "source": [
        "# View y\n",
        "y.head()"
      ],
      "metadata": {
        "colab": {
          "base_uri": "https://localhost:8080/"
        },
        "id": "IAEWaUHBrlsZ",
        "outputId": "59f5f507-f04b-4849-fec8-bc2b3cae761b"
      },
      "execution_count": null,
      "outputs": [
        {
          "output_type": "execute_result",
          "data": {
            "text/plain": [
              "0    16884.92400\n",
              "1     1725.55230\n",
              "2     4449.46200\n",
              "3    21984.47061\n",
              "4     3866.85520\n",
              "Name: charges, dtype: float64"
            ]
          },
          "metadata": {},
          "execution_count": 116
        }
      ]
    },
    {
      "cell_type": "code",
      "source": [
        "# Create training and test sets\n",
        "from sklearn.model_selection import train_test_split\n",
        "X_train, X_test, y_train, y_test = train_test_split(X, y, test_size=0.2, random_state=42)\n",
        "len(X), len(X_train), len(X_test)"
      ],
      "metadata": {
        "colab": {
          "base_uri": "https://localhost:8080/"
        },
        "id": "L2TRLsHIrsSx",
        "outputId": "b0380a27-a053-40d3-b139-5d3143d51ed4"
      },
      "execution_count": null,
      "outputs": [
        {
          "output_type": "execute_result",
          "data": {
            "text/plain": [
              "(1338, 1070, 268)"
            ]
          },
          "metadata": {},
          "execution_count": 117
        }
      ]
    },
    {
      "cell_type": "code",
      "source": [
        "# Build a neural network (sort of like model_2 above)\n",
        "tf.random.set_seed(42)\n",
        "\n",
        "# 1. Create a model\n",
        "insurance_model = tf.keras.Sequential([\n",
        "    tf.keras.layers.Dense(10),\n",
        "    tf.keras.layers.Dense(1)\n",
        "])\n",
        "\n",
        "# 2. Compile a model\n",
        "insurance_model.compile(loss=tf.keras.losses.mae,\n",
        "                        optimizer=tf.keras.optimizers.SGD(),\n",
        "                        metrics=[\"mae\"])\n",
        "\n",
        "# 3. Fit the model\n",
        "#insurance_model.fit(tf.expand_dims(X_train, axis=1), y_train, epochs=100)\n",
        "insurance_model.fit(X_train, y_train, epochs=100)"
      ],
      "metadata": {
        "colab": {
          "base_uri": "https://localhost:8080/"
        },
        "id": "iYpxUvN4srcp",
        "outputId": "4ad8ecfb-6038-4cb3-c926-f0da3c1209ba"
      },
      "execution_count": null,
      "outputs": [
        {
          "output_type": "stream",
          "name": "stdout",
          "text": [
            "Epoch 1/100\n",
            "34/34 [==============================] - 1s 2ms/step - loss: 8617.8525 - mae: 8617.8525\n",
            "Epoch 2/100\n",
            "34/34 [==============================] - 0s 2ms/step - loss: 7886.2017 - mae: 7886.2017\n",
            "Epoch 3/100\n",
            "34/34 [==============================] - 0s 2ms/step - loss: 7589.3643 - mae: 7589.3643\n",
            "Epoch 4/100\n",
            "34/34 [==============================] - 0s 2ms/step - loss: 7686.8589 - mae: 7686.8589\n",
            "Epoch 5/100\n",
            "34/34 [==============================] - 0s 1ms/step - loss: 7672.5293 - mae: 7672.5293\n",
            "Epoch 6/100\n",
            "34/34 [==============================] - 0s 2ms/step - loss: 7645.1880 - mae: 7645.1880\n",
            "Epoch 7/100\n",
            "34/34 [==============================] - 0s 2ms/step - loss: 7535.8945 - mae: 7535.8945\n",
            "Epoch 8/100\n",
            "34/34 [==============================] - 0s 2ms/step - loss: 7692.9634 - mae: 7692.9634\n",
            "Epoch 9/100\n",
            "34/34 [==============================] - 0s 2ms/step - loss: 7571.3740 - mae: 7571.3740\n",
            "Epoch 10/100\n",
            "34/34 [==============================] - 0s 2ms/step - loss: 7697.3037 - mae: 7697.3037\n",
            "Epoch 11/100\n",
            "34/34 [==============================] - 0s 2ms/step - loss: 7572.9448 - mae: 7572.9448\n",
            "Epoch 12/100\n",
            "34/34 [==============================] - 0s 2ms/step - loss: 7515.9746 - mae: 7515.9746\n",
            "Epoch 13/100\n",
            "34/34 [==============================] - 0s 2ms/step - loss: 7697.0322 - mae: 7697.0322\n",
            "Epoch 14/100\n",
            "34/34 [==============================] - 0s 2ms/step - loss: 7830.8481 - mae: 7830.8481\n",
            "Epoch 15/100\n",
            "34/34 [==============================] - 0s 2ms/step - loss: 7431.8901 - mae: 7431.8901\n",
            "Epoch 16/100\n",
            "34/34 [==============================] - 0s 2ms/step - loss: 7794.6406 - mae: 7794.6406\n",
            "Epoch 17/100\n",
            "34/34 [==============================] - 0s 2ms/step - loss: 7494.7686 - mae: 7494.7686\n",
            "Epoch 18/100\n",
            "34/34 [==============================] - 0s 2ms/step - loss: 7812.6333 - mae: 7812.6333\n",
            "Epoch 19/100\n",
            "34/34 [==============================] - 0s 1ms/step - loss: 7578.3306 - mae: 7578.3306\n",
            "Epoch 20/100\n",
            "34/34 [==============================] - 0s 2ms/step - loss: 7857.7793 - mae: 7857.7793\n",
            "Epoch 21/100\n",
            "34/34 [==============================] - 0s 1ms/step - loss: 7463.4248 - mae: 7463.4248\n",
            "Epoch 22/100\n",
            "34/34 [==============================] - 0s 1ms/step - loss: 7931.3516 - mae: 7931.3516\n",
            "Epoch 23/100\n",
            "34/34 [==============================] - 0s 2ms/step - loss: 7747.3105 - mae: 7747.3105\n",
            "Epoch 24/100\n",
            "34/34 [==============================] - 0s 2ms/step - loss: 7630.6597 - mae: 7630.6597\n",
            "Epoch 25/100\n",
            "34/34 [==============================] - 0s 2ms/step - loss: 7641.2500 - mae: 7641.2500\n",
            "Epoch 26/100\n",
            "34/34 [==============================] - 0s 2ms/step - loss: 7347.5366 - mae: 7347.5366\n",
            "Epoch 27/100\n",
            "34/34 [==============================] - 0s 2ms/step - loss: 7392.4067 - mae: 7392.4067\n",
            "Epoch 28/100\n",
            "34/34 [==============================] - 0s 2ms/step - loss: 7509.9238 - mae: 7509.9238\n",
            "Epoch 29/100\n",
            "34/34 [==============================] - 0s 2ms/step - loss: 7566.6094 - mae: 7566.6094\n",
            "Epoch 30/100\n",
            "34/34 [==============================] - 0s 2ms/step - loss: 7519.2319 - mae: 7519.2319\n",
            "Epoch 31/100\n",
            "34/34 [==============================] - 0s 1ms/step - loss: 7367.6318 - mae: 7367.6318\n",
            "Epoch 32/100\n",
            "34/34 [==============================] - 0s 2ms/step - loss: 7476.5488 - mae: 7476.5488\n",
            "Epoch 33/100\n",
            "34/34 [==============================] - 0s 2ms/step - loss: 7385.1279 - mae: 7385.1279\n",
            "Epoch 34/100\n",
            "34/34 [==============================] - 0s 2ms/step - loss: 7389.8691 - mae: 7389.8691\n",
            "Epoch 35/100\n",
            "34/34 [==============================] - 0s 2ms/step - loss: 7420.2930 - mae: 7420.2930\n",
            "Epoch 36/100\n",
            "34/34 [==============================] - 0s 2ms/step - loss: 7610.5923 - mae: 7610.5923\n",
            "Epoch 37/100\n",
            "34/34 [==============================] - 0s 1ms/step - loss: 7588.3057 - mae: 7588.3057\n",
            "Epoch 38/100\n",
            "34/34 [==============================] - 0s 2ms/step - loss: 7399.6855 - mae: 7399.6855\n",
            "Epoch 39/100\n",
            "34/34 [==============================] - 0s 2ms/step - loss: 7539.1489 - mae: 7539.1489\n",
            "Epoch 40/100\n",
            "34/34 [==============================] - 0s 2ms/step - loss: 7327.7295 - mae: 7327.7295\n",
            "Epoch 41/100\n",
            "34/34 [==============================] - 0s 2ms/step - loss: 7713.4219 - mae: 7713.4219\n",
            "Epoch 42/100\n",
            "34/34 [==============================] - 0s 2ms/step - loss: 7370.2554 - mae: 7370.2554\n",
            "Epoch 43/100\n",
            "34/34 [==============================] - 0s 2ms/step - loss: 7689.0054 - mae: 7689.0054\n",
            "Epoch 44/100\n",
            "34/34 [==============================] - 0s 2ms/step - loss: 7473.8867 - mae: 7473.8867\n",
            "Epoch 45/100\n",
            "34/34 [==============================] - 0s 2ms/step - loss: 7507.9097 - mae: 7507.9097\n",
            "Epoch 46/100\n",
            "34/34 [==============================] - 0s 2ms/step - loss: 7455.6040 - mae: 7455.6040\n",
            "Epoch 47/100\n",
            "34/34 [==============================] - 0s 2ms/step - loss: 7427.4468 - mae: 7427.4468\n",
            "Epoch 48/100\n",
            "34/34 [==============================] - 0s 2ms/step - loss: 7529.3013 - mae: 7529.3013\n",
            "Epoch 49/100\n",
            "34/34 [==============================] - 0s 2ms/step - loss: 7518.9893 - mae: 7518.9893\n",
            "Epoch 50/100\n",
            "34/34 [==============================] - 0s 2ms/step - loss: 7508.3306 - mae: 7508.3306\n",
            "Epoch 51/100\n",
            "34/34 [==============================] - 0s 2ms/step - loss: 7307.6216 - mae: 7307.6216\n",
            "Epoch 52/100\n",
            "34/34 [==============================] - 0s 2ms/step - loss: 7459.5205 - mae: 7459.5205\n",
            "Epoch 53/100\n",
            "34/34 [==============================] - 0s 2ms/step - loss: 7496.2109 - mae: 7496.2109\n",
            "Epoch 54/100\n",
            "34/34 [==============================] - 0s 2ms/step - loss: 7325.2744 - mae: 7325.2744\n",
            "Epoch 55/100\n",
            "34/34 [==============================] - 0s 2ms/step - loss: 7295.1504 - mae: 7295.1504\n",
            "Epoch 56/100\n",
            "34/34 [==============================] - 0s 2ms/step - loss: 7404.6851 - mae: 7404.6851\n",
            "Epoch 57/100\n",
            "34/34 [==============================] - 0s 2ms/step - loss: 7477.2310 - mae: 7477.2310\n",
            "Epoch 58/100\n",
            "34/34 [==============================] - 0s 2ms/step - loss: 7596.6025 - mae: 7596.6025\n",
            "Epoch 59/100\n",
            "34/34 [==============================] - 0s 2ms/step - loss: 7676.5293 - mae: 7676.5293\n",
            "Epoch 60/100\n",
            "34/34 [==============================] - 0s 2ms/step - loss: 7472.7168 - mae: 7472.7168\n",
            "Epoch 61/100\n",
            "34/34 [==============================] - 0s 2ms/step - loss: 7340.8237 - mae: 7340.8237\n",
            "Epoch 62/100\n",
            "34/34 [==============================] - 0s 2ms/step - loss: 7284.8242 - mae: 7284.8242\n",
            "Epoch 63/100\n",
            "34/34 [==============================] - 0s 1ms/step - loss: 7171.7593 - mae: 7171.7593\n",
            "Epoch 64/100\n",
            "34/34 [==============================] - 0s 2ms/step - loss: 7245.3208 - mae: 7245.3208\n",
            "Epoch 65/100\n",
            "34/34 [==============================] - 0s 2ms/step - loss: 7402.5171 - mae: 7402.5171\n",
            "Epoch 66/100\n",
            "34/34 [==============================] - 0s 2ms/step - loss: 7281.7246 - mae: 7281.7246\n",
            "Epoch 67/100\n",
            "34/34 [==============================] - 0s 2ms/step - loss: 7250.9463 - mae: 7250.9463\n",
            "Epoch 68/100\n",
            "34/34 [==============================] - 0s 2ms/step - loss: 7480.9150 - mae: 7480.9150\n",
            "Epoch 69/100\n",
            "34/34 [==============================] - 0s 2ms/step - loss: 7649.7466 - mae: 7649.7466\n",
            "Epoch 70/100\n",
            "34/34 [==============================] - 0s 2ms/step - loss: 7467.6792 - mae: 7467.6792\n",
            "Epoch 71/100\n",
            "34/34 [==============================] - 0s 2ms/step - loss: 7300.6289 - mae: 7300.6289\n",
            "Epoch 72/100\n",
            "34/34 [==============================] - 0s 2ms/step - loss: 7323.6763 - mae: 7323.6763\n",
            "Epoch 73/100\n",
            "34/34 [==============================] - 0s 2ms/step - loss: 7281.0591 - mae: 7281.0591\n",
            "Epoch 74/100\n",
            "34/34 [==============================] - 0s 2ms/step - loss: 7391.6792 - mae: 7391.6792\n",
            "Epoch 75/100\n",
            "34/34 [==============================] - 0s 3ms/step - loss: 7234.7554 - mae: 7234.7554\n",
            "Epoch 76/100\n",
            "34/34 [==============================] - 0s 3ms/step - loss: 7209.0234 - mae: 7209.0234\n",
            "Epoch 77/100\n",
            "34/34 [==============================] - 0s 3ms/step - loss: 7481.6079 - mae: 7481.6079\n",
            "Epoch 78/100\n",
            "34/34 [==============================] - 0s 3ms/step - loss: 7301.4033 - mae: 7301.4033\n",
            "Epoch 79/100\n",
            "34/34 [==============================] - 0s 2ms/step - loss: 7485.6328 - mae: 7485.6328\n",
            "Epoch 80/100\n",
            "34/34 [==============================] - 0s 3ms/step - loss: 7325.8472 - mae: 7325.8472\n",
            "Epoch 81/100\n",
            "34/34 [==============================] - 0s 3ms/step - loss: 7266.2837 - mae: 7266.2837\n",
            "Epoch 82/100\n",
            "34/34 [==============================] - 0s 3ms/step - loss: 7188.2051 - mae: 7188.2051\n",
            "Epoch 83/100\n",
            "34/34 [==============================] - 0s 2ms/step - loss: 7485.8560 - mae: 7485.8560\n",
            "Epoch 84/100\n",
            "34/34 [==============================] - 0s 2ms/step - loss: 7325.6509 - mae: 7325.6509\n",
            "Epoch 85/100\n",
            "34/34 [==============================] - 0s 3ms/step - loss: 7366.0098 - mae: 7366.0098\n",
            "Epoch 86/100\n",
            "34/34 [==============================] - 0s 3ms/step - loss: 7440.7715 - mae: 7440.7715\n",
            "Epoch 87/100\n",
            "34/34 [==============================] - 0s 3ms/step - loss: 7265.3496 - mae: 7265.3496\n",
            "Epoch 88/100\n",
            "34/34 [==============================] - 0s 3ms/step - loss: 7365.1006 - mae: 7365.1006\n",
            "Epoch 89/100\n",
            "34/34 [==============================] - 0s 2ms/step - loss: 7375.8081 - mae: 7375.8081\n",
            "Epoch 90/100\n",
            "34/34 [==============================] - 0s 2ms/step - loss: 7312.7456 - mae: 7312.7456\n",
            "Epoch 91/100\n",
            "34/34 [==============================] - 0s 3ms/step - loss: 7057.9556 - mae: 7057.9556\n",
            "Epoch 92/100\n",
            "34/34 [==============================] - 0s 3ms/step - loss: 7234.2666 - mae: 7234.2666\n",
            "Epoch 93/100\n",
            "34/34 [==============================] - 0s 3ms/step - loss: 7311.0010 - mae: 7311.0010\n",
            "Epoch 94/100\n",
            "34/34 [==============================] - 0s 2ms/step - loss: 7267.3203 - mae: 7267.3203\n",
            "Epoch 95/100\n",
            "34/34 [==============================] - 0s 3ms/step - loss: 7429.9565 - mae: 7429.9565\n",
            "Epoch 96/100\n",
            "34/34 [==============================] - 0s 3ms/step - loss: 7057.8213 - mae: 7057.8213\n",
            "Epoch 97/100\n",
            "34/34 [==============================] - 0s 3ms/step - loss: 7272.5796 - mae: 7272.5796\n",
            "Epoch 98/100\n",
            "34/34 [==============================] - 0s 2ms/step - loss: 7412.9053 - mae: 7412.9053\n",
            "Epoch 99/100\n",
            "34/34 [==============================] - 0s 2ms/step - loss: 7326.7808 - mae: 7326.7808\n",
            "Epoch 100/100\n",
            "34/34 [==============================] - 0s 2ms/step - loss: 7244.8018 - mae: 7244.8018\n"
          ]
        },
        {
          "output_type": "execute_result",
          "data": {
            "text/plain": [
              "<keras.callbacks.History at 0x7fdb9c142aa0>"
            ]
          },
          "metadata": {},
          "execution_count": 122
        }
      ]
    },
    {
      "cell_type": "code",
      "source": [
        "model_2.summary()"
      ],
      "metadata": {
        "colab": {
          "base_uri": "https://localhost:8080/"
        },
        "id": "hNAmxEoNsvbl",
        "outputId": "754da53a-70b7-468d-b6be-4fd578a53198"
      },
      "execution_count": null,
      "outputs": [
        {
          "output_type": "stream",
          "name": "stdout",
          "text": [
            "Model: \"sequential_13\"\n",
            "_________________________________________________________________\n",
            " Layer (type)                Output Shape              Param #   \n",
            "=================================================================\n",
            " dense_20 (Dense)            (None, 10)                20        \n",
            "                                                                 \n",
            " dense_21 (Dense)            (None, 1)                 11        \n",
            "                                                                 \n",
            "=================================================================\n",
            "Total params: 31\n",
            "Trainable params: 31\n",
            "Non-trainable params: 0\n",
            "_________________________________________________________________\n"
          ]
        }
      ]
    },
    {
      "cell_type": "code",
      "source": [
        "# Check the results of the insurance model on the test data\n",
        "insurance_model.evaluate(X_test, y_test)"
      ],
      "metadata": {
        "colab": {
          "base_uri": "https://localhost:8080/"
        },
        "id": "alHYjm8Gsy4a",
        "outputId": "0d2649c1-2604-4e01-de7b-24645a49b603"
      },
      "execution_count": null,
      "outputs": [
        {
          "output_type": "stream",
          "name": "stdout",
          "text": [
            "9/9 [==============================] - 0s 2ms/step - loss: 7192.2827 - mae: 7192.2827\n"
          ]
        },
        {
          "output_type": "execute_result",
          "data": {
            "text/plain": [
              "[7192.28271484375, 7192.28271484375]"
            ]
          },
          "metadata": {},
          "execution_count": 123
        }
      ]
    },
    {
      "cell_type": "code",
      "source": [
        "y_train.median(), y_train.mean()"
      ],
      "metadata": {
        "colab": {
          "base_uri": "https://localhost:8080/"
        },
        "id": "DOIgGSxLuWBJ",
        "outputId": "125d5874-af4c-4fe7-9464-a22cf75fc5e4"
      },
      "execution_count": null,
      "outputs": [
        {
          "output_type": "execute_result",
          "data": {
            "text/plain": [
              "(9575.4421, 13346.089736364485)"
            ]
          },
          "metadata": {},
          "execution_count": 126
        }
      ]
    },
    {
      "cell_type": "markdown",
      "source": [
        "Right now it looks like our model isn't performing too well... let's try and improve it!\n",
        "\n",
        "To (try) improve our model, we'll run 2 experiments:\n",
        "\n",
        "1. Add an extra layer with more hidden units and use the Adam optimizer.\n",
        "2. Same as above but train for longer (200 epochs)\n",
        "3. same as above but with one extra hidden unit and train for much longer (350 epochs)"
      ],
      "metadata": {
        "id": "ae2KmqRlua_b"
      }
    },
    {
      "cell_type": "code",
      "source": [
        "# set random seed\n",
        "tf.random.set_seed(42)\n",
        "\n",
        "# 1. train the model\n",
        "insurance_model_2 = tf.keras.Sequential([\n",
        "    tf.keras.layers.Dense(100),\n",
        "    tf.keras.layers.Dense(10),\n",
        "    tf.keras.layers.Dense(1)\n",
        "])\n",
        "\n",
        "# 2. Compile our model\n",
        "insurance_model_2.compile(loss=tf.keras.losses.mae,\n",
        "                          optimizer=tf.keras.optimizers.Adam(),\n",
        "                          metrics=[\"mae\"])\n",
        "\n",
        "# 3. Fit the model\n",
        "insurance_model_2.fit(X_train, y_train, epochs=100, verbose=1)"
      ],
      "metadata": {
        "colab": {
          "base_uri": "https://localhost:8080/"
        },
        "id": "Gm6FWVcVu0by",
        "outputId": "b688919b-9aa2-42bf-f4f5-446002eace04"
      },
      "execution_count": null,
      "outputs": [
        {
          "output_type": "stream",
          "name": "stdout",
          "text": [
            "Epoch 1/100\n",
            "34/34 [==============================] - 1s 2ms/step - loss: 13299.6973 - mae: 13299.6973\n",
            "Epoch 2/100\n",
            "34/34 [==============================] - 0s 2ms/step - loss: 13154.1543 - mae: 13154.1543\n",
            "Epoch 3/100\n",
            "34/34 [==============================] - 0s 2ms/step - loss: 12845.2227 - mae: 12845.2227\n",
            "Epoch 4/100\n",
            "34/34 [==============================] - 0s 2ms/step - loss: 12230.8896 - mae: 12230.8896\n",
            "Epoch 5/100\n",
            "34/34 [==============================] - 0s 2ms/step - loss: 11171.8574 - mae: 11171.8574\n",
            "Epoch 6/100\n",
            "34/34 [==============================] - 0s 2ms/step - loss: 9746.9453 - mae: 9746.9453\n",
            "Epoch 7/100\n",
            "34/34 [==============================] - 0s 2ms/step - loss: 8357.2061 - mae: 8357.2061\n",
            "Epoch 8/100\n",
            "34/34 [==============================] - 0s 2ms/step - loss: 7593.8628 - mae: 7593.8628\n",
            "Epoch 9/100\n",
            "34/34 [==============================] - 0s 2ms/step - loss: 7438.8481 - mae: 7438.8481\n",
            "Epoch 10/100\n",
            "34/34 [==============================] - 0s 2ms/step - loss: 7415.8398 - mae: 7415.8398\n",
            "Epoch 11/100\n",
            "34/34 [==============================] - 0s 2ms/step - loss: 7397.4644 - mae: 7397.4644\n",
            "Epoch 12/100\n",
            "34/34 [==============================] - 0s 2ms/step - loss: 7376.0630 - mae: 7376.0630\n",
            "Epoch 13/100\n",
            "34/34 [==============================] - 0s 2ms/step - loss: 7356.0215 - mae: 7356.0215\n",
            "Epoch 14/100\n",
            "34/34 [==============================] - 0s 2ms/step - loss: 7334.3096 - mae: 7334.3096\n",
            "Epoch 15/100\n",
            "34/34 [==============================] - 0s 2ms/step - loss: 7315.6235 - mae: 7315.6235\n",
            "Epoch 16/100\n",
            "34/34 [==============================] - 0s 3ms/step - loss: 7293.6670 - mae: 7293.6670\n",
            "Epoch 17/100\n",
            "34/34 [==============================] - 0s 2ms/step - loss: 7274.0317 - mae: 7274.0317\n",
            "Epoch 18/100\n",
            "34/34 [==============================] - 0s 2ms/step - loss: 7251.4224 - mae: 7251.4224\n",
            "Epoch 19/100\n",
            "34/34 [==============================] - 0s 2ms/step - loss: 7229.5034 - mae: 7229.5034\n",
            "Epoch 20/100\n",
            "34/34 [==============================] - 0s 2ms/step - loss: 7206.7388 - mae: 7206.7388\n",
            "Epoch 21/100\n",
            "34/34 [==============================] - 0s 2ms/step - loss: 7188.3271 - mae: 7188.3271\n",
            "Epoch 22/100\n",
            "34/34 [==============================] - 0s 2ms/step - loss: 7161.5073 - mae: 7161.5073\n",
            "Epoch 23/100\n",
            "34/34 [==============================] - 0s 2ms/step - loss: 7137.2339 - mae: 7137.2339\n",
            "Epoch 24/100\n",
            "34/34 [==============================] - 0s 2ms/step - loss: 7112.9775 - mae: 7112.9775\n",
            "Epoch 25/100\n",
            "34/34 [==============================] - 0s 2ms/step - loss: 7094.5054 - mae: 7094.5054\n",
            "Epoch 26/100\n",
            "34/34 [==============================] - 0s 2ms/step - loss: 7064.3320 - mae: 7064.3320\n",
            "Epoch 27/100\n",
            "34/34 [==============================] - 0s 2ms/step - loss: 7035.8813 - mae: 7035.8813\n",
            "Epoch 28/100\n",
            "34/34 [==============================] - 0s 2ms/step - loss: 7008.2568 - mae: 7008.2568\n",
            "Epoch 29/100\n",
            "34/34 [==============================] - 0s 3ms/step - loss: 6980.4341 - mae: 6980.4341\n",
            "Epoch 30/100\n",
            "34/34 [==============================] - 0s 2ms/step - loss: 6953.8911 - mae: 6953.8911\n",
            "Epoch 31/100\n",
            "34/34 [==============================] - 0s 2ms/step - loss: 6922.9194 - mae: 6922.9194\n",
            "Epoch 32/100\n",
            "34/34 [==============================] - 0s 2ms/step - loss: 6895.9165 - mae: 6895.9165\n",
            "Epoch 33/100\n",
            "34/34 [==============================] - 0s 2ms/step - loss: 6864.8862 - mae: 6864.8862\n",
            "Epoch 34/100\n",
            "34/34 [==============================] - 0s 2ms/step - loss: 6833.2275 - mae: 6833.2275\n",
            "Epoch 35/100\n",
            "34/34 [==============================] - 0s 2ms/step - loss: 6800.6016 - mae: 6800.6016\n",
            "Epoch 36/100\n",
            "34/34 [==============================] - 0s 2ms/step - loss: 6766.6406 - mae: 6766.6406\n",
            "Epoch 37/100\n",
            "34/34 [==============================] - 0s 2ms/step - loss: 6731.3281 - mae: 6731.3281\n",
            "Epoch 38/100\n",
            "34/34 [==============================] - 0s 2ms/step - loss: 6699.4941 - mae: 6699.4941\n",
            "Epoch 39/100\n",
            "34/34 [==============================] - 0s 2ms/step - loss: 6661.5889 - mae: 6661.5889\n",
            "Epoch 40/100\n",
            "34/34 [==============================] - 0s 2ms/step - loss: 6627.1196 - mae: 6627.1196\n",
            "Epoch 41/100\n",
            "34/34 [==============================] - 0s 2ms/step - loss: 6593.0830 - mae: 6593.0830\n",
            "Epoch 42/100\n",
            "34/34 [==============================] - 0s 3ms/step - loss: 6565.0342 - mae: 6565.0342\n",
            "Epoch 43/100\n",
            "34/34 [==============================] - 0s 2ms/step - loss: 6535.7251 - mae: 6535.7251\n",
            "Epoch 44/100\n",
            "34/34 [==============================] - 0s 2ms/step - loss: 6510.2305 - mae: 6510.2305\n",
            "Epoch 45/100\n",
            "34/34 [==============================] - 0s 2ms/step - loss: 6494.4014 - mae: 6494.4014\n",
            "Epoch 46/100\n",
            "34/34 [==============================] - 0s 2ms/step - loss: 6476.3003 - mae: 6476.3003\n",
            "Epoch 47/100\n",
            "34/34 [==============================] - 0s 2ms/step - loss: 6459.5161 - mae: 6459.5161\n",
            "Epoch 48/100\n",
            "34/34 [==============================] - 0s 2ms/step - loss: 6444.2666 - mae: 6444.2666\n",
            "Epoch 49/100\n",
            "34/34 [==============================] - 0s 2ms/step - loss: 6431.5068 - mae: 6431.5068\n",
            "Epoch 50/100\n",
            "34/34 [==============================] - 0s 2ms/step - loss: 6417.3848 - mae: 6417.3848\n",
            "Epoch 51/100\n",
            "34/34 [==============================] - 0s 2ms/step - loss: 6403.3105 - mae: 6403.3105\n",
            "Epoch 52/100\n",
            "34/34 [==============================] - 0s 2ms/step - loss: 6393.2051 - mae: 6393.2051\n",
            "Epoch 53/100\n",
            "34/34 [==============================] - 0s 2ms/step - loss: 6378.5142 - mae: 6378.5142\n",
            "Epoch 54/100\n",
            "34/34 [==============================] - 0s 3ms/step - loss: 6365.1318 - mae: 6365.1318\n",
            "Epoch 55/100\n",
            "34/34 [==============================] - 0s 2ms/step - loss: 6351.6548 - mae: 6351.6548\n",
            "Epoch 56/100\n",
            "34/34 [==============================] - 0s 2ms/step - loss: 6337.5034 - mae: 6337.5034\n",
            "Epoch 57/100\n",
            "34/34 [==============================] - 0s 2ms/step - loss: 6325.1914 - mae: 6325.1914\n",
            "Epoch 58/100\n",
            "34/34 [==============================] - 0s 2ms/step - loss: 6310.8506 - mae: 6310.8506\n",
            "Epoch 59/100\n",
            "34/34 [==============================] - 0s 2ms/step - loss: 6295.8818 - mae: 6295.8818\n",
            "Epoch 60/100\n",
            "34/34 [==============================] - 0s 2ms/step - loss: 6285.6968 - mae: 6285.6968\n",
            "Epoch 61/100\n",
            "34/34 [==============================] - 0s 2ms/step - loss: 6266.2817 - mae: 6266.2817\n",
            "Epoch 62/100\n",
            "34/34 [==============================] - 0s 2ms/step - loss: 6254.5776 - mae: 6254.5776\n",
            "Epoch 63/100\n",
            "34/34 [==============================] - 0s 2ms/step - loss: 6235.7358 - mae: 6235.7358\n",
            "Epoch 64/100\n",
            "34/34 [==============================] - 0s 2ms/step - loss: 6220.1616 - mae: 6220.1616\n",
            "Epoch 65/100\n",
            "34/34 [==============================] - 0s 2ms/step - loss: 6203.0933 - mae: 6203.0933\n",
            "Epoch 66/100\n",
            "34/34 [==============================] - 0s 3ms/step - loss: 6186.2544 - mae: 6186.2544\n",
            "Epoch 67/100\n",
            "34/34 [==============================] - 0s 3ms/step - loss: 6173.9150 - mae: 6173.9150\n",
            "Epoch 68/100\n",
            "34/34 [==============================] - 0s 2ms/step - loss: 6151.4536 - mae: 6151.4536\n",
            "Epoch 69/100\n",
            "34/34 [==============================] - 0s 2ms/step - loss: 6135.6826 - mae: 6135.6826\n",
            "Epoch 70/100\n",
            "34/34 [==============================] - 0s 2ms/step - loss: 6115.5430 - mae: 6115.5430\n",
            "Epoch 71/100\n",
            "34/34 [==============================] - 0s 2ms/step - loss: 6096.6201 - mae: 6096.6201\n",
            "Epoch 72/100\n",
            "34/34 [==============================] - 0s 2ms/step - loss: 6078.9170 - mae: 6078.9170\n",
            "Epoch 73/100\n",
            "34/34 [==============================] - 0s 2ms/step - loss: 6063.3638 - mae: 6063.3638\n",
            "Epoch 74/100\n",
            "34/34 [==============================] - 0s 2ms/step - loss: 6036.7393 - mae: 6036.7393\n",
            "Epoch 75/100\n",
            "34/34 [==============================] - 0s 2ms/step - loss: 6015.5596 - mae: 6015.5596\n",
            "Epoch 76/100\n",
            "34/34 [==============================] - 0s 2ms/step - loss: 6002.5327 - mae: 6002.5327\n",
            "Epoch 77/100\n",
            "34/34 [==============================] - 0s 2ms/step - loss: 5969.7661 - mae: 5969.7661\n",
            "Epoch 78/100\n",
            "34/34 [==============================] - 0s 2ms/step - loss: 5947.6270 - mae: 5947.6270\n",
            "Epoch 79/100\n",
            "34/34 [==============================] - 0s 2ms/step - loss: 5924.0972 - mae: 5924.0972\n",
            "Epoch 80/100\n",
            "34/34 [==============================] - 0s 2ms/step - loss: 5897.4600 - mae: 5897.4600\n",
            "Epoch 81/100\n",
            "34/34 [==============================] - 0s 2ms/step - loss: 5872.0249 - mae: 5872.0249\n",
            "Epoch 82/100\n",
            "34/34 [==============================] - 0s 2ms/step - loss: 5844.9619 - mae: 5844.9619\n",
            "Epoch 83/100\n",
            "34/34 [==============================] - 0s 2ms/step - loss: 5817.3560 - mae: 5817.3560\n",
            "Epoch 84/100\n",
            "34/34 [==============================] - 0s 2ms/step - loss: 5784.4912 - mae: 5784.4912\n",
            "Epoch 85/100\n",
            "34/34 [==============================] - 0s 2ms/step - loss: 5758.4360 - mae: 5758.4360\n",
            "Epoch 86/100\n",
            "34/34 [==============================] - 0s 2ms/step - loss: 5725.4214 - mae: 5725.4214\n",
            "Epoch 87/100\n",
            "34/34 [==============================] - 0s 2ms/step - loss: 5690.2910 - mae: 5690.2910\n",
            "Epoch 88/100\n",
            "34/34 [==============================] - 0s 2ms/step - loss: 5657.0044 - mae: 5657.0044\n",
            "Epoch 89/100\n",
            "34/34 [==============================] - 0s 2ms/step - loss: 5619.0049 - mae: 5619.0049\n",
            "Epoch 90/100\n",
            "34/34 [==============================] - 0s 3ms/step - loss: 5579.3867 - mae: 5579.3867\n",
            "Epoch 91/100\n",
            "34/34 [==============================] - 0s 3ms/step - loss: 5547.3311 - mae: 5547.3311\n",
            "Epoch 92/100\n",
            "34/34 [==============================] - 0s 3ms/step - loss: 5497.4033 - mae: 5497.4033\n",
            "Epoch 93/100\n",
            "34/34 [==============================] - 0s 3ms/step - loss: 5458.1914 - mae: 5458.1914\n",
            "Epoch 94/100\n",
            "34/34 [==============================] - 0s 3ms/step - loss: 5414.2969 - mae: 5414.2969\n",
            "Epoch 95/100\n",
            "34/34 [==============================] - 0s 3ms/step - loss: 5363.4238 - mae: 5363.4238\n",
            "Epoch 96/100\n",
            "34/34 [==============================] - 0s 3ms/step - loss: 5321.3838 - mae: 5321.3838\n",
            "Epoch 97/100\n",
            "34/34 [==============================] - 0s 3ms/step - loss: 5270.0503 - mae: 5270.0503\n",
            "Epoch 98/100\n",
            "34/34 [==============================] - 0s 3ms/step - loss: 5211.4453 - mae: 5211.4453\n",
            "Epoch 99/100\n",
            "34/34 [==============================] - 0s 3ms/step - loss: 5153.2524 - mae: 5153.2524\n",
            "Epoch 100/100\n",
            "34/34 [==============================] - 0s 3ms/step - loss: 5098.9727 - mae: 5098.9727\n"
          ]
        },
        {
          "output_type": "execute_result",
          "data": {
            "text/plain": [
              "<keras.callbacks.History at 0x7fdb92e7a0b0>"
            ]
          },
          "metadata": {},
          "execution_count": 130
        }
      ]
    },
    {
      "cell_type": "code",
      "source": [
        "# Evaluate the larger mode\n",
        "insurance_model_2.evaluate(X_test, y_test)"
      ],
      "metadata": {
        "colab": {
          "base_uri": "https://localhost:8080/"
        },
        "id": "R4k7AXU0wXk1",
        "outputId": "1b82c075-318a-4a97-e440-9b32edd946bf"
      },
      "execution_count": null,
      "outputs": [
        {
          "output_type": "stream",
          "name": "stdout",
          "text": [
            "9/9 [==============================] - 0s 2ms/step - loss: 4967.5234 - mae: 4967.5234\n"
          ]
        },
        {
          "output_type": "execute_result",
          "data": {
            "text/plain": [
              "[4967.5234375, 4967.5234375]"
            ]
          },
          "metadata": {},
          "execution_count": 131
        }
      ]
    },
    {
      "cell_type": "code",
      "source": [
        "insurance_model.evaluate(X_test, y_test)"
      ],
      "metadata": {
        "colab": {
          "base_uri": "https://localhost:8080/"
        },
        "id": "oQhs9KgPxCgF",
        "outputId": "d6dcc377-d4bb-424c-ac8c-0d5f9f9bf54b"
      },
      "execution_count": null,
      "outputs": [
        {
          "output_type": "stream",
          "name": "stdout",
          "text": [
            "9/9 [==============================] - 0s 5ms/step - loss: 7192.2827 - mae: 7192.2827\n"
          ]
        },
        {
          "output_type": "execute_result",
          "data": {
            "text/plain": [
              "[7192.28271484375, 7192.28271484375]"
            ]
          },
          "metadata": {},
          "execution_count": 132
        }
      ]
    },
    {
      "cell_type": "code",
      "source": [
        "# Set the random seed\n",
        "tf.random.set_seed(42)\n",
        "\n",
        "# 1. Create the model\n",
        "insurance_model_3 = tf.keras.Sequential([\n",
        "    tf.keras.layers.Dense(100),\n",
        "    tf.keras.layers.Dense(10),\n",
        "    tf.keras.layers.Dense(1)\n",
        "])\n",
        "\n",
        "# 2. Compile the model\n",
        "insurance_model_3.compile(loss = tf.keras.losses.mae,\n",
        "                          optimizer=tf.keras.optimizers.Adam(),\n",
        "                          metrics=['mae'])\n",
        "\n",
        "# 3. Fit the model\n",
        "history = insurance_model_3.fit(X_train, y_train, epochs=200)"
      ],
      "metadata": {
        "colab": {
          "base_uri": "https://localhost:8080/"
        },
        "id": "jQ3HzTtrxIb9",
        "outputId": "ba06b067-e182-482e-acc7-866324a1b82a"
      },
      "execution_count": null,
      "outputs": [
        {
          "output_type": "stream",
          "name": "stdout",
          "text": [
            "Epoch 1/200\n",
            "34/34 [==============================] - 1s 2ms/step - loss: 13296.5195 - mae: 13296.5195\n",
            "Epoch 2/200\n",
            "34/34 [==============================] - 0s 2ms/step - loss: 13156.9443 - mae: 13156.9443\n",
            "Epoch 3/200\n",
            "34/34 [==============================] - 0s 2ms/step - loss: 12853.8936 - mae: 12853.8936\n",
            "Epoch 4/200\n",
            "34/34 [==============================] - 0s 2ms/step - loss: 12242.6211 - mae: 12242.6211\n",
            "Epoch 5/200\n",
            "34/34 [==============================] - 0s 2ms/step - loss: 11185.5410 - mae: 11185.5410\n",
            "Epoch 6/200\n",
            "34/34 [==============================] - 0s 2ms/step - loss: 9756.8779 - mae: 9756.8779\n",
            "Epoch 7/200\n",
            "34/34 [==============================] - 0s 2ms/step - loss: 8360.3887 - mae: 8360.3887\n",
            "Epoch 8/200\n",
            "34/34 [==============================] - 0s 2ms/step - loss: 7591.5420 - mae: 7591.5420\n",
            "Epoch 9/200\n",
            "34/34 [==============================] - 0s 2ms/step - loss: 7433.9487 - mae: 7433.9487\n",
            "Epoch 10/200\n",
            "34/34 [==============================] - 0s 2ms/step - loss: 7410.9019 - mae: 7410.9019\n",
            "Epoch 11/200\n",
            "34/34 [==============================] - 0s 2ms/step - loss: 7391.9878 - mae: 7391.9878\n",
            "Epoch 12/200\n",
            "34/34 [==============================] - 0s 2ms/step - loss: 7370.3721 - mae: 7370.3721\n",
            "Epoch 13/200\n",
            "34/34 [==============================] - 0s 2ms/step - loss: 7350.2822 - mae: 7350.2822\n",
            "Epoch 14/200\n",
            "34/34 [==============================] - 0s 2ms/step - loss: 7327.9443 - mae: 7327.9443\n",
            "Epoch 15/200\n",
            "34/34 [==============================] - 0s 2ms/step - loss: 7309.2495 - mae: 7309.2495\n",
            "Epoch 16/200\n",
            "34/34 [==============================] - 0s 2ms/step - loss: 7287.0771 - mae: 7287.0771\n",
            "Epoch 17/200\n",
            "34/34 [==============================] - 0s 2ms/step - loss: 7266.8569 - mae: 7266.8569\n",
            "Epoch 18/200\n",
            "34/34 [==============================] - 0s 2ms/step - loss: 7243.4580 - mae: 7243.4580\n",
            "Epoch 19/200\n",
            "34/34 [==============================] - 0s 3ms/step - loss: 7221.1519 - mae: 7221.1519\n",
            "Epoch 20/200\n",
            "34/34 [==============================] - 0s 2ms/step - loss: 7197.5815 - mae: 7197.5815\n",
            "Epoch 21/200\n",
            "34/34 [==============================] - 0s 2ms/step - loss: 7179.1738 - mae: 7179.1738\n",
            "Epoch 22/200\n",
            "34/34 [==============================] - 0s 3ms/step - loss: 7150.6885 - mae: 7150.6885\n",
            "Epoch 23/200\n",
            "34/34 [==============================] - 0s 4ms/step - loss: 7125.4575 - mae: 7125.4575\n",
            "Epoch 24/200\n",
            "34/34 [==============================] - 0s 3ms/step - loss: 7100.2856 - mae: 7100.2856\n",
            "Epoch 25/200\n",
            "34/34 [==============================] - 0s 4ms/step - loss: 7082.2407 - mae: 7082.2407\n",
            "Epoch 26/200\n",
            "34/34 [==============================] - 0s 2ms/step - loss: 7049.3340 - mae: 7049.3340\n",
            "Epoch 27/200\n",
            "34/34 [==============================] - 0s 2ms/step - loss: 7020.8506 - mae: 7020.8506\n",
            "Epoch 28/200\n",
            "34/34 [==============================] - 0s 3ms/step - loss: 6992.4600 - mae: 6992.4600\n",
            "Epoch 29/200\n",
            "34/34 [==============================] - 0s 4ms/step - loss: 6963.8960 - mae: 6963.8960\n",
            "Epoch 30/200\n",
            "34/34 [==============================] - 0s 4ms/step - loss: 6936.2852 - mae: 6936.2852\n",
            "Epoch 31/200\n",
            "34/34 [==============================] - 0s 4ms/step - loss: 6905.1006 - mae: 6905.1006\n",
            "Epoch 32/200\n",
            "34/34 [==============================] - 0s 2ms/step - loss: 6876.9912 - mae: 6876.9912\n",
            "Epoch 33/200\n",
            "34/34 [==============================] - 0s 2ms/step - loss: 6845.3589 - mae: 6845.3589\n",
            "Epoch 34/200\n",
            "34/34 [==============================] - 0s 2ms/step - loss: 6814.2368 - mae: 6814.2368\n",
            "Epoch 35/200\n",
            "34/34 [==============================] - 0s 3ms/step - loss: 6779.6626 - mae: 6779.6626\n",
            "Epoch 36/200\n",
            "34/34 [==============================] - 0s 4ms/step - loss: 6745.4238 - mae: 6745.4238\n",
            "Epoch 37/200\n",
            "34/34 [==============================] - 0s 4ms/step - loss: 6709.9946 - mae: 6709.9946\n",
            "Epoch 38/200\n",
            "34/34 [==============================] - 0s 4ms/step - loss: 6679.6665 - mae: 6679.6665\n",
            "Epoch 39/200\n",
            "34/34 [==============================] - 0s 4ms/step - loss: 6642.4712 - mae: 6642.4712\n",
            "Epoch 40/200\n",
            "34/34 [==============================] - 0s 3ms/step - loss: 6608.0542 - mae: 6608.0542\n",
            "Epoch 41/200\n",
            "34/34 [==============================] - 0s 2ms/step - loss: 6576.6250 - mae: 6576.6250\n",
            "Epoch 42/200\n",
            "34/34 [==============================] - 0s 2ms/step - loss: 6553.5830 - mae: 6553.5830\n",
            "Epoch 43/200\n",
            "34/34 [==============================] - 0s 2ms/step - loss: 6524.9209 - mae: 6524.9209\n",
            "Epoch 44/200\n",
            "34/34 [==============================] - 0s 4ms/step - loss: 6503.7446 - mae: 6503.7446\n",
            "Epoch 45/200\n",
            "34/34 [==============================] - 0s 3ms/step - loss: 6492.2998 - mae: 6492.2998\n",
            "Epoch 46/200\n",
            "34/34 [==============================] - 0s 5ms/step - loss: 6475.9224 - mae: 6475.9224\n",
            "Epoch 47/200\n",
            "34/34 [==============================] - 0s 3ms/step - loss: 6458.9937 - mae: 6458.9937\n",
            "Epoch 48/200\n",
            "34/34 [==============================] - 0s 2ms/step - loss: 6445.5596 - mae: 6445.5596\n",
            "Epoch 49/200\n",
            "34/34 [==============================] - 0s 5ms/step - loss: 6432.8462 - mae: 6432.8462\n",
            "Epoch 50/200\n",
            "34/34 [==============================] - 0s 4ms/step - loss: 6419.4165 - mae: 6419.4165\n",
            "Epoch 51/200\n",
            "34/34 [==============================] - 0s 4ms/step - loss: 6405.4468 - mae: 6405.4468\n",
            "Epoch 52/200\n",
            "34/34 [==============================] - 0s 2ms/step - loss: 6395.3408 - mae: 6395.3408\n",
            "Epoch 53/200\n",
            "34/34 [==============================] - 0s 2ms/step - loss: 6381.4863 - mae: 6381.4863\n",
            "Epoch 54/200\n",
            "34/34 [==============================] - 0s 3ms/step - loss: 6368.2212 - mae: 6368.2212\n",
            "Epoch 55/200\n",
            "34/34 [==============================] - 0s 4ms/step - loss: 6355.0732 - mae: 6355.0732\n",
            "Epoch 56/200\n",
            "34/34 [==============================] - 0s 4ms/step - loss: 6341.0693 - mae: 6341.0693\n",
            "Epoch 57/200\n",
            "34/34 [==============================] - 0s 3ms/step - loss: 6328.7881 - mae: 6328.7881\n",
            "Epoch 58/200\n",
            "34/34 [==============================] - 0s 2ms/step - loss: 6314.5947 - mae: 6314.5947\n",
            "Epoch 59/200\n",
            "34/34 [==============================] - 0s 2ms/step - loss: 6300.6528 - mae: 6300.6528\n",
            "Epoch 60/200\n",
            "34/34 [==============================] - 0s 3ms/step - loss: 6290.2837 - mae: 6290.2837\n",
            "Epoch 61/200\n",
            "34/34 [==============================] - 0s 4ms/step - loss: 6270.4785 - mae: 6270.4785\n",
            "Epoch 62/200\n",
            "34/34 [==============================] - 0s 5ms/step - loss: 6259.6646 - mae: 6259.6646\n",
            "Epoch 63/200\n",
            "34/34 [==============================] - 1s 14ms/step - loss: 6241.5737 - mae: 6241.5737\n",
            "Epoch 64/200\n",
            "34/34 [==============================] - 1s 15ms/step - loss: 6224.8960 - mae: 6224.8960\n",
            "Epoch 65/200\n",
            "34/34 [==============================] - 1s 17ms/step - loss: 6208.7959 - mae: 6208.7959\n",
            "Epoch 66/200\n",
            "34/34 [==============================] - 0s 9ms/step - loss: 6192.2954 - mae: 6192.2954\n",
            "Epoch 67/200\n",
            "34/34 [==============================] - 0s 3ms/step - loss: 6180.1201 - mae: 6180.1201\n",
            "Epoch 68/200\n",
            "34/34 [==============================] - 0s 7ms/step - loss: 6158.0430 - mae: 6158.0430\n",
            "Epoch 69/200\n",
            "34/34 [==============================] - 0s 8ms/step - loss: 6142.9038 - mae: 6142.9038\n",
            "Epoch 70/200\n",
            "34/34 [==============================] - 0s 4ms/step - loss: 6123.1099 - mae: 6123.1099\n",
            "Epoch 71/200\n",
            "34/34 [==============================] - 0s 3ms/step - loss: 6104.2002 - mae: 6104.2002\n",
            "Epoch 72/200\n",
            "34/34 [==============================] - 0s 5ms/step - loss: 6086.2856 - mae: 6086.2856\n",
            "Epoch 73/200\n",
            "34/34 [==============================] - 0s 3ms/step - loss: 6071.2070 - mae: 6071.2070\n",
            "Epoch 74/200\n",
            "34/34 [==============================] - 0s 5ms/step - loss: 6045.7065 - mae: 6045.7065\n",
            "Epoch 75/200\n",
            "34/34 [==============================] - 0s 3ms/step - loss: 6024.6172 - mae: 6024.6172\n",
            "Epoch 76/200\n",
            "34/34 [==============================] - 0s 4ms/step - loss: 6012.5249 - mae: 6012.5249\n",
            "Epoch 77/200\n",
            "34/34 [==============================] - 0s 5ms/step - loss: 5980.1343 - mae: 5980.1343\n",
            "Epoch 78/200\n",
            "34/34 [==============================] - 0s 7ms/step - loss: 5958.0557 - mae: 5958.0557\n",
            "Epoch 79/200\n",
            "34/34 [==============================] - 0s 6ms/step - loss: 5935.1387 - mae: 5935.1387\n",
            "Epoch 80/200\n",
            "34/34 [==============================] - 0s 7ms/step - loss: 5908.6313 - mae: 5908.6313\n",
            "Epoch 81/200\n",
            "34/34 [==============================] - 0s 6ms/step - loss: 5883.9004 - mae: 5883.9004\n",
            "Epoch 82/200\n",
            "34/34 [==============================] - 0s 6ms/step - loss: 5858.0752 - mae: 5858.0752\n",
            "Epoch 83/200\n",
            "34/34 [==============================] - 0s 7ms/step - loss: 5830.6128 - mae: 5830.6128\n",
            "Epoch 84/200\n",
            "34/34 [==============================] - 0s 5ms/step - loss: 5798.4150 - mae: 5798.4150\n",
            "Epoch 85/200\n",
            "34/34 [==============================] - 0s 8ms/step - loss: 5772.8301 - mae: 5772.8301\n",
            "Epoch 86/200\n",
            "34/34 [==============================] - 0s 3ms/step - loss: 5740.6968 - mae: 5740.6968\n",
            "Epoch 87/200\n",
            "34/34 [==============================] - 0s 4ms/step - loss: 5706.3350 - mae: 5706.3350\n",
            "Epoch 88/200\n",
            "34/34 [==============================] - 0s 8ms/step - loss: 5674.5493 - mae: 5674.5493\n",
            "Epoch 89/200\n",
            "34/34 [==============================] - 0s 6ms/step - loss: 5636.9072 - mae: 5636.9072\n",
            "Epoch 90/200\n",
            "34/34 [==============================] - 0s 3ms/step - loss: 5598.4976 - mae: 5598.4976\n",
            "Epoch 91/200\n",
            "34/34 [==============================] - 0s 4ms/step - loss: 5566.8794 - mae: 5566.8794\n",
            "Epoch 92/200\n",
            "34/34 [==============================] - 0s 3ms/step - loss: 5518.5557 - mae: 5518.5557\n",
            "Epoch 93/200\n",
            "34/34 [==============================] - 0s 2ms/step - loss: 5480.5703 - mae: 5480.5703\n",
            "Epoch 94/200\n",
            "34/34 [==============================] - 0s 2ms/step - loss: 5439.0142 - mae: 5439.0142\n",
            "Epoch 95/200\n",
            "34/34 [==============================] - 0s 8ms/step - loss: 5387.9443 - mae: 5387.9443\n",
            "Epoch 96/200\n",
            "34/34 [==============================] - 0s 3ms/step - loss: 5348.0254 - mae: 5348.0254\n",
            "Epoch 97/200\n",
            "34/34 [==============================] - 0s 2ms/step - loss: 5298.1470 - mae: 5298.1470\n",
            "Epoch 98/200\n",
            "34/34 [==============================] - 0s 2ms/step - loss: 5240.9673 - mae: 5240.9673\n",
            "Epoch 99/200\n",
            "34/34 [==============================] - 0s 7ms/step - loss: 5184.5601 - mae: 5184.5601\n",
            "Epoch 100/200\n",
            "34/34 [==============================] - 0s 4ms/step - loss: 5131.4883 - mae: 5131.4883\n",
            "Epoch 101/200\n",
            "34/34 [==============================] - 0s 3ms/step - loss: 5067.2583 - mae: 5067.2583\n",
            "Epoch 102/200\n",
            "34/34 [==============================] - 0s 2ms/step - loss: 5003.3657 - mae: 5003.3657\n",
            "Epoch 103/200\n",
            "34/34 [==============================] - 0s 2ms/step - loss: 4939.5317 - mae: 4939.5317\n",
            "Epoch 104/200\n",
            "34/34 [==============================] - 0s 3ms/step - loss: 4868.0791 - mae: 4868.0791\n",
            "Epoch 105/200\n",
            "34/34 [==============================] - 0s 5ms/step - loss: 4791.8232 - mae: 4791.8232\n",
            "Epoch 106/200\n",
            "34/34 [==============================] - 0s 3ms/step - loss: 4712.9834 - mae: 4712.9834\n",
            "Epoch 107/200\n",
            "34/34 [==============================] - 0s 2ms/step - loss: 4633.5537 - mae: 4633.5537\n",
            "Epoch 108/200\n",
            "34/34 [==============================] - 0s 2ms/step - loss: 4549.3237 - mae: 4549.3237\n",
            "Epoch 109/200\n",
            "34/34 [==============================] - 0s 4ms/step - loss: 4464.2876 - mae: 4464.2876\n",
            "Epoch 110/200\n",
            "34/34 [==============================] - 0s 4ms/step - loss: 4379.1631 - mae: 4379.1631\n",
            "Epoch 111/200\n",
            "34/34 [==============================] - 0s 8ms/step - loss: 4296.1304 - mae: 4296.1304\n",
            "Epoch 112/200\n",
            "34/34 [==============================] - 0s 6ms/step - loss: 4221.9014 - mae: 4221.9014\n",
            "Epoch 113/200\n",
            "34/34 [==============================] - 0s 6ms/step - loss: 4145.6362 - mae: 4145.6362\n",
            "Epoch 114/200\n",
            "34/34 [==============================] - 0s 4ms/step - loss: 4070.7649 - mae: 4070.7649\n",
            "Epoch 115/200\n",
            "34/34 [==============================] - 0s 4ms/step - loss: 4006.9080 - mae: 4006.9080\n",
            "Epoch 116/200\n",
            "34/34 [==============================] - 0s 4ms/step - loss: 3964.5359 - mae: 3964.5359\n",
            "Epoch 117/200\n",
            "34/34 [==============================] - 0s 4ms/step - loss: 3941.8113 - mae: 3941.8113\n",
            "Epoch 118/200\n",
            "34/34 [==============================] - 0s 5ms/step - loss: 3912.0288 - mae: 3912.0288\n",
            "Epoch 119/200\n",
            "34/34 [==============================] - 0s 4ms/step - loss: 3879.9651 - mae: 3879.9651\n",
            "Epoch 120/200\n",
            "34/34 [==============================] - 0s 4ms/step - loss: 3857.3689 - mae: 3857.3689\n",
            "Epoch 121/200\n",
            "34/34 [==============================] - 0s 4ms/step - loss: 3846.6580 - mae: 3846.6580\n",
            "Epoch 122/200\n",
            "34/34 [==============================] - 0s 5ms/step - loss: 3838.3652 - mae: 3838.3652\n",
            "Epoch 123/200\n",
            "34/34 [==============================] - 0s 4ms/step - loss: 3830.4326 - mae: 3830.4326\n",
            "Epoch 124/200\n",
            "34/34 [==============================] - 0s 5ms/step - loss: 3818.8599 - mae: 3818.8599\n",
            "Epoch 125/200\n",
            "34/34 [==============================] - 0s 2ms/step - loss: 3806.1101 - mae: 3806.1101\n",
            "Epoch 126/200\n",
            "34/34 [==============================] - 0s 2ms/step - loss: 3815.1294 - mae: 3815.1294\n",
            "Epoch 127/200\n",
            "34/34 [==============================] - 0s 2ms/step - loss: 3806.4426 - mae: 3806.4426\n",
            "Epoch 128/200\n",
            "34/34 [==============================] - 0s 3ms/step - loss: 3800.1035 - mae: 3800.1035\n",
            "Epoch 129/200\n",
            "34/34 [==============================] - 0s 3ms/step - loss: 3806.2969 - mae: 3806.2969\n",
            "Epoch 130/200\n",
            "34/34 [==============================] - 0s 4ms/step - loss: 3789.9944 - mae: 3789.9944\n",
            "Epoch 131/200\n",
            "34/34 [==============================] - 0s 6ms/step - loss: 3785.5430 - mae: 3785.5430\n",
            "Epoch 132/200\n",
            "34/34 [==============================] - 0s 5ms/step - loss: 3780.6792 - mae: 3780.6792\n",
            "Epoch 133/200\n",
            "34/34 [==============================] - 0s 4ms/step - loss: 3775.6179 - mae: 3775.6179\n",
            "Epoch 134/200\n",
            "34/34 [==============================] - 0s 4ms/step - loss: 3776.0269 - mae: 3776.0269\n",
            "Epoch 135/200\n",
            "34/34 [==============================] - 0s 4ms/step - loss: 3772.0483 - mae: 3772.0483\n",
            "Epoch 136/200\n",
            "34/34 [==============================] - 0s 3ms/step - loss: 3770.1206 - mae: 3770.1206\n",
            "Epoch 137/200\n",
            "34/34 [==============================] - 0s 6ms/step - loss: 3779.0742 - mae: 3779.0742\n",
            "Epoch 138/200\n",
            "34/34 [==============================] - 0s 7ms/step - loss: 3784.9712 - mae: 3784.9712\n",
            "Epoch 139/200\n",
            "34/34 [==============================] - 0s 6ms/step - loss: 3765.9165 - mae: 3765.9165\n",
            "Epoch 140/200\n",
            "34/34 [==============================] - 0s 6ms/step - loss: 3766.9307 - mae: 3766.9307\n",
            "Epoch 141/200\n",
            "34/34 [==============================] - 0s 4ms/step - loss: 3766.8975 - mae: 3766.8975\n",
            "Epoch 142/200\n",
            "34/34 [==============================] - 0s 5ms/step - loss: 3769.5461 - mae: 3769.5461\n",
            "Epoch 143/200\n",
            "34/34 [==============================] - 0s 5ms/step - loss: 3758.7063 - mae: 3758.7063\n",
            "Epoch 144/200\n",
            "34/34 [==============================] - 0s 7ms/step - loss: 3754.7720 - mae: 3754.7720\n",
            "Epoch 145/200\n",
            "34/34 [==============================] - 0s 8ms/step - loss: 3755.4075 - mae: 3755.4075\n",
            "Epoch 146/200\n",
            "34/34 [==============================] - 0s 5ms/step - loss: 3759.2148 - mae: 3759.2148\n",
            "Epoch 147/200\n",
            "34/34 [==============================] - 0s 4ms/step - loss: 3756.1338 - mae: 3756.1338\n",
            "Epoch 148/200\n",
            "34/34 [==============================] - 0s 7ms/step - loss: 3760.5508 - mae: 3760.5508\n",
            "Epoch 149/200\n",
            "34/34 [==============================] - 0s 7ms/step - loss: 3747.9226 - mae: 3747.9226\n",
            "Epoch 150/200\n",
            "34/34 [==============================] - 0s 6ms/step - loss: 3743.2302 - mae: 3743.2302\n",
            "Epoch 151/200\n",
            "34/34 [==============================] - 0s 5ms/step - loss: 3744.9390 - mae: 3744.9390\n",
            "Epoch 152/200\n",
            "34/34 [==============================] - 0s 6ms/step - loss: 3745.6260 - mae: 3745.6260\n",
            "Epoch 153/200\n",
            "34/34 [==============================] - 0s 5ms/step - loss: 3745.5859 - mae: 3745.5859\n",
            "Epoch 154/200\n",
            "34/34 [==============================] - 0s 5ms/step - loss: 3741.3909 - mae: 3741.3909\n",
            "Epoch 155/200\n",
            "34/34 [==============================] - 0s 6ms/step - loss: 3745.0989 - mae: 3745.0989\n",
            "Epoch 156/200\n",
            "34/34 [==============================] - 0s 4ms/step - loss: 3739.7197 - mae: 3739.7197\n",
            "Epoch 157/200\n",
            "34/34 [==============================] - 0s 5ms/step - loss: 3738.3320 - mae: 3738.3320\n",
            "Epoch 158/200\n",
            "34/34 [==============================] - 0s 5ms/step - loss: 3733.4521 - mae: 3733.4521\n",
            "Epoch 159/200\n",
            "34/34 [==============================] - 0s 5ms/step - loss: 3730.5820 - mae: 3730.5820\n",
            "Epoch 160/200\n",
            "34/34 [==============================] - 0s 7ms/step - loss: 3737.5864 - mae: 3737.5864\n",
            "Epoch 161/200\n",
            "34/34 [==============================] - 0s 6ms/step - loss: 3732.5869 - mae: 3732.5869\n",
            "Epoch 162/200\n",
            "34/34 [==============================] - 0s 4ms/step - loss: 3728.9463 - mae: 3728.9463\n",
            "Epoch 163/200\n",
            "34/34 [==============================] - 0s 6ms/step - loss: 3726.9988 - mae: 3726.9988\n",
            "Epoch 164/200\n",
            "34/34 [==============================] - 0s 6ms/step - loss: 3731.0034 - mae: 3731.0034\n",
            "Epoch 165/200\n",
            "34/34 [==============================] - 0s 6ms/step - loss: 3720.3093 - mae: 3720.3093\n",
            "Epoch 166/200\n",
            "34/34 [==============================] - 0s 6ms/step - loss: 3725.2463 - mae: 3725.2463\n",
            "Epoch 167/200\n",
            "34/34 [==============================] - 0s 6ms/step - loss: 3726.2568 - mae: 3726.2568\n",
            "Epoch 168/200\n",
            "34/34 [==============================] - 0s 6ms/step - loss: 3721.0933 - mae: 3721.0933\n",
            "Epoch 169/200\n",
            "34/34 [==============================] - 0s 6ms/step - loss: 3718.7322 - mae: 3718.7322\n",
            "Epoch 170/200\n",
            "34/34 [==============================] - 0s 6ms/step - loss: 3712.8914 - mae: 3712.8914\n",
            "Epoch 171/200\n",
            "34/34 [==============================] - 0s 6ms/step - loss: 3711.8259 - mae: 3711.8259\n",
            "Epoch 172/200\n",
            "34/34 [==============================] - 0s 6ms/step - loss: 3714.8940 - mae: 3714.8940\n",
            "Epoch 173/200\n",
            "34/34 [==============================] - 0s 6ms/step - loss: 3708.1970 - mae: 3708.1970\n",
            "Epoch 174/200\n",
            "34/34 [==============================] - 0s 6ms/step - loss: 3714.1316 - mae: 3714.1316\n",
            "Epoch 175/200\n",
            "34/34 [==============================] - 0s 5ms/step - loss: 3717.0771 - mae: 3717.0771\n",
            "Epoch 176/200\n",
            "34/34 [==============================] - 0s 6ms/step - loss: 3710.9231 - mae: 3710.9231\n",
            "Epoch 177/200\n",
            "34/34 [==============================] - 0s 6ms/step - loss: 3703.5166 - mae: 3703.5166\n",
            "Epoch 178/200\n",
            "34/34 [==============================] - 0s 4ms/step - loss: 3704.2244 - mae: 3704.2244\n",
            "Epoch 179/200\n",
            "34/34 [==============================] - 0s 4ms/step - loss: 3713.0461 - mae: 3713.0461\n",
            "Epoch 180/200\n",
            "34/34 [==============================] - 0s 4ms/step - loss: 3716.4292 - mae: 3716.4292\n",
            "Epoch 181/200\n",
            "34/34 [==============================] - 0s 6ms/step - loss: 3700.8052 - mae: 3700.8052\n",
            "Epoch 182/200\n",
            "34/34 [==============================] - 0s 5ms/step - loss: 3699.2166 - mae: 3699.2166\n",
            "Epoch 183/200\n",
            "34/34 [==============================] - 0s 4ms/step - loss: 3697.0159 - mae: 3697.0159\n",
            "Epoch 184/200\n",
            "34/34 [==============================] - 0s 5ms/step - loss: 3702.7908 - mae: 3702.7908\n",
            "Epoch 185/200\n",
            "34/34 [==============================] - 0s 4ms/step - loss: 3698.5571 - mae: 3698.5571\n",
            "Epoch 186/200\n",
            "34/34 [==============================] - 0s 4ms/step - loss: 3701.6433 - mae: 3701.6433\n",
            "Epoch 187/200\n",
            "34/34 [==============================] - 0s 5ms/step - loss: 3693.1611 - mae: 3693.1611\n",
            "Epoch 188/200\n",
            "34/34 [==============================] - 0s 4ms/step - loss: 3698.8040 - mae: 3698.8040\n",
            "Epoch 189/200\n",
            "34/34 [==============================] - 0s 4ms/step - loss: 3688.5181 - mae: 3688.5181\n",
            "Epoch 190/200\n",
            "34/34 [==============================] - 0s 4ms/step - loss: 3688.7642 - mae: 3688.7642\n",
            "Epoch 191/200\n",
            "34/34 [==============================] - 0s 4ms/step - loss: 3706.5737 - mae: 3706.5737\n",
            "Epoch 192/200\n",
            "34/34 [==============================] - 0s 4ms/step - loss: 3690.0752 - mae: 3690.0752\n",
            "Epoch 193/200\n",
            "34/34 [==============================] - 0s 5ms/step - loss: 3680.2617 - mae: 3680.2617\n",
            "Epoch 194/200\n",
            "34/34 [==============================] - 0s 4ms/step - loss: 3680.6646 - mae: 3680.6646\n",
            "Epoch 195/200\n",
            "34/34 [==============================] - 0s 4ms/step - loss: 3678.1477 - mae: 3678.1477\n",
            "Epoch 196/200\n",
            "34/34 [==============================] - 0s 2ms/step - loss: 3686.7522 - mae: 3686.7522\n",
            "Epoch 197/200\n",
            "34/34 [==============================] - 0s 2ms/step - loss: 3671.6016 - mae: 3671.6016\n",
            "Epoch 198/200\n",
            "34/34 [==============================] - 0s 2ms/step - loss: 3677.3037 - mae: 3677.3037\n",
            "Epoch 199/200\n",
            "34/34 [==============================] - 0s 2ms/step - loss: 3685.8938 - mae: 3685.8938\n",
            "Epoch 200/200\n",
            "34/34 [==============================] - 0s 2ms/step - loss: 3670.7090 - mae: 3670.7090\n"
          ]
        }
      ]
    },
    {
      "cell_type": "code",
      "source": [
        "# Evaluate our third model\n",
        "insurance_model_3.evaluate(X_test, y_test)"
      ],
      "metadata": {
        "colab": {
          "base_uri": "https://localhost:8080/"
        },
        "id": "1LLDNb3ryE-G",
        "outputId": "8c9f0c67-70c7-4af5-f9f7-3ab519762de3"
      },
      "execution_count": null,
      "outputs": [
        {
          "output_type": "stream",
          "name": "stdout",
          "text": [
            "9/9 [==============================] - 0s 4ms/step - loss: 3501.2002 - mae: 3501.2002\n"
          ]
        },
        {
          "output_type": "execute_result",
          "data": {
            "text/plain": [
              "[3501.2001953125, 3501.2001953125]"
            ]
          },
          "metadata": {},
          "execution_count": 137
        }
      ]
    },
    {
      "cell_type": "code",
      "source": [
        "insurance_model.evaluate(X_test, y_test)"
      ],
      "metadata": {
        "colab": {
          "base_uri": "https://localhost:8080/"
        },
        "id": "TYdj3SiKybHn",
        "outputId": "40581a3c-6e9b-4912-cd94-0f82646ac17c"
      },
      "execution_count": null,
      "outputs": [
        {
          "output_type": "stream",
          "name": "stdout",
          "text": [
            "9/9 [==============================] - 0s 7ms/step - loss: 7192.2827 - mae: 7192.2827\n"
          ]
        },
        {
          "output_type": "execute_result",
          "data": {
            "text/plain": [
              "[7192.28271484375, 7192.28271484375]"
            ]
          },
          "metadata": {},
          "execution_count": 138
        }
      ]
    },
    {
      "cell_type": "code",
      "source": [
        "# Plot history (also known as a loss curve or a training curve)\n",
        "pd.DataFrame(history.history).plot()\n",
        "plt.ylabel(\"loss\")\n",
        "plt.xlabel(\"epochs\")"
      ],
      "metadata": {
        "colab": {
          "base_uri": "https://localhost:8080/",
          "height": 466
        },
        "id": "FmM6oKTUygRj",
        "outputId": "b32c31db-08af-469f-82f6-a8ad6ffb4de2"
      },
      "execution_count": null,
      "outputs": [
        {
          "output_type": "execute_result",
          "data": {
            "text/plain": [
              "Text(0.5, 0, 'epochs')"
            ]
          },
          "metadata": {},
          "execution_count": 139
        },
        {
          "output_type": "display_data",
          "data": {
            "text/plain": [
              "<Figure size 640x480 with 1 Axes>"
            ],
            "image/png": "[encoded data removed]"
          },
          "metadata": {}
        }
      ]
    },
    {
      "cell_type": "code",
      "source": [
        "# Set the random seed\n",
        "tf.random.set_seed(42)\n",
        "\n",
        "# 1. train the model\n",
        "insurance_model_4 = tf.keras.Sequential([\n",
        "    tf.keras.layers.Dense(100),\n",
        "    tf.keras.layers.Dense(50),\n",
        "    tf.keras.layers.Dense(10),\n",
        "    tf.keras.layers.Dense(1)\n",
        "])\n",
        "\n",
        "# 2. Compile the model\n",
        "insurance_model_4.compile(loss=tf.keras.losses.mae,\n",
        "                          optimizer=tf.keras.optimizers.Adam(),\n",
        "                          metrics=[\"mae\"])\n",
        "\n",
        "# 3. Fit the model\n",
        "history = insurance_model_4.fit(X_train, y_train, epochs=350)"
      ],
      "metadata": {
        "colab": {
          "base_uri": "https://localhost:8080/"
        },
        "id": "a7oGoA_Ayxk2",
        "outputId": "1c4f1f68-6da1-4dfc-9c5d-b008a514c61d"
      },
      "execution_count": null,
      "outputs": [
        {
          "output_type": "stream",
          "name": "stdout",
          "text": [
            "Epoch 1/350\n",
            "34/34 [==============================] - 2s 4ms/step - loss: 13158.9805 - mae: 13158.9805\n",
            "Epoch 2/350\n",
            "34/34 [==============================] - 0s 4ms/step - loss: 12013.0039 - mae: 12013.0039\n",
            "Epoch 3/350\n",
            "34/34 [==============================] - 0s 3ms/step - loss: 8658.8916 - mae: 8658.8916\n",
            "Epoch 4/350\n",
            "34/34 [==============================] - 0s 2ms/step - loss: 7420.1997 - mae: 7420.1997\n",
            "Epoch 5/350\n",
            "34/34 [==============================] - 0s 2ms/step - loss: 7345.0762 - mae: 7345.0762\n",
            "Epoch 6/350\n",
            "34/34 [==============================] - 0s 2ms/step - loss: 7308.5181 - mae: 7308.5181\n",
            "Epoch 7/350\n",
            "34/34 [==============================] - 0s 2ms/step - loss: 7245.5269 - mae: 7245.5269\n",
            "Epoch 8/350\n",
            "34/34 [==============================] - 0s 2ms/step - loss: 7192.7642 - mae: 7192.7642\n",
            "Epoch 9/350\n",
            "34/34 [==============================] - 0s 2ms/step - loss: 7138.8755 - mae: 7138.8755\n",
            "Epoch 10/350\n",
            "34/34 [==============================] - 0s 3ms/step - loss: 7084.2568 - mae: 7084.2568\n",
            "Epoch 11/350\n",
            "34/34 [==============================] - 0s 2ms/step - loss: 7026.5527 - mae: 7026.5527\n",
            "Epoch 12/350\n",
            "34/34 [==============================] - 0s 2ms/step - loss: 6956.9854 - mae: 6956.9854\n",
            "Epoch 13/350\n",
            "34/34 [==============================] - 0s 2ms/step - loss: 6888.5083 - mae: 6888.5083\n",
            "Epoch 14/350\n",
            "34/34 [==============================] - 0s 2ms/step - loss: 6817.6001 - mae: 6817.6001\n",
            "Epoch 15/350\n",
            "34/34 [==============================] - 0s 2ms/step - loss: 6745.6548 - mae: 6745.6548\n",
            "Epoch 16/350\n",
            "34/34 [==============================] - 0s 2ms/step - loss: 6668.0469 - mae: 6668.0469\n",
            "Epoch 17/350\n",
            "34/34 [==============================] - 0s 2ms/step - loss: 6605.5483 - mae: 6605.5483\n",
            "Epoch 18/350\n",
            "34/34 [==============================] - 0s 2ms/step - loss: 6557.6904 - mae: 6557.6904\n",
            "Epoch 19/350\n",
            "34/34 [==============================] - 0s 2ms/step - loss: 6527.2822 - mae: 6527.2822\n",
            "Epoch 20/350\n",
            "34/34 [==============================] - 0s 4ms/step - loss: 6495.8711 - mae: 6495.8711\n",
            "Epoch 21/350\n",
            "34/34 [==============================] - 0s 4ms/step - loss: 6465.8076 - mae: 6465.8076\n",
            "Epoch 22/350\n",
            "34/34 [==============================] - 0s 3ms/step - loss: 6443.2363 - mae: 6443.2363\n",
            "Epoch 23/350\n",
            "34/34 [==============================] - 0s 2ms/step - loss: 6412.4385 - mae: 6412.4385\n",
            "Epoch 24/350\n",
            "34/34 [==============================] - 0s 2ms/step - loss: 6381.2012 - mae: 6381.2012\n",
            "Epoch 25/350\n",
            "34/34 [==============================] - 0s 3ms/step - loss: 6350.3198 - mae: 6350.3198\n",
            "Epoch 26/350\n",
            "34/34 [==============================] - 0s 4ms/step - loss: 6318.8604 - mae: 6318.8604\n",
            "Epoch 27/350\n",
            "34/34 [==============================] - 0s 4ms/step - loss: 6287.1064 - mae: 6287.1064\n",
            "Epoch 28/350\n",
            "34/34 [==============================] - 0s 4ms/step - loss: 6248.6851 - mae: 6248.6851\n",
            "Epoch 29/350\n",
            "34/34 [==============================] - 0s 4ms/step - loss: 6207.2485 - mae: 6207.2485\n",
            "Epoch 30/350\n",
            "34/34 [==============================] - 0s 3ms/step - loss: 6183.5103 - mae: 6183.5103\n",
            "Epoch 31/350\n",
            "34/34 [==============================] - 0s 4ms/step - loss: 6123.4629 - mae: 6123.4629\n",
            "Epoch 32/350\n",
            "34/34 [==============================] - 0s 4ms/step - loss: 6072.1152 - mae: 6072.1152\n",
            "Epoch 33/350\n",
            "34/34 [==============================] - 0s 5ms/step - loss: 6011.8857 - mae: 6011.8857\n",
            "Epoch 34/350\n",
            "34/34 [==============================] - 0s 4ms/step - loss: 5953.4727 - mae: 5953.4727\n",
            "Epoch 35/350\n",
            "34/34 [==============================] - 0s 4ms/step - loss: 5876.5078 - mae: 5876.5078\n",
            "Epoch 36/350\n",
            "34/34 [==============================] - 0s 4ms/step - loss: 5796.8574 - mae: 5796.8574\n",
            "Epoch 37/350\n",
            "34/34 [==============================] - 0s 4ms/step - loss: 5704.5542 - mae: 5704.5542\n",
            "Epoch 38/350\n",
            "34/34 [==============================] - 0s 3ms/step - loss: 5595.7490 - mae: 5595.7490\n",
            "Epoch 39/350\n",
            "34/34 [==============================] - 0s 4ms/step - loss: 5464.0249 - mae: 5464.0249\n",
            "Epoch 40/350\n",
            "34/34 [==============================] - 0s 2ms/step - loss: 5301.7202 - mae: 5301.7202\n",
            "Epoch 41/350\n",
            "34/34 [==============================] - 0s 2ms/step - loss: 5122.1440 - mae: 5122.1440\n",
            "Epoch 42/350\n",
            "34/34 [==============================] - 0s 2ms/step - loss: 4883.7100 - mae: 4883.7100\n",
            "Epoch 43/350\n",
            "34/34 [==============================] - 0s 2ms/step - loss: 4627.2690 - mae: 4627.2690\n",
            "Epoch 44/350\n",
            "34/34 [==============================] - 0s 2ms/step - loss: 4307.5942 - mae: 4307.5942\n",
            "Epoch 45/350\n",
            "34/34 [==============================] - 0s 3ms/step - loss: 4039.2996 - mae: 4039.2996\n",
            "Epoch 46/350\n",
            "34/34 [==============================] - 0s 2ms/step - loss: 3902.7532 - mae: 3902.7532\n",
            "Epoch 47/350\n",
            "34/34 [==============================] - 0s 2ms/step - loss: 3882.8967 - mae: 3882.8967\n",
            "Epoch 48/350\n",
            "34/34 [==============================] - 0s 2ms/step - loss: 3829.0132 - mae: 3829.0132\n",
            "Epoch 49/350\n",
            "34/34 [==============================] - 0s 3ms/step - loss: 3823.3701 - mae: 3823.3701\n",
            "Epoch 50/350\n",
            "34/34 [==============================] - 0s 2ms/step - loss: 3811.1460 - mae: 3811.1460\n",
            "Epoch 51/350\n",
            "34/34 [==============================] - 0s 2ms/step - loss: 3796.0332 - mae: 3796.0332\n",
            "Epoch 52/350\n",
            "34/34 [==============================] - 0s 2ms/step - loss: 3786.6719 - mae: 3786.6719\n",
            "Epoch 53/350\n",
            "34/34 [==============================] - 0s 2ms/step - loss: 3804.7080 - mae: 3804.7080\n",
            "Epoch 54/350\n",
            "34/34 [==============================] - 0s 2ms/step - loss: 3802.2988 - mae: 3802.2988\n",
            "Epoch 55/350\n",
            "34/34 [==============================] - 0s 2ms/step - loss: 3768.7644 - mae: 3768.7644\n",
            "Epoch 56/350\n",
            "34/34 [==============================] - 0s 2ms/step - loss: 3763.2026 - mae: 3763.2026\n",
            "Epoch 57/350\n",
            "34/34 [==============================] - 0s 3ms/step - loss: 3757.0811 - mae: 3757.0811\n",
            "Epoch 58/350\n",
            "34/34 [==============================] - 0s 2ms/step - loss: 3762.8894 - mae: 3762.8894\n",
            "Epoch 59/350\n",
            "34/34 [==============================] - 0s 3ms/step - loss: 3758.2239 - mae: 3758.2239\n",
            "Epoch 60/350\n",
            "34/34 [==============================] - 0s 3ms/step - loss: 3744.2117 - mae: 3744.2117\n",
            "Epoch 61/350\n",
            "34/34 [==============================] - 0s 4ms/step - loss: 3740.6829 - mae: 3740.6829\n",
            "Epoch 62/350\n",
            "34/34 [==============================] - 0s 2ms/step - loss: 3752.7690 - mae: 3752.7690\n",
            "Epoch 63/350\n",
            "34/34 [==============================] - 0s 2ms/step - loss: 3760.1641 - mae: 3760.1641\n",
            "Epoch 64/350\n",
            "34/34 [==============================] - 0s 2ms/step - loss: 3725.5989 - mae: 3725.5989\n",
            "Epoch 65/350\n",
            "34/34 [==============================] - 0s 4ms/step - loss: 3725.9106 - mae: 3725.9106\n",
            "Epoch 66/350\n",
            "34/34 [==============================] - 0s 5ms/step - loss: 3721.7375 - mae: 3721.7375\n",
            "Epoch 67/350\n",
            "34/34 [==============================] - 0s 4ms/step - loss: 3705.8564 - mae: 3705.8564\n",
            "Epoch 68/350\n",
            "34/34 [==============================] - 0s 2ms/step - loss: 3730.6248 - mae: 3730.6248\n",
            "Epoch 69/350\n",
            "34/34 [==============================] - 0s 2ms/step - loss: 3733.0237 - mae: 3733.0237\n",
            "Epoch 70/350\n",
            "34/34 [==============================] - 0s 4ms/step - loss: 3696.6313 - mae: 3696.6313\n",
            "Epoch 71/350\n",
            "34/34 [==============================] - 0s 4ms/step - loss: 3692.6448 - mae: 3692.6448\n",
            "Epoch 72/350\n",
            "34/34 [==============================] - 0s 4ms/step - loss: 3691.8604 - mae: 3691.8604\n",
            "Epoch 73/350\n",
            "34/34 [==============================] - 0s 2ms/step - loss: 3685.6201 - mae: 3685.6201\n",
            "Epoch 74/350\n",
            "34/34 [==============================] - 0s 2ms/step - loss: 3699.8589 - mae: 3699.8589\n",
            "Epoch 75/350\n",
            "34/34 [==============================] - 0s 3ms/step - loss: 3675.4482 - mae: 3675.4482\n",
            "Epoch 76/350\n",
            "34/34 [==============================] - 0s 5ms/step - loss: 3675.1218 - mae: 3675.1218\n",
            "Epoch 77/350\n",
            "34/34 [==============================] - 0s 5ms/step - loss: 3664.4385 - mae: 3664.4385\n",
            "Epoch 78/350\n",
            "34/34 [==============================] - 0s 4ms/step - loss: 3678.1357 - mae: 3678.1357\n",
            "Epoch 79/350\n",
            "34/34 [==============================] - 0s 3ms/step - loss: 3686.6653 - mae: 3686.6653\n",
            "Epoch 80/350\n",
            "34/34 [==============================] - 0s 5ms/step - loss: 3664.7754 - mae: 3664.7754\n",
            "Epoch 81/350\n",
            "34/34 [==============================] - 0s 6ms/step - loss: 3663.8662 - mae: 3663.8662\n",
            "Epoch 82/350\n",
            "34/34 [==============================] - 0s 4ms/step - loss: 3683.0249 - mae: 3683.0249\n",
            "Epoch 83/350\n",
            "34/34 [==============================] - 0s 5ms/step - loss: 3645.5881 - mae: 3645.5881\n",
            "Epoch 84/350\n",
            "34/34 [==============================] - 0s 6ms/step - loss: 3675.6211 - mae: 3675.6211\n",
            "Epoch 85/350\n",
            "34/34 [==============================] - 0s 3ms/step - loss: 3625.1580 - mae: 3625.1580\n",
            "Epoch 86/350\n",
            "34/34 [==============================] - 0s 6ms/step - loss: 3638.5273 - mae: 3638.5273\n",
            "Epoch 87/350\n",
            "34/34 [==============================] - 0s 5ms/step - loss: 3611.4072 - mae: 3611.4072\n",
            "Epoch 88/350\n",
            "34/34 [==============================] - 0s 3ms/step - loss: 3619.0024 - mae: 3619.0024\n",
            "Epoch 89/350\n",
            "34/34 [==============================] - 0s 5ms/step - loss: 3639.9626 - mae: 3639.9626\n",
            "Epoch 90/350\n",
            "34/34 [==============================] - 0s 4ms/step - loss: 3608.8491 - mae: 3608.8491\n",
            "Epoch 91/350\n",
            "34/34 [==============================] - 0s 4ms/step - loss: 3601.3545 - mae: 3601.3545\n",
            "Epoch 92/350\n",
            "34/34 [==============================] - 0s 5ms/step - loss: 3605.7976 - mae: 3605.7976\n",
            "Epoch 93/350\n",
            "34/34 [==============================] - 0s 7ms/step - loss: 3613.1960 - mae: 3613.1960\n",
            "Epoch 94/350\n",
            "34/34 [==============================] - 0s 6ms/step - loss: 3578.2754 - mae: 3578.2754\n",
            "Epoch 95/350\n",
            "34/34 [==============================] - 0s 6ms/step - loss: 3571.2407 - mae: 3571.2407\n",
            "Epoch 96/350\n",
            "34/34 [==============================] - 0s 4ms/step - loss: 3586.3970 - mae: 3586.3970\n",
            "Epoch 97/350\n",
            "34/34 [==============================] - 0s 5ms/step - loss: 3567.1782 - mae: 3567.1782\n",
            "Epoch 98/350\n",
            "34/34 [==============================] - 0s 11ms/step - loss: 3600.2644 - mae: 3600.2644\n",
            "Epoch 99/350\n",
            "34/34 [==============================] - 0s 9ms/step - loss: 3571.5217 - mae: 3571.5217\n",
            "Epoch 100/350\n",
            "34/34 [==============================] - 0s 8ms/step - loss: 3547.9121 - mae: 3547.9121\n",
            "Epoch 101/350\n",
            "34/34 [==============================] - 0s 7ms/step - loss: 3598.7063 - mae: 3598.7063\n",
            "Epoch 102/350\n",
            "34/34 [==============================] - 0s 8ms/step - loss: 3566.3560 - mae: 3566.3560\n",
            "Epoch 103/350\n",
            "34/34 [==============================] - 0s 8ms/step - loss: 3551.2563 - mae: 3551.2563\n",
            "Epoch 104/350\n",
            "34/34 [==============================] - 0s 7ms/step - loss: 3532.3792 - mae: 3532.3792\n",
            "Epoch 105/350\n",
            "34/34 [==============================] - 0s 5ms/step - loss: 3542.4490 - mae: 3542.4490\n",
            "Epoch 106/350\n",
            "34/34 [==============================] - 0s 5ms/step - loss: 3546.1729 - mae: 3546.1729\n",
            "Epoch 107/350\n",
            "34/34 [==============================] - 0s 2ms/step - loss: 3508.3735 - mae: 3508.3735\n",
            "Epoch 108/350\n",
            "34/34 [==============================] - 0s 2ms/step - loss: 3513.4756 - mae: 3513.4756\n",
            "Epoch 109/350\n",
            "34/34 [==============================] - 0s 3ms/step - loss: 3588.2397 - mae: 3588.2397\n",
            "Epoch 110/350\n",
            "34/34 [==============================] - 0s 3ms/step - loss: 3511.4688 - mae: 3511.4688\n",
            "Epoch 111/350\n",
            "34/34 [==============================] - 0s 2ms/step - loss: 3517.6912 - mae: 3517.6912\n",
            "Epoch 112/350\n",
            "34/34 [==============================] - 0s 2ms/step - loss: 3512.2224 - mae: 3512.2224\n",
            "Epoch 113/350\n",
            "34/34 [==============================] - 0s 3ms/step - loss: 3596.5750 - mae: 3596.5750\n",
            "Epoch 114/350\n",
            "34/34 [==============================] - 0s 4ms/step - loss: 3511.5911 - mae: 3511.5911\n",
            "Epoch 115/350\n",
            "34/34 [==============================] - 0s 4ms/step - loss: 3528.5227 - mae: 3528.5227\n",
            "Epoch 116/350\n",
            "34/34 [==============================] - 0s 4ms/step - loss: 3549.7644 - mae: 3549.7644\n",
            "Epoch 117/350\n",
            "34/34 [==============================] - 0s 4ms/step - loss: 3495.8735 - mae: 3495.8735\n",
            "Epoch 118/350\n",
            "34/34 [==============================] - 0s 5ms/step - loss: 3506.0320 - mae: 3506.0320\n",
            "Epoch 119/350\n",
            "34/34 [==============================] - 0s 3ms/step - loss: 3497.6304 - mae: 3497.6304\n",
            "Epoch 120/350\n",
            "34/34 [==============================] - 0s 3ms/step - loss: 3490.0583 - mae: 3490.0583\n",
            "Epoch 121/350\n",
            "34/34 [==============================] - 0s 4ms/step - loss: 3486.5557 - mae: 3486.5557\n",
            "Epoch 122/350\n",
            "34/34 [==============================] - 0s 3ms/step - loss: 3499.2146 - mae: 3499.2146\n",
            "Epoch 123/350\n",
            "34/34 [==============================] - 0s 3ms/step - loss: 3505.1626 - mae: 3505.1626\n",
            "Epoch 124/350\n",
            "34/34 [==============================] - 0s 3ms/step - loss: 3530.8174 - mae: 3530.8174\n",
            "Epoch 125/350\n",
            "34/34 [==============================] - 0s 4ms/step - loss: 3499.4668 - mae: 3499.4668\n",
            "Epoch 126/350\n",
            "34/34 [==============================] - 0s 5ms/step - loss: 3486.9805 - mae: 3486.9805\n",
            "Epoch 127/350\n",
            "34/34 [==============================] - 0s 4ms/step - loss: 3493.8782 - mae: 3493.8782\n",
            "Epoch 128/350\n",
            "34/34 [==============================] - 0s 2ms/step - loss: 3548.8975 - mae: 3548.8975\n",
            "Epoch 129/350\n",
            "34/34 [==============================] - 0s 2ms/step - loss: 3519.8674 - mae: 3519.8674\n",
            "Epoch 130/350\n",
            "34/34 [==============================] - 0s 3ms/step - loss: 3554.9788 - mae: 3554.9788\n",
            "Epoch 131/350\n",
            "34/34 [==============================] - 0s 2ms/step - loss: 3485.4438 - mae: 3485.4438\n",
            "Epoch 132/350\n",
            "34/34 [==============================] - 0s 2ms/step - loss: 3515.8350 - mae: 3515.8350\n",
            "Epoch 133/350\n",
            "34/34 [==============================] - 0s 2ms/step - loss: 3493.6738 - mae: 3493.6738\n",
            "Epoch 134/350\n",
            "34/34 [==============================] - 0s 4ms/step - loss: 3488.9265 - mae: 3488.9265\n",
            "Epoch 135/350\n",
            "34/34 [==============================] - 0s 8ms/step - loss: 3499.0198 - mae: 3499.0198\n",
            "Epoch 136/350\n",
            "34/34 [==============================] - 0s 7ms/step - loss: 3483.1814 - mae: 3483.1814\n",
            "Epoch 137/350\n",
            "34/34 [==============================] - 0s 5ms/step - loss: 3494.6372 - mae: 3494.6372\n",
            "Epoch 138/350\n",
            "34/34 [==============================] - 0s 7ms/step - loss: 3501.5466 - mae: 3501.5466\n",
            "Epoch 139/350\n",
            "34/34 [==============================] - 0s 6ms/step - loss: 3513.4292 - mae: 3513.4292\n",
            "Epoch 140/350\n",
            "34/34 [==============================] - 0s 6ms/step - loss: 3500.5247 - mae: 3500.5247\n",
            "Epoch 141/350\n",
            "34/34 [==============================] - 0s 5ms/step - loss: 3502.4944 - mae: 3502.4944\n",
            "Epoch 142/350\n",
            "34/34 [==============================] - 0s 5ms/step - loss: 3525.1531 - mae: 3525.1531\n",
            "Epoch 143/350\n",
            "34/34 [==============================] - 0s 6ms/step - loss: 3483.8450 - mae: 3483.8450\n",
            "Epoch 144/350\n",
            "34/34 [==============================] - 0s 7ms/step - loss: 3486.3086 - mae: 3486.3086\n",
            "Epoch 145/350\n",
            "34/34 [==============================] - 0s 5ms/step - loss: 3497.7690 - mae: 3497.7690\n",
            "Epoch 146/350\n",
            "34/34 [==============================] - 0s 5ms/step - loss: 3483.3989 - mae: 3483.3989\n",
            "Epoch 147/350\n",
            "34/34 [==============================] - 0s 6ms/step - loss: 3529.4236 - mae: 3529.4236\n",
            "Epoch 148/350\n",
            "34/34 [==============================] - 0s 4ms/step - loss: 3489.9761 - mae: 3489.9761\n",
            "Epoch 149/350\n",
            "34/34 [==============================] - 0s 11ms/step - loss: 3494.0566 - mae: 3494.0566\n",
            "Epoch 150/350\n",
            "34/34 [==============================] - 0s 10ms/step - loss: 3486.1060 - mae: 3486.1060\n",
            "Epoch 151/350\n",
            "34/34 [==============================] - 0s 8ms/step - loss: 3511.0574 - mae: 3511.0574\n",
            "Epoch 152/350\n",
            "34/34 [==============================] - 0s 5ms/step - loss: 3534.1384 - mae: 3534.1384\n",
            "Epoch 153/350\n",
            "34/34 [==============================] - 0s 4ms/step - loss: 3516.1975 - mae: 3516.1975\n",
            "Epoch 154/350\n",
            "34/34 [==============================] - 0s 5ms/step - loss: 3506.1785 - mae: 3506.1785\n",
            "Epoch 155/350\n",
            "34/34 [==============================] - 0s 4ms/step - loss: 3496.3049 - mae: 3496.3049\n",
            "Epoch 156/350\n",
            "34/34 [==============================] - 0s 3ms/step - loss: 3492.1311 - mae: 3492.1311\n",
            "Epoch 157/350\n",
            "34/34 [==============================] - 0s 4ms/step - loss: 3489.8418 - mae: 3489.8418\n",
            "Epoch 158/350\n",
            "34/34 [==============================] - 0s 4ms/step - loss: 3480.9736 - mae: 3480.9736\n",
            "Epoch 159/350\n",
            "34/34 [==============================] - 0s 5ms/step - loss: 3479.9456 - mae: 3479.9456\n",
            "Epoch 160/350\n",
            "34/34 [==============================] - 0s 4ms/step - loss: 3523.9702 - mae: 3523.9702\n",
            "Epoch 161/350\n",
            "34/34 [==============================] - 0s 5ms/step - loss: 3492.2124 - mae: 3492.2124\n",
            "Epoch 162/350\n",
            "34/34 [==============================] - 0s 5ms/step - loss: 3482.0137 - mae: 3482.0137\n",
            "Epoch 163/350\n",
            "34/34 [==============================] - 0s 4ms/step - loss: 3485.9543 - mae: 3485.9543\n",
            "Epoch 164/350\n",
            "34/34 [==============================] - 0s 5ms/step - loss: 3512.9724 - mae: 3512.9724\n",
            "Epoch 165/350\n",
            "34/34 [==============================] - 0s 5ms/step - loss: 3508.6287 - mae: 3508.6287\n",
            "Epoch 166/350\n",
            "34/34 [==============================] - 0s 5ms/step - loss: 3485.3933 - mae: 3485.3933\n",
            "Epoch 167/350\n",
            "34/34 [==============================] - 0s 5ms/step - loss: 3486.8477 - mae: 3486.8477\n",
            "Epoch 168/350\n",
            "34/34 [==============================] - 0s 4ms/step - loss: 3498.4731 - mae: 3498.4731\n",
            "Epoch 169/350\n",
            "34/34 [==============================] - 0s 6ms/step - loss: 3486.0244 - mae: 3486.0244\n",
            "Epoch 170/350\n",
            "34/34 [==============================] - 0s 5ms/step - loss: 3487.5974 - mae: 3487.5974\n",
            "Epoch 171/350\n",
            "34/34 [==============================] - 0s 6ms/step - loss: 3491.5205 - mae: 3491.5205\n",
            "Epoch 172/350\n",
            "34/34 [==============================] - 0s 6ms/step - loss: 3496.8782 - mae: 3496.8782\n",
            "Epoch 173/350\n",
            "34/34 [==============================] - 0s 5ms/step - loss: 3487.9692 - mae: 3487.9692\n",
            "Epoch 174/350\n",
            "34/34 [==============================] - 0s 6ms/step - loss: 3493.1785 - mae: 3493.1785\n",
            "Epoch 175/350\n",
            "34/34 [==============================] - 0s 5ms/step - loss: 3487.3789 - mae: 3487.3789\n",
            "Epoch 176/350\n",
            "34/34 [==============================] - 0s 6ms/step - loss: 3484.5134 - mae: 3484.5134\n",
            "Epoch 177/350\n",
            "34/34 [==============================] - 0s 5ms/step - loss: 3493.5376 - mae: 3493.5376\n",
            "Epoch 178/350\n",
            "34/34 [==============================] - 0s 7ms/step - loss: 3480.4480 - mae: 3480.4480\n",
            "Epoch 179/350\n",
            "34/34 [==============================] - 0s 7ms/step - loss: 3509.8223 - mae: 3509.8223\n",
            "Epoch 180/350\n",
            "34/34 [==============================] - 0s 6ms/step - loss: 3484.8015 - mae: 3484.8015\n",
            "Epoch 181/350\n",
            "34/34 [==============================] - 0s 6ms/step - loss: 3498.8599 - mae: 3498.8599\n",
            "Epoch 182/350\n",
            "34/34 [==============================] - 0s 5ms/step - loss: 3515.9570 - mae: 3515.9570\n",
            "Epoch 183/350\n",
            "34/34 [==============================] - 0s 5ms/step - loss: 3502.3413 - mae: 3502.3413\n",
            "Epoch 184/350\n",
            "34/34 [==============================] - 0s 6ms/step - loss: 3530.3000 - mae: 3530.3000\n",
            "Epoch 185/350\n",
            "34/34 [==============================] - 0s 6ms/step - loss: 3493.4629 - mae: 3493.4629\n",
            "Epoch 186/350\n",
            "34/34 [==============================] - 0s 6ms/step - loss: 3536.9348 - mae: 3536.9348\n",
            "Epoch 187/350\n",
            "34/34 [==============================] - 0s 6ms/step - loss: 3503.0398 - mae: 3503.0398\n",
            "Epoch 188/350\n",
            "34/34 [==============================] - 0s 6ms/step - loss: 3490.7126 - mae: 3490.7126\n",
            "Epoch 189/350\n",
            "34/34 [==============================] - 0s 6ms/step - loss: 3490.0679 - mae: 3490.0679\n",
            "Epoch 190/350\n",
            "34/34 [==============================] - 0s 4ms/step - loss: 3487.9668 - mae: 3487.9668\n",
            "Epoch 191/350\n",
            "34/34 [==============================] - 0s 4ms/step - loss: 3475.1526 - mae: 3475.1526\n",
            "Epoch 192/350\n",
            "34/34 [==============================] - 0s 6ms/step - loss: 3509.3499 - mae: 3509.3499\n",
            "Epoch 193/350\n",
            "34/34 [==============================] - 0s 6ms/step - loss: 3509.7166 - mae: 3509.7166\n",
            "Epoch 194/350\n",
            "34/34 [==============================] - 0s 4ms/step - loss: 3500.5999 - mae: 3500.5999\n",
            "Epoch 195/350\n",
            "34/34 [==============================] - 0s 4ms/step - loss: 3486.6802 - mae: 3486.6802\n",
            "Epoch 196/350\n",
            "34/34 [==============================] - 0s 5ms/step - loss: 3509.7930 - mae: 3509.7930\n",
            "Epoch 197/350\n",
            "34/34 [==============================] - 0s 4ms/step - loss: 3520.7607 - mae: 3520.7607\n",
            "Epoch 198/350\n",
            "34/34 [==============================] - 0s 4ms/step - loss: 3483.6790 - mae: 3483.6790\n",
            "Epoch 199/350\n",
            "34/34 [==============================] - 0s 3ms/step - loss: 3479.6875 - mae: 3479.6875\n",
            "Epoch 200/350\n",
            "34/34 [==============================] - 0s 5ms/step - loss: 3489.8120 - mae: 3489.8120\n",
            "Epoch 201/350\n",
            "34/34 [==============================] - 0s 4ms/step - loss: 3538.2100 - mae: 3538.2100\n",
            "Epoch 202/350\n",
            "34/34 [==============================] - 0s 4ms/step - loss: 3519.2681 - mae: 3519.2681\n",
            "Epoch 203/350\n",
            "34/34 [==============================] - 0s 4ms/step - loss: 3505.5088 - mae: 3505.5088\n",
            "Epoch 204/350\n",
            "34/34 [==============================] - 0s 4ms/step - loss: 3482.2280 - mae: 3482.2280\n",
            "Epoch 205/350\n",
            "34/34 [==============================] - 0s 4ms/step - loss: 3487.9299 - mae: 3487.9299\n",
            "Epoch 206/350\n",
            "34/34 [==============================] - 0s 4ms/step - loss: 3498.8940 - mae: 3498.8940\n",
            "Epoch 207/350\n",
            "34/34 [==============================] - 0s 4ms/step - loss: 3505.7825 - mae: 3505.7825\n",
            "Epoch 208/350\n",
            "34/34 [==============================] - 0s 3ms/step - loss: 3484.2080 - mae: 3484.2080\n",
            "Epoch 209/350\n",
            "34/34 [==============================] - 0s 5ms/step - loss: 3485.5242 - mae: 3485.5242\n",
            "Epoch 210/350\n",
            "34/34 [==============================] - 0s 4ms/step - loss: 3483.9221 - mae: 3483.9221\n",
            "Epoch 211/350\n",
            "34/34 [==============================] - 0s 3ms/step - loss: 3506.0349 - mae: 3506.0349\n",
            "Epoch 212/350\n",
            "34/34 [==============================] - 0s 4ms/step - loss: 3487.4797 - mae: 3487.4797\n",
            "Epoch 213/350\n",
            "34/34 [==============================] - 0s 4ms/step - loss: 3485.0852 - mae: 3485.0852\n",
            "Epoch 214/350\n",
            "34/34 [==============================] - 0s 5ms/step - loss: 3491.7930 - mae: 3491.7930\n",
            "Epoch 215/350\n",
            "34/34 [==============================] - 0s 4ms/step - loss: 3506.5540 - mae: 3506.5540\n",
            "Epoch 216/350\n",
            "34/34 [==============================] - 0s 5ms/step - loss: 3482.6770 - mae: 3482.6770\n",
            "Epoch 217/350\n",
            "34/34 [==============================] - 0s 4ms/step - loss: 3493.1743 - mae: 3493.1743\n",
            "Epoch 218/350\n",
            "34/34 [==============================] - 0s 4ms/step - loss: 3494.3379 - mae: 3494.3379\n",
            "Epoch 219/350\n",
            "34/34 [==============================] - 0s 4ms/step - loss: 3487.0425 - mae: 3487.0425\n",
            "Epoch 220/350\n",
            "34/34 [==============================] - 0s 4ms/step - loss: 3483.1096 - mae: 3483.1096\n",
            "Epoch 221/350\n",
            "34/34 [==============================] - 0s 3ms/step - loss: 3517.0808 - mae: 3517.0808\n",
            "Epoch 222/350\n",
            "34/34 [==============================] - 0s 2ms/step - loss: 3552.4775 - mae: 3552.4775\n",
            "Epoch 223/350\n",
            "34/34 [==============================] - 0s 3ms/step - loss: 3493.4001 - mae: 3493.4001\n",
            "Epoch 224/350\n",
            "34/34 [==============================] - 0s 4ms/step - loss: 3517.3333 - mae: 3517.3333\n",
            "Epoch 225/350\n",
            "34/34 [==============================] - 0s 4ms/step - loss: 3530.0244 - mae: 3530.0244\n",
            "Epoch 226/350\n",
            "34/34 [==============================] - 0s 5ms/step - loss: 3495.5940 - mae: 3495.5940\n",
            "Epoch 227/350\n",
            "34/34 [==============================] - 0s 4ms/step - loss: 3519.8052 - mae: 3519.8052\n",
            "Epoch 228/350\n",
            "34/34 [==============================] - 0s 7ms/step - loss: 3487.8926 - mae: 3487.8926\n",
            "Epoch 229/350\n",
            "34/34 [==============================] - 0s 7ms/step - loss: 3506.0024 - mae: 3506.0024\n",
            "Epoch 230/350\n",
            "34/34 [==============================] - 0s 4ms/step - loss: 3498.2354 - mae: 3498.2354\n",
            "Epoch 231/350\n",
            "34/34 [==============================] - 0s 7ms/step - loss: 3497.6804 - mae: 3497.6804\n",
            "Epoch 232/350\n",
            "34/34 [==============================] - 0s 4ms/step - loss: 3482.8630 - mae: 3482.8630\n",
            "Epoch 233/350\n",
            "34/34 [==============================] - 0s 4ms/step - loss: 3485.2710 - mae: 3485.2710\n",
            "Epoch 234/350\n",
            "34/34 [==============================] - 0s 6ms/step - loss: 3487.5005 - mae: 3487.5005\n",
            "Epoch 235/350\n",
            "34/34 [==============================] - 0s 4ms/step - loss: 3506.7156 - mae: 3506.7156\n",
            "Epoch 236/350\n",
            "34/34 [==============================] - 0s 5ms/step - loss: 3491.6094 - mae: 3491.6094\n",
            "Epoch 237/350\n",
            "34/34 [==============================] - 0s 6ms/step - loss: 3491.8682 - mae: 3491.8682\n",
            "Epoch 238/350\n",
            "34/34 [==============================] - 0s 6ms/step - loss: 3513.7532 - mae: 3513.7532\n",
            "Epoch 239/350\n",
            "34/34 [==============================] - 0s 5ms/step - loss: 3495.0190 - mae: 3495.0190\n",
            "Epoch 240/350\n",
            "34/34 [==============================] - 0s 6ms/step - loss: 3503.9878 - mae: 3503.9878\n",
            "Epoch 241/350\n",
            "34/34 [==============================] - 0s 6ms/step - loss: 3506.9346 - mae: 3506.9346\n",
            "Epoch 242/350\n",
            "34/34 [==============================] - 0s 4ms/step - loss: 3496.0298 - mae: 3496.0298\n",
            "Epoch 243/350\n",
            "34/34 [==============================] - 0s 5ms/step - loss: 3498.6667 - mae: 3498.6667\n",
            "Epoch 244/350\n",
            "34/34 [==============================] - 0s 6ms/step - loss: 3492.4502 - mae: 3492.4502\n",
            "Epoch 245/350\n",
            "34/34 [==============================] - 0s 5ms/step - loss: 3495.2319 - mae: 3495.2319\n",
            "Epoch 246/350\n",
            "34/34 [==============================] - 0s 6ms/step - loss: 3483.7368 - mae: 3483.7368\n",
            "Epoch 247/350\n",
            "34/34 [==============================] - 0s 6ms/step - loss: 3488.2874 - mae: 3488.2874\n",
            "Epoch 248/350\n",
            "34/34 [==============================] - 0s 3ms/step - loss: 3501.7195 - mae: 3501.7195\n",
            "Epoch 249/350\n",
            "34/34 [==============================] - 0s 2ms/step - loss: 3501.5005 - mae: 3501.5005\n",
            "Epoch 250/350\n",
            "34/34 [==============================] - 0s 2ms/step - loss: 3494.6711 - mae: 3494.6711\n",
            "Epoch 251/350\n",
            "34/34 [==============================] - 0s 2ms/step - loss: 3495.1272 - mae: 3495.1272\n",
            "Epoch 252/350\n",
            "34/34 [==============================] - 0s 3ms/step - loss: 3497.2021 - mae: 3497.2021\n",
            "Epoch 253/350\n",
            "34/34 [==============================] - 0s 2ms/step - loss: 3490.7527 - mae: 3490.7527\n",
            "Epoch 254/350\n",
            "34/34 [==============================] - 0s 2ms/step - loss: 3485.6602 - mae: 3485.6602\n",
            "Epoch 255/350\n",
            "34/34 [==============================] - 0s 3ms/step - loss: 3480.6404 - mae: 3480.6404\n",
            "Epoch 256/350\n",
            "34/34 [==============================] - 0s 2ms/step - loss: 3484.2939 - mae: 3484.2939\n",
            "Epoch 257/350\n",
            "34/34 [==============================] - 0s 4ms/step - loss: 3480.5845 - mae: 3480.5845\n",
            "Epoch 258/350\n",
            "34/34 [==============================] - 0s 4ms/step - loss: 3499.5156 - mae: 3499.5156\n",
            "Epoch 259/350\n",
            "34/34 [==============================] - 0s 4ms/step - loss: 3488.2046 - mae: 3488.2046\n",
            "Epoch 260/350\n",
            "34/34 [==============================] - 0s 4ms/step - loss: 3488.9639 - mae: 3488.9639\n",
            "Epoch 261/350\n",
            "34/34 [==============================] - 0s 4ms/step - loss: 3499.9534 - mae: 3499.9534\n",
            "Epoch 262/350\n",
            "34/34 [==============================] - 0s 3ms/step - loss: 3502.8604 - mae: 3502.8604\n",
            "Epoch 263/350\n",
            "34/34 [==============================] - 0s 3ms/step - loss: 3485.4868 - mae: 3485.4868\n",
            "Epoch 264/350\n",
            "34/34 [==============================] - 0s 3ms/step - loss: 3520.0994 - mae: 3520.0994\n",
            "Epoch 265/350\n",
            "34/34 [==============================] - 0s 4ms/step - loss: 3496.9517 - mae: 3496.9517\n",
            "Epoch 266/350\n",
            "34/34 [==============================] - 0s 4ms/step - loss: 3514.3191 - mae: 3514.3191\n",
            "Epoch 267/350\n",
            "34/34 [==============================] - 0s 3ms/step - loss: 3503.6165 - mae: 3503.6165\n",
            "Epoch 268/350\n",
            "34/34 [==============================] - 0s 3ms/step - loss: 3486.3003 - mae: 3486.3003\n",
            "Epoch 269/350\n",
            "34/34 [==============================] - 0s 3ms/step - loss: 3483.0054 - mae: 3483.0054\n",
            "Epoch 270/350\n",
            "34/34 [==============================] - 0s 3ms/step - loss: 3508.1440 - mae: 3508.1440\n",
            "Epoch 271/350\n",
            "34/34 [==============================] - 0s 4ms/step - loss: 3503.7000 - mae: 3503.7000\n",
            "Epoch 272/350\n",
            "34/34 [==============================] - 0s 4ms/step - loss: 3485.4211 - mae: 3485.4211\n",
            "Epoch 273/350\n",
            "34/34 [==============================] - 0s 4ms/step - loss: 3507.8098 - mae: 3507.8098\n",
            "Epoch 274/350\n",
            "34/34 [==============================] - 0s 3ms/step - loss: 3490.9128 - mae: 3490.9128\n",
            "Epoch 275/350\n",
            "34/34 [==============================] - 0s 3ms/step - loss: 3501.2429 - mae: 3501.2429\n",
            "Epoch 276/350\n",
            "34/34 [==============================] - 0s 4ms/step - loss: 3510.4963 - mae: 3510.4963\n",
            "Epoch 277/350\n",
            "34/34 [==============================] - 0s 3ms/step - loss: 3496.4229 - mae: 3496.4229\n",
            "Epoch 278/350\n",
            "34/34 [==============================] - 0s 4ms/step - loss: 3495.5278 - mae: 3495.5278\n",
            "Epoch 279/350\n",
            "34/34 [==============================] - 0s 4ms/step - loss: 3498.6934 - mae: 3498.6934\n",
            "Epoch 280/350\n",
            "34/34 [==============================] - 0s 4ms/step - loss: 3493.7065 - mae: 3493.7065\n",
            "Epoch 281/350\n",
            "34/34 [==============================] - 0s 3ms/step - loss: 3495.0188 - mae: 3495.0188\n",
            "Epoch 282/350\n",
            "34/34 [==============================] - 0s 3ms/step - loss: 3493.6938 - mae: 3493.6938\n",
            "Epoch 283/350\n",
            "34/34 [==============================] - 0s 3ms/step - loss: 3491.3782 - mae: 3491.3782\n",
            "Epoch 284/350\n",
            "34/34 [==============================] - 0s 5ms/step - loss: 3500.2500 - mae: 3500.2500\n",
            "Epoch 285/350\n",
            "34/34 [==============================] - 0s 7ms/step - loss: 3487.3127 - mae: 3487.3127\n",
            "Epoch 286/350\n",
            "34/34 [==============================] - 0s 8ms/step - loss: 3485.3030 - mae: 3485.3030\n",
            "Epoch 287/350\n",
            "34/34 [==============================] - 0s 7ms/step - loss: 3499.8306 - mae: 3499.8306\n",
            "Epoch 288/350\n",
            "34/34 [==============================] - 0s 5ms/step - loss: 3503.7549 - mae: 3503.7549\n",
            "Epoch 289/350\n",
            "34/34 [==============================] - 0s 4ms/step - loss: 3496.2432 - mae: 3496.2432\n",
            "Epoch 290/350\n",
            "34/34 [==============================] - 0s 8ms/step - loss: 3497.5679 - mae: 3497.5679\n",
            "Epoch 291/350\n",
            "34/34 [==============================] - 0s 4ms/step - loss: 3486.5090 - mae: 3486.5090\n",
            "Epoch 292/350\n",
            "34/34 [==============================] - 0s 7ms/step - loss: 3519.4739 - mae: 3519.4739\n",
            "Epoch 293/350\n",
            "34/34 [==============================] - 0s 7ms/step - loss: 3483.5149 - mae: 3483.5149\n",
            "Epoch 294/350\n",
            "34/34 [==============================] - 0s 4ms/step - loss: 3491.1892 - mae: 3491.1892\n",
            "Epoch 295/350\n",
            "34/34 [==============================] - 0s 4ms/step - loss: 3559.4175 - mae: 3559.4175\n",
            "Epoch 296/350\n",
            "34/34 [==============================] - 0s 4ms/step - loss: 3484.3225 - mae: 3484.3225\n",
            "Epoch 297/350\n",
            "34/34 [==============================] - 0s 2ms/step - loss: 3485.0354 - mae: 3485.0354\n",
            "Epoch 298/350\n",
            "34/34 [==============================] - 0s 2ms/step - loss: 3486.2234 - mae: 3486.2234\n",
            "Epoch 299/350\n",
            "34/34 [==============================] - 0s 6ms/step - loss: 3506.4617 - mae: 3506.4617\n",
            "Epoch 300/350\n",
            "34/34 [==============================] - 0s 6ms/step - loss: 3501.7722 - mae: 3501.7722\n",
            "Epoch 301/350\n",
            "34/34 [==============================] - 0s 4ms/step - loss: 3495.5452 - mae: 3495.5452\n",
            "Epoch 302/350\n",
            "34/34 [==============================] - 0s 2ms/step - loss: 3508.2947 - mae: 3508.2947\n",
            "Epoch 303/350\n",
            "34/34 [==============================] - 0s 2ms/step - loss: 3504.7185 - mae: 3504.7185\n",
            "Epoch 304/350\n",
            "34/34 [==============================] - 0s 4ms/step - loss: 3487.2766 - mae: 3487.2766\n",
            "Epoch 305/350\n",
            "34/34 [==============================] - 0s 4ms/step - loss: 3487.2419 - mae: 3487.2419\n",
            "Epoch 306/350\n",
            "34/34 [==============================] - 0s 6ms/step - loss: 3510.8115 - mae: 3510.8115\n",
            "Epoch 307/350\n",
            "34/34 [==============================] - 0s 2ms/step - loss: 3514.2222 - mae: 3514.2222\n",
            "Epoch 308/350\n",
            "34/34 [==============================] - 0s 2ms/step - loss: 3496.0271 - mae: 3496.0271\n",
            "Epoch 309/350\n",
            "34/34 [==============================] - 0s 3ms/step - loss: 3485.1602 - mae: 3485.1602\n",
            "Epoch 310/350\n",
            "34/34 [==============================] - 0s 5ms/step - loss: 3489.5232 - mae: 3489.5232\n",
            "Epoch 311/350\n",
            "34/34 [==============================] - 0s 6ms/step - loss: 3507.5271 - mae: 3507.5271\n",
            "Epoch 312/350\n",
            "34/34 [==============================] - 0s 2ms/step - loss: 3490.6104 - mae: 3490.6104\n",
            "Epoch 313/350\n",
            "34/34 [==============================] - 0s 3ms/step - loss: 3481.3376 - mae: 3481.3376\n",
            "Epoch 314/350\n",
            "34/34 [==============================] - 0s 5ms/step - loss: 3487.9553 - mae: 3487.9553\n",
            "Epoch 315/350\n",
            "34/34 [==============================] - 0s 4ms/step - loss: 3516.3572 - mae: 3516.3572\n",
            "Epoch 316/350\n",
            "34/34 [==============================] - 0s 6ms/step - loss: 3511.7798 - mae: 3511.7798\n",
            "Epoch 317/350\n",
            "34/34 [==============================] - 0s 4ms/step - loss: 3492.5728 - mae: 3492.5728\n",
            "Epoch 318/350\n",
            "34/34 [==============================] - 0s 4ms/step - loss: 3500.1631 - mae: 3500.1631\n",
            "Epoch 319/350\n",
            "34/34 [==============================] - 0s 2ms/step - loss: 3497.7373 - mae: 3497.7373\n",
            "Epoch 320/350\n",
            "34/34 [==============================] - 0s 2ms/step - loss: 3508.4856 - mae: 3508.4856\n",
            "Epoch 321/350\n",
            "34/34 [==============================] - 0s 5ms/step - loss: 3486.3723 - mae: 3486.3723\n",
            "Epoch 322/350\n",
            "34/34 [==============================] - 0s 4ms/step - loss: 3501.1785 - mae: 3501.1785\n",
            "Epoch 323/350\n",
            "34/34 [==============================] - 0s 4ms/step - loss: 3494.4792 - mae: 3494.4792\n",
            "Epoch 324/350\n",
            "34/34 [==============================] - 0s 3ms/step - loss: 3512.6357 - mae: 3512.6357\n",
            "Epoch 325/350\n",
            "34/34 [==============================] - 0s 3ms/step - loss: 3492.7249 - mae: 3492.7249\n",
            "Epoch 326/350\n",
            "34/34 [==============================] - 0s 4ms/step - loss: 3520.0830 - mae: 3520.0830\n",
            "Epoch 327/350\n",
            "34/34 [==============================] - 0s 4ms/step - loss: 3488.1750 - mae: 3488.1750\n",
            "Epoch 328/350\n",
            "34/34 [==============================] - 0s 4ms/step - loss: 3514.9980 - mae: 3514.9980\n",
            "Epoch 329/350\n",
            "34/34 [==============================] - 0s 3ms/step - loss: 3504.5552 - mae: 3504.5552\n",
            "Epoch 330/350\n",
            "34/34 [==============================] - 0s 4ms/step - loss: 3503.5398 - mae: 3503.5398\n",
            "Epoch 331/350\n",
            "34/34 [==============================] - 0s 5ms/step - loss: 3510.8406 - mae: 3510.8406\n",
            "Epoch 332/350\n",
            "34/34 [==============================] - 0s 6ms/step - loss: 3504.4353 - mae: 3504.4353\n",
            "Epoch 333/350\n",
            "34/34 [==============================] - 0s 4ms/step - loss: 3488.9326 - mae: 3488.9326\n",
            "Epoch 334/350\n",
            "34/34 [==============================] - 0s 4ms/step - loss: 3485.6836 - mae: 3485.6836\n",
            "Epoch 335/350\n",
            "34/34 [==============================] - 0s 3ms/step - loss: 3493.1003 - mae: 3493.1003\n",
            "Epoch 336/350\n",
            "34/34 [==============================] - 0s 3ms/step - loss: 3486.9309 - mae: 3486.9309\n",
            "Epoch 337/350\n",
            "34/34 [==============================] - 0s 5ms/step - loss: 3504.1228 - mae: 3504.1228\n",
            "Epoch 338/350\n",
            "34/34 [==============================] - 0s 4ms/step - loss: 3514.1497 - mae: 3514.1497\n",
            "Epoch 339/350\n",
            "34/34 [==============================] - 0s 4ms/step - loss: 3538.1448 - mae: 3538.1448\n",
            "Epoch 340/350\n",
            "34/34 [==============================] - 0s 2ms/step - loss: 3501.4475 - mae: 3501.4475\n",
            "Epoch 341/350\n",
            "34/34 [==============================] - 0s 3ms/step - loss: 3497.9004 - mae: 3497.9004\n",
            "Epoch 342/350\n",
            "34/34 [==============================] - 0s 5ms/step - loss: 3493.5405 - mae: 3493.5405\n",
            "Epoch 343/350\n",
            "34/34 [==============================] - 0s 5ms/step - loss: 3497.3987 - mae: 3497.3987\n",
            "Epoch 344/350\n",
            "34/34 [==============================] - 0s 5ms/step - loss: 3481.8247 - mae: 3481.8247\n",
            "Epoch 345/350\n",
            "34/34 [==============================] - 0s 4ms/step - loss: 3499.1533 - mae: 3499.1533\n",
            "Epoch 346/350\n",
            "34/34 [==============================] - 0s 6ms/step - loss: 3509.8989 - mae: 3509.8989\n",
            "Epoch 347/350\n",
            "34/34 [==============================] - 0s 4ms/step - loss: 3524.1860 - mae: 3524.1860\n",
            "Epoch 348/350\n",
            "34/34 [==============================] - 0s 5ms/step - loss: 3489.5073 - mae: 3489.5073\n",
            "Epoch 349/350\n",
            "34/34 [==============================] - 0s 4ms/step - loss: 3500.2896 - mae: 3500.2896\n",
            "Epoch 350/350\n",
            "34/34 [==============================] - 0s 4ms/step - loss: 3499.5078 - mae: 3499.5078\n"
          ]
        }
      ]
    },
    {
      "cell_type": "code",
      "source": [
        "# Evaluate the model\n",
        "insurance_model_4.evaluate(X_test, y_test)"
      ],
      "metadata": {
        "colab": {
          "base_uri": "https://localhost:8080/"
        },
        "id": "QGVeirlG0G_a",
        "outputId": "c253f6bf-f43e-46e0-9aae-0b8ae4c26d5e"
      },
      "execution_count": null,
      "outputs": [
        {
          "output_type": "stream",
          "name": "stdout",
          "text": [
            "9/9 [==============================] - 0s 4ms/step - loss: 3175.5422 - mae: 3175.5422\n"
          ]
        },
        {
          "output_type": "execute_result",
          "data": {
            "text/plain": [
              "[3175.542236328125, 3175.542236328125]"
            ]
          },
          "metadata": {},
          "execution_count": 141
        }
      ]
    },
    {
      "cell_type": "code",
      "source": [
        "# Plot history\n",
        "pd.DataFrame(history.history).plot()\n",
        "plt.ylabel(\"loss\")\n",
        "plt.xlabel('epochs')"
      ],
      "metadata": {
        "colab": {
          "base_uri": "https://localhost:8080/",
          "height": 466
        },
        "id": "nKsI-ksJ0PiS",
        "outputId": "1c1f3b56-9f9e-4aca-a78c-5574f8f32770"
      },
      "execution_count": null,
      "outputs": [
        {
          "output_type": "execute_result",
          "data": {
            "text/plain": [
              "Text(0.5, 0, 'epochs')"
            ]
          },
          "metadata": {},
          "execution_count": 142
        },
        {
          "output_type": "display_data",
          "data": {
            "text/plain": [
              "<Figure size 640x480 with 1 Axes>"
            ],
            "image/png": "[encoded data removed]"
          },
          "metadata": {}
        }
      ]
    },
    {
      "cell_type": "markdown",
      "source": [
        "> 🤔 **Question:** How long should you train for?\n",
        "\n",
        "It depends. Really... it depends on problem you're working on. However, many people have asked this question before... so TensorFlow has a solution! It's called the [EarlyStopping Callback](https://www.tensorflow.org/api_docs/python/tf/keras/callbacks/EarlyStopping), which is TensforFlow component you can add to your model to stop training once it stops improving a certain metric."
      ],
      "metadata": {
        "id": "0dskFIyR09EP"
      }
    },
    {
      "cell_type": "markdown",
      "source": [
        "## Preprocessing data (normalization and standardization)\n",
        "\n",
        "In terms of scaling values, neural networks tend to prefer normalization.\n",
        "\n",
        "If you're not sure on which to use, you could try both and see which performs better."
      ],
      "metadata": {
        "id": "I63Bn0r_0jbF"
      }
    },
    {
      "cell_type": "code",
      "source": [
        "X_train, y_train"
      ],
      "metadata": {
        "colab": {
          "base_uri": "https://localhost:8080/"
        },
        "id": "y0BMn7kcEbMB",
        "outputId": "953d5da4-16c1-4592-c639-39443ee77e27"
      },
      "execution_count": null,
      "outputs": [
        {
          "output_type": "execute_result",
          "data": {
            "text/plain": [
              "(      age     bmi  children  sex_female  sex_male  smoker_no  smoker_yes  \\\n",
              " 560    46  19.950         2           1         0          1           0   \n",
              " 1285   47  24.320         0           1         0          1           0   \n",
              " 1142   52  24.860         0           1         0          1           0   \n",
              " 969    39  34.320         5           1         0          1           0   \n",
              " 486    54  21.470         3           1         0          1           0   \n",
              " ...   ...     ...       ...         ...       ...        ...         ...   \n",
              " 1095   18  31.350         4           1         0          1           0   \n",
              " 1130   39  23.870         5           1         0          1           0   \n",
              " 1294   58  25.175         0           0         1          1           0   \n",
              " 860    37  47.600         2           1         0          0           1   \n",
              " 1126   55  29.900         0           0         1          1           0   \n",
              " \n",
              "       region_northeast  region_northwest  region_southeast  region_southwest  \n",
              " 560                  0                 1                 0                 0  \n",
              " 1285                 1                 0                 0                 0  \n",
              " 1142                 0                 0                 1                 0  \n",
              " 969                  0                 0                 1                 0  \n",
              " 486                  0                 1                 0                 0  \n",
              " ...                ...               ...               ...               ...  \n",
              " 1095                 1                 0                 0                 0  \n",
              " 1130                 0                 0                 1                 0  \n",
              " 1294                 1                 0                 0                 0  \n",
              " 860                  0                 0                 0                 1  \n",
              " 1126                 0                 0                 0                 1  \n",
              " \n",
              " [1070 rows x 11 columns],\n",
              " 560      9193.83850\n",
              " 1285     8534.67180\n",
              " 1142    27117.99378\n",
              " 969      8596.82780\n",
              " 486     12475.35130\n",
              "            ...     \n",
              " 1095     4561.18850\n",
              " 1130     8582.30230\n",
              " 1294    11931.12525\n",
              " 860     46113.51100\n",
              " 1126    10214.63600\n",
              " Name: charges, Length: 1070, dtype: float64)"
            ]
          },
          "metadata": {},
          "execution_count": 143
        }
      ]
    },
    {
      "cell_type": "code",
      "source": [
        "X[\"age\"].plot(kind=\"hist\")"
      ],
      "metadata": {
        "colab": {
          "base_uri": "https://localhost:8080/",
          "height": 447
        },
        "id": "d_28HCa0El_W",
        "outputId": "1a15dcf5-7e29-4f64-d903-5316f4eac9dd"
      },
      "execution_count": null,
      "outputs": [
        {
          "output_type": "execute_result",
          "data": {
            "text/plain": [
              "<Axes: ylabel='Frequency'>"
            ]
          },
          "metadata": {},
          "execution_count": 144
        },
        {
          "output_type": "display_data",
          "data": {
            "text/plain": [
              "<Figure size 640x480 with 1 Axes>"
            ],
            "image/png": "[encoded data removed]"
          },
          "metadata": {}
        }
      ]
    },
    {
      "cell_type": "code",
      "source": [
        "X[\"bmi\"].plot(kind=\"hist\")"
      ],
      "metadata": {
        "colab": {
          "base_uri": "https://localhost:8080/",
          "height": 447
        },
        "id": "WbNfdE-_Fk8S",
        "outputId": "2e7508ab-c8d0-425a-a922-270c5c84f8d4"
      },
      "execution_count": null,
      "outputs": [
        {
          "output_type": "execute_result",
          "data": {
            "text/plain": [
              "<Axes: ylabel='Frequency'>"
            ]
          },
          "metadata": {},
          "execution_count": 145
        },
        {
          "output_type": "display_data",
          "data": {
            "text/plain": [
              "<Figure size 640x480 with 1 Axes>"
            ],
            "image/png": "[encoded data removed]"
          },
          "metadata": {}
        }
      ]
    },
    {
      "cell_type": "code",
      "source": [
        "X[\"children\"].value_counts()"
      ],
      "metadata": {
        "colab": {
          "base_uri": "https://localhost:8080/"
        },
        "id": "QrPvqsaUFpja",
        "outputId": "989c33b4-fdad-4cc0-cdab-152154a5a005"
      },
      "execution_count": null,
      "outputs": [
        {
          "output_type": "execute_result",
          "data": {
            "text/plain": [
              "0    574\n",
              "1    324\n",
              "2    240\n",
              "3    157\n",
              "4     25\n",
              "5     18\n",
              "Name: children, dtype: int64"
            ]
          },
          "metadata": {},
          "execution_count": 146
        }
      ]
    },
    {
      "cell_type": "code",
      "source": [
        "import pandas as pd\n",
        "import matplotlib.pyplot as plt\n",
        "import tensorflow as tf"
      ],
      "metadata": {
        "id": "Qpu2OM8lFtwD"
      },
      "execution_count": null,
      "outputs": []
    },
    {
      "cell_type": "code",
      "source": [
        "# Read in the insurance dataframe\n",
        "insurance = pd.read_csv(\"https://raw.githubusercontent.com/stedy/Machine-Learning-with-R-datasets/master/insurance.csv\")"
      ],
      "metadata": {
        "id": "FEPCM4tiG6ew"
      },
      "execution_count": null,
      "outputs": []
    },
    {
      "cell_type": "code",
      "source": [
        "insurance"
      ],
      "metadata": {
        "colab": {
          "base_uri": "https://localhost:8080/",
          "height": 423
        },
        "id": "EspS3QW9HJkM",
        "outputId": "69a01ba9-aa92-43d6-d7c7-94cbb8629362"
      },
      "execution_count": null,
      "outputs": [
        {
          "output_type": "execute_result",
          "data": {
            "text/plain": [
              "      age     sex     bmi  children smoker     region      charges\n",
              "0      19  female  27.900         0    yes  southwest  16884.92400\n",
              "1      18    male  33.770         1     no  southeast   1725.55230\n",
              "2      28    male  33.000         3     no  southeast   4449.46200\n",
              "3      33    male  22.705         0     no  northwest  21984.47061\n",
              "4      32    male  28.880         0     no  northwest   3866.85520\n",
              "...   ...     ...     ...       ...    ...        ...          ...\n",
              "1333   50    male  30.970         3     no  northwest  10600.54830\n",
              "1334   18  female  31.920         0     no  northeast   2205.98080\n",
              "1335   18  female  36.850         0     no  southeast   1629.83350\n",
              "1336   21  female  25.800         0     no  southwest   2007.94500\n",
              "1337   61  female  29.070         0    yes  northwest  29141.36030\n",
              "\n",
              "[1338 rows x 7 columns]"
            ],
            "text/html": [
              "\n",
              "  <div id=\"df-8f405f7b-c4bc-4d0f-816e-295415790d53\">\n",
              "    <div class=\"colab-df-container\">\n",
              "      <div>\n",
              "<style scoped>\n",
              "    .dataframe tbody tr th:only-of-type {\n",
              "        vertical-align: middle;\n",
              "    }\n",
              "\n",
              "    .dataframe tbody tr th {\n",
              "        vertical-align: top;\n",
              "    }\n",
              "\n",
              "    .dataframe thead th {\n",
              "        text-align: right;\n",
              "    }\n",
              "</style>\n",
              "<table border=\"1\" class=\"dataframe\">\n",
              "  <thead>\n",
              "    <tr style=\"text-align: right;\">\n",
              "      <th></th>\n",
              "      <th>age</th>\n",
              "      <th>sex</th>\n",
              "      <th>bmi</th>\n",
              "      <th>children</th>\n",
              "      <th>smoker</th>\n",
              "      <th>region</th>\n",
              "      <th>charges</th>\n",
              "    </tr>\n",
              "  </thead>\n",
              "  <tbody>\n",
              "    <tr>\n",
              "      <th>0</th>\n",
              "      <td>19</td>\n",
              "      <td>female</td>\n",
              "      <td>27.900</td>\n",
              "      <td>0</td>\n",
              "      <td>yes</td>\n",
              "      <td>southwest</td>\n",
              "      <td>16884.92400</td>\n",
              "    </tr>\n",
              "    <tr>\n",
              "      <th>1</th>\n",
              "      <td>18</td>\n",
              "      <td>male</td>\n",
              "      <td>33.770</td>\n",
              "      <td>1</td>\n",
              "      <td>no</td>\n",
              "      <td>southeast</td>\n",
              "      <td>1725.55230</td>\n",
              "    </tr>\n",
              "    <tr>\n",
              "      <th>2</th>\n",
              "      <td>28</td>\n",
              "      <td>male</td>\n",
              "      <td>33.000</td>\n",
              "      <td>3</td>\n",
              "      <td>no</td>\n",
              "      <td>southeast</td>\n",
              "      <td>4449.46200</td>\n",
              "    </tr>\n",
              "    <tr>\n",
              "      <th>3</th>\n",
              "      <td>33</td>\n",
              "      <td>male</td>\n",
              "      <td>22.705</td>\n",
              "      <td>0</td>\n",
              "      <td>no</td>\n",
              "      <td>northwest</td>\n",
              "      <td>21984.47061</td>\n",
              "    </tr>\n",
              "    <tr>\n",
              "      <th>4</th>\n",
              "      <td>32</td>\n",
              "      <td>male</td>\n",
              "      <td>28.880</td>\n",
              "      <td>0</td>\n",
              "      <td>no</td>\n",
              "      <td>northwest</td>\n",
              "      <td>3866.85520</td>\n",
              "    </tr>\n",
              "    <tr>\n",
              "      <th>...</th>\n",
              "      <td>...</td>\n",
              "      <td>...</td>\n",
              "      <td>...</td>\n",
              "      <td>...</td>\n",
              "      <td>...</td>\n",
              "      <td>...</td>\n",
              "      <td>...</td>\n",
              "    </tr>\n",
              "    <tr>\n",
              "      <th>1333</th>\n",
              "      <td>50</td>\n",
              "      <td>male</td>\n",
              "      <td>30.970</td>\n",
              "      <td>3</td>\n",
              "      <td>no</td>\n",
              "      <td>northwest</td>\n",
              "      <td>10600.54830</td>\n",
              "    </tr>\n",
              "    <tr>\n",
              "      <th>1334</th>\n",
              "      <td>18</td>\n",
              "      <td>female</td>\n",
              "      <td>31.920</td>\n",
              "      <td>0</td>\n",
              "      <td>no</td>\n",
              "      <td>northeast</td>\n",
              "      <td>2205.98080</td>\n",
              "    </tr>\n",
              "    <tr>\n",
              "      <th>1335</th>\n",
              "      <td>18</td>\n",
              "      <td>female</td>\n",
              "      <td>36.850</td>\n",
              "      <td>0</td>\n",
              "      <td>no</td>\n",
              "      <td>southeast</td>\n",
              "      <td>1629.83350</td>\n",
              "    </tr>\n",
              "    <tr>\n",
              "      <th>1336</th>\n",
              "      <td>21</td>\n",
              "      <td>female</td>\n",
              "      <td>25.800</td>\n",
              "      <td>0</td>\n",
              "      <td>no</td>\n",
              "      <td>southwest</td>\n",
              "      <td>2007.94500</td>\n",
              "    </tr>\n",
              "    <tr>\n",
              "      <th>1337</th>\n",
              "      <td>61</td>\n",
              "      <td>female</td>\n",
              "      <td>29.070</td>\n",
              "      <td>0</td>\n",
              "      <td>yes</td>\n",
              "      <td>northwest</td>\n",
              "      <td>29141.36030</td>\n",
              "    </tr>\n",
              "  </tbody>\n",
              "</table>\n",
              "<p>1338 rows × 7 columns</p>\n",
              "</div>\n",
              "      <button class=\"colab-df-convert\" onclick=\"convertToInteractive('df-8f405f7b-c4bc-4d0f-816e-295415790d53')\"\n",
              "              title=\"Convert this dataframe to an interactive table.\"\n",
              "              style=\"display:none;\">\n",
              "        \n",
              "  <svg xmlns=\"http://www.w3.org/2000/svg\" height=\"24px\"viewBox=\"0 0 24 24\"\n",
              "       width=\"24px\">\n",
              "    <path d=\"M0 0h24v24H0V0z\" fill=\"none\"/>\n",
              "    <path d=\"M18.56 5.44l.94 2.06.94-2.06 2.06-.94-2.06-.94-.94-2.06-.94 2.06-2.06.94zm-11 1L8.5 8.5l.94-2.06 2.06-.94-2.06-.94L8.5 2.5l-.94 2.06-2.06.94zm10 10l.94 2.06.94-2.06 2.06-.94-2.06-.94-.94-2.06-.94 2.06-2.06.94z\"/><path d=\"M17.41 7.96l-1.37-1.37c-.4-.4-.92-.59-1.43-.59-.52 0-1.04.2-1.43.59L10.3 9.45l-7.72 7.72c-.78.78-.78 2.05 0 2.83L4 21.41c.39.39.9.59 1.41.59.51 0 1.02-.2 1.41-.59l7.78-7.78 2.81-2.81c.8-.78.8-2.07 0-2.86zM5.41 20L4 18.59l7.72-7.72 1.47 1.35L5.41 20z\"/>\n",
              "  </svg>\n",
              "      </button>\n",
              "      \n",
              "  <style>\n",
              "    .colab-df-container {\n",
              "      display:flex;\n",
              "      flex-wrap:wrap;\n",
              "      gap: 12px;\n",
              "    }\n",
              "\n",
              "    .colab-df-convert {\n",
              "      background-color: #E8F0FE;\n",
              "      border: none;\n",
              "      border-radius: 50%;\n",
              "      cursor: pointer;\n",
              "      display: none;\n",
              "      fill: #1967D2;\n",
              "      height: 32px;\n",
              "      padding: 0 0 0 0;\n",
              "      width: 32px;\n",
              "    }\n",
              "\n",
              "    .colab-df-convert:hover {\n",
              "      background-color: #E2EBFA;\n",
              "      box-shadow: 0px 1px 2px rgba(60, 64, 67, 0.3), 0px 1px 3px 1px rgba(60, 64, 67, 0.15);\n",
              "      fill: #174EA6;\n",
              "    }\n",
              "\n",
              "    [theme=dark] .colab-df-convert {\n",
              "      background-color: #3B4455;\n",
              "      fill: #D2E3FC;\n",
              "    }\n",
              "\n",
              "    [theme=dark] .colab-df-convert:hover {\n",
              "      background-color: #434B5C;\n",
              "      box-shadow: 0px 1px 3px 1px rgba(0, 0, 0, 0.15);\n",
              "      filter: drop-shadow(0px 1px 2px rgba(0, 0, 0, 0.3));\n",
              "      fill: #FFFFFF;\n",
              "    }\n",
              "  </style>\n",
              "\n",
              "      <script>\n",
              "        const buttonEl =\n",
              "          document.querySelector('#df-8f405f7b-c4bc-4d0f-816e-295415790d53 button.colab-df-convert');\n",
              "        buttonEl.style.display =\n",
              "          google.colab.kernel.accessAllowed ? 'block' : 'none';\n",
              "\n",
              "        async function convertToInteractive(key) {\n",
              "          const element = document.querySelector('#df-8f405f7b-c4bc-4d0f-816e-295415790d53');\n",
              "          const dataTable =\n",
              "            await google.colab.kernel.invokeFunction('convertToInteractive',\n",
              "                                                     [key], {});\n",
              "          if (!dataTable) return;\n",
              "\n",
              "          const docLinkHtml = 'Like what you see? Visit the ' +\n",
              "            '<a target=\"_blank\" href=https://colab.research.google.com/notebooks/data_table.ipynb>data table notebook</a>'\n",
              "            + ' to learn more about interactive tables.';\n",
              "          element.innerHTML = '';\n",
              "          dataTable['output_type'] = 'display_data';\n",
              "          await google.colab.output.renderOutput(dataTable, element);\n",
              "          const docLink = document.createElement('div');\n",
              "          docLink.innerHTML = docLinkHtml;\n",
              "          element.appendChild(docLink);\n",
              "        }\n",
              "      </script>\n",
              "    </div>\n",
              "  </div>\n",
              "  "
            ]
          },
          "metadata": {},
          "execution_count": 149
        }
      ]
    },
    {
      "cell_type": "markdown",
      "source": [
        "TO prepare our data, we can borrow a few classes from Scikit-Learn"
      ],
      "metadata": {
        "id": "tkU-YgWGHeJB"
      }
    },
    {
      "cell_type": "code",
      "source": [
        "from sklearn.compose import make_column_transformer\n",
        "from sklearn.preprocessing import MinMaxScaler, OneHotEncoder\n",
        "from sklearn.model_selection import train_test_split\n",
        "\n",
        "# Create a column transformer\n",
        "ct = make_column_transformer(\n",
        "    (MinMaxScaler(), [\"age\", \"bmi\", \"children\"]), # turn all values in these columns between o and 1\n",
        "    (OneHotEncoder(handle_unknown=\"ignore\"), [\"sex\", \"smoker\",\"region\"])\n",
        "    )\n",
        "\n",
        "# Create X and y values\n",
        "X = insurance.drop(\"charges\", axis=1)\n",
        "y = insurance[\"charges\"]\n",
        "\n",
        "# Build our train and test sets\n",
        "X_train, X_test, y_train, y_test = train_test_split(X, y, test_size=0.2, random_state=42)\n",
        "\n",
        "# Fit the column transformer to our training data\n",
        "ct.fit(X_train)\n",
        "\n",
        "# Transform training and test data with normalization (MinMaxScaler) and OneHotEncoder\n",
        "X_train_normal = ct.transform(X_train)\n",
        "X_test_normal = ct.transform(X_test)"
      ],
      "metadata": {
        "id": "OyDNUNIiHKpX"
      },
      "execution_count": null,
      "outputs": []
    },
    {
      "cell_type": "code",
      "source": [
        "ct"
      ],
      "metadata": {
        "colab": {
          "base_uri": "https://localhost:8080/",
          "height": 163
        },
        "id": "ndxd8JnpKMC5",
        "outputId": "30f217e6-a6ae-4885-9591-803aabd762c4"
      },
      "execution_count": null,
      "outputs": [
        {
          "output_type": "execute_result",
          "data": {
            "text/plain": [
              "ColumnTransformer(transformers=[('minmaxscaler', MinMaxScaler(),\n",
              "                                 ['age', 'bmi', 'children']),\n",
              "                                ('onehotencoder',\n",
              "                                 OneHotEncoder(handle_unknown='ignore'),\n",
              "                                 ['sex', 'smoker', 'region'])])"
            ],
            "text/html": [
              "<style>#sk-container-id-1 {color: black;background-color: white;}#sk-container-id-1 pre{padding: 0;}#sk-container-id-1 div.sk-toggleable {background-color: white;}#sk-container-id-1 label.sk-toggleable__label {cursor: pointer;display: block;width: 100%;margin-bottom: 0;padding: 0.3em;box-sizing: border-box;text-align: center;}#sk-container-id-1 label.sk-toggleable__label-arrow:before {content: \"▸\";float: left;margin-right: 0.25em;color: #696969;}#sk-container-id-1 label.sk-toggleable__label-arrow:hover:before {color: black;}#sk-container-id-1 div.sk-estimator:hover label.sk-toggleable__label-arrow:before {color: black;}#sk-container-id-1 div.sk-toggleable__content {max-height: 0;max-width: 0;overflow: hidden;text-align: left;background-color: #f0f8ff;}#sk-container-id-1 div.sk-toggleable__content pre {margin: 0.2em;color: black;border-radius: 0.25em;background-color: #f0f8ff;}#sk-container-id-1 input.sk-toggleable__control:checked~div.sk-toggleable__content {max-height: 200px;max-width: 100%;overflow: auto;}#sk-container-id-1 input.sk-toggleable__control:checked~label.sk-toggleable__label-arrow:before {content: \"▾\";}#sk-container-id-1 div.sk-estimator input.sk-toggleable__control:checked~label.sk-toggleable__label {background-color: #d4ebff;}#sk-container-id-1 div.sk-label input.sk-toggleable__control:checked~label.sk-toggleable__label {background-color: #d4ebff;}#sk-container-id-1 input.sk-hidden--visually {border: 0;clip: rect(1px 1px 1px 1px);clip: rect(1px, 1px, 1px, 1px);height: 1px;margin: -1px;overflow: hidden;padding: 0;position: absolute;width: 1px;}#sk-container-id-1 div.sk-estimator {font-family: monospace;background-color: #f0f8ff;border: 1px dotted black;border-radius: 0.25em;box-sizing: border-box;margin-bottom: 0.5em;}#sk-container-id-1 div.sk-estimator:hover {background-color: #d4ebff;}#sk-container-id-1 div.sk-parallel-item::after {content: \"\";width: 100%;border-bottom: 1px solid gray;flex-grow: 1;}#sk-container-id-1 div.sk-label:hover label.sk-toggleable__label {background-color: #d4ebff;}#sk-container-id-1 div.sk-serial::before {content: \"\";position: absolute;border-left: 1px solid gray;box-sizing: border-box;top: 0;bottom: 0;left: 50%;z-index: 0;}#sk-container-id-1 div.sk-serial {display: flex;flex-direction: column;align-items: center;background-color: white;padding-right: 0.2em;padding-left: 0.2em;position: relative;}#sk-container-id-1 div.sk-item {position: relative;z-index: 1;}#sk-container-id-1 div.sk-parallel {display: flex;align-items: stretch;justify-content: center;background-color: white;position: relative;}#sk-container-id-1 div.sk-item::before, #sk-container-id-1 div.sk-parallel-item::before {content: \"\";position: absolute;border-left: 1px solid gray;box-sizing: border-box;top: 0;bottom: 0;left: 50%;z-index: -1;}#sk-container-id-1 div.sk-parallel-item {display: flex;flex-direction: column;z-index: 1;position: relative;background-color: white;}#sk-container-id-1 div.sk-parallel-item:first-child::after {align-self: flex-end;width: 50%;}#sk-container-id-1 div.sk-parallel-item:last-child::after {align-self: flex-start;width: 50%;}#sk-container-id-1 div.sk-parallel-item:only-child::after {width: 0;}#sk-container-id-1 div.sk-dashed-wrapped {border: 1px dashed gray;margin: 0 0.4em 0.5em 0.4em;box-sizing: border-box;padding-bottom: 0.4em;background-color: white;}#sk-container-id-1 div.sk-label label {font-family: monospace;font-weight: bold;display: inline-block;line-height: 1.2em;}#sk-container-id-1 div.sk-label-container {text-align: center;}#sk-container-id-1 div.sk-container {/* jupyter's `normalize.less` sets `[hidden] { display: none; }` but bootstrap.min.css set `[hidden] { display: none !important; }` so we also need the `!important` here to be able to override the default hidden behavior on the sphinx rendered scikit-learn.org. See: https://github.com/scikit-learn/scikit-learn/issues/21755 */display: inline-block !important;position: relative;}#sk-container-id-1 div.sk-text-repr-fallback {display: none;}</style><div id=\"sk-container-id-1\" class=\"sk-top-container\"><div class=\"sk-text-repr-fallback\"><pre>ColumnTransformer(transformers=[(&#x27;minmaxscaler&#x27;, MinMaxScaler(),\n",
              "                                 [&#x27;age&#x27;, &#x27;bmi&#x27;, &#x27;children&#x27;]),\n",
              "                                (&#x27;onehotencoder&#x27;,\n",
              "                                 OneHotEncoder(handle_unknown=&#x27;ignore&#x27;),\n",
              "                                 [&#x27;sex&#x27;, &#x27;smoker&#x27;, &#x27;region&#x27;])])</pre><b>In a Jupyter environment, please rerun this cell to show the HTML representation or trust the notebook. <br />On GitHub, the HTML representation is unable to render, please try loading this page with nbviewer.org.</b></div><div class=\"sk-container\" hidden><div class=\"sk-item sk-dashed-wrapped\"><div class=\"sk-label-container\"><div class=\"sk-label sk-toggleable\"><input class=\"sk-toggleable__control sk-hidden--visually\" id=\"sk-estimator-id-1\" type=\"checkbox\" ><label for=\"sk-estimator-id-1\" class=\"sk-toggleable__label sk-toggleable__label-arrow\">ColumnTransformer</label><div class=\"sk-toggleable__content\"><pre>ColumnTransformer(transformers=[(&#x27;minmaxscaler&#x27;, MinMaxScaler(),\n",
              "                                 [&#x27;age&#x27;, &#x27;bmi&#x27;, &#x27;children&#x27;]),\n",
              "                                (&#x27;onehotencoder&#x27;,\n",
              "                                 OneHotEncoder(handle_unknown=&#x27;ignore&#x27;),\n",
              "                                 [&#x27;sex&#x27;, &#x27;smoker&#x27;, &#x27;region&#x27;])])</pre></div></div></div><div class=\"sk-parallel\"><div class=\"sk-parallel-item\"><div class=\"sk-item\"><div class=\"sk-label-container\"><div class=\"sk-label sk-toggleable\"><input class=\"sk-toggleable__control sk-hidden--visually\" id=\"sk-estimator-id-2\" type=\"checkbox\" ><label for=\"sk-estimator-id-2\" class=\"sk-toggleable__label sk-toggleable__label-arrow\">minmaxscaler</label><div class=\"sk-toggleable__content\"><pre>[&#x27;age&#x27;, &#x27;bmi&#x27;, &#x27;children&#x27;]</pre></div></div></div><div class=\"sk-serial\"><div class=\"sk-item\"><div class=\"sk-estimator sk-toggleable\"><input class=\"sk-toggleable__control sk-hidden--visually\" id=\"sk-estimator-id-3\" type=\"checkbox\" ><label for=\"sk-estimator-id-3\" class=\"sk-toggleable__label sk-toggleable__label-arrow\">MinMaxScaler</label><div class=\"sk-toggleable__content\"><pre>MinMaxScaler()</pre></div></div></div></div></div></div><div class=\"sk-parallel-item\"><div class=\"sk-item\"><div class=\"sk-label-container\"><div class=\"sk-label sk-toggleable\"><input class=\"sk-toggleable__control sk-hidden--visually\" id=\"sk-estimator-id-4\" type=\"checkbox\" ><label for=\"sk-estimator-id-4\" class=\"sk-toggleable__label sk-toggleable__label-arrow\">onehotencoder</label><div class=\"sk-toggleable__content\"><pre>[&#x27;sex&#x27;, &#x27;smoker&#x27;, &#x27;region&#x27;]</pre></div></div></div><div class=\"sk-serial\"><div class=\"sk-item\"><div class=\"sk-estimator sk-toggleable\"><input class=\"sk-toggleable__control sk-hidden--visually\" id=\"sk-estimator-id-5\" type=\"checkbox\" ><label for=\"sk-estimator-id-5\" class=\"sk-toggleable__label sk-toggleable__label-arrow\">OneHotEncoder</label><div class=\"sk-toggleable__content\"><pre>OneHotEncoder(handle_unknown=&#x27;ignore&#x27;)</pre></div></div></div></div></div></div></div></div></div></div>"
            ]
          },
          "metadata": {},
          "execution_count": 154
        }
      ]
    },
    {
      "cell_type": "code",
      "source": [
        "# what does our data look like now?\n",
        "X_train.loc[0]"
      ],
      "metadata": {
        "colab": {
          "base_uri": "https://localhost:8080/"
        },
        "id": "Bz8nGHMfJnnv",
        "outputId": "248d55bb-91cd-4750-e26a-13bdfce0bdb7"
      },
      "execution_count": null,
      "outputs": [
        {
          "output_type": "execute_result",
          "data": {
            "text/plain": [
              "age                19\n",
              "sex            female\n",
              "bmi              27.9\n",
              "children            0\n",
              "smoker            yes\n",
              "region      southwest\n",
              "Name: 0, dtype: object"
            ]
          },
          "metadata": {},
          "execution_count": 151
        }
      ]
    },
    {
      "cell_type": "code",
      "source": [
        "X_train_normal[0]"
      ],
      "metadata": {
        "colab": {
          "base_uri": "https://localhost:8080/"
        },
        "id": "4WwcAoq-Jt4p",
        "outputId": "c6d21cf9-a128-44ea-d0b6-4e2346fecf31"
      },
      "execution_count": null,
      "outputs": [
        {
          "output_type": "execute_result",
          "data": {
            "text/plain": [
              "array([0.60869565, 0.10734463, 0.4       , 1.        , 0.        ,\n",
              "       1.        , 0.        , 0.        , 1.        , 0.        ,\n",
              "       0.        ])"
            ]
          },
          "metadata": {},
          "execution_count": 152
        }
      ]
    },
    {
      "cell_type": "code",
      "source": [
        "X_train.shape, X_train_normal.shape"
      ],
      "metadata": {
        "colab": {
          "base_uri": "https://localhost:8080/"
        },
        "id": "b_M-MVqtJwdk",
        "outputId": "7747134c-af88-4e3d-f42c-4e92d7bdf25a"
      },
      "execution_count": null,
      "outputs": [
        {
          "output_type": "execute_result",
          "data": {
            "text/plain": [
              "((1070, 6), (1070, 11))"
            ]
          },
          "metadata": {},
          "execution_count": 153
        }
      ]
    },
    {
      "cell_type": "markdown",
      "source": [
        "Beautiful! Our data has been normalized and one hot encoded. Now let's build a neural network model on it and see how it goes."
      ],
      "metadata": {
        "id": "bMZRqmsQKW8x"
      }
    },
    {
      "cell_type": "code",
      "source": [
        "insurance_model_4.summary()"
      ],
      "metadata": {
        "colab": {
          "base_uri": "https://localhost:8080/"
        },
        "id": "x3Rh1_VEK2O4",
        "outputId": "d9340b7a-2a2e-4cce-9130-922794f92f90"
      },
      "execution_count": null,
      "outputs": [
        {
          "output_type": "stream",
          "name": "stdout",
          "text": [
            "Model: \"sequential_24\"\n",
            "_________________________________________________________________\n",
            " Layer (type)                Output Shape              Param #   \n",
            "=================================================================\n",
            " dense_53 (Dense)            (None, 100)               1200      \n",
            "                                                                 \n",
            " dense_54 (Dense)            (None, 50)                5050      \n",
            "                                                                 \n",
            " dense_55 (Dense)            (None, 10)                510       \n",
            "                                                                 \n",
            " dense_56 (Dense)            (None, 1)                 11        \n",
            "                                                                 \n",
            "=================================================================\n",
            "Total params: 6,771\n",
            "Trainable params: 6,771\n",
            "Non-trainable params: 0\n",
            "_________________________________________________________________\n"
          ]
        }
      ]
    },
    {
      "cell_type": "code",
      "source": [
        "# Build a neural network model to fit on our normalized data\n",
        "\n",
        "# Set random seed\n",
        "tf.random.set_seed(42)\n",
        "\n",
        "# 1. Create a model\n",
        "normalize_insurance_model = tf.keras.Sequential([\n",
        "    tf.keras.layers.Dense(100),\n",
        "    tf.keras.layers.Dense(50),\n",
        "    tf.keras.layers.Dense(10),\n",
        "    tf.keras.layers.Dense(1)\n",
        "])\n",
        "\n",
        "# 2. Compile the model\n",
        "normalize_insurance_model.compile(loss=tf.keras.losses.mae,\n",
        "                        optimizer=tf.keras.optimizers.Adam(),\n",
        "                        metrics=[\"mae\"])\n",
        "\n",
        "# 3. Fit the model\n",
        "history = normalize_insurance_model.fit(X_train_normal, y_train, epochs=100)"
      ],
      "metadata": {
        "colab": {
          "base_uri": "https://localhost:8080/"
        },
        "id": "dqd5ynWKKDpQ",
        "outputId": "b2b1ea7d-768a-40b6-9f64-81a0b5ea6ba4"
      },
      "execution_count": null,
      "outputs": [
        {
          "output_type": "stream",
          "name": "stdout",
          "text": [
            "Epoch 1/100\n",
            "34/34 [==============================] - 1s 2ms/step - loss: 13340.9951 - mae: 13340.9951\n",
            "Epoch 2/100\n",
            "34/34 [==============================] - 0s 2ms/step - loss: 13294.7188 - mae: 13294.7188\n",
            "Epoch 3/100\n",
            "34/34 [==============================] - 0s 2ms/step - loss: 13066.2070 - mae: 13066.2070\n",
            "Epoch 4/100\n",
            "34/34 [==============================] - 0s 2ms/step - loss: 12317.4902 - mae: 12317.4902\n",
            "Epoch 5/100\n",
            "34/34 [==============================] - 0s 2ms/step - loss: 10680.9785 - mae: 10680.9785\n",
            "Epoch 6/100\n",
            "34/34 [==============================] - 0s 2ms/step - loss: 8809.3750 - mae: 8809.3750\n",
            "Epoch 7/100\n",
            "34/34 [==============================] - 0s 2ms/step - loss: 7986.0820 - mae: 7986.0820\n",
            "Epoch 8/100\n",
            "34/34 [==============================] - 0s 2ms/step - loss: 7811.8857 - mae: 7811.8857\n",
            "Epoch 9/100\n",
            "34/34 [==============================] - 0s 2ms/step - loss: 7669.3154 - mae: 7669.3154\n",
            "Epoch 10/100\n",
            "34/34 [==============================] - 0s 2ms/step - loss: 7523.9761 - mae: 7523.9761\n",
            "Epoch 11/100\n",
            "34/34 [==============================] - 0s 2ms/step - loss: 7376.5146 - mae: 7376.5146\n",
            "Epoch 12/100\n",
            "34/34 [==============================] - 0s 2ms/step - loss: 7202.0635 - mae: 7202.0635\n",
            "Epoch 13/100\n",
            "34/34 [==============================] - 0s 2ms/step - loss: 7020.9331 - mae: 7020.9331\n",
            "Epoch 14/100\n",
            "34/34 [==============================] - 0s 2ms/step - loss: 6799.4297 - mae: 6799.4297\n",
            "Epoch 15/100\n",
            "34/34 [==============================] - 0s 2ms/step - loss: 6551.2495 - mae: 6551.2495\n",
            "Epoch 16/100\n",
            "34/34 [==============================] - 0s 2ms/step - loss: 6251.6851 - mae: 6251.6851\n",
            "Epoch 17/100\n",
            "34/34 [==============================] - 0s 2ms/step - loss: 5895.0649 - mae: 5895.0649\n",
            "Epoch 18/100\n",
            "34/34 [==============================] - 0s 2ms/step - loss: 5460.2466 - mae: 5460.2466\n",
            "Epoch 19/100\n",
            "34/34 [==============================] - 0s 2ms/step - loss: 4966.1694 - mae: 4966.1694\n",
            "Epoch 20/100\n",
            "34/34 [==============================] - 0s 2ms/step - loss: 4447.0073 - mae: 4447.0073\n",
            "Epoch 21/100\n",
            "34/34 [==============================] - 0s 2ms/step - loss: 4021.7524 - mae: 4021.7524\n",
            "Epoch 22/100\n",
            "34/34 [==============================] - 0s 2ms/step - loss: 3756.5569 - mae: 3756.5569\n",
            "Epoch 23/100\n",
            "34/34 [==============================] - 0s 2ms/step - loss: 3679.9431 - mae: 3679.9431\n",
            "Epoch 24/100\n",
            "34/34 [==============================] - 0s 2ms/step - loss: 3659.1038 - mae: 3659.1038\n",
            "Epoch 25/100\n",
            "34/34 [==============================] - 0s 2ms/step - loss: 3654.0203 - mae: 3654.0203\n",
            "Epoch 26/100\n",
            "34/34 [==============================] - 0s 2ms/step - loss: 3644.4124 - mae: 3644.4124\n",
            "Epoch 27/100\n",
            "34/34 [==============================] - 0s 2ms/step - loss: 3635.3513 - mae: 3635.3513\n",
            "Epoch 28/100\n",
            "34/34 [==============================] - 0s 2ms/step - loss: 3633.8518 - mae: 3633.8518\n",
            "Epoch 29/100\n",
            "34/34 [==============================] - 0s 2ms/step - loss: 3624.7412 - mae: 3624.7412\n",
            "Epoch 30/100\n",
            "34/34 [==============================] - 0s 2ms/step - loss: 3631.5432 - mae: 3631.5432\n",
            "Epoch 31/100\n",
            "34/34 [==============================] - 0s 2ms/step - loss: 3617.5010 - mae: 3617.5010\n",
            "Epoch 32/100\n",
            "34/34 [==============================] - 0s 2ms/step - loss: 3604.0371 - mae: 3604.0371\n",
            "Epoch 33/100\n",
            "34/34 [==============================] - 0s 2ms/step - loss: 3606.1814 - mae: 3606.1814\n",
            "Epoch 34/100\n",
            "34/34 [==============================] - 0s 2ms/step - loss: 3587.1553 - mae: 3587.1553\n",
            "Epoch 35/100\n",
            "34/34 [==============================] - 0s 2ms/step - loss: 3589.0349 - mae: 3589.0349\n",
            "Epoch 36/100\n",
            "34/34 [==============================] - 0s 2ms/step - loss: 3578.9148 - mae: 3578.9148\n",
            "Epoch 37/100\n",
            "34/34 [==============================] - 0s 2ms/step - loss: 3564.6384 - mae: 3564.6384\n",
            "Epoch 38/100\n",
            "34/34 [==============================] - 0s 2ms/step - loss: 3569.5371 - mae: 3569.5371\n",
            "Epoch 39/100\n",
            "34/34 [==============================] - 0s 2ms/step - loss: 3555.2834 - mae: 3555.2834\n",
            "Epoch 40/100\n",
            "34/34 [==============================] - 0s 2ms/step - loss: 3556.2881 - mae: 3556.2881\n",
            "Epoch 41/100\n",
            "34/34 [==============================] - 0s 2ms/step - loss: 3541.3755 - mae: 3541.3755\n",
            "Epoch 42/100\n",
            "34/34 [==============================] - 0s 2ms/step - loss: 3543.6831 - mae: 3543.6831\n",
            "Epoch 43/100\n",
            "34/34 [==============================] - 0s 2ms/step - loss: 3541.0637 - mae: 3541.0637\n",
            "Epoch 44/100\n",
            "34/34 [==============================] - 0s 2ms/step - loss: 3529.1572 - mae: 3529.1572\n",
            "Epoch 45/100\n",
            "34/34 [==============================] - 0s 2ms/step - loss: 3518.9756 - mae: 3518.9756\n",
            "Epoch 46/100\n",
            "34/34 [==============================] - 0s 2ms/step - loss: 3523.5234 - mae: 3523.5234\n",
            "Epoch 47/100\n",
            "34/34 [==============================] - 0s 2ms/step - loss: 3523.3589 - mae: 3523.3589\n",
            "Epoch 48/100\n",
            "34/34 [==============================] - 0s 2ms/step - loss: 3509.2336 - mae: 3509.2336\n",
            "Epoch 49/100\n",
            "34/34 [==============================] - 0s 2ms/step - loss: 3517.9929 - mae: 3517.9929\n",
            "Epoch 50/100\n",
            "34/34 [==============================] - 0s 2ms/step - loss: 3495.4749 - mae: 3495.4749\n",
            "Epoch 51/100\n",
            "34/34 [==============================] - 0s 2ms/step - loss: 3497.7837 - mae: 3497.7837\n",
            "Epoch 52/100\n",
            "34/34 [==============================] - 0s 2ms/step - loss: 3488.4985 - mae: 3488.4985\n",
            "Epoch 53/100\n",
            "34/34 [==============================] - 0s 2ms/step - loss: 3483.9749 - mae: 3483.9749\n",
            "Epoch 54/100\n",
            "34/34 [==============================] - 0s 2ms/step - loss: 3490.9558 - mae: 3490.9558\n",
            "Epoch 55/100\n",
            "34/34 [==============================] - 0s 2ms/step - loss: 3504.3066 - mae: 3504.3066\n",
            "Epoch 56/100\n",
            "34/34 [==============================] - 0s 2ms/step - loss: 3485.3181 - mae: 3485.3181\n",
            "Epoch 57/100\n",
            "34/34 [==============================] - 0s 2ms/step - loss: 3479.7654 - mae: 3479.7654\n",
            "Epoch 58/100\n",
            "34/34 [==============================] - 0s 2ms/step - loss: 3477.1941 - mae: 3477.1941\n",
            "Epoch 59/100\n",
            "34/34 [==============================] - 0s 2ms/step - loss: 3483.3853 - mae: 3483.3853\n",
            "Epoch 60/100\n",
            "34/34 [==============================] - 0s 2ms/step - loss: 3482.1387 - mae: 3482.1387\n",
            "Epoch 61/100\n",
            "34/34 [==============================] - 0s 2ms/step - loss: 3481.5405 - mae: 3481.5405\n",
            "Epoch 62/100\n",
            "34/34 [==============================] - 0s 2ms/step - loss: 3479.0500 - mae: 3479.0500\n",
            "Epoch 63/100\n",
            "34/34 [==============================] - 0s 2ms/step - loss: 3478.0579 - mae: 3478.0579\n",
            "Epoch 64/100\n",
            "34/34 [==============================] - 0s 2ms/step - loss: 3482.0435 - mae: 3482.0435\n",
            "Epoch 65/100\n",
            "34/34 [==============================] - 0s 2ms/step - loss: 3490.7000 - mae: 3490.7000\n",
            "Epoch 66/100\n",
            "34/34 [==============================] - 0s 2ms/step - loss: 3483.8792 - mae: 3483.8792\n",
            "Epoch 67/100\n",
            "34/34 [==============================] - 0s 2ms/step - loss: 3481.0286 - mae: 3481.0286\n",
            "Epoch 68/100\n",
            "34/34 [==============================] - 0s 2ms/step - loss: 3487.3335 - mae: 3487.3335\n",
            "Epoch 69/100\n",
            "34/34 [==============================] - 0s 2ms/step - loss: 3477.4509 - mae: 3477.4509\n",
            "Epoch 70/100\n",
            "34/34 [==============================] - 0s 2ms/step - loss: 3483.6396 - mae: 3483.6396\n",
            "Epoch 71/100\n",
            "34/34 [==============================] - 0s 2ms/step - loss: 3481.0493 - mae: 3481.0493\n",
            "Epoch 72/100\n",
            "34/34 [==============================] - 0s 2ms/step - loss: 3490.2646 - mae: 3490.2646\n",
            "Epoch 73/100\n",
            "34/34 [==============================] - 0s 2ms/step - loss: 3483.1682 - mae: 3483.1682\n",
            "Epoch 74/100\n",
            "34/34 [==============================] - 0s 2ms/step - loss: 3479.6060 - mae: 3479.6060\n",
            "Epoch 75/100\n",
            "34/34 [==============================] - 0s 2ms/step - loss: 3477.2761 - mae: 3477.2761\n",
            "Epoch 76/100\n",
            "34/34 [==============================] - 0s 2ms/step - loss: 3479.3916 - mae: 3479.3916\n",
            "Epoch 77/100\n",
            "34/34 [==============================] - 0s 2ms/step - loss: 3478.7429 - mae: 3478.7429\n",
            "Epoch 78/100\n",
            "34/34 [==============================] - 0s 3ms/step - loss: 3478.7864 - mae: 3478.7864\n",
            "Epoch 79/100\n",
            "34/34 [==============================] - 0s 2ms/step - loss: 3479.7039 - mae: 3479.7039\n",
            "Epoch 80/100\n",
            "34/34 [==============================] - 0s 2ms/step - loss: 3481.8633 - mae: 3481.8633\n",
            "Epoch 81/100\n",
            "34/34 [==============================] - 0s 2ms/step - loss: 3480.9368 - mae: 3480.9368\n",
            "Epoch 82/100\n",
            "34/34 [==============================] - 0s 2ms/step - loss: 3477.8958 - mae: 3477.8958\n",
            "Epoch 83/100\n",
            "34/34 [==============================] - 0s 2ms/step - loss: 3479.9255 - mae: 3479.9255\n",
            "Epoch 84/100\n",
            "34/34 [==============================] - 0s 2ms/step - loss: 3482.3635 - mae: 3482.3635\n",
            "Epoch 85/100\n",
            "34/34 [==============================] - 0s 2ms/step - loss: 3474.3579 - mae: 3474.3579\n",
            "Epoch 86/100\n",
            "34/34 [==============================] - 0s 2ms/step - loss: 3476.0454 - mae: 3476.0454\n",
            "Epoch 87/100\n",
            "34/34 [==============================] - 0s 2ms/step - loss: 3481.3213 - mae: 3481.3213\n",
            "Epoch 88/100\n",
            "34/34 [==============================] - 0s 2ms/step - loss: 3478.4993 - mae: 3478.4993\n",
            "Epoch 89/100\n",
            "34/34 [==============================] - 0s 2ms/step - loss: 3478.5696 - mae: 3478.5696\n",
            "Epoch 90/100\n",
            "34/34 [==============================] - 0s 2ms/step - loss: 3479.6755 - mae: 3479.6755\n",
            "Epoch 91/100\n",
            "34/34 [==============================] - 0s 2ms/step - loss: 3476.3147 - mae: 3476.3147\n",
            "Epoch 92/100\n",
            "34/34 [==============================] - 0s 2ms/step - loss: 3481.4661 - mae: 3481.4661\n",
            "Epoch 93/100\n",
            "34/34 [==============================] - 0s 2ms/step - loss: 3474.8320 - mae: 3474.8320\n",
            "Epoch 94/100\n",
            "34/34 [==============================] - 0s 2ms/step - loss: 3479.7251 - mae: 3479.7251\n",
            "Epoch 95/100\n",
            "34/34 [==============================] - 0s 2ms/step - loss: 3477.7664 - mae: 3477.7664\n",
            "Epoch 96/100\n",
            "34/34 [==============================] - 0s 2ms/step - loss: 3483.1741 - mae: 3483.1741\n",
            "Epoch 97/100\n",
            "34/34 [==============================] - 0s 3ms/step - loss: 3485.0537 - mae: 3485.0537\n",
            "Epoch 98/100\n",
            "34/34 [==============================] - 0s 3ms/step - loss: 3476.6567 - mae: 3476.6567\n",
            "Epoch 99/100\n",
            "34/34 [==============================] - 0s 2ms/step - loss: 3481.0818 - mae: 3481.0818\n",
            "Epoch 100/100\n",
            "34/34 [==============================] - 0s 2ms/step - loss: 3483.4492 - mae: 3483.4492\n"
          ]
        }
      ]
    },
    {
      "cell_type": "code",
      "source": [
        "normalize_insurance_model.evaluate(X_test_normal, y_test)"
      ],
      "metadata": {
        "colab": {
          "base_uri": "https://localhost:8080/"
        },
        "id": "oLVcsVl7Lmvv",
        "outputId": "d7f3ce9d-0486-46da-e8b2-45af20c38c9e"
      },
      "execution_count": null,
      "outputs": [
        {
          "output_type": "stream",
          "name": "stdout",
          "text": [
            "9/9 [==============================] - 0s 3ms/step - loss: 3158.4373 - mae: 3158.4373\n"
          ]
        },
        {
          "output_type": "execute_result",
          "data": {
            "text/plain": [
              "[3158.437255859375, 3158.437255859375]"
            ]
          },
          "metadata": {},
          "execution_count": 163
        }
      ]
    },
    {
      "cell_type": "code",
      "source": [
        "# Plot the model\n",
        "pd.DataFrame(history.history).plot()\n",
        "plt.ylabel(\"loss\")\n",
        "plt.xlabel(\"epochs\")"
      ],
      "metadata": {
        "colab": {
          "base_uri": "https://localhost:8080/",
          "height": 466
        },
        "id": "Jo479lruMDEH",
        "outputId": "bc400073-38f3-47f6-87cb-1756ba85214c"
      },
      "execution_count": null,
      "outputs": [
        {
          "output_type": "execute_result",
          "data": {
            "text/plain": [
              "Text(0.5, 0, 'epochs')"
            ]
          },
          "metadata": {},
          "execution_count": 164
        },
        {
          "output_type": "display_data",
          "data": {
            "text/plain": [
              "<Figure size 640x480 with 1 Axes>"
            ],
            "image/png": "[encoded data removed]"
          },
          "metadata": {}
        }
      ]
    },
    {
      "cell_type": "code",
      "source": [],
      "metadata": {
        "id": "CzWN7PTeNGgO"
      },
      "execution_count": null,
      "outputs": []
    }
  ]
}